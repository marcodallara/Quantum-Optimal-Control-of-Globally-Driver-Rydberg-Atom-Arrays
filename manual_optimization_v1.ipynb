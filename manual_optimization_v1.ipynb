{
 "cells": [
  {
   "cell_type": "code",
   "execution_count": 1,
   "metadata": {},
   "outputs": [],
   "source": [
    "import numpy as np\n",
    "from scipy.linalg import expm\n",
    "from scipy.optimize import minimize"
   ]
  },
  {
   "cell_type": "code",
   "execution_count": 2,
   "metadata": {},
   "outputs": [],
   "source": [
    "def sigma_z():\n",
    "    \"\"\"\n",
    "    Create the Pauli-Z matrix\n",
    "    \"\"\"\n",
    "    return np.array([[1, 0], [0, -1]])\n",
    "\n",
    "def rotation_matrix(phi):\n",
    "    \"\"\"\n",
    "    Create the rotation matrix R(ϕ) = cos(ϕ)X + sin(ϕ)Y\n",
    "    \"\"\"\n",
    "    sigma_x = np.array([[0, 1], [1, 0]])\n",
    "    sigma_y = np.array([[0, -1j], [1j, 0]])\n",
    "    return np.cos(phi) * sigma_x + np.sin(phi) * sigma_y\n",
    "\n",
    "def U(phi, alpha):\n",
    "    \"\"\"\n",
    "    Construct the unitary operator U(ϕ, α) = e^(-iαR(ϕ)/2)\n",
    "    \"\"\"\n",
    "    R_phi = rotation_matrix(phi)\n",
    "    return expm(-1j * alpha * R_phi / 2)\n",
    "\n",
    "def concatenate_unitaries(params, N):\n",
    "    \"\"\"\n",
    "    Concatenate N unitary matrices using the given parameters.\n",
    "    \"\"\"\n",
    "    concatenated = np.eye(2)\n",
    "    for i in range(N):\n",
    "        phi, alpha = params[i*2], params[i*2+1]\n",
    "        concatenated = np.dot(U(phi, alpha), concatenated)\n",
    "    return concatenated\n",
    "\n",
    "def gate_fom(U, U_target):\n",
    "    \"\"\"\n",
    "    Cost function measuring the distance between the concatenated unitary and the target unitary.\n",
    "    \"\"\"\n",
    "    dim = U.shape[0]\n",
    "    return np.abs(np.trace(U_target.T.conj() @ U))**2 / dim**2\n",
    "    \n",
    "\n",
    "def cost_function(params, target_unitary1, target_unitary2, scaling_factor, double=True):\n",
    "    \"\"\"\n",
    "    Cost function measuring the distance between the concatenated unitary and the target unitary.\n",
    "    \"\"\"\n",
    "    N = len(params) // 2\n",
    "    concatenated_unitary = concatenate_unitaries(params, N)\n",
    "    scaled_params = params.copy()\n",
    "    scaled_params[1::2] *= scaling_factor\n",
    "    scaled_unitary = concatenate_unitaries(scaled_params, N)\n",
    "    if double:\n",
    "        return np.linalg.norm(concatenated_unitary - target_unitary1, 'fro') + np.linalg.norm(scaled_unitary - target_unitary2, 'fro')\n",
    "\n",
    "\n",
    "\n",
    "def cost_function_hadamard(params, target_unitary1, target_unitary2, scaling_factor, double=True):\n",
    "    \"\"\"\n",
    "    Cost function measuring the distance between the concatenated unitary and the target unitary.\n",
    "    \"\"\"\n",
    "    N = len(params) // 2\n",
    "    concatenated_unitary = concatenate_unitaries(params, N)\n",
    "    scaled_params = params.copy()\n",
    "    scaled_params[1::2] *= scaling_factor\n",
    "    scaled_unitary = concatenate_unitaries(scaled_params, N)\n",
    "    fin1 = concatenated_unitary.T.conj()@sigma_z()@concatenated_unitary\n",
    "    fin2 = scaled_unitary.T.conj()@sigma_z()@scaled_unitary\n",
    "    if double:\n",
    "        return np.linalg.norm(fin1 - target_unitary1, 'fro') + np.linalg.norm(fin2 - target_unitary2, 'fro')\n",
    "\n",
    "def constraint(params, target_unitary, scaling_factor):\n",
    "    \"\"\"\n",
    "    Constraint function checking if concatenation with scaled alpha also reaches the target unitary.\n",
    "    \"\"\"\n",
    "    N = len(params) // 2\n",
    "    scaled_params = params.copy()\n",
    "    scaled_params[1::2] *= scaling_factor\n",
    "    scaled_unitary = concatenate_unitaries(scaled_params, N)\n",
    "    return np.linalg.norm(scaled_unitary - target_unitary, 'fro')\n",
    "    #dim = scaled_unitary.shape[0]\n",
    "    #return np.abs(np.trace(target_unitary.T.conj() @ scaled_unitary))**2 / dim**2 - 1\n"
   ]
  },
  {
   "cell_type": "markdown",
   "metadata": {},
   "source": [
    "# Hadamard"
   ]
  },
  {
   "cell_type": "code",
   "execution_count": 19,
   "metadata": {},
   "outputs": [
    {
     "name": "stdout",
     "output_type": "stream",
     "text": [
      "U target for normal atoms\n",
      " [[-0.707+0.707j -0.   -0.j   ]\n",
      " [-0.   -0.j    -0.707-0.707j]]\n",
      "U target for Super atoms\n",
      " [[ 0.146-0.354j -0.354+0.854j]\n",
      " [ 0.354+0.854j  0.146+0.354j]]\n"
     ]
    }
   ],
   "source": [
    "N = 4 # number of concatenated unitaries\n",
    "params = np.array([0, np.pi/4, np.pi/2, np.pi/2, 7/4*np.pi, 3/4 * np.pi, np.pi/4, 3/2*np.pi])\n",
    "U_target_1 = concatenate_unitaries(params, N)\n",
    "print(\"U target for normal atoms\\n\",np.round(U_target_1, 3))\n",
    "\n",
    "S = 4\n",
    "scaling_factor = np.sqrt(S)\n",
    "scaled_params = params.copy()\n",
    "scaled_params[1::2] *= scaling_factor\n",
    "U_target_2 = concatenate_unitaries(scaled_params, N)\n",
    "print(\"U target for Super atoms\\n\",np.round(U_target_2, 3))"
   ]
  },
  {
   "cell_type": "code",
   "execution_count": 20,
   "metadata": {},
   "outputs": [
    {
     "name": "stdout",
     "output_type": "stream",
     "text": [
      "Final state for normal atoms\n",
      " [[ 1.+0.j -0.+0.j]\n",
      " [-0.-0.j -1.+0.j]]\n",
      "Final state for Super atoms\n",
      " [[-0.707+0.j -0.707-0.j]\n",
      " [-0.707+0.j  0.707+0.j]]\n"
     ]
    }
   ],
   "source": [
    "fin1 = U_target_1.T.conj()@sigma_z()@U_target_1\n",
    "print(\"Final state for normal atoms\\n\",np.round(fin1, 3))\n",
    "\n",
    "fin2 = U_target_2.T.conj()@sigma_z()@U_target_2\n",
    "print(\"Final state for Super atoms\\n\",np.round(fin2, 3))"
   ]
  },
  {
   "cell_type": "code",
   "execution_count": 23,
   "metadata": {},
   "outputs": [
    {
     "name": "stdout",
     "output_type": "stream",
     "text": [
      "Best cost function value: 2.613125929752754\n",
      "Best cost function value: 1.0880146567150373e-05\n",
      "Best cost function value: 9.90817207425176e-06\n",
      "Best cost function value: 9.90817207425176e-06\n",
      "Best cost function value: 9.90817207425176e-06\n",
      "Best cost function value: 9.90817207425176e-06\n",
      "Best cost function value: 9.90817207425176e-06\n",
      "Best cost function value: 9.90817207425176e-06\n",
      "Best cost function value: 9.90817207425176e-06\n",
      "Best cost function value: 1.9555069563240655e-06\n",
      "Best cost function value: 1.9555069563240655e-06\n",
      "Best cost function value: 1.9555069563240655e-06\n",
      "Best cost function value: 1.9555069563240655e-06\n",
      "Best cost function value: 1.9555069563240655e-06\n",
      "Best cost function value: 1.9555069563240655e-06\n",
      "Best cost function value: 1.9555069563240655e-06\n",
      "Best cost function value: 1.9555069563240655e-06\n",
      "Best cost function value: 1.9555069563240655e-06\n",
      "Best cost function value: 1.9555069563240655e-06\n",
      "Best cost function value: 1.9555069563240655e-06\n",
      "\n",
      "Optimized parameters: [1.62498053 0.9058215  3.39211839 4.4207164  4.34650292 1.90124272]\n",
      "Final state for normal atoms\n",
      " [[ 1.+0.j -0.+0.j]\n",
      " [-0.-0.j -1.+0.j]]\n",
      "Final state for super atoms\n",
      " [[-0.707+0.j -0.707-0.j]\n",
      " [-0.707+0.j  0.707+0.j]]\n",
      "optimized_unitary\n",
      " [[-0.806+0.593j  0.   -0.j   ]\n",
      " [-0.   -0.j    -0.806-0.593j]]\n",
      "scaled_unitary\n",
      " [[ 0.233-0.304j -0.563+0.733j]\n",
      " [ 0.563+0.733j  0.233+0.304j]]\n"
     ]
    }
   ],
   "source": [
    "# Example usage:\n",
    "# Define the target unitaries\n",
    "N = 3  # Number of unitaries to concatenate\n",
    "\n",
    "# Define the target unitaries\n",
    "target_unitary_1 = fin1\n",
    "target_unitary_2 = fin2\n",
    "S = 4\n",
    "scaling_factor = np.sqrt(S)\n",
    "\n",
    "#initial_params = np.array([0, np.pi/4, np.pi/2, np.pi/2, 7/4*np.pi, 3/4 * np.pi, np.pi/4, 3/2*np.pi])\n",
    "\n",
    "# Define optimization bounds\n",
    "bounds = [(0, 2*np.pi) for _ in range(2*N)]\n",
    "\n",
    "iterations = 20\n",
    "\n",
    "# Perform optimization\n",
    "params_best = np.zeros(2*N)\n",
    "for i in range(iterations):\n",
    "    # Initialize parameters randomly\n",
    "    initial_params = np.random.rand(2*N) * 2 * np.pi\n",
    "    result = minimize(cost_function_hadamard, initial_params, args=(target_unitary_1, target_unitary_2, scaling_factor, True), bounds=bounds, method='SLSQP')\n",
    "    cf_best = cost_function_hadamard(params_best, target_unitary_1, target_unitary_2, scaling_factor, True)\n",
    "    print(\"Best cost function value:\", cf_best)\n",
    "    if result.fun < cf_best:\n",
    "        params_best = result.x\n",
    "    \n",
    "\n",
    "print(\"\\nOptimized parameters:\", params_best)\n",
    "\n",
    "# Truncate the final matrix elements to three digits\n",
    "optimized_unitary = concatenate_unitaries(params_best, N)\n",
    "fin1_exp = optimized_unitary.T.conj()@sigma_z()@optimized_unitary\n",
    "print(\"Final state for normal atoms\\n\",np.round(fin1_exp, 3))\n",
    "\n",
    "# Test if the scaled corresponding unitary is close to the target unitary\n",
    "scaled_params = params_best.copy()\n",
    "scaled_params[1::2] *= scaling_factor\n",
    "scaled_unitary = concatenate_unitaries(scaled_params, N)\n",
    "fin2_exp = scaled_unitary.T.conj()@sigma_z()@scaled_unitary\n",
    "print(\"Final state for super atoms\\n\",np.round(fin2_exp, 3))\n",
    "\n",
    "print(\"optimized_unitary\\n\",np.round(optimized_unitary, 3))\n",
    "print(\"scaled_unitary\\n\",np.round(scaled_unitary, 3))\n"
   ]
  },
  {
   "cell_type": "code",
   "execution_count": 24,
   "metadata": {},
   "outputs": [
    {
     "name": "stdout",
     "output_type": "stream",
     "text": [
      "Final state for normal atoms\n",
      " [[ 1.+0.j -0.+0.j]\n",
      " [-0.-0.j -1.+0.j]]\n",
      "Final state for super atoms\n",
      " [[-0.707+0.j -0.707-0.j]\n",
      " [-0.707+0.j  0.707+0.j]]\n",
      "optimized_unitary\n",
      " [[-0.806+0.593j  0.   -0.j   ]\n",
      " [-0.   -0.j    -0.806-0.593j]]\n",
      "scaled_unitary\n",
      " [[ 0.233-0.304j -0.563+0.733j]\n",
      " [ 0.563+0.733j  0.233+0.304j]]\n"
     ]
    }
   ],
   "source": [
    "# Truncate the final matrix elements to three digits\n",
    "optimized_unitary = concatenate_unitaries(params_best, N)\n",
    "fin1_exp = optimized_unitary.T.conj()@sigma_z()@optimized_unitary\n",
    "print(\"Final state for normal atoms\\n\",np.round(fin1_exp, 3))\n",
    "\n",
    "# Test if the scaled corresponding unitary is close to the target unitary\n",
    "scaled_params = params_best.copy()\n",
    "scaled_params[1::2] *= scaling_factor\n",
    "scaled_unitary = concatenate_unitaries(scaled_params, N)\n",
    "fin2_exp = scaled_unitary.T.conj()@sigma_z()@scaled_unitary\n",
    "print(\"Final state for super atoms\\n\",np.round(fin2_exp, 3))\n",
    "\n",
    "print(\"optimized_unitary\\n\",np.round(optimized_unitary, 3))\n",
    "print(\"scaled_unitary\\n\",np.round(scaled_unitary, 3))\n"
   ]
  },
  {
   "cell_type": "markdown",
   "metadata": {},
   "source": [
    "# CZ "
   ]
  },
  {
   "cell_type": "code",
   "execution_count": 80,
   "metadata": {},
   "outputs": [
    {
     "name": "stdout",
     "output_type": "stream",
     "text": [
      "U target for normal atoms\n",
      " [[-1.+0.j  0.+0.j]\n",
      " [-0.+0.j -1.-0.j]]\n",
      "U target for Super atoms\n",
      " [[-1.-0.j -0.-0.j]\n",
      " [ 0.-0.j -1.+0.j]]\n"
     ]
    }
   ],
   "source": [
    "N = 5 # number of concatenated unitaries\n",
    "params = np.array([np.pi/2, np.pi/4, 0, np.pi, np.pi/2, np.pi/2, 0, np.pi, np.pi/2, np.pi/4])\n",
    "U_target_1 = concatenate_unitaries(params, N)\n",
    "print(\"U target for normal atoms\\n\",np.round(U_target_1, 3))\n",
    "\n",
    "S = 4\n",
    "scaling_factor = np.sqrt(S)\n",
    "scaled_params = params.copy()\n",
    "scaled_params[1::2] *= scaling_factor\n",
    "U_target_2 = concatenate_unitaries(scaled_params, N)\n",
    "print(\"U target for Super atoms\\n\",np.round(U_target_2, 3))"
   ]
  },
  {
   "cell_type": "code",
   "execution_count": 86,
   "metadata": {},
   "outputs": [
    {
     "name": "stdout",
     "output_type": "stream",
     "text": [
      "Best cost function value: 5.65685424949238\n",
      "Best cost function value: 1.0131499154387784\n",
      "Best cost function value: 1.0131499154387784\n",
      "Best cost function value: 1.0131499154387784\n",
      "Best cost function value: 1.0119048441359262\n",
      "Best cost function value: 1.0119048441359262\n",
      "Best cost function value: 1.3005344141935443e-05\n",
      "Best cost function value: 1.3005344141935443e-05\n",
      "Best cost function value: 8.53532802707991e-06\n",
      "Best cost function value: 8.53532802707991e-06\n",
      "\n",
      "Optimized parameters: [4.88458039 4.79727363 0.62399415 2.37883696 4.8845832  4.79727286\n",
      " 0.62399178 2.37882913]\n",
      "optimized_unitary\n",
      " [[-1.+0.j  0.+0.j]\n",
      " [-0.+0.j -1.-0.j]]\n",
      "scaled_unitary\n",
      " [[-1.-0.j  0.+0.j]\n",
      " [-0.+0.j -1.+0.j]]\n"
     ]
    }
   ],
   "source": [
    "# Example usage:\n",
    "# Define the target unitaries\n",
    "N = 4  # Number of unitaries to concatenate\n",
    "\n",
    "# Define the target unitaries\n",
    "target_unitary_1 = U_target_1\n",
    "target_unitary_2 = U_target_2\n",
    "S = 2\n",
    "scaling_factor = np.sqrt(S)\n",
    "\n",
    "#initial_params = np.array([0, np.pi/4, np.pi/2, np.pi/2, 7/4*np.pi, 3/4 * np.pi, np.pi/4, 3/2*np.pi])\n",
    "\n",
    "# Define optimization bounds\n",
    "bounds = [(0, 2*np.pi) for _ in range(2*N)]\n",
    "\n",
    "iterations = 10\n",
    "\n",
    "# Perform optimization\n",
    "params_best = np.zeros(2*N)\n",
    "for i in range(iterations):\n",
    "    # Initialize parameters randomly\n",
    "    initial_params = np.random.rand(2*N) * 2 * np.pi\n",
    "    result = minimize(cost_function, initial_params, args=(target_unitary_1, target_unitary_2, scaling_factor, True), bounds=bounds, method='SLSQP')\n",
    "    cf_best = cost_function(params_best, target_unitary_1, target_unitary_2, scaling_factor, True)\n",
    "    print(\"Best cost function value:\", cf_best)\n",
    "    if result.fun < cf_best:\n",
    "        params_best = result.x\n",
    "    \n",
    "\n",
    "print(\"\\nOptimized parameters:\", params_best)\n",
    "\n",
    "# Truncate the final matrix elements to three digits\n",
    "optimized_unitary = concatenate_unitaries(params_best, N)\n",
    "\n",
    "# Test if the scaled corresponding unitary is close to the target unitary\n",
    "scaled_params = params_best.copy()\n",
    "scaled_params[1::2] *= scaling_factor\n",
    "scaled_unitary = concatenate_unitaries(scaled_params, N)\n",
    "\n",
    "print(\"optimized_unitary\\n\",np.round(optimized_unitary, 3))\n",
    "print(\"scaled_unitary\\n\",np.round(scaled_unitary, 3))\n"
   ]
  }
 ],
 "metadata": {
  "kernelspec": {
   "display_name": "base",
   "language": "python",
   "name": "python3"
  },
  "language_info": {
   "codemirror_mode": {
    "name": "ipython",
    "version": 3
   },
   "file_extension": ".py",
   "mimetype": "text/x-python",
   "name": "python",
   "nbconvert_exporter": "python",
   "pygments_lexer": "ipython3",
   "version": "3.9.12"
  }
 },
 "nbformat": 4,
 "nbformat_minor": 2
}
