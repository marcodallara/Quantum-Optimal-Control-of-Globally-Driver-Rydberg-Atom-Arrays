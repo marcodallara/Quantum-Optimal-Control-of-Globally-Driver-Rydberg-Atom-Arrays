{
 "cells": [
  {
   "cell_type": "code",
   "execution_count": 1,
   "metadata": {},
   "outputs": [],
   "source": [
    "import matplotlib.pyplot as plt\n",
    "import os\n",
    "import numpy as np\n",
    "from quocslib.utils.AbstractFoM import AbstractFoM\n",
    "from quocslib.timeevolution.piecewise_integrator import pw_evolution\n",
    "import functools\n",
    "from scipy.linalg import sqrtm\n",
    "import numpy as np\n",
    "from scipy.sparse import kron\n",
    "from scipy.sparse import csr_matrix\n",
    "from scipy.sparse import eye\n",
    "from scipy.sparse.linalg import expm\n",
    "from qutip import Bloch, basis"
   ]
  },
  {
   "cell_type": "code",
   "execution_count": 2,
   "metadata": {},
   "outputs": [],
   "source": [
    "def sigma_x():\n",
    "    return np.array([[0, 1], [1, 0]])/np.sqrt(2)\n",
    "def sigma_y():\n",
    "    return np.array([[0, -1j], [1j, 0]])/np.sqrt(2)\n",
    "def sigma_z():\n",
    "    return np.array([[1, 0], [0, -1]])/np.sqrt(2)"
   ]
  },
  {
   "cell_type": "code",
   "execution_count": 3,
   "metadata": {},
   "outputs": [],
   "source": [
    "def is_unitary(matrix):\n",
    "    \"\"\"\n",
    "    Check if a given matrix is unitary.\n",
    "    \"\"\"\n",
    "    product = np.dot(matrix, np.conj(matrix.T))\n",
    "    identity = np.eye(matrix.shape[0])\n",
    "    return np.allclose(product, identity)\n",
    "\n",
    "def build_submatrix(matrix, indices):\n",
    "    \"\"\"\n",
    "    Build a submatrix of a given matrix.\n",
    "\n",
    "    Parameters:\n",
    "        matrix (ndarray): Matrix from which to extract the submatrix.\n",
    "        indices (list): List of indices to extract from the matrix.\n",
    "\n",
    "    Returns:\n",
    "        ndarray: Submatrix of the given matrix.\n",
    "    \"\"\"\n",
    "    return matrix[np.ix_(indices, indices)]\n",
    "\n",
    "def Rabi_hamiltonian(omega, phi, detuning=0):\n",
    "    \"\"\"\n",
    "    Construct the Hamiltonian for a single qubit with Rabi oscillation driven by a laser.\n",
    "\n",
    "    Parameters:\n",
    "        omega (float): Rabi frequency of the laser.\n",
    "        phi (float): Phase of the laser.\n",
    "\n",
    "    Returns:\n",
    "        ndarray: Hamiltonian matrix.\n",
    "    \"\"\"\n",
    "    ground_state = np.array([[1], [0]])  # |g⟩\n",
    "    excited_state = np.array([[0], [1]]) # |r⟩  \n",
    "    H = (omega / 2) * (np.exp(1j * phi) * np.outer(ground_state, excited_state.conj()) +\n",
    "                       np.exp(-1j * phi) * np.outer(excited_state, ground_state.conj()))\n",
    "    H = H + detuning * np.outer(excited_state, excited_state.conj())\n",
    "    return H\n",
    "\n",
    "def Interaction_hamiltonian(V):\n",
    "    \"\"\"\n",
    "    Construct the interaction Hamiltonian for two qubits.\n",
    "\n",
    "    Parameters:\n",
    "        V (float): Interaction strength between the qubits.\n",
    "\n",
    "    Returns:\n",
    "        ndarray: Interaction Hamiltonian matrix.\n",
    "    \"\"\"\n",
    "    ground_state = np.array([[0], [1]])  # |r1⟩\n",
    "    excited_state = np.array([[0], [1]]) # |r2⟩  \n",
    "\n",
    "    H = V * np.outer(np.outer(ground_state, excited_state.conj()),\n",
    "                     np.outer(ground_state, excited_state.conj()).conj().T)\n",
    "    return H\n",
    "\n",
    "def total_interaction_hamiltonian(V, n):\n",
    "    \"\"\"\n",
    "    Construct the total interaction Hamiltonian for n qubits.\n",
    "\n",
    "    Parameters:\n",
    "        V (float): Interaction strength between the qubits.\n",
    "        n (int): Number of qubits.\n",
    "\n",
    "    Returns:\n",
    "        ndarray: Interaction Hamiltonian matrix.\n",
    "    \"\"\"\n",
    "    a = np.array([[0, 0], [0, 1]])\n",
    "    H = np.zeros((2**n, 2**n))\n",
    "    for i in range(n):\n",
    "        for j in range(i+1, n):\n",
    "            H += V*kron(kron(eye(2**i), kron(a, eye(2**(j-i+-1)))), kron(a, eye(2**(n-j-1)))) \n",
    "    return H\n",
    "\n",
    "def SA_H_0(omega, phi, detuning, n):\n",
    "    \"\"\"\n",
    "    Construct the total non-interaction Hamiltonian for n qubits.\n",
    "\n",
    "    Parameters:\n",
    "        V (float): Interaction strength between the qubits.\n",
    "        n (int): Number of qubits.\n",
    "\n",
    "    Returns:\n",
    "        ndarray: Interaction Hamiltonian matrix.\n",
    "    \"\"\"\n",
    "    a = Rabi_hamiltonian(omega, phi, detuning)\n",
    "    H = np.zeros((2**n, 2**n))\n",
    "    for i in range(n):\n",
    "        H += kron(kron(eye(2**i), a), eye(2**(n-i-1)))\n",
    "    return H\n",
    "\n",
    "def time_evolution(sparse_hamiltonian, time):\n",
    "    \"\"\"\n",
    "    Calculate the time evolution of a quantum system given a sparse Hamiltonian.\n",
    "\n",
    "    Parameters:\n",
    "        sparse_hamiltonian (csr_matrix): Sparse Hamiltonian matrix.\n",
    "        time (float): Time at which to calculate the evolution.\n",
    "\n",
    "    Returns:\n",
    "        evolution_operator (csr_matrix): Unitary evolution.\n",
    "    \"\"\"\n",
    "    # Calculate the time evolution operator\n",
    "    evolution_operator = expm(-1j * sparse_hamiltonian * time)\n",
    "\n",
    "    return evolution_operator\n",
    "\n",
    "\n",
    "# Interaction Hamiltonians\n",
    "def H_int_S_a(S, V):\n",
    "    return total_interaction_hamiltonian(V, S+1)\n",
    "\n",
    "def H_int_S_S(S, V):\n",
    "    # Maybe you should consider different interaction strengths\n",
    "    return total_interaction_hamiltonian(V, 2*S)\n",
    "\n",
    "def H_int_a_a(V):\n",
    "    return total_interaction_hamiltonian(V, 2)\n",
    "\n",
    "\n",
    "def build_H_int(chain, S, V):\n",
    "\n",
    "    # Calculate the number of atoms\n",
    "    N = 0\n",
    "    for i in range(0, len(chain)):\n",
    "        if chain[i] == \"A\" or chain[i] == \"B\":\n",
    "            N += 1\n",
    "        elif chain[i] == \"SA\" or chain[i] == \"SB\":\n",
    "            N += S\n",
    "\n",
    "    #print(\"number of atoms: \", N)\n",
    "\n",
    "    # Initialize the interaction Hamiltonian\n",
    "    H_int = 0\n",
    "    j = 0 # index of the atom in the chain\n",
    "    for i in range(0, len(chain)-1):\n",
    "        if chain[i] == \"A\":\n",
    "            if chain[i+1] == \"SA\" or chain[i+1] == \"SB\":\n",
    "                H_int += kron(eye(2**j), kron(H_int_S_a(S, V), eye(2**(N-j-1-S))))\n",
    "            elif chain[i+1] == \"B\":\n",
    "                H_int += kron(eye(2**j), kron(H_int_a_a(V), eye(2**(N-j-2))))\n",
    "            j += 1\n",
    "\n",
    "        elif chain[i] == \"B\":\n",
    "            if chain[i+1] == \"SA\" or chain[i+1] == \"SB\":\n",
    "                H_int += kron(eye(2**j), kron(H_int_S_a(S, V), eye(2**(N-j-1-S))))\n",
    "            elif chain[i+1] == \"A\":\n",
    "                H_int += kron(eye(2**j), kron(H_int_a_a(V), eye(2**(N-j-2))))\n",
    "            j += 1\n",
    "\n",
    "        elif chain[i] == \"SA\":\n",
    "            if chain[i+1] == \"A\" or chain[i+1] == \"B\":\n",
    "                H_int += kron(eye(2**j), kron(H_int_S_a(S, V), eye(2**(N-j-1-S))))\n",
    "            elif chain[i+1] == \"SB\":\n",
    "                H_int += kron(eye(2**j), kron(H_int_S_S(S, V), eye(2**(N-j-2*S))))\n",
    "            j += S\n",
    "            \n",
    "        elif chain[i] == \"SB\":\n",
    "            if chain[i+1] == \"A\" or chain[i+1] == \"B\":\n",
    "                H_int += kron(eye(2**j), kron(H_int_S_a(S, V), eye(2**(N-j-1-S))))\n",
    "            elif chain[i+1] == \"SA\":\n",
    "                H_int += kron(eye(2**j), kron(H_int_S_S(S, V), eye(2**(N-j-2*S))))\n",
    "            j += S\n",
    "\n",
    "    return H_int\n",
    "\n",
    "\n",
    "def build_H_0(chain, omega_A, phi_A, detuning_A, omega_B, phi_B, detuning_B, S):\n",
    "    # Calculate the number of atoms\n",
    "    N = 0\n",
    "    for i in range(0, len(chain)):\n",
    "        if chain[i] == \"A\" or chain[i] == \"B\":\n",
    "            N += 1\n",
    "        elif chain[i] == \"SA\" or chain[i] == \"SB\":\n",
    "            N += S\n",
    "\n",
    "    #print(\"number of atoms: \", N)\n",
    "\n",
    "    # Initialize the non-interaction Hamiltonian\n",
    "    H_0 = 0\n",
    "    j = 0 # index of the atom in the chain\n",
    "    for i in range(0, len(chain)):\n",
    "        if chain[i] == \"A\":\n",
    "            H_0 += kron(eye(2**j), kron(Rabi_hamiltonian(omega_A, phi_A, detuning_A), eye(2**(N-j-1))))\n",
    "            j += 1\n",
    "\n",
    "        elif chain[i] == \"B\":\n",
    "            H_0 += kron(eye(2**j), kron(Rabi_hamiltonian(omega_B, phi_B, detuning_B), eye(2**(N-j-1))))\n",
    "            j += 1\n",
    "\n",
    "        elif chain[i] == \"SA\":\n",
    "            H_0 += kron(eye(2**j), kron(SA_H_0(omega_A, phi_A, detuning_A, S), eye(2**(N-j-S))))\n",
    "            j += S\n",
    "\n",
    "        elif chain[i] == \"SB\":\n",
    "            H_0 += kron(eye(2**j), kron(SA_H_0(omega_B, phi_B, detuning_B, S), eye(2**(N-j-S))))\n",
    "            j += S\n",
    "\n",
    "    return H_0\n"
   ]
  },
  {
   "cell_type": "code",
   "execution_count": 4,
   "metadata": {},
   "outputs": [],
   "source": [
    "def get_static_hamiltonian(chain, S, V, omega_A, phi_A, detuning_A, omega_B, phi_B, detuning_B):\n",
    "    H_s = build_H_int(chain, S,V)\n",
    "    H_s += build_H_0(chain, omega_A, phi_A, detuning_A, omega_B, phi_B, detuning_B, S)\n",
    "    return H_s\n",
    "\n",
    "def H_control_A(ii):\n",
    "    if ii == 1:\n",
    "        return  np.outer(np.array([[0], [1]]), np.array([[0], [1]]).conj())\n",
    "    elif ii == 2:\n",
    "        print(\"Invalid control Hamiltonian index\")\n",
    "    else:\n",
    "        print(\"Invalid control Hamiltonian index\")\n",
    "\n",
    "def H_control_SA(ii, S):\n",
    "    H = np.zeros((2**S, 2**S))\n",
    "    for i in range(S):\n",
    "        H += kron(kron(eye(2**i), H_control_A(ii)), eye(2**(S-i-1)))\n",
    "    return H\n",
    "\n",
    "\n",
    "def get_control_hamiltonian_ii(chain, S, ii): # ii is the index of the control Hamiltonian\n",
    "    # Calculate the number of atoms\n",
    "    N = 0\n",
    "    for i in range(0, len(chain)):\n",
    "        if chain[i] == \"A\" or chain[i] == \"B\":\n",
    "            N += 1\n",
    "        elif chain[i] == \"SA\" or chain[i] == \"SB\":\n",
    "            N += S\n",
    "    H_0 = 0\n",
    "    j = 0 # index of the atom in the chain\n",
    "    for i in range(0, len(chain)):\n",
    "        if chain[i] == \"B\":\n",
    "            H_0 += kron(eye(2**j), kron(H_control_A(ii), eye(2**(N-j-1))))\n",
    "            j += 1\n",
    "\n",
    "        elif chain[i] == \"SB\":\n",
    "            H_0 += kron(eye(2**j), kron(H_control_SA(ii, S), eye(2**(N-j-S))))\n",
    "            j += S\n",
    "\n",
    "        if chain[i] == \"A\":\n",
    "            j += 1\n",
    "\n",
    "        elif chain[i] == \"SA\":\n",
    "            j += S\n",
    "    return H_0"
   ]
  },
  {
   "cell_type": "code",
   "execution_count": 5,
   "metadata": {},
   "outputs": [],
   "source": [
    "# define gate fidelity\n",
    "def gate_fidelity(U, U_target):\n",
    "    dim = U.shape[0]\n",
    "    return np.abs(np.trace(U_target.T.conj() @ U))**2 / dim**2\n",
    "\n",
    "def time_evolution(props, drive, H_drift, H_control, n_slices, dt):\n",
    "    \"\"\"\n",
    "    Calculate the time evolution of a quantum system given a sparse Hamiltonian.\n",
    "\n",
    "    Parameters:\n",
    "        sparse_hamiltonian (csr_matrix): Sparse Hamiltonian matrix.\n",
    "        time (float): Time at which to calculate the evolution.\n",
    "\n",
    "    Returns:\n",
    "        evolution_operator (csr_matrix): Unitary evolution.\n",
    "    \"\"\"\n",
    "    # Calculate the time evolution operator\n",
    "    for i in range(n_slices):\n",
    "        props[i] = expm(-1j * (H_drift + drive[0][i]*H_control[0]) * dt)\n",
    "    return props\n",
    "\n",
    "def get_initial_state():\n",
    "    psi_0 = np.zeros((5*[2]))\n",
    "    psi_0[0,0,0,0,1] = 1/np.sqrt(2) # |r GG g>\n",
    "    psi_0[0,0,0,0,0] = 1/np.sqrt(2) # |g GG g>\n",
    "    #psi = psi_0.flatten()\n",
    "    #psi_0 = np.zeros(2**4)\n",
    "    #psi_0[0] = 1 / np.sqrt(2)\n",
    "    #psi_0[1] = 1 / np.sqrt(2)\n",
    "    return psi_0.flatten()\n",
    "\n",
    "def get_target_state(phi_0):\n",
    "    psi_f = np.zeros((5*[2]))\n",
    "    psi_f[0,0,0,0,1] = 1/np.sqrt(2) # |r GG g>\n",
    "    psi_f[0,0,0,0,0] = -1 /np.sqrt(2) # |g GG g>\n",
    "    #psi_f = np.zeros(2**4)\n",
    "    #psi_f[0] = -np.exp(1j*phi_0) / np.sqrt(2)\n",
    "    #psi_f[1] = 1 / np.sqrt(2)\n",
    "\n",
    "    return psi_f.flatten()\n",
    "\n",
    "def state_fidelity(psi1, psi2):\n",
    "    return np.abs(np.dot(np.conj(psi1), psi2)) ** 2 / (np.linalg.norm(psi1) * np.linalg.norm(psi2))\n",
    "\n",
    "def fidelity_funct(psi1, psi2):\n",
    "    rho2 = np.outer(psi1, np.conj(psi1).T)\n",
    "    rho1 = np.outer(psi2, np.conj(psi2).T)\n",
    "    return np.abs(np.trace(sqrtm(sqrtm(rho2) @ rho1 @ sqrtm(rho2)))) ** 2\n",
    "\n",
    "\n",
    "class Ryd_chain(AbstractFoM):\n",
    "    \"\"\"\n",
    "    A figure of merit class for optimization of a Rydberg chain.\n",
    "    \"\"\"\n",
    "    def __init__(self, args_dict: dict = None):\n",
    "        if args_dict is None:\n",
    "            args_dict = {}\n",
    "\n",
    "        ################################################################################################################\n",
    "        # Dynamics variables\n",
    "        ################################################################################################################\n",
    "        self.chain = args_dict.setdefault(\"chain\", [\"B\", \"A\", \"SB\", \"A\"])\n",
    "        self.S = args_dict.setdefault(\"S\", 2)\n",
    "        self.V = args_dict.setdefault(\"V\", 211)\n",
    "        self.n_slices = args_dict.setdefault(\"n_slices\", 100)\n",
    "        self.psi_0 = get_initial_state()\n",
    "        self.omegaB = args_dict.setdefault(\"omegaB\", 10)\n",
    "\n",
    "        self.is_maximization = args_dict.setdefault(\"is_maximization\", False)\n",
    "        self.FoM_factor = 1\n",
    "        if self.is_maximization:\n",
    "            self.FoM_factor = -1\n",
    "\n",
    "        #self.H_drift = np.zeros((2,2), dtype=np.complex128)\n",
    "        #self.H_control = [sigma_x(), sigma_y()]\n",
    "        self.H_drift = get_static_hamiltonian(self.chain, self.S, self.V, 0,0,0,self.omegaB,0,0).toarray()\n",
    "        self.H_control = [get_control_hamiltonian_ii(self.chain, self.S, 1)]\n",
    "        #self.H_control = [get_control_hamiltonian_ii(self.chain, self.S, ii).toarray() for ii in range(1, 3)]\n",
    "        #self.H_control = [*self.H_control, np.kron(np.eye(2), np.kron(sigma_z(), np.eye(2)))]\n",
    "\n",
    "\n",
    "    def get_control_Hamiltonians(self):\n",
    "        return self.H_control\n",
    "\n",
    "    def get_drift_Hamiltonian(self):\n",
    "        return self.H_drift\n",
    "    \n",
    "\n",
    "    def get_FoM(self, pulses: list = [], parameters: list = [], timegrids: list = []) -> dict:\n",
    "\n",
    "        drive = [pulses[i].reshape(len(pulses[i])) for i in range(len(pulses))]\n",
    "        #print(\"test drive\", drive[0][0])\n",
    "        n_slices = self.n_slices\n",
    "        # you have to take same dt for all the pulses\n",
    "        time_grid = timegrids[0]\n",
    "        dt = time_grid[1] - time_grid[0]\n",
    "        #dt = time_grid[-1] / len(time_grid)\n",
    "        # Compute the time evolution\n",
    "        propsS = [np.eye(2**5, dtype=np.complex128) for i in range(n_slices)]\n",
    "        propsS = time_evolution(propsS, drive, self.H_drift, self.H_control, n_slices, dt)\n",
    "        U_1S = functools.reduce(lambda a, b: a @ b, propsS)\n",
    "        #U_2S = functools.reduce(lambda a, b: a @ b, np.flip(propsS))\n",
    "        drive_flipped = [np.flip(pulses[i].reshape(len(pulses[i]))) for i in range(len(pulses))]\n",
    "        propsS = [np.eye(2**5, dtype=np.complex128) for i in range(n_slices)]\n",
    "        propsS = time_evolution(propsS, drive_flipped, self.H_drift, self.H_control, n_slices, dt)\n",
    "        U_2S = functools.reduce(lambda a, b: a @ b, propsS)\n",
    "\n",
    "        chain = [\"B\"]\n",
    "        drift= get_static_hamiltonian(chain, self.S, self.V, 0, 0, 0, self.omegaB, 0, 0).toarray()\n",
    "        control = [get_control_hamiltonian_ii(chain, self.S, 1).toarray()]\n",
    "        props = [np.eye(2**1, dtype=np.complex128) for i in range(n_slices)]\n",
    "        props = time_evolution(props, drive, drift, control, n_slices, dt)\n",
    "        U_1 = functools.reduce(lambda a, b: a @ b, props)\n",
    "        props = [np.eye(2**1, dtype=np.complex128) for i in range(n_slices)]\n",
    "        props = time_evolution(props, drive_flipped, drift, control, n_slices, dt)\n",
    "        U_2 = functools.reduce(lambda a, b: a @ b, props)\n",
    "        #U_2 = functools.reduce(lambda a, b: a @ b, np.flip(props))\n",
    "\n",
    "        #print(\"U_1: \", U_1)\n",
    "\n",
    "        psi_0_S = self.psi_0\n",
    "        psi_1_S = np.zeros((2**5))\n",
    "        psi_1_S[0] = 1\n",
    "        psi_0 = np.zeros((2**1))\n",
    "        psi_0[0] = 1\n",
    "\n",
    "        #print(\"Coeff of psi: \", np.abs(psi_0[0])**2)\n",
    "        #print(\"Coeff of psi_S: \",  np.abs(psi_0_S[0])**2)\n",
    "\n",
    "\n",
    "        #first half evolution\n",
    "        psi_S = U_1S @ psi_0_S\n",
    "        psi_S_1 = U_1S @ psi_1_S\n",
    "        psi = U_1 @ psi_0\n",
    "        #print(\"Coeff of psi: \", np.abs(psi[0])**2)\n",
    "        #print(\"Coeff of psi_S: \",  np.abs(psi_S[0])**2)\n",
    "\n",
    "        #second half of triangle\n",
    "        psi_S = U_2S @ psi_S\n",
    "        psi_S_1 = U_2S @ psi_S_1\n",
    "        psi = U_2 @ psi\n",
    "\n",
    "        phi_0 = np.angle(psi[0])\n",
    "        psi_targ = get_target_state(phi_0)\n",
    "        #print(phi_0)\n",
    "        print(\"Coeff of psi: \", np.abs(psi[0])**2)\n",
    "        print(\"Coeff of psi_targ: \",  np.abs(psi_S[0])**2)\n",
    "\n",
    "        #U_S = U_2S @ U_1S\n",
    "        #U_S = build_submatrix(U_S, [0, 8, 1, 9])\n",
    "        #U_target = np.array([[-1, 0, 0, 0], [0, 1, 0, 0], [0, 0, 1, 0], [0, 0, 0, 1]])\n",
    "        fidelity = -1 * self.FoM_factor * ( state_fidelity(psi_S, psi_targ) + state_fidelity(psi, psi_0) + state_fidelity(psi_S_1, psi_1_S) )\n",
    "        #fidelity = -1 * self.FoM_factor * ( state_fidelity(psi_S, psi_targ) )\n",
    "        #fidelity = -1 * self.FoM_factor * ( state_fidelity(psi_S, psi_targ)+ gate_fidelity(U_S, U_target))\n",
    "        # print time and fidelity\n",
    "\n",
    "        #fidelity = -1 * self.FoM_factor * (fidelity_funct(psi_S, psi_targ))\n",
    "\n",
    "        return {\"FoM\": fidelity}\n",
    "    \n",
    "    def get_Bloch_sphere(psi_t, indexes_0, indexes_1, z_labels, angles=[90, 15]):\n",
    "        # Print the evolution of the state |g GR g> in a Bloch sphere \n",
    "        b = Bloch(view=angles)\n",
    "        b.point_marker = ['o']\n",
    "        colors = ['b' for i in range(N)]\n",
    "        b.point_color = colors\n",
    "        b.point_size = [15]\n",
    "        b.font_size = 18\n",
    "        b.zlpos = [1.2, -1.2]\n",
    "        b.zlabel = z_labels\n",
    "        for psi_i in psi_t:\n",
    "            c_0 = np.sum(psi_i[indexes_0])/np.sqrt(len(indexes_0))\n",
    "            c_1 = np.sum(psi_i[indexes_1])/np.sqrt(len(indexes_1))\n",
    "            vec = ( c_0 * basis(2,0)  + c_1 * basis(2,1))\n",
    "            b.add_states(vec, kind='point')\n",
    "\n",
    "        b.figsize = [5, 10]\n",
    "        b.show()\n",
    "        b.render()\n",
    "        b.save('b.png')\n"
   ]
  },
  {
   "cell_type": "code",
   "execution_count": 6,
   "metadata": {},
   "outputs": [],
   "source": [
    "optimization_dictionary = {\"optimization_client_name\": \"Ryd_chain_dCRAB\"}\n"
   ]
  },
  {
   "cell_type": "code",
   "execution_count": 7,
   "metadata": {},
   "outputs": [],
   "source": [
    "optimization_dictionary[\"algorithm_settings\"] = { \"algorithm_name\": \"dCRAB\"}\n",
    "optimization_dictionary[\"algorithm_settings\"][\"optimization_direction\"] = \"maximization\"\n",
    "optimization_dictionary[\"algorithm_settings\"][\"super_iteration_number\"] = 3\n",
    "optimization_dictionary[\"algorithm_settings\"][\"max_eval_total\"] = 3000"
   ]
  },
  {
   "cell_type": "code",
   "execution_count": 8,
   "metadata": {},
   "outputs": [],
   "source": [
    "dsm_settings = {\n",
    "        \"general_settings\": {\n",
    "            \"dsm_algorithm_name\": \"NelderMead\",\n",
    "            \"is_adaptive\": False,\n",
    "        },\n",
    "        \"stopping_criteria\": {\n",
    "            \"xatol\": 1e-4,\n",
    "            \"fatol\": 1e-6,\n",
    "            \"change_based_stop\": {\n",
    "                \"cbs_funct_evals\": 200,\n",
    "                \"cbs_change\": 0.01\n",
    "            }\n",
    "        }\n",
    "    }\n"
   ]
  },
  {
   "cell_type": "code",
   "execution_count": 9,
   "metadata": {},
   "outputs": [],
   "source": [
    "optimization_dictionary[\"algorithm_settings\"][\"dsm_settings\"] = dsm_settings\n"
   ]
  },
  {
   "cell_type": "code",
   "execution_count": 10,
   "metadata": {},
   "outputs": [],
   "source": [
    "pulse_1 = {\"pulse_name\": \"Pulse_1\", \n",
    "           \"upper_limit\": 50,\n",
    "           \"lower_limit\": -50,\n",
    "           \"bins_number\": 100,\n",
    "           \"amplitude_variation\": 0.5,\n",
    "           \"time_name\": \"time_1\"\n",
    "           }\n",
    "\n"
   ]
  },
  {
   "cell_type": "code",
   "execution_count": 11,
   "metadata": {},
   "outputs": [],
   "source": [
    "pulse_1[\"initial_guess\"] = {\n",
    "    \"function_type\": \"lambda_function\",\n",
    "    \"lambda_function\": \"lambda t: 0.0 + 0.0*t\"\n",
    "    }\n"
   ]
  },
  {
   "cell_type": "code",
   "execution_count": 12,
   "metadata": {},
   "outputs": [],
   "source": [
    "pulse_1[\"basis\"] = {\n",
    "                \"basis_name\": \"Fourier\",\n",
    "                \"basis_vector_number\": 5,\n",
    "                \"random_super_parameter_distribution\": {\n",
    "                    \"distribution_name\": \"Uniform\",\n",
    "                    \"lower_limit\": 0.01,\n",
    "                    \"upper_limit\": 2\n",
    "                }\n",
    "            }\n",
    "\n",
    "\n",
    "\n",
    "time1 = {\"time_name\": \"time_1\",\n",
    "         \"initial_value\": 0.34 }\n"
   ]
  },
  {
   "cell_type": "code",
   "execution_count": 13,
   "metadata": {},
   "outputs": [],
   "source": [
    "optimization_dictionary[\"pulses\"] = [pulse_1]\n",
    "optimization_dictionary[\"parameters\"] = []\n",
    "optimization_dictionary[\"times\"] = [time1]"
   ]
  },
  {
   "cell_type": "code",
   "execution_count": 14,
   "metadata": {},
   "outputs": [
    {
     "name": "stdout",
     "output_type": "stream",
     "text": [
      "INFO     oc_logger    The optimization direction is maximization\n"
     ]
    },
    {
     "name": "stderr",
     "output_type": "stream",
     "text": [
      "INFO:oc_logger:The optimization direction is maximization\n"
     ]
    }
   ],
   "source": [
    "from quocslib.Optimizer import Optimizer\n",
    "import time\n",
    "\n",
    "optimization_obj = Optimizer(optimization_dictionary, Ryd_chain({\"is_maximization\": True}))\n"
   ]
  },
  {
   "cell_type": "code",
   "execution_count": 15,
   "metadata": {},
   "outputs": [
    {
     "name": "stdout",
     "output_type": "stream",
     "text": [
      "INFO     oc_logger    QuOCS version number: 0.0.56\n"
     ]
    },
    {
     "name": "stderr",
     "output_type": "stream",
     "text": [
      "INFO:oc_logger:QuOCS version number: 0.0.56\n",
      "DEBUG:oc_logger:User running: True\n"
     ]
    },
    {
     "name": "stdout",
     "output_type": "stream",
     "text": [
      "INFO     oc_logger    Direct search start time has been reset.\n"
     ]
    },
    {
     "name": "stderr",
     "output_type": "stream",
     "text": [
      "INFO:oc_logger:Direct search start time has been reset.\n",
      "DEBUG:oc_logger:User running: True\n",
      "DEBUG:oc_logger:User running: True\n",
      "DEBUG:oc_logger:User running: True\n"
     ]
    },
    {
     "name": "stdout",
     "output_type": "stream",
     "text": [
      "Coeff of psi:  0.9167175095390724\n",
      "Coeff of psi_targ:  0.009469831975608642\n",
      "INFO     oc_logger    New record achieved. Previous FoM: -10000000000, new best FoM : 1.1037216754104777\n"
     ]
    },
    {
     "name": "stderr",
     "output_type": "stream",
     "text": [
      "INFO:oc_logger:New record achieved. Previous FoM: -10000000000, new best FoM : 1.1037216754104777\n"
     ]
    },
    {
     "name": "stdout",
     "output_type": "stream",
     "text": [
      "INFO     oc_logger    Function evaluation number: 1, SI: 1, Sub-iteration number: 0, FoM: 1.1037216754104777\n"
     ]
    },
    {
     "name": "stderr",
     "output_type": "stream",
     "text": [
      "INFO:oc_logger:Function evaluation number: 1, SI: 1, Sub-iteration number: 0, FoM: 1.1037216754104777\n",
      "DEBUG:oc_logger:User running: True\n",
      "DEBUG:oc_logger:User running: True\n",
      "DEBUG:oc_logger:User running: True\n"
     ]
    },
    {
     "name": "stdout",
     "output_type": "stream",
     "text": [
      "Coeff of psi:  0.9166791597315016\n",
      "Coeff of psi_targ:  0.009439996529858571\n",
      "INFO     oc_logger    New record achieved. Previous FoM: 1.1037216754104777, new best FoM : 1.105072869114264\n"
     ]
    },
    {
     "name": "stderr",
     "output_type": "stream",
     "text": [
      "INFO:oc_logger:New record achieved. Previous FoM: 1.1037216754104777, new best FoM : 1.105072869114264\n"
     ]
    },
    {
     "name": "stdout",
     "output_type": "stream",
     "text": [
      "INFO     oc_logger    Function evaluation number: 2, SI: 1, Sub-iteration number: 0, FoM: 1.105072869114264\n"
     ]
    },
    {
     "name": "stderr",
     "output_type": "stream",
     "text": [
      "INFO:oc_logger:Function evaluation number: 2, SI: 1, Sub-iteration number: 0, FoM: 1.105072869114264\n",
      "DEBUG:oc_logger:User running: True\n",
      "DEBUG:oc_logger:User running: True\n",
      "DEBUG:oc_logger:User running: True\n"
     ]
    },
    {
     "name": "stdout",
     "output_type": "stream",
     "text": [
      "Coeff of psi:  0.9159419389161593\n",
      "Coeff of psi_targ:  0.009448225818345809\n",
      "INFO     oc_logger    Function evaluation number: 3, SI: 1, Sub-iteration number: 0, FoM: 1.1041482766819661\n"
     ]
    },
    {
     "name": "stderr",
     "output_type": "stream",
     "text": [
      "INFO:oc_logger:Function evaluation number: 3, SI: 1, Sub-iteration number: 0, FoM: 1.1041482766819661\n",
      "DEBUG:oc_logger:User running: True\n",
      "DEBUG:oc_logger:User running: True\n",
      "DEBUG:oc_logger:User running: True\n"
     ]
    },
    {
     "name": "stdout",
     "output_type": "stream",
     "text": [
      "Coeff of psi:  0.9161869911776493\n",
      "Coeff of psi_targ:  0.009413830472115144\n",
      "INFO     oc_logger    Function evaluation number: 4, SI: 1, Sub-iteration number: 0, FoM: 1.1042607641967503\n"
     ]
    },
    {
     "name": "stderr",
     "output_type": "stream",
     "text": [
      "INFO:oc_logger:Function evaluation number: 4, SI: 1, Sub-iteration number: 0, FoM: 1.1042607641967503\n",
      "DEBUG:oc_logger:User running: True\n",
      "DEBUG:oc_logger:User running: True\n",
      "DEBUG:oc_logger:User running: True\n"
     ]
    },
    {
     "name": "stdout",
     "output_type": "stream",
     "text": [
      "Coeff of psi:  0.9169661249164526\n",
      "Coeff of psi_targ:  0.010576116370454578\n",
      "INFO     oc_logger    Function evaluation number: 5, SI: 1, Sub-iteration number: 0, FoM: 1.1043015399140508\n"
     ]
    },
    {
     "name": "stderr",
     "output_type": "stream",
     "text": [
      "INFO:oc_logger:Function evaluation number: 5, SI: 1, Sub-iteration number: 0, FoM: 1.1043015399140508\n",
      "DEBUG:oc_logger:User running: True\n",
      "DEBUG:oc_logger:User running: True\n",
      "DEBUG:oc_logger:User running: True\n"
     ]
    },
    {
     "name": "stdout",
     "output_type": "stream",
     "text": [
      "Coeff of psi:  0.9173388673839805\n",
      "Coeff of psi_targ:  0.011249045514714335\n",
      "INFO     oc_logger    New record achieved. Previous FoM: 1.105072869114264, new best FoM : 1.1058171913593984\n"
     ]
    },
    {
     "name": "stderr",
     "output_type": "stream",
     "text": [
      "INFO:oc_logger:New record achieved. Previous FoM: 1.105072869114264, new best FoM : 1.1058171913593984\n"
     ]
    },
    {
     "name": "stdout",
     "output_type": "stream",
     "text": [
      "INFO     oc_logger    Function evaluation number: 6, SI: 1, Sub-iteration number: 0, FoM: 1.1058171913593984\n"
     ]
    },
    {
     "name": "stderr",
     "output_type": "stream",
     "text": [
      "INFO:oc_logger:Function evaluation number: 6, SI: 1, Sub-iteration number: 0, FoM: 1.1058171913593984\n",
      "DEBUG:oc_logger:User running: True\n",
      "DEBUG:oc_logger:User running: True\n",
      "DEBUG:oc_logger:User running: True\n"
     ]
    },
    {
     "name": "stdout",
     "output_type": "stream",
     "text": [
      "Coeff of psi:  0.917140143449128\n",
      "Coeff of psi_targ:  0.010864197407039592\n",
      "INFO     oc_logger    Function evaluation number: 7, SI: 1, Sub-iteration number: 0, FoM: 1.1053551366497734\n"
     ]
    },
    {
     "name": "stderr",
     "output_type": "stream",
     "text": [
      "INFO:oc_logger:Function evaluation number: 7, SI: 1, Sub-iteration number: 0, FoM: 1.1053551366497734\n",
      "DEBUG:oc_logger:User running: True\n",
      "DEBUG:oc_logger:User running: True\n",
      "DEBUG:oc_logger:User running: True\n"
     ]
    },
    {
     "name": "stdout",
     "output_type": "stream",
     "text": [
      "Coeff of psi:  0.9169570334085433\n",
      "Coeff of psi_targ:  0.010180682224607215\n",
      "INFO     oc_logger    Function evaluation number: 8, SI: 1, Sub-iteration number: 0, FoM: 1.1043306351322897\n"
     ]
    },
    {
     "name": "stderr",
     "output_type": "stream",
     "text": [
      "INFO:oc_logger:Function evaluation number: 8, SI: 1, Sub-iteration number: 0, FoM: 1.1043306351322897\n",
      "DEBUG:oc_logger:User running: True\n",
      "DEBUG:oc_logger:User running: True\n",
      "DEBUG:oc_logger:User running: True\n"
     ]
    },
    {
     "name": "stdout",
     "output_type": "stream",
     "text": [
      "Coeff of psi:  0.916714660146347\n",
      "Coeff of psi_targ:  0.009548916791236433\n",
      "INFO     oc_logger    Function evaluation number: 9, SI: 1, Sub-iteration number: 0, FoM: 1.1035294315988418\n"
     ]
    },
    {
     "name": "stderr",
     "output_type": "stream",
     "text": [
      "INFO:oc_logger:Function evaluation number: 9, SI: 1, Sub-iteration number: 0, FoM: 1.1035294315988418\n",
      "DEBUG:oc_logger:User running: True\n",
      "DEBUG:oc_logger:User running: True\n",
      "DEBUG:oc_logger:User running: True\n"
     ]
    },
    {
     "name": "stdout",
     "output_type": "stream",
     "text": [
      "Coeff of psi:  0.916723210023066\n",
      "Coeff of psi_targ:  0.0094744409054523\n",
      "INFO     oc_logger    Function evaluation number: 10, SI: 1, Sub-iteration number: 0, FoM: 1.1036770063536099\n"
     ]
    },
    {
     "name": "stderr",
     "output_type": "stream",
     "text": [
      "INFO:oc_logger:Function evaluation number: 10, SI: 1, Sub-iteration number: 0, FoM: 1.1036770063536099\n",
      "DEBUG:oc_logger:User running: True\n",
      "DEBUG:oc_logger:User running: True\n",
      "DEBUG:oc_logger:User running: True\n"
     ]
    },
    {
     "name": "stdout",
     "output_type": "stream",
     "text": [
      "Coeff of psi:  0.9167713257354451\n",
      "Coeff of psi_targ:  0.009756976053732483\n",
      "INFO     oc_logger    Function evaluation number: 11, SI: 1, Sub-iteration number: 0, FoM: 1.1036151776883982\n"
     ]
    },
    {
     "name": "stderr",
     "output_type": "stream",
     "text": [
      "INFO:oc_logger:Function evaluation number: 11, SI: 1, Sub-iteration number: 0, FoM: 1.1036151776883982\n",
      "DEBUG:oc_logger:User running: True\n",
      "DEBUG:oc_logger:User running: True\n",
      "DEBUG:oc_logger:User running: True\n"
     ]
    },
    {
     "name": "stdout",
     "output_type": "stream",
     "text": [
      "Coeff of psi:  0.9163610546195581\n",
      "Coeff of psi_targ:  0.009996920968347096\n",
      "INFO     oc_logger    Function evaluation number: 12, SI: 1, Sub-iteration number: 1, FoM: 1.1027325766374652\n"
     ]
    },
    {
     "name": "stderr",
     "output_type": "stream",
     "text": [
      "INFO:oc_logger:Function evaluation number: 12, SI: 1, Sub-iteration number: 1, FoM: 1.1027325766374652\n",
      "DEBUG:oc_logger:User running: True\n",
      "DEBUG:oc_logger:User running: True\n",
      "DEBUG:oc_logger:User running: True\n"
     ]
    },
    {
     "name": "stdout",
     "output_type": "stream",
     "text": [
      "Coeff of psi:  0.9167583986334897\n",
      "Coeff of psi_targ:  0.009611099930418967\n",
      "INFO     oc_logger    Function evaluation number: 13, SI: 1, Sub-iteration number: 1, FoM: 1.10352013978353\n"
     ]
    },
    {
     "name": "stderr",
     "output_type": "stream",
     "text": [
      "INFO:oc_logger:Function evaluation number: 13, SI: 1, Sub-iteration number: 1, FoM: 1.10352013978353\n",
      "DEBUG:oc_logger:User running: True\n",
      "DEBUG:oc_logger:User running: True\n",
      "DEBUG:oc_logger:User running: True\n"
     ]
    },
    {
     "name": "stdout",
     "output_type": "stream",
     "text": [
      "Coeff of psi:  0.9171949865075469\n",
      "Coeff of psi_targ:  0.011068500294971806\n",
      "INFO     oc_logger    Function evaluation number: 14, SI: 1, Sub-iteration number: 1, FoM: 1.1055134259062362\n"
     ]
    },
    {
     "name": "stderr",
     "output_type": "stream",
     "text": [
      "INFO:oc_logger:Function evaluation number: 14, SI: 1, Sub-iteration number: 1, FoM: 1.1055134259062362\n",
      "DEBUG:oc_logger:User running: True\n",
      "DEBUG:oc_logger:User running: True\n",
      "DEBUG:oc_logger:User running: True\n"
     ]
    },
    {
     "name": "stdout",
     "output_type": "stream",
     "text": [
      "Coeff of psi:  0.9167350064989679\n",
      "Coeff of psi_targ:  0.009765492015806374\n",
      "INFO     oc_logger    Function evaluation number: 15, SI: 1, Sub-iteration number: 1, FoM: 1.1033962487773983\n"
     ]
    },
    {
     "name": "stderr",
     "output_type": "stream",
     "text": [
      "INFO:oc_logger:Function evaluation number: 15, SI: 1, Sub-iteration number: 1, FoM: 1.1033962487773983\n",
      "DEBUG:oc_logger:User running: True\n",
      "DEBUG:oc_logger:User running: True\n",
      "DEBUG:oc_logger:User running: True\n"
     ]
    },
    {
     "name": "stdout",
     "output_type": "stream",
     "text": [
      "Coeff of psi:  0.917065879773718\n",
      "Coeff of psi_targ:  0.01068180839450051\n",
      "INFO     oc_logger    Function evaluation number: 16, SI: 1, Sub-iteration number: 1, FoM: 1.1048770399033034\n"
     ]
    },
    {
     "name": "stderr",
     "output_type": "stream",
     "text": [
      "INFO:oc_logger:Function evaluation number: 16, SI: 1, Sub-iteration number: 1, FoM: 1.1048770399033034\n",
      "DEBUG:oc_logger:User running: True\n",
      "DEBUG:oc_logger:User running: True\n",
      "DEBUG:oc_logger:User running: True\n"
     ]
    },
    {
     "name": "stdout",
     "output_type": "stream",
     "text": [
      "Coeff of psi:  0.9171197032879019\n",
      "Coeff of psi_targ:  0.01090181877960251\n",
      "INFO     oc_logger    Function evaluation number: 17, SI: 1, Sub-iteration number: 1, FoM: 1.104950650108702\n"
     ]
    },
    {
     "name": "stderr",
     "output_type": "stream",
     "text": [
      "INFO:oc_logger:Function evaluation number: 17, SI: 1, Sub-iteration number: 1, FoM: 1.104950650108702\n",
      "DEBUG:oc_logger:User running: True\n",
      "DEBUG:oc_logger:User running: True\n",
      "DEBUG:oc_logger:User running: True\n"
     ]
    },
    {
     "name": "stdout",
     "output_type": "stream",
     "text": [
      "Coeff of psi:  0.9166646064070886\n",
      "Coeff of psi_targ:  0.00986624272136742\n",
      "INFO     oc_logger    Function evaluation number: 18, SI: 1, Sub-iteration number: 1, FoM: 1.1032388053020843\n"
     ]
    },
    {
     "name": "stderr",
     "output_type": "stream",
     "text": [
      "INFO:oc_logger:Function evaluation number: 18, SI: 1, Sub-iteration number: 1, FoM: 1.1032388053020843\n",
      "DEBUG:oc_logger:User running: True\n",
      "DEBUG:oc_logger:User running: True\n",
      "DEBUG:oc_logger:User running: True\n"
     ]
    },
    {
     "name": "stdout",
     "output_type": "stream",
     "text": [
      "Coeff of psi:  0.9165504860921849\n",
      "Coeff of psi_targ:  0.009867870482088734\n",
      "INFO     oc_logger    Function evaluation number: 19, SI: 1, Sub-iteration number: 1, FoM: 1.103061729411497\n"
     ]
    },
    {
     "name": "stderr",
     "output_type": "stream",
     "text": [
      "INFO:oc_logger:Function evaluation number: 19, SI: 1, Sub-iteration number: 1, FoM: 1.103061729411497\n",
      "DEBUG:oc_logger:User running: True\n",
      "DEBUG:oc_logger:User running: True\n",
      "DEBUG:oc_logger:User running: True\n"
     ]
    },
    {
     "name": "stdout",
     "output_type": "stream",
     "text": [
      "Coeff of psi:  0.9168731179556212\n",
      "Coeff of psi_targ:  0.010017213476929687\n",
      "INFO     oc_logger    Function evaluation number: 20, SI: 1, Sub-iteration number: 1, FoM: 1.103759782401097\n"
     ]
    },
    {
     "name": "stderr",
     "output_type": "stream",
     "text": [
      "INFO:oc_logger:Function evaluation number: 20, SI: 1, Sub-iteration number: 1, FoM: 1.103759782401097\n",
      "DEBUG:oc_logger:User running: True\n",
      "DEBUG:oc_logger:User running: True\n",
      "DEBUG:oc_logger:User running: True\n"
     ]
    },
    {
     "name": "stdout",
     "output_type": "stream",
     "text": [
      "Coeff of psi:  0.9168591466418592\n",
      "Coeff of psi_targ:  0.01009191989341448\n",
      "INFO     oc_logger    Function evaluation number: 21, SI: 1, Sub-iteration number: 1, FoM: 1.1037098147557933\n"
     ]
    },
    {
     "name": "stderr",
     "output_type": "stream",
     "text": [
      "INFO:oc_logger:Function evaluation number: 21, SI: 1, Sub-iteration number: 1, FoM: 1.1037098147557933\n",
      "DEBUG:oc_logger:User running: True\n",
      "DEBUG:oc_logger:User running: True\n",
      "DEBUG:oc_logger:User running: True\n"
     ]
    },
    {
     "name": "stdout",
     "output_type": "stream",
     "text": [
      "Coeff of psi:  0.9170157150067313\n",
      "Coeff of psi_targ:  0.010339481655146279\n",
      "INFO     oc_logger    Function evaluation number: 22, SI: 1, Sub-iteration number: 1, FoM: 1.1043969913380138\n"
     ]
    },
    {
     "name": "stderr",
     "output_type": "stream",
     "text": [
      "INFO:oc_logger:Function evaluation number: 22, SI: 1, Sub-iteration number: 1, FoM: 1.1043969913380138\n",
      "DEBUG:oc_logger:User running: True\n",
      "DEBUG:oc_logger:User running: True\n",
      "DEBUG:oc_logger:User running: True\n"
     ]
    },
    {
     "name": "stdout",
     "output_type": "stream",
     "text": [
      "Coeff of psi:  0.9169160212649006\n",
      "Coeff of psi_targ:  0.010132673541643615\n",
      "INFO     oc_logger    Function evaluation number: 23, SI: 1, Sub-iteration number: 1, FoM: 1.1040283318909268\n"
     ]
    },
    {
     "name": "stderr",
     "output_type": "stream",
     "text": [
      "INFO:oc_logger:Function evaluation number: 23, SI: 1, Sub-iteration number: 1, FoM: 1.1040283318909268\n",
      "DEBUG:oc_logger:User running: True\n",
      "DEBUG:oc_logger:User running: True\n",
      "DEBUG:oc_logger:User running: True\n",
      "DEBUG:oc_logger:User running: True\n"
     ]
    },
    {
     "name": "stdout",
     "output_type": "stream",
     "text": [
      "Coeff of psi:  0.9171497556781135\n",
      "Coeff of psi_targ:  0.011037996896205998\n",
      "INFO     oc_logger    New record achieved. Previous FoM: 1.1058171913593984, new best FoM : 1.1059534712437666\n"
     ]
    },
    {
     "name": "stderr",
     "output_type": "stream",
     "text": [
      "INFO:oc_logger:New record achieved. Previous FoM: 1.1058171913593984, new best FoM : 1.1059534712437666\n"
     ]
    },
    {
     "name": "stdout",
     "output_type": "stream",
     "text": [
      "INFO     oc_logger    Function evaluation number: 24, SI: 1, Sub-iteration number: 2, FoM: 1.1059534712437666\n"
     ]
    },
    {
     "name": "stderr",
     "output_type": "stream",
     "text": [
      "INFO:oc_logger:Function evaluation number: 24, SI: 1, Sub-iteration number: 2, FoM: 1.1059534712437666\n",
      "DEBUG:oc_logger:User running: True\n",
      "DEBUG:oc_logger:User running: True\n",
      "DEBUG:oc_logger:User running: True\n"
     ]
    },
    {
     "name": "stdout",
     "output_type": "stream",
     "text": [
      "Coeff of psi:  0.9171059063477512\n",
      "Coeff of psi_targ:  0.011933283385932187\n",
      "INFO     oc_logger    New record achieved. Previous FoM: 1.1059534712437666, new best FoM : 1.1084842065495002\n"
     ]
    },
    {
     "name": "stderr",
     "output_type": "stream",
     "text": [
      "INFO:oc_logger:New record achieved. Previous FoM: 1.1059534712437666, new best FoM : 1.1084842065495002\n"
     ]
    },
    {
     "name": "stdout",
     "output_type": "stream",
     "text": [
      "INFO     oc_logger    Function evaluation number: 25, SI: 1, Sub-iteration number: 2, FoM: 1.1084842065495002\n"
     ]
    },
    {
     "name": "stderr",
     "output_type": "stream",
     "text": [
      "INFO:oc_logger:Function evaluation number: 25, SI: 1, Sub-iteration number: 2, FoM: 1.1084842065495002\n",
      "DEBUG:oc_logger:User running: True\n",
      "DEBUG:oc_logger:User running: True\n",
      "DEBUG:oc_logger:User running: True\n",
      "DEBUG:oc_logger:User running: True\n"
     ]
    },
    {
     "name": "stdout",
     "output_type": "stream",
     "text": [
      "Coeff of psi:  0.9171698996993144\n",
      "Coeff of psi_targ:  0.011497391853186626\n",
      "INFO     oc_logger    Function evaluation number: 26, SI: 1, Sub-iteration number: 3, FoM: 1.1071831039978997\n"
     ]
    },
    {
     "name": "stderr",
     "output_type": "stream",
     "text": [
      "INFO:oc_logger:Function evaluation number: 26, SI: 1, Sub-iteration number: 3, FoM: 1.1071831039978997\n",
      "DEBUG:oc_logger:User running: True\n",
      "DEBUG:oc_logger:User running: True\n",
      "DEBUG:oc_logger:User running: True\n",
      "DEBUG:oc_logger:User running: True\n"
     ]
    },
    {
     "name": "stdout",
     "output_type": "stream",
     "text": [
      "Coeff of psi:  0.917536047411671\n",
      "Coeff of psi_targ:  0.012272776248081074\n",
      "INFO     oc_logger    New record achieved. Previous FoM: 1.1084842065495002, new best FoM : 1.1090304758328218\n"
     ]
    },
    {
     "name": "stderr",
     "output_type": "stream",
     "text": [
      "INFO:oc_logger:New record achieved. Previous FoM: 1.1084842065495002, new best FoM : 1.1090304758328218\n"
     ]
    },
    {
     "name": "stdout",
     "output_type": "stream",
     "text": [
      "INFO     oc_logger    Function evaluation number: 27, SI: 1, Sub-iteration number: 4, FoM: 1.1090304758328218\n"
     ]
    },
    {
     "name": "stderr",
     "output_type": "stream",
     "text": [
      "INFO:oc_logger:Function evaluation number: 27, SI: 1, Sub-iteration number: 4, FoM: 1.1090304758328218\n",
      "DEBUG:oc_logger:User running: True\n",
      "DEBUG:oc_logger:User running: True\n",
      "DEBUG:oc_logger:User running: True\n"
     ]
    },
    {
     "name": "stdout",
     "output_type": "stream",
     "text": [
      "Coeff of psi:  0.9180496358876529\n",
      "Coeff of psi_targ:  0.014423979387677418\n",
      "INFO     oc_logger    New record achieved. Previous FoM: 1.1090304758328218, new best FoM : 1.1154046358130316\n"
     ]
    },
    {
     "name": "stderr",
     "output_type": "stream",
     "text": [
      "INFO:oc_logger:New record achieved. Previous FoM: 1.1090304758328218, new best FoM : 1.1154046358130316\n"
     ]
    },
    {
     "name": "stdout",
     "output_type": "stream",
     "text": [
      "INFO     oc_logger    Function evaluation number: 28, SI: 1, Sub-iteration number: 4, FoM: 1.1154046358130316\n"
     ]
    },
    {
     "name": "stderr",
     "output_type": "stream",
     "text": [
      "INFO:oc_logger:Function evaluation number: 28, SI: 1, Sub-iteration number: 4, FoM: 1.1154046358130316\n",
      "DEBUG:oc_logger:User running: True\n",
      "DEBUG:oc_logger:User running: True\n",
      "DEBUG:oc_logger:User running: True\n",
      "DEBUG:oc_logger:User running: True\n"
     ]
    },
    {
     "name": "stdout",
     "output_type": "stream",
     "text": [
      "Coeff of psi:  0.9175122824918042\n",
      "Coeff of psi_targ:  0.012453393378920284\n",
      "INFO     oc_logger    Function evaluation number: 29, SI: 1, Sub-iteration number: 5, FoM: 1.1097151012040376\n"
     ]
    },
    {
     "name": "stderr",
     "output_type": "stream",
     "text": [
      "INFO:oc_logger:Function evaluation number: 29, SI: 1, Sub-iteration number: 5, FoM: 1.1097151012040376\n",
      "DEBUG:oc_logger:User running: True\n",
      "DEBUG:oc_logger:User running: True\n",
      "DEBUG:oc_logger:User running: True\n",
      "DEBUG:oc_logger:User running: True\n"
     ]
    },
    {
     "name": "stdout",
     "output_type": "stream",
     "text": [
      "Coeff of psi:  0.9178294246171835\n",
      "Coeff of psi_targ:  0.013339372135538912\n",
      "INFO     oc_logger    Function evaluation number: 30, SI: 1, Sub-iteration number: 6, FoM: 1.112013058355495\n"
     ]
    },
    {
     "name": "stderr",
     "output_type": "stream",
     "text": [
      "INFO:oc_logger:Function evaluation number: 30, SI: 1, Sub-iteration number: 6, FoM: 1.112013058355495\n",
      "DEBUG:oc_logger:User running: True\n",
      "DEBUG:oc_logger:User running: True\n",
      "DEBUG:oc_logger:User running: True\n",
      "DEBUG:oc_logger:User running: True\n"
     ]
    },
    {
     "name": "stdout",
     "output_type": "stream",
     "text": [
      "Coeff of psi:  0.9181222537166123\n",
      "Coeff of psi_targ:  0.013976133030983016\n",
      "INFO     oc_logger    Function evaluation number: 31, SI: 1, Sub-iteration number: 7, FoM: 1.1136507416594263\n"
     ]
    },
    {
     "name": "stderr",
     "output_type": "stream",
     "text": [
      "INFO:oc_logger:Function evaluation number: 31, SI: 1, Sub-iteration number: 7, FoM: 1.1136507416594263\n",
      "DEBUG:oc_logger:User running: True\n",
      "DEBUG:oc_logger:User running: True\n",
      "DEBUG:oc_logger:User running: True\n",
      "DEBUG:oc_logger:User running: True\n"
     ]
    },
    {
     "name": "stdout",
     "output_type": "stream",
     "text": [
      "Coeff of psi:  0.9182067590467227\n",
      "Coeff of psi_targ:  0.014477343328026152\n",
      "INFO     oc_logger    Function evaluation number: 32, SI: 1, Sub-iteration number: 8, FoM: 1.1152352324909973\n"
     ]
    },
    {
     "name": "stderr",
     "output_type": "stream",
     "text": [
      "INFO:oc_logger:Function evaluation number: 32, SI: 1, Sub-iteration number: 8, FoM: 1.1152352324909973\n",
      "DEBUG:oc_logger:User running: True\n",
      "DEBUG:oc_logger:User running: True\n",
      "DEBUG:oc_logger:User running: True\n",
      "DEBUG:oc_logger:User running: True\n"
     ]
    },
    {
     "name": "stdout",
     "output_type": "stream",
     "text": [
      "Coeff of psi:  0.918245567824483\n",
      "Coeff of psi_targ:  0.014788032334497669\n",
      "INFO     oc_logger    New record achieved. Previous FoM: 1.1154046358130316, new best FoM : 1.116438298176667\n"
     ]
    },
    {
     "name": "stderr",
     "output_type": "stream",
     "text": [
      "INFO:oc_logger:New record achieved. Previous FoM: 1.1154046358130316, new best FoM : 1.116438298176667\n"
     ]
    },
    {
     "name": "stdout",
     "output_type": "stream",
     "text": [
      "INFO     oc_logger    Function evaluation number: 33, SI: 1, Sub-iteration number: 9, FoM: 1.116438298176667\n"
     ]
    },
    {
     "name": "stderr",
     "output_type": "stream",
     "text": [
      "INFO:oc_logger:Function evaluation number: 33, SI: 1, Sub-iteration number: 9, FoM: 1.116438298176667\n",
      "DEBUG:oc_logger:User running: True\n",
      "DEBUG:oc_logger:User running: True\n",
      "DEBUG:oc_logger:User running: True\n"
     ]
    },
    {
     "name": "stdout",
     "output_type": "stream",
     "text": [
      "Coeff of psi:  0.9190329067635788\n",
      "Coeff of psi_targ:  0.017890376235298208\n",
      "INFO     oc_logger    New record achieved. Previous FoM: 1.116438298176667, new best FoM : 1.126430513177579\n"
     ]
    },
    {
     "name": "stderr",
     "output_type": "stream",
     "text": [
      "INFO:oc_logger:New record achieved. Previous FoM: 1.116438298176667, new best FoM : 1.126430513177579\n"
     ]
    },
    {
     "name": "stdout",
     "output_type": "stream",
     "text": [
      "INFO     oc_logger    Function evaluation number: 34, SI: 1, Sub-iteration number: 9, FoM: 1.126430513177579\n"
     ]
    },
    {
     "name": "stderr",
     "output_type": "stream",
     "text": [
      "INFO:oc_logger:Function evaluation number: 34, SI: 1, Sub-iteration number: 9, FoM: 1.126430513177579\n",
      "DEBUG:oc_logger:User running: True\n",
      "DEBUG:oc_logger:User running: True\n",
      "DEBUG:oc_logger:User running: True\n",
      "DEBUG:oc_logger:User running: True\n"
     ]
    },
    {
     "name": "stdout",
     "output_type": "stream",
     "text": [
      "Coeff of psi:  0.9179829394878346\n",
      "Coeff of psi_targ:  0.016034337913168897\n",
      "INFO     oc_logger    Function evaluation number: 35, SI: 1, Sub-iteration number: 10, FoM: 1.120867057254353\n"
     ]
    },
    {
     "name": "stderr",
     "output_type": "stream",
     "text": [
      "INFO:oc_logger:Function evaluation number: 35, SI: 1, Sub-iteration number: 10, FoM: 1.120867057254353\n",
      "DEBUG:oc_logger:User running: True\n",
      "DEBUG:oc_logger:User running: True\n",
      "DEBUG:oc_logger:User running: True\n",
      "DEBUG:oc_logger:User running: True\n"
     ]
    },
    {
     "name": "stdout",
     "output_type": "stream",
     "text": [
      "Coeff of psi:  0.9182140741827794\n",
      "Coeff of psi_targ:  0.017032632596083876\n",
      "INFO     oc_logger    Function evaluation number: 36, SI: 1, Sub-iteration number: 11, FoM: 1.124118425401377\n"
     ]
    },
    {
     "name": "stderr",
     "output_type": "stream",
     "text": [
      "INFO:oc_logger:Function evaluation number: 36, SI: 1, Sub-iteration number: 11, FoM: 1.124118425401377\n",
      "DEBUG:oc_logger:User running: True\n",
      "DEBUG:oc_logger:User running: True\n",
      "DEBUG:oc_logger:User running: True\n",
      "DEBUG:oc_logger:User running: True\n"
     ]
    },
    {
     "name": "stdout",
     "output_type": "stream",
     "text": [
      "Coeff of psi:  0.9176750545420012\n",
      "Coeff of psi_targ:  0.01824731098243491\n",
      "INFO     oc_logger    New record achieved. Previous FoM: 1.126430513177579, new best FoM : 1.1284815132191353\n"
     ]
    },
    {
     "name": "stderr",
     "output_type": "stream",
     "text": [
      "INFO:oc_logger:New record achieved. Previous FoM: 1.126430513177579, new best FoM : 1.1284815132191353\n"
     ]
    },
    {
     "name": "stdout",
     "output_type": "stream",
     "text": [
      "INFO     oc_logger    Function evaluation number: 37, SI: 1, Sub-iteration number: 12, FoM: 1.1284815132191353\n"
     ]
    },
    {
     "name": "stderr",
     "output_type": "stream",
     "text": [
      "INFO:oc_logger:Function evaluation number: 37, SI: 1, Sub-iteration number: 12, FoM: 1.1284815132191353\n",
      "DEBUG:oc_logger:User running: True\n",
      "DEBUG:oc_logger:User running: True\n",
      "DEBUG:oc_logger:User running: True\n"
     ]
    },
    {
     "name": "stdout",
     "output_type": "stream",
     "text": [
      "Coeff of psi:  0.916708095242871\n",
      "Coeff of psi_targ:  0.023686856651463695\n",
      "INFO     oc_logger    New record achieved. Previous FoM: 1.1284815132191353, new best FoM : 1.1476580114990376\n"
     ]
    },
    {
     "name": "stderr",
     "output_type": "stream",
     "text": [
      "INFO:oc_logger:New record achieved. Previous FoM: 1.1284815132191353, new best FoM : 1.1476580114990376\n"
     ]
    },
    {
     "name": "stdout",
     "output_type": "stream",
     "text": [
      "INFO     oc_logger    Function evaluation number: 38, SI: 1, Sub-iteration number: 12, FoM: 1.1476580114990376\n"
     ]
    },
    {
     "name": "stderr",
     "output_type": "stream",
     "text": [
      "INFO:oc_logger:Function evaluation number: 38, SI: 1, Sub-iteration number: 12, FoM: 1.1476580114990376\n",
      "DEBUG:oc_logger:User running: True\n",
      "DEBUG:oc_logger:User running: True\n",
      "DEBUG:oc_logger:User running: True\n",
      "DEBUG:oc_logger:User running: True\n"
     ]
    },
    {
     "name": "stdout",
     "output_type": "stream",
     "text": [
      "Coeff of psi:  0.9192548643466034\n",
      "Coeff of psi_targ:  0.020602212416282722\n",
      "INFO     oc_logger    Function evaluation number: 39, SI: 1, Sub-iteration number: 13, FoM: 1.1356564965582374\n"
     ]
    },
    {
     "name": "stderr",
     "output_type": "stream",
     "text": [
      "INFO:oc_logger:Function evaluation number: 39, SI: 1, Sub-iteration number: 13, FoM: 1.1356564965582374\n",
      "DEBUG:oc_logger:User running: True\n",
      "DEBUG:oc_logger:User running: True\n",
      "DEBUG:oc_logger:User running: True\n",
      "DEBUG:oc_logger:User running: True\n"
     ]
    },
    {
     "name": "stdout",
     "output_type": "stream",
     "text": [
      "Coeff of psi:  0.9200026917108247\n",
      "Coeff of psi_targ:  0.022063144655835157\n",
      "INFO     oc_logger    Function evaluation number: 40, SI: 1, Sub-iteration number: 14, FoM: 1.1399517211083998\n"
     ]
    },
    {
     "name": "stderr",
     "output_type": "stream",
     "text": [
      "INFO:oc_logger:Function evaluation number: 40, SI: 1, Sub-iteration number: 14, FoM: 1.1399517211083998\n",
      "DEBUG:oc_logger:User running: True\n",
      "DEBUG:oc_logger:User running: True\n",
      "DEBUG:oc_logger:User running: True\n",
      "DEBUG:oc_logger:User running: True\n"
     ]
    },
    {
     "name": "stdout",
     "output_type": "stream",
     "text": [
      "Coeff of psi:  0.9197187028366073\n",
      "Coeff of psi_targ:  0.02352893324307524\n",
      "INFO     oc_logger    Function evaluation number: 41, SI: 1, Sub-iteration number: 15, FoM: 1.1456182886606676\n"
     ]
    },
    {
     "name": "stderr",
     "output_type": "stream",
     "text": [
      "INFO:oc_logger:Function evaluation number: 41, SI: 1, Sub-iteration number: 15, FoM: 1.1456182886606676\n",
      "DEBUG:oc_logger:User running: True\n",
      "DEBUG:oc_logger:User running: True\n",
      "DEBUG:oc_logger:User running: True\n",
      "DEBUG:oc_logger:User running: True\n"
     ]
    },
    {
     "name": "stdout",
     "output_type": "stream",
     "text": [
      "Coeff of psi:  0.9193858867587734\n",
      "Coeff of psi_targ:  0.024444433427343804\n",
      "INFO     oc_logger    New record achieved. Previous FoM: 1.1476580114990376, new best FoM : 1.149209888740627\n"
     ]
    },
    {
     "name": "stderr",
     "output_type": "stream",
     "text": [
      "INFO:oc_logger:New record achieved. Previous FoM: 1.1476580114990376, new best FoM : 1.149209888740627\n"
     ]
    },
    {
     "name": "stdout",
     "output_type": "stream",
     "text": [
      "INFO     oc_logger    Function evaluation number: 42, SI: 1, Sub-iteration number: 16, FoM: 1.149209888740627\n"
     ]
    },
    {
     "name": "stderr",
     "output_type": "stream",
     "text": [
      "INFO:oc_logger:Function evaluation number: 42, SI: 1, Sub-iteration number: 16, FoM: 1.149209888740627\n",
      "DEBUG:oc_logger:User running: True\n",
      "DEBUG:oc_logger:User running: True\n",
      "DEBUG:oc_logger:User running: True\n"
     ]
    },
    {
     "name": "stdout",
     "output_type": "stream",
     "text": [
      "Coeff of psi:  0.9200992191599994\n",
      "Coeff of psi_targ:  0.03260702670138419\n",
      "INFO     oc_logger    New record achieved. Previous FoM: 1.149209888740627, new best FoM : 1.1783858842373318\n"
     ]
    },
    {
     "name": "stderr",
     "output_type": "stream",
     "text": [
      "INFO:oc_logger:New record achieved. Previous FoM: 1.149209888740627, new best FoM : 1.1783858842373318\n"
     ]
    },
    {
     "name": "stdout",
     "output_type": "stream",
     "text": [
      "INFO     oc_logger    Function evaluation number: 43, SI: 1, Sub-iteration number: 16, FoM: 1.1783858842373318\n"
     ]
    },
    {
     "name": "stderr",
     "output_type": "stream",
     "text": [
      "INFO:oc_logger:Function evaluation number: 43, SI: 1, Sub-iteration number: 16, FoM: 1.1783858842373318\n",
      "DEBUG:oc_logger:User running: True\n",
      "DEBUG:oc_logger:User running: True\n",
      "DEBUG:oc_logger:User running: True\n",
      "DEBUG:oc_logger:User running: True\n"
     ]
    },
    {
     "name": "stdout",
     "output_type": "stream",
     "text": [
      "Coeff of psi:  0.9189153021929515\n",
      "Coeff of psi_targ:  0.027561246554359205\n",
      "INFO     oc_logger    Function evaluation number: 44, SI: 1, Sub-iteration number: 17, FoM: 1.1605896587323479\n"
     ]
    },
    {
     "name": "stderr",
     "output_type": "stream",
     "text": [
      "INFO:oc_logger:Function evaluation number: 44, SI: 1, Sub-iteration number: 17, FoM: 1.1605896587323479\n",
      "DEBUG:oc_logger:User running: True\n",
      "DEBUG:oc_logger:User running: True\n",
      "DEBUG:oc_logger:User running: True\n",
      "DEBUG:oc_logger:User running: True\n"
     ]
    },
    {
     "name": "stdout",
     "output_type": "stream",
     "text": [
      "Coeff of psi:  0.918864855536199\n",
      "Coeff of psi_targ:  0.030075691209367626\n",
      "INFO     oc_logger    Function evaluation number: 45, SI: 1, Sub-iteration number: 18, FoM: 1.1696909634215593\n"
     ]
    },
    {
     "name": "stderr",
     "output_type": "stream",
     "text": [
      "INFO:oc_logger:Function evaluation number: 45, SI: 1, Sub-iteration number: 18, FoM: 1.1696909634215593\n",
      "DEBUG:oc_logger:User running: True\n",
      "DEBUG:oc_logger:User running: True\n",
      "DEBUG:oc_logger:User running: True\n",
      "DEBUG:oc_logger:User running: True\n"
     ]
    },
    {
     "name": "stdout",
     "output_type": "stream",
     "text": [
      "Coeff of psi:  0.9195796284041615\n",
      "Coeff of psi_targ:  0.03453747038563234\n",
      "INFO     oc_logger    New record achieved. Previous FoM: 1.1783858842373318, new best FoM : 1.1856054197228985\n"
     ]
    },
    {
     "name": "stderr",
     "output_type": "stream",
     "text": [
      "INFO:oc_logger:New record achieved. Previous FoM: 1.1783858842373318, new best FoM : 1.1856054197228985\n"
     ]
    },
    {
     "name": "stdout",
     "output_type": "stream",
     "text": [
      "INFO     oc_logger    Function evaluation number: 46, SI: 1, Sub-iteration number: 19, FoM: 1.1856054197228985\n"
     ]
    },
    {
     "name": "stderr",
     "output_type": "stream",
     "text": [
      "INFO:oc_logger:Function evaluation number: 46, SI: 1, Sub-iteration number: 19, FoM: 1.1856054197228985\n",
      "DEBUG:oc_logger:User running: True\n",
      "DEBUG:oc_logger:User running: True\n",
      "DEBUG:oc_logger:User running: True\n"
     ]
    },
    {
     "name": "stdout",
     "output_type": "stream",
     "text": [
      "Coeff of psi:  0.9199090224543656\n",
      "Coeff of psi_targ:  0.05001529194885114\n",
      "INFO     oc_logger    New record achieved. Previous FoM: 1.1856054197228985, new best FoM : 1.24273576058863\n"
     ]
    },
    {
     "name": "stderr",
     "output_type": "stream",
     "text": [
      "INFO:oc_logger:New record achieved. Previous FoM: 1.1856054197228985, new best FoM : 1.24273576058863\n"
     ]
    },
    {
     "name": "stdout",
     "output_type": "stream",
     "text": [
      "INFO     oc_logger    Function evaluation number: 47, SI: 1, Sub-iteration number: 19, FoM: 1.24273576058863\n"
     ]
    },
    {
     "name": "stderr",
     "output_type": "stream",
     "text": [
      "INFO:oc_logger:Function evaluation number: 47, SI: 1, Sub-iteration number: 19, FoM: 1.24273576058863\n",
      "DEBUG:oc_logger:User running: True\n",
      "DEBUG:oc_logger:User running: True\n",
      "DEBUG:oc_logger:User running: True\n",
      "DEBUG:oc_logger:User running: True\n"
     ]
    },
    {
     "name": "stdout",
     "output_type": "stream",
     "text": [
      "Coeff of psi:  0.9207922519415754\n",
      "Coeff of psi_targ:  0.039009667990144055\n",
      "INFO     oc_logger    Function evaluation number: 48, SI: 1, Sub-iteration number: 20, FoM: 1.2014785988623382\n"
     ]
    },
    {
     "name": "stderr",
     "output_type": "stream",
     "text": [
      "INFO:oc_logger:Function evaluation number: 48, SI: 1, Sub-iteration number: 20, FoM: 1.2014785988623382\n",
      "DEBUG:oc_logger:User running: True\n",
      "DEBUG:oc_logger:User running: True\n",
      "DEBUG:oc_logger:User running: True\n",
      "DEBUG:oc_logger:User running: True\n"
     ]
    },
    {
     "name": "stdout",
     "output_type": "stream",
     "text": [
      "Coeff of psi:  0.9210274083350577\n",
      "Coeff of psi_targ:  0.042868981585089914\n",
      "INFO     oc_logger    Function evaluation number: 49, SI: 1, Sub-iteration number: 21, FoM: 1.2157385005003019\n"
     ]
    },
    {
     "name": "stderr",
     "output_type": "stream",
     "text": [
      "INFO:oc_logger:Function evaluation number: 49, SI: 1, Sub-iteration number: 21, FoM: 1.2157385005003019\n",
      "DEBUG:oc_logger:User running: True\n",
      "DEBUG:oc_logger:User running: True\n",
      "DEBUG:oc_logger:User running: True\n",
      "DEBUG:oc_logger:User running: True\n"
     ]
    },
    {
     "name": "stdout",
     "output_type": "stream",
     "text": [
      "Coeff of psi:  0.9192036196189082\n",
      "Coeff of psi_targ:  0.04781074271230942\n",
      "INFO     oc_logger    Function evaluation number: 50, SI: 1, Sub-iteration number: 22, FoM: 1.235031900449583\n"
     ]
    },
    {
     "name": "stderr",
     "output_type": "stream",
     "text": [
      "INFO:oc_logger:Function evaluation number: 50, SI: 1, Sub-iteration number: 22, FoM: 1.235031900449583\n",
      "DEBUG:oc_logger:User running: True\n",
      "DEBUG:oc_logger:User running: True\n",
      "DEBUG:oc_logger:User running: True\n",
      "DEBUG:oc_logger:User running: True\n"
     ]
    },
    {
     "name": "stdout",
     "output_type": "stream",
     "text": [
      "Coeff of psi:  0.9191340853474383\n",
      "Coeff of psi_targ:  0.049607819405591926\n",
      "INFO     oc_logger    Function evaluation number: 51, SI: 1, Sub-iteration number: 23, FoM: 1.2416176290834953\n"
     ]
    },
    {
     "name": "stderr",
     "output_type": "stream",
     "text": [
      "INFO:oc_logger:Function evaluation number: 51, SI: 1, Sub-iteration number: 23, FoM: 1.2416176290834953\n",
      "DEBUG:oc_logger:User running: True\n",
      "DEBUG:oc_logger:User running: True\n",
      "DEBUG:oc_logger:User running: True\n",
      "DEBUG:oc_logger:User running: True\n"
     ]
    },
    {
     "name": "stdout",
     "output_type": "stream",
     "text": [
      "Coeff of psi:  0.9163855619861684\n",
      "Coeff of psi_targ:  0.05411683498287205\n",
      "INFO     oc_logger    New record achieved. Previous FoM: 1.24273576058863, new best FoM : 1.258614197102907\n"
     ]
    },
    {
     "name": "stderr",
     "output_type": "stream",
     "text": [
      "INFO:oc_logger:New record achieved. Previous FoM: 1.24273576058863, new best FoM : 1.258614197102907\n"
     ]
    },
    {
     "name": "stdout",
     "output_type": "stream",
     "text": [
      "INFO     oc_logger    Function evaluation number: 52, SI: 1, Sub-iteration number: 24, FoM: 1.258614197102907\n"
     ]
    },
    {
     "name": "stderr",
     "output_type": "stream",
     "text": [
      "INFO:oc_logger:Function evaluation number: 52, SI: 1, Sub-iteration number: 24, FoM: 1.258614197102907\n",
      "DEBUG:oc_logger:User running: True\n",
      "DEBUG:oc_logger:User running: True\n",
      "DEBUG:oc_logger:User running: True\n"
     ]
    },
    {
     "name": "stdout",
     "output_type": "stream",
     "text": [
      "Coeff of psi:  0.9109155405967055\n",
      "Coeff of psi_targ:  0.0765617759147354\n",
      "INFO     oc_logger    New record achieved. Previous FoM: 1.258614197102907, new best FoM : 1.3426872547823487\n"
     ]
    },
    {
     "name": "stderr",
     "output_type": "stream",
     "text": [
      "INFO:oc_logger:New record achieved. Previous FoM: 1.258614197102907, new best FoM : 1.3426872547823487\n"
     ]
    },
    {
     "name": "stdout",
     "output_type": "stream",
     "text": [
      "INFO     oc_logger    Function evaluation number: 53, SI: 1, Sub-iteration number: 24, FoM: 1.3426872547823487\n"
     ]
    },
    {
     "name": "stderr",
     "output_type": "stream",
     "text": [
      "INFO:oc_logger:Function evaluation number: 53, SI: 1, Sub-iteration number: 24, FoM: 1.3426872547823487\n",
      "DEBUG:oc_logger:User running: True\n",
      "DEBUG:oc_logger:User running: True\n",
      "DEBUG:oc_logger:User running: True\n",
      "DEBUG:oc_logger:User running: True\n"
     ]
    },
    {
     "name": "stdout",
     "output_type": "stream",
     "text": [
      "Coeff of psi:  0.9156763031384666\n",
      "Coeff of psi_targ:  0.06369608145742314\n",
      "INFO     oc_logger    Function evaluation number: 54, SI: 1, Sub-iteration number: 25, FoM: 1.2945851845400886\n"
     ]
    },
    {
     "name": "stderr",
     "output_type": "stream",
     "text": [
      "INFO:oc_logger:Function evaluation number: 54, SI: 1, Sub-iteration number: 25, FoM: 1.2945851845400886\n",
      "DEBUG:oc_logger:User running: True\n",
      "DEBUG:oc_logger:User running: True\n",
      "DEBUG:oc_logger:User running: True\n",
      "DEBUG:oc_logger:User running: True\n"
     ]
    },
    {
     "name": "stdout",
     "output_type": "stream",
     "text": [
      "Coeff of psi:  0.9230612916041764\n",
      "Coeff of psi_targ:  0.07425834895311596\n",
      "INFO     oc_logger    Function evaluation number: 55, SI: 1, Sub-iteration number: 26, FoM: 1.3331045553510206\n"
     ]
    },
    {
     "name": "stderr",
     "output_type": "stream",
     "text": [
      "INFO:oc_logger:Function evaluation number: 55, SI: 1, Sub-iteration number: 26, FoM: 1.3331045553510206\n",
      "DEBUG:oc_logger:User running: True\n",
      "DEBUG:oc_logger:User running: True\n",
      "DEBUG:oc_logger:User running: True\n",
      "DEBUG:oc_logger:User running: True\n"
     ]
    },
    {
     "name": "stdout",
     "output_type": "stream",
     "text": [
      "Coeff of psi:  0.9192343479857062\n",
      "Coeff of psi_targ:  0.07868511546531436\n",
      "INFO     oc_logger    New record achieved. Previous FoM: 1.3426872547823487, new best FoM : 1.3510574783021798\n"
     ]
    },
    {
     "name": "stderr",
     "output_type": "stream",
     "text": [
      "INFO:oc_logger:New record achieved. Previous FoM: 1.3426872547823487, new best FoM : 1.3510574783021798\n"
     ]
    },
    {
     "name": "stdout",
     "output_type": "stream",
     "text": [
      "INFO     oc_logger    Function evaluation number: 56, SI: 1, Sub-iteration number: 27, FoM: 1.3510574783021798\n"
     ]
    },
    {
     "name": "stderr",
     "output_type": "stream",
     "text": [
      "INFO:oc_logger:Function evaluation number: 56, SI: 1, Sub-iteration number: 27, FoM: 1.3510574783021798\n",
      "DEBUG:oc_logger:User running: True\n",
      "DEBUG:oc_logger:User running: True\n",
      "DEBUG:oc_logger:User running: True\n"
     ]
    },
    {
     "name": "stdout",
     "output_type": "stream",
     "text": [
      "Coeff of psi:  0.9189410355149329\n",
      "Coeff of psi_targ:  0.11432803632366292\n",
      "INFO     oc_logger    New record achieved. Previous FoM: 1.3510574783021798, new best FoM : 1.4874717915834363\n"
     ]
    },
    {
     "name": "stderr",
     "output_type": "stream",
     "text": [
      "INFO:oc_logger:New record achieved. Previous FoM: 1.3510574783021798, new best FoM : 1.4874717915834363\n"
     ]
    },
    {
     "name": "stdout",
     "output_type": "stream",
     "text": [
      "INFO     oc_logger    Function evaluation number: 57, SI: 1, Sub-iteration number: 27, FoM: 1.4874717915834363\n"
     ]
    },
    {
     "name": "stderr",
     "output_type": "stream",
     "text": [
      "INFO:oc_logger:Function evaluation number: 57, SI: 1, Sub-iteration number: 27, FoM: 1.4874717915834363\n",
      "DEBUG:oc_logger:User running: True\n",
      "DEBUG:oc_logger:User running: True\n",
      "DEBUG:oc_logger:User running: True\n",
      "DEBUG:oc_logger:User running: True\n"
     ]
    },
    {
     "name": "stdout",
     "output_type": "stream",
     "text": [
      "Coeff of psi:  0.9195857794118715\n",
      "Coeff of psi_targ:  0.09346439176045537\n",
      "INFO     oc_logger    Function evaluation number: 58, SI: 1, Sub-iteration number: 28, FoM: 1.4076797370799812\n"
     ]
    },
    {
     "name": "stderr",
     "output_type": "stream",
     "text": [
      "INFO:oc_logger:Function evaluation number: 58, SI: 1, Sub-iteration number: 28, FoM: 1.4076797370799812\n",
      "DEBUG:oc_logger:User running: True\n",
      "DEBUG:oc_logger:User running: True\n",
      "DEBUG:oc_logger:User running: True\n",
      "DEBUG:oc_logger:User running: True\n"
     ]
    },
    {
     "name": "stdout",
     "output_type": "stream",
     "text": [
      "Coeff of psi:  0.9162577992797476\n",
      "Coeff of psi_targ:  0.1043079822114161\n",
      "INFO     oc_logger    Function evaluation number: 59, SI: 1, Sub-iteration number: 29, FoM: 1.4490513775520408\n"
     ]
    },
    {
     "name": "stderr",
     "output_type": "stream",
     "text": [
      "INFO:oc_logger:Function evaluation number: 59, SI: 1, Sub-iteration number: 29, FoM: 1.4490513775520408\n",
      "DEBUG:oc_logger:User running: True\n",
      "DEBUG:oc_logger:User running: True\n",
      "DEBUG:oc_logger:User running: True\n",
      "DEBUG:oc_logger:User running: True\n"
     ]
    },
    {
     "name": "stdout",
     "output_type": "stream",
     "text": [
      "Coeff of psi:  0.9139129918256743\n",
      "Coeff of psi_targ:  0.10917859898207377\n",
      "INFO     oc_logger    Function evaluation number: 60, SI: 1, Sub-iteration number: 30, FoM: 1.467647487926207\n"
     ]
    },
    {
     "name": "stderr",
     "output_type": "stream",
     "text": [
      "INFO:oc_logger:Function evaluation number: 60, SI: 1, Sub-iteration number: 30, FoM: 1.467647487926207\n",
      "DEBUG:oc_logger:User running: True\n",
      "DEBUG:oc_logger:User running: True\n",
      "DEBUG:oc_logger:User running: True\n",
      "DEBUG:oc_logger:User running: True\n"
     ]
    },
    {
     "name": "stdout",
     "output_type": "stream",
     "text": [
      "Coeff of psi:  0.9114868021412937\n",
      "Coeff of psi_targ:  0.11902267113003986\n",
      "INFO     oc_logger    New record achieved. Previous FoM: 1.4874717915834363, new best FoM : 1.5047734493385345\n"
     ]
    },
    {
     "name": "stderr",
     "output_type": "stream",
     "text": [
      "INFO:oc_logger:New record achieved. Previous FoM: 1.4874717915834363, new best FoM : 1.5047734493385345\n"
     ]
    },
    {
     "name": "stdout",
     "output_type": "stream",
     "text": [
      "INFO     oc_logger    Function evaluation number: 61, SI: 1, Sub-iteration number: 31, FoM: 1.5047734493385345\n"
     ]
    },
    {
     "name": "stderr",
     "output_type": "stream",
     "text": [
      "INFO:oc_logger:Function evaluation number: 61, SI: 1, Sub-iteration number: 31, FoM: 1.5047734493385345\n",
      "DEBUG:oc_logger:User running: True\n",
      "DEBUG:oc_logger:User running: True\n",
      "DEBUG:oc_logger:User running: True\n"
     ]
    },
    {
     "name": "stdout",
     "output_type": "stream",
     "text": [
      "Coeff of psi:  0.9026720195686176\n",
      "Coeff of psi_targ:  0.16778180307385507\n",
      "INFO     oc_logger    New record achieved. Previous FoM: 1.5047734493385345, new best FoM : 1.6891974836669705\n"
     ]
    },
    {
     "name": "stderr",
     "output_type": "stream",
     "text": [
      "INFO:oc_logger:New record achieved. Previous FoM: 1.5047734493385345, new best FoM : 1.6891974836669705\n"
     ]
    },
    {
     "name": "stdout",
     "output_type": "stream",
     "text": [
      "INFO     oc_logger    Function evaluation number: 62, SI: 1, Sub-iteration number: 31, FoM: 1.6891974836669705\n"
     ]
    },
    {
     "name": "stderr",
     "output_type": "stream",
     "text": [
      "INFO:oc_logger:Function evaluation number: 62, SI: 1, Sub-iteration number: 31, FoM: 1.6891974836669705\n",
      "DEBUG:oc_logger:User running: True\n",
      "DEBUG:oc_logger:User running: True\n",
      "DEBUG:oc_logger:User running: True\n",
      "DEBUG:oc_logger:User running: True\n"
     ]
    },
    {
     "name": "stdout",
     "output_type": "stream",
     "text": [
      "Coeff of psi:  0.9125104670084058\n",
      "Coeff of psi_targ:  0.13800848895279777\n",
      "INFO     oc_logger    Function evaluation number: 63, SI: 1, Sub-iteration number: 32, FoM: 1.577482615011652\n"
     ]
    },
    {
     "name": "stderr",
     "output_type": "stream",
     "text": [
      "INFO:oc_logger:Function evaluation number: 63, SI: 1, Sub-iteration number: 32, FoM: 1.577482615011652\n",
      "DEBUG:oc_logger:User running: True\n",
      "DEBUG:oc_logger:User running: True\n",
      "DEBUG:oc_logger:User running: True\n",
      "DEBUG:oc_logger:User running: True\n"
     ]
    },
    {
     "name": "stdout",
     "output_type": "stream",
     "text": [
      "Coeff of psi:  0.9108602957278458\n",
      "Coeff of psi_targ:  0.1566909681466878\n",
      "INFO     oc_logger    Function evaluation number: 64, SI: 1, Sub-iteration number: 33, FoM: 1.6488998739233258\n"
     ]
    },
    {
     "name": "stderr",
     "output_type": "stream",
     "text": [
      "INFO:oc_logger:Function evaluation number: 64, SI: 1, Sub-iteration number: 33, FoM: 1.6488998739233258\n",
      "DEBUG:oc_logger:User running: True\n",
      "DEBUG:oc_logger:User running: True\n",
      "DEBUG:oc_logger:User running: True\n",
      "DEBUG:oc_logger:User running: True\n"
     ]
    },
    {
     "name": "stdout",
     "output_type": "stream",
     "text": [
      "Coeff of psi:  0.9063861678237074\n",
      "Coeff of psi_targ:  0.18186937358973615\n",
      "INFO     oc_logger    New record achieved. Previous FoM: 1.6891974836669705, new best FoM : 1.7447072427479449\n"
     ]
    },
    {
     "name": "stderr",
     "output_type": "stream",
     "text": [
      "INFO:oc_logger:New record achieved. Previous FoM: 1.6891974836669705, new best FoM : 1.7447072427479449\n"
     ]
    },
    {
     "name": "stdout",
     "output_type": "stream",
     "text": [
      "INFO     oc_logger    Function evaluation number: 65, SI: 1, Sub-iteration number: 34, FoM: 1.7447072427479449\n"
     ]
    },
    {
     "name": "stderr",
     "output_type": "stream",
     "text": [
      "INFO:oc_logger:Function evaluation number: 65, SI: 1, Sub-iteration number: 34, FoM: 1.7447072427479449\n",
      "DEBUG:oc_logger:User running: True\n",
      "DEBUG:oc_logger:User running: True\n",
      "DEBUG:oc_logger:User running: True\n"
     ]
    },
    {
     "name": "stdout",
     "output_type": "stream",
     "text": [
      "Coeff of psi:  0.8983739136187732\n",
      "Coeff of psi_targ:  0.26242877147124716\n",
      "INFO     oc_logger    New record achieved. Previous FoM: 1.7447072427479449, new best FoM : 2.048057493839308\n"
     ]
    },
    {
     "name": "stderr",
     "output_type": "stream",
     "text": [
      "INFO:oc_logger:New record achieved. Previous FoM: 1.7447072427479449, new best FoM : 2.048057493839308\n"
     ]
    },
    {
     "name": "stdout",
     "output_type": "stream",
     "text": [
      "INFO     oc_logger    Function evaluation number: 66, SI: 1, Sub-iteration number: 34, FoM: 2.048057493839308\n"
     ]
    },
    {
     "name": "stderr",
     "output_type": "stream",
     "text": [
      "INFO:oc_logger:Function evaluation number: 66, SI: 1, Sub-iteration number: 34, FoM: 2.048057493839308\n",
      "DEBUG:oc_logger:User running: True\n",
      "DEBUG:oc_logger:User running: True\n",
      "DEBUG:oc_logger:User running: True\n",
      "DEBUG:oc_logger:User running: True\n"
     ]
    },
    {
     "name": "stdout",
     "output_type": "stream",
     "text": [
      "Coeff of psi:  0.911994408179561\n",
      "Coeff of psi_targ:  0.20440787019339876\n",
      "INFO     oc_logger    Function evaluation number: 67, SI: 1, Sub-iteration number: 35, FoM: 1.8328916305391045\n"
     ]
    },
    {
     "name": "stderr",
     "output_type": "stream",
     "text": [
      "INFO:oc_logger:Function evaluation number: 67, SI: 1, Sub-iteration number: 35, FoM: 1.8328916305391045\n",
      "DEBUG:oc_logger:User running: True\n",
      "DEBUG:oc_logger:User running: True\n",
      "DEBUG:oc_logger:User running: True\n",
      "DEBUG:oc_logger:User running: True\n"
     ]
    },
    {
     "name": "stdout",
     "output_type": "stream",
     "text": [
      "Coeff of psi:  0.8932802203531245\n",
      "Coeff of psi_targ:  0.2164792973835227\n",
      "INFO     oc_logger    Function evaluation number: 68, SI: 1, Sub-iteration number: 36, FoM: 1.8716008633377554\n"
     ]
    },
    {
     "name": "stderr",
     "output_type": "stream",
     "text": [
      "INFO:oc_logger:Function evaluation number: 68, SI: 1, Sub-iteration number: 36, FoM: 1.8716008633377554\n",
      "DEBUG:oc_logger:User running: True\n",
      "DEBUG:oc_logger:User running: True\n",
      "DEBUG:oc_logger:User running: True\n",
      "DEBUG:oc_logger:User running: True\n"
     ]
    },
    {
     "name": "stdout",
     "output_type": "stream",
     "text": [
      "Coeff of psi:  0.9144796760789957\n",
      "Coeff of psi_targ:  0.2477108131404433\n",
      "INFO     oc_logger    Function evaluation number: 69, SI: 1, Sub-iteration number: 37, FoM: 2.000423295707133\n"
     ]
    },
    {
     "name": "stderr",
     "output_type": "stream",
     "text": [
      "INFO:oc_logger:Function evaluation number: 69, SI: 1, Sub-iteration number: 37, FoM: 2.000423295707133\n",
      "DEBUG:oc_logger:User running: True\n",
      "DEBUG:oc_logger:User running: True\n",
      "DEBUG:oc_logger:User running: True\n",
      "DEBUG:oc_logger:User running: True\n"
     ]
    },
    {
     "name": "stdout",
     "output_type": "stream",
     "text": [
      "Coeff of psi:  0.8972682975189168\n",
      "Coeff of psi_targ:  0.2557888425416488\n",
      "INFO     oc_logger    Function evaluation number: 70, SI: 1, Sub-iteration number: 38, FoM: 2.0218040812299765\n"
     ]
    },
    {
     "name": "stderr",
     "output_type": "stream",
     "text": [
      "INFO:oc_logger:Function evaluation number: 70, SI: 1, Sub-iteration number: 38, FoM: 2.0218040812299765\n",
      "DEBUG:oc_logger:User running: True\n",
      "DEBUG:oc_logger:User running: True\n",
      "DEBUG:oc_logger:User running: True\n",
      "DEBUG:oc_logger:User running: True\n"
     ]
    },
    {
     "name": "stdout",
     "output_type": "stream",
     "text": [
      "Coeff of psi:  0.8995388805518475\n",
      "Coeff of psi_targ:  0.27475074023821233\n",
      "INFO     oc_logger    New record achieved. Previous FoM: 2.048057493839308, new best FoM : 2.0948594364818636\n"
     ]
    },
    {
     "name": "stderr",
     "output_type": "stream",
     "text": [
      "INFO:oc_logger:New record achieved. Previous FoM: 2.048057493839308, new best FoM : 2.0948594364818636\n"
     ]
    },
    {
     "name": "stdout",
     "output_type": "stream",
     "text": [
      "INFO     oc_logger    Function evaluation number: 71, SI: 1, Sub-iteration number: 39, FoM: 2.0948594364818636\n"
     ]
    },
    {
     "name": "stderr",
     "output_type": "stream",
     "text": [
      "INFO:oc_logger:Function evaluation number: 71, SI: 1, Sub-iteration number: 39, FoM: 2.0948594364818636\n",
      "DEBUG:oc_logger:User running: True\n",
      "DEBUG:oc_logger:User running: True\n",
      "DEBUG:oc_logger:User running: True\n"
     ]
    },
    {
     "name": "stdout",
     "output_type": "stream",
     "text": [
      "Coeff of psi:  0.8999316587782892\n",
      "Coeff of psi_targ:  0.35946733245167367\n",
      "INFO     oc_logger    New record achieved. Previous FoM: 2.0948594364818636, new best FoM : 2.406777534438512\n"
     ]
    },
    {
     "name": "stderr",
     "output_type": "stream",
     "text": [
      "INFO:oc_logger:New record achieved. Previous FoM: 2.0948594364818636, new best FoM : 2.406777534438512\n"
     ]
    },
    {
     "name": "stdout",
     "output_type": "stream",
     "text": [
      "INFO     oc_logger    Function evaluation number: 72, SI: 1, Sub-iteration number: 39, FoM: 2.406777534438512\n"
     ]
    },
    {
     "name": "stderr",
     "output_type": "stream",
     "text": [
      "INFO:oc_logger:Function evaluation number: 72, SI: 1, Sub-iteration number: 39, FoM: 2.406777534438512\n",
      "DEBUG:oc_logger:User running: True\n",
      "DEBUG:oc_logger:User running: True\n",
      "DEBUG:oc_logger:User running: True\n",
      "DEBUG:oc_logger:User running: True\n"
     ]
    },
    {
     "name": "stdout",
     "output_type": "stream",
     "text": [
      "Coeff of psi:  0.90188741327662\n",
      "Coeff of psi_targ:  0.32062840103260914\n",
      "INFO     oc_logger    Function evaluation number: 73, SI: 1, Sub-iteration number: 40, FoM: 2.267461997585662\n"
     ]
    },
    {
     "name": "stderr",
     "output_type": "stream",
     "text": [
      "INFO:oc_logger:Function evaluation number: 73, SI: 1, Sub-iteration number: 40, FoM: 2.267461997585662\n",
      "DEBUG:oc_logger:User running: True\n",
      "DEBUG:oc_logger:User running: True\n",
      "DEBUG:oc_logger:User running: True\n",
      "DEBUG:oc_logger:User running: True\n"
     ]
    },
    {
     "name": "stdout",
     "output_type": "stream",
     "text": [
      "Coeff of psi:  0.8930886001120737\n",
      "Coeff of psi_targ:  0.3523182252331925\n",
      "INFO     oc_logger    Function evaluation number: 74, SI: 1, Sub-iteration number: 41, FoM: 2.374640000581099\n"
     ]
    },
    {
     "name": "stderr",
     "output_type": "stream",
     "text": [
      "INFO:oc_logger:Function evaluation number: 74, SI: 1, Sub-iteration number: 41, FoM: 2.374640000581099\n",
      "DEBUG:oc_logger:User running: True\n",
      "DEBUG:oc_logger:User running: True\n",
      "DEBUG:oc_logger:User running: True\n",
      "DEBUG:oc_logger:User running: True\n"
     ]
    },
    {
     "name": "stdout",
     "output_type": "stream",
     "text": [
      "Coeff of psi:  0.8995319368153638\n",
      "Coeff of psi_targ:  0.36880836595075117\n",
      "INFO     oc_logger    New record achieved. Previous FoM: 2.406777534438512, new best FoM : 2.4396314282802574\n"
     ]
    },
    {
     "name": "stderr",
     "output_type": "stream",
     "text": [
      "INFO:oc_logger:New record achieved. Previous FoM: 2.406777534438512, new best FoM : 2.4396314282802574\n"
     ]
    },
    {
     "name": "stdout",
     "output_type": "stream",
     "text": [
      "INFO     oc_logger    Function evaluation number: 75, SI: 1, Sub-iteration number: 42, FoM: 2.4396314282802574\n"
     ]
    },
    {
     "name": "stderr",
     "output_type": "stream",
     "text": [
      "INFO:oc_logger:Function evaluation number: 75, SI: 1, Sub-iteration number: 42, FoM: 2.4396314282802574\n",
      "DEBUG:oc_logger:User running: True\n",
      "DEBUG:oc_logger:User running: True\n",
      "DEBUG:oc_logger:User running: True\n"
     ]
    },
    {
     "name": "stdout",
     "output_type": "stream",
     "text": [
      "Coeff of psi:  0.9247127234698037\n",
      "Coeff of psi_targ:  0.4522551244414972\n",
      "INFO     oc_logger    New record achieved. Previous FoM: 2.4396314282802574, new best FoM : 2.7348764876768676\n"
     ]
    },
    {
     "name": "stderr",
     "output_type": "stream",
     "text": [
      "INFO:oc_logger:New record achieved. Previous FoM: 2.4396314282802574, new best FoM : 2.7348764876768676\n"
     ]
    },
    {
     "name": "stdout",
     "output_type": "stream",
     "text": [
      "INFO     oc_logger    Function evaluation number: 76, SI: 1, Sub-iteration number: 42, FoM: 2.7348764876768676\n"
     ]
    },
    {
     "name": "stderr",
     "output_type": "stream",
     "text": [
      "INFO:oc_logger:Function evaluation number: 76, SI: 1, Sub-iteration number: 42, FoM: 2.7348764876768676\n",
      "DEBUG:oc_logger:User running: True\n",
      "DEBUG:oc_logger:User running: True\n",
      "DEBUG:oc_logger:User running: True\n",
      "DEBUG:oc_logger:User running: True\n"
     ]
    },
    {
     "name": "stdout",
     "output_type": "stream",
     "text": [
      "Coeff of psi:  0.9052530448983493\n",
      "Coeff of psi_targ:  0.4068359971500738\n",
      "INFO     oc_logger    Function evaluation number: 77, SI: 1, Sub-iteration number: 43, FoM: 2.5749515518610067\n"
     ]
    },
    {
     "name": "stderr",
     "output_type": "stream",
     "text": [
      "INFO:oc_logger:Function evaluation number: 77, SI: 1, Sub-iteration number: 43, FoM: 2.5749515518610067\n",
      "DEBUG:oc_logger:User running: True\n",
      "DEBUG:oc_logger:User running: True\n",
      "DEBUG:oc_logger:User running: True\n",
      "DEBUG:oc_logger:User running: True\n"
     ]
    },
    {
     "name": "stdout",
     "output_type": "stream",
     "text": [
      "Coeff of psi:  0.9222176154414057\n",
      "Coeff of psi_targ:  0.43599252231105196\n",
      "INFO     oc_logger    Function evaluation number: 78, SI: 1, Sub-iteration number: 44, FoM: 2.68918591813799\n"
     ]
    },
    {
     "name": "stderr",
     "output_type": "stream",
     "text": [
      "INFO:oc_logger:Function evaluation number: 78, SI: 1, Sub-iteration number: 44, FoM: 2.68918591813799\n",
      "DEBUG:oc_logger:User running: True\n",
      "DEBUG:oc_logger:User running: True\n",
      "DEBUG:oc_logger:User running: True\n",
      "DEBUG:oc_logger:User running: True\n"
     ]
    },
    {
     "name": "stdout",
     "output_type": "stream",
     "text": [
      "Coeff of psi:  0.9147887845868399\n",
      "Coeff of psi_targ:  0.44151279474187255\n",
      "INFO     oc_logger    Function evaluation number: 79, SI: 1, Sub-iteration number: 45, FoM: 2.6909856133466525\n"
     ]
    },
    {
     "name": "stderr",
     "output_type": "stream",
     "text": [
      "INFO:oc_logger:Function evaluation number: 79, SI: 1, Sub-iteration number: 45, FoM: 2.6909856133466525\n",
      "DEBUG:oc_logger:User running: True\n",
      "DEBUG:oc_logger:User running: True\n",
      "DEBUG:oc_logger:User running: True\n",
      "DEBUG:oc_logger:User running: True\n"
     ]
    },
    {
     "name": "stdout",
     "output_type": "stream",
     "text": [
      "Coeff of psi:  0.9408210015926372\n",
      "Coeff of psi_targ:  0.4648216215309492\n",
      "INFO     oc_logger    New record achieved. Previous FoM: 2.7348764876768676, new best FoM : 2.795159869528098\n"
     ]
    },
    {
     "name": "stderr",
     "output_type": "stream",
     "text": [
      "INFO:oc_logger:New record achieved. Previous FoM: 2.7348764876768676, new best FoM : 2.795159869528098\n"
     ]
    },
    {
     "name": "stdout",
     "output_type": "stream",
     "text": [
      "INFO     oc_logger    Function evaluation number: 80, SI: 1, Sub-iteration number: 46, FoM: 2.795159869528098\n"
     ]
    },
    {
     "name": "stderr",
     "output_type": "stream",
     "text": [
      "INFO:oc_logger:Function evaluation number: 80, SI: 1, Sub-iteration number: 46, FoM: 2.795159869528098\n",
      "DEBUG:oc_logger:User running: True\n",
      "DEBUG:oc_logger:User running: True\n",
      "DEBUG:oc_logger:User running: True\n"
     ]
    },
    {
     "name": "stdout",
     "output_type": "stream",
     "text": [
      "Coeff of psi:  0.991618319975398\n",
      "Coeff of psi_targ:  0.4664881985645004\n",
      "INFO     oc_logger    Function evaluation number: 81, SI: 1, Sub-iteration number: 46, FoM: 2.7927054396683357\n"
     ]
    },
    {
     "name": "stderr",
     "output_type": "stream",
     "text": [
      "INFO:oc_logger:Function evaluation number: 81, SI: 1, Sub-iteration number: 46, FoM: 2.7927054396683357\n",
      "DEBUG:oc_logger:User running: True\n",
      "DEBUG:oc_logger:User running: True\n",
      "DEBUG:oc_logger:User running: True\n",
      "DEBUG:oc_logger:User running: True\n"
     ]
    },
    {
     "name": "stdout",
     "output_type": "stream",
     "text": [
      "Coeff of psi:  0.9358077259103694\n",
      "Coeff of psi_targ:  0.4675781187715928\n",
      "INFO     oc_logger    Function evaluation number: 82, SI: 1, Sub-iteration number: 47, FoM: 2.7748855944170083\n"
     ]
    },
    {
     "name": "stderr",
     "output_type": "stream",
     "text": [
      "INFO:oc_logger:Function evaluation number: 82, SI: 1, Sub-iteration number: 47, FoM: 2.7748855944170083\n",
      "DEBUG:oc_logger:User running: True\n",
      "DEBUG:oc_logger:User running: True\n",
      "DEBUG:oc_logger:User running: True\n",
      "DEBUG:oc_logger:User running: True\n"
     ]
    },
    {
     "name": "stdout",
     "output_type": "stream",
     "text": [
      "Coeff of psi:  0.9612111770754203\n",
      "Coeff of psi_targ:  0.47773046736317165\n",
      "INFO     oc_logger    New record achieved. Previous FoM: 2.795159869528098, new best FoM : 2.820549083491815\n"
     ]
    },
    {
     "name": "stderr",
     "output_type": "stream",
     "text": [
      "INFO:oc_logger:New record achieved. Previous FoM: 2.795159869528098, new best FoM : 2.820549083491815\n"
     ]
    },
    {
     "name": "stdout",
     "output_type": "stream",
     "text": [
      "INFO     oc_logger    Function evaluation number: 83, SI: 1, Sub-iteration number: 48, FoM: 2.820549083491815\n"
     ]
    },
    {
     "name": "stderr",
     "output_type": "stream",
     "text": [
      "INFO:oc_logger:Function evaluation number: 83, SI: 1, Sub-iteration number: 48, FoM: 2.820549083491815\n",
      "DEBUG:oc_logger:User running: True\n",
      "DEBUG:oc_logger:User running: True\n",
      "DEBUG:oc_logger:User running: True\n"
     ]
    },
    {
     "name": "stdout",
     "output_type": "stream",
     "text": [
      "Coeff of psi:  0.9993840856883142\n",
      "Coeff of psi_targ:  0.38826457842697515\n",
      "INFO     oc_logger    Function evaluation number: 84, SI: 1, Sub-iteration number: 48, FoM: 2.4664295547632173\n"
     ]
    },
    {
     "name": "stderr",
     "output_type": "stream",
     "text": [
      "INFO:oc_logger:Function evaluation number: 84, SI: 1, Sub-iteration number: 48, FoM: 2.4664295547632173\n",
      "DEBUG:oc_logger:User running: True\n",
      "DEBUG:oc_logger:User running: True\n",
      "DEBUG:oc_logger:User running: True\n",
      "DEBUG:oc_logger:User running: True\n"
     ]
    },
    {
     "name": "stdout",
     "output_type": "stream",
     "text": [
      "Coeff of psi:  0.9832916776578257\n",
      "Coeff of psi_targ:  0.4673405353525263\n",
      "INFO     oc_logger    Function evaluation number: 85, SI: 1, Sub-iteration number: 49, FoM: 2.7764972927465617\n"
     ]
    },
    {
     "name": "stderr",
     "output_type": "stream",
     "text": [
      "INFO:oc_logger:Function evaluation number: 85, SI: 1, Sub-iteration number: 49, FoM: 2.7764972927465617\n",
      "DEBUG:oc_logger:User running: True\n",
      "DEBUG:oc_logger:User running: True\n",
      "DEBUG:oc_logger:User running: True\n",
      "DEBUG:oc_logger:User running: True\n"
     ]
    },
    {
     "name": "stdout",
     "output_type": "stream",
     "text": [
      "Coeff of psi:  0.9840634058738651\n",
      "Coeff of psi_targ:  0.4625302570374081\n",
      "INFO     oc_logger    Function evaluation number: 86, SI: 1, Sub-iteration number: 50, FoM: 2.7494028725142496\n"
     ]
    },
    {
     "name": "stderr",
     "output_type": "stream",
     "text": [
      "INFO:oc_logger:Function evaluation number: 86, SI: 1, Sub-iteration number: 50, FoM: 2.7494028725142496\n",
      "DEBUG:oc_logger:User running: True\n",
      "DEBUG:oc_logger:User running: True\n",
      "DEBUG:oc_logger:User running: True\n",
      "DEBUG:oc_logger:User running: True\n"
     ]
    },
    {
     "name": "stdout",
     "output_type": "stream",
     "text": [
      "Coeff of psi:  0.991734531617948\n",
      "Coeff of psi_targ:  0.45395950333101576\n",
      "INFO     oc_logger    Function evaluation number: 87, SI: 1, Sub-iteration number: 51, FoM: 2.722905665145399\n"
     ]
    },
    {
     "name": "stderr",
     "output_type": "stream",
     "text": [
      "INFO:oc_logger:Function evaluation number: 87, SI: 1, Sub-iteration number: 51, FoM: 2.722905665145399\n",
      "DEBUG:oc_logger:User running: True\n",
      "DEBUG:oc_logger:User running: True\n",
      "DEBUG:oc_logger:User running: True\n",
      "DEBUG:oc_logger:User running: True\n"
     ]
    },
    {
     "name": "stdout",
     "output_type": "stream",
     "text": [
      "Coeff of psi:  0.9998484282390773\n",
      "Coeff of psi_targ:  0.40929808082733815\n",
      "INFO     oc_logger    Function evaluation number: 88, SI: 1, Sub-iteration number: 52, FoM: 2.544459025795797\n"
     ]
    },
    {
     "name": "stderr",
     "output_type": "stream",
     "text": [
      "INFO:oc_logger:Function evaluation number: 88, SI: 1, Sub-iteration number: 52, FoM: 2.544459025795797\n",
      "DEBUG:oc_logger:User running: True\n",
      "DEBUG:oc_logger:User running: True\n",
      "DEBUG:oc_logger:User running: True\n"
     ]
    },
    {
     "name": "stdout",
     "output_type": "stream",
     "text": [
      "Coeff of psi:  0.9800703954627623\n",
      "Coeff of psi_targ:  0.46904982882497437\n",
      "INFO     oc_logger    Function evaluation number: 89, SI: 1, Sub-iteration number: 52, FoM: 2.779115088462041\n"
     ]
    },
    {
     "name": "stderr",
     "output_type": "stream",
     "text": [
      "INFO:oc_logger:Function evaluation number: 89, SI: 1, Sub-iteration number: 52, FoM: 2.779115088462041\n",
      "DEBUG:oc_logger:User running: True\n",
      "DEBUG:oc_logger:User running: True\n",
      "DEBUG:oc_logger:User running: True\n",
      "DEBUG:oc_logger:User running: True\n"
     ]
    },
    {
     "name": "stdout",
     "output_type": "stream",
     "text": [
      "Coeff of psi:  0.9989522196814283\n",
      "Coeff of psi_targ:  0.42459557914322715\n",
      "INFO     oc_logger    Function evaluation number: 90, SI: 1, Sub-iteration number: 53, FoM: 2.6099961480603198\n"
     ]
    },
    {
     "name": "stderr",
     "output_type": "stream",
     "text": [
      "INFO:oc_logger:Function evaluation number: 90, SI: 1, Sub-iteration number: 53, FoM: 2.6099961480603198\n",
      "DEBUG:oc_logger:User running: True\n",
      "DEBUG:oc_logger:User running: True\n",
      "DEBUG:oc_logger:User running: True\n"
     ]
    },
    {
     "name": "stdout",
     "output_type": "stream",
     "text": [
      "Coeff of psi:  0.9817657733679913\n",
      "Coeff of psi_targ:  0.4685527625371651\n",
      "INFO     oc_logger    Function evaluation number: 91, SI: 1, Sub-iteration number: 53, FoM: 2.7801238276588442\n"
     ]
    },
    {
     "name": "stderr",
     "output_type": "stream",
     "text": [
      "INFO:oc_logger:Function evaluation number: 91, SI: 1, Sub-iteration number: 53, FoM: 2.7801238276588442\n",
      "DEBUG:oc_logger:User running: True\n",
      "DEBUG:oc_logger:User running: True\n",
      "DEBUG:oc_logger:User running: True\n",
      "DEBUG:oc_logger:User running: True\n"
     ]
    },
    {
     "name": "stdout",
     "output_type": "stream",
     "text": [
      "Coeff of psi:  0.998432879974319\n",
      "Coeff of psi_targ:  0.4224831439400536\n",
      "INFO     oc_logger    Function evaluation number: 92, SI: 1, Sub-iteration number: 54, FoM: 2.593812703082269\n"
     ]
    },
    {
     "name": "stderr",
     "output_type": "stream",
     "text": [
      "INFO:oc_logger:Function evaluation number: 92, SI: 1, Sub-iteration number: 54, FoM: 2.593812703082269\n",
      "DEBUG:oc_logger:User running: True\n",
      "DEBUG:oc_logger:User running: True\n",
      "DEBUG:oc_logger:User running: True\n"
     ]
    },
    {
     "name": "stdout",
     "output_type": "stream",
     "text": [
      "Coeff of psi:  0.9382042210651483\n",
      "Coeff of psi_targ:  0.46610286208301865\n",
      "INFO     oc_logger    Function evaluation number: 93, SI: 1, Sub-iteration number: 54, FoM: 2.7883778891045146\n"
     ]
    },
    {
     "name": "stderr",
     "output_type": "stream",
     "text": [
      "INFO:oc_logger:Function evaluation number: 93, SI: 1, Sub-iteration number: 54, FoM: 2.7883778891045146\n",
      "DEBUG:oc_logger:User running: True\n",
      "DEBUG:oc_logger:User running: True\n",
      "DEBUG:oc_logger:User running: True\n",
      "DEBUG:oc_logger:User running: True\n"
     ]
    },
    {
     "name": "stdout",
     "output_type": "stream",
     "text": [
      "Coeff of psi:  0.9979311828447566\n",
      "Coeff of psi_targ:  0.43440894573665884\n",
      "INFO     oc_logger    Function evaluation number: 94, SI: 1, Sub-iteration number: 55, FoM: 2.6506293694675422\n"
     ]
    },
    {
     "name": "stderr",
     "output_type": "stream",
     "text": [
      "INFO:oc_logger:Function evaluation number: 94, SI: 1, Sub-iteration number: 55, FoM: 2.6506293694675422\n",
      "DEBUG:oc_logger:User running: True\n",
      "DEBUG:oc_logger:User running: True\n",
      "DEBUG:oc_logger:User running: True\n"
     ]
    },
    {
     "name": "stdout",
     "output_type": "stream",
     "text": [
      "Coeff of psi:  0.9380484190534715\n",
      "Coeff of psi_targ:  0.4678778472297099\n",
      "INFO     oc_logger    Function evaluation number: 95, SI: 1, Sub-iteration number: 55, FoM: 2.7860723238952207\n"
     ]
    },
    {
     "name": "stderr",
     "output_type": "stream",
     "text": [
      "INFO:oc_logger:Function evaluation number: 95, SI: 1, Sub-iteration number: 55, FoM: 2.7860723238952207\n",
      "DEBUG:oc_logger:User running: True\n",
      "DEBUG:oc_logger:User running: True\n",
      "DEBUG:oc_logger:User running: True\n",
      "DEBUG:oc_logger:User running: True\n"
     ]
    },
    {
     "name": "stdout",
     "output_type": "stream",
     "text": [
      "Coeff of psi:  0.9174046066541149\n",
      "Coeff of psi_targ:  0.4437250626362025\n",
      "INFO     oc_logger    Function evaluation number: 96, SI: 1, Sub-iteration number: 56, FoM: 2.7015524061497747\n"
     ]
    },
    {
     "name": "stderr",
     "output_type": "stream",
     "text": [
      "INFO:oc_logger:Function evaluation number: 96, SI: 1, Sub-iteration number: 56, FoM: 2.7015524061497747\n",
      "DEBUG:oc_logger:User running: True\n",
      "DEBUG:oc_logger:User running: True\n",
      "DEBUG:oc_logger:User running: True\n"
     ]
    },
    {
     "name": "stdout",
     "output_type": "stream",
     "text": [
      "Coeff of psi:  0.9763161235557991\n",
      "Coeff of psi_targ:  0.47341324381205824\n",
      "INFO     oc_logger    Function evaluation number: 97, SI: 1, Sub-iteration number: 56, FoM: 2.8000515157381782\n"
     ]
    },
    {
     "name": "stderr",
     "output_type": "stream",
     "text": [
      "INFO:oc_logger:Function evaluation number: 97, SI: 1, Sub-iteration number: 56, FoM: 2.8000515157381782\n",
      "DEBUG:oc_logger:User running: True\n",
      "DEBUG:oc_logger:User running: True\n",
      "DEBUG:oc_logger:User running: True\n",
      "DEBUG:oc_logger:User running: True\n"
     ]
    },
    {
     "name": "stdout",
     "output_type": "stream",
     "text": [
      "Coeff of psi:  0.9944419639548442\n",
      "Coeff of psi_targ:  0.4464948300088254\n",
      "INFO     oc_logger    Function evaluation number: 98, SI: 1, Sub-iteration number: 57, FoM: 2.695389116713031\n"
     ]
    },
    {
     "name": "stderr",
     "output_type": "stream",
     "text": [
      "INFO:oc_logger:Function evaluation number: 98, SI: 1, Sub-iteration number: 57, FoM: 2.695389116713031\n",
      "DEBUG:oc_logger:User running: True\n",
      "DEBUG:oc_logger:User running: True\n",
      "DEBUG:oc_logger:User running: True\n"
     ]
    },
    {
     "name": "stdout",
     "output_type": "stream",
     "text": [
      "Coeff of psi:  0.9426527040398732\n",
      "Coeff of psi_targ:  0.47087684110673783\n",
      "INFO     oc_logger    Function evaluation number: 99, SI: 1, Sub-iteration number: 57, FoM: 2.7987108564105476\n"
     ]
    },
    {
     "name": "stderr",
     "output_type": "stream",
     "text": [
      "INFO:oc_logger:Function evaluation number: 99, SI: 1, Sub-iteration number: 57, FoM: 2.7987108564105476\n",
      "DEBUG:oc_logger:User running: True\n",
      "DEBUG:oc_logger:User running: True\n",
      "DEBUG:oc_logger:User running: True\n",
      "DEBUG:oc_logger:User running: True\n"
     ]
    },
    {
     "name": "stdout",
     "output_type": "stream",
     "text": [
      "Coeff of psi:  0.9341700806333494\n",
      "Coeff of psi_targ:  0.45994531316983495\n",
      "INFO     oc_logger    Function evaluation number: 100, SI: 1, Sub-iteration number: 58, FoM: 2.7710902148501333\n"
     ]
    },
    {
     "name": "stderr",
     "output_type": "stream",
     "text": [
      "INFO:oc_logger:Function evaluation number: 100, SI: 1, Sub-iteration number: 58, FoM: 2.7710902148501333\n",
      "DEBUG:oc_logger:User running: True\n",
      "DEBUG:oc_logger:User running: True\n",
      "DEBUG:oc_logger:User running: True\n"
     ]
    },
    {
     "name": "stdout",
     "output_type": "stream",
     "text": [
      "Coeff of psi:  0.9452126432603426\n",
      "Coeff of psi_targ:  0.47210290492037016\n",
      "INFO     oc_logger    Function evaluation number: 101, SI: 1, Sub-iteration number: 58, FoM: 2.8083041417483896\n"
     ]
    },
    {
     "name": "stderr",
     "output_type": "stream",
     "text": [
      "INFO:oc_logger:Function evaluation number: 101, SI: 1, Sub-iteration number: 58, FoM: 2.8083041417483896\n",
      "DEBUG:oc_logger:User running: True\n",
      "DEBUG:oc_logger:User running: True\n",
      "DEBUG:oc_logger:User running: True\n",
      "DEBUG:oc_logger:User running: True\n"
     ]
    },
    {
     "name": "stdout",
     "output_type": "stream",
     "text": [
      "Coeff of psi:  0.9773583835435169\n",
      "Coeff of psi_targ:  0.4785534952481602\n",
      "INFO     oc_logger    New record achieved. Previous FoM: 2.820549083491815, new best FoM : 2.833116014741798\n"
     ]
    },
    {
     "name": "stderr",
     "output_type": "stream",
     "text": [
      "INFO:oc_logger:New record achieved. Previous FoM: 2.820549083491815, new best FoM : 2.833116014741798\n"
     ]
    },
    {
     "name": "stdout",
     "output_type": "stream",
     "text": [
      "INFO     oc_logger    Function evaluation number: 102, SI: 1, Sub-iteration number: 59, FoM: 2.833116014741798\n"
     ]
    },
    {
     "name": "stderr",
     "output_type": "stream",
     "text": [
      "INFO:oc_logger:Function evaluation number: 102, SI: 1, Sub-iteration number: 59, FoM: 2.833116014741798\n",
      "DEBUG:oc_logger:User running: True\n",
      "DEBUG:oc_logger:User running: True\n",
      "DEBUG:oc_logger:User running: True\n"
     ]
    },
    {
     "name": "stdout",
     "output_type": "stream",
     "text": [
      "Coeff of psi:  0.9908623796117652\n",
      "Coeff of psi_targ:  0.4697381455047584\n",
      "INFO     oc_logger    Function evaluation number: 103, SI: 1, Sub-iteration number: 59, FoM: 2.8048682522469504\n"
     ]
    },
    {
     "name": "stderr",
     "output_type": "stream",
     "text": [
      "INFO:oc_logger:Function evaluation number: 103, SI: 1, Sub-iteration number: 59, FoM: 2.8048682522469504\n",
      "DEBUG:oc_logger:User running: True\n",
      "DEBUG:oc_logger:User running: True\n",
      "DEBUG:oc_logger:User running: True\n",
      "DEBUG:oc_logger:User running: True\n"
     ]
    },
    {
     "name": "stdout",
     "output_type": "stream",
     "text": [
      "Coeff of psi:  0.9342375315433331\n",
      "Coeff of psi_targ:  0.46045054087208087\n",
      "INFO     oc_logger    Function evaluation number: 104, SI: 1, Sub-iteration number: 60, FoM: 2.7715509355104224\n"
     ]
    },
    {
     "name": "stderr",
     "output_type": "stream",
     "text": [
      "INFO:oc_logger:Function evaluation number: 104, SI: 1, Sub-iteration number: 60, FoM: 2.7715509355104224\n",
      "DEBUG:oc_logger:User running: True\n",
      "DEBUG:oc_logger:User running: True\n",
      "DEBUG:oc_logger:User running: True\n"
     ]
    },
    {
     "name": "stdout",
     "output_type": "stream",
     "text": [
      "Coeff of psi:  0.9712137459633716\n",
      "Coeff of psi_targ:  0.4764828818485378\n",
      "INFO     oc_logger    Function evaluation number: 105, SI: 1, Sub-iteration number: 60, FoM: 2.814815389189594\n"
     ]
    },
    {
     "name": "stderr",
     "output_type": "stream",
     "text": [
      "INFO:oc_logger:Function evaluation number: 105, SI: 1, Sub-iteration number: 60, FoM: 2.814815389189594\n",
      "DEBUG:oc_logger:User running: True\n",
      "DEBUG:oc_logger:User running: True\n",
      "DEBUG:oc_logger:User running: True\n",
      "DEBUG:oc_logger:User running: True\n"
     ]
    },
    {
     "name": "stdout",
     "output_type": "stream",
     "text": [
      "Coeff of psi:  0.9367733802296209\n",
      "Coeff of psi_targ:  0.461964120650355\n",
      "INFO     oc_logger    Function evaluation number: 106, SI: 1, Sub-iteration number: 61, FoM: 2.7805932258035972\n"
     ]
    },
    {
     "name": "stderr",
     "output_type": "stream",
     "text": [
      "INFO:oc_logger:Function evaluation number: 106, SI: 1, Sub-iteration number: 61, FoM: 2.7805932258035972\n",
      "DEBUG:oc_logger:User running: True\n",
      "DEBUG:oc_logger:User running: True\n",
      "DEBUG:oc_logger:User running: True\n",
      "DEBUG:oc_logger:User running: True\n"
     ]
    },
    {
     "name": "stdout",
     "output_type": "stream",
     "text": [
      "Coeff of psi:  0.9277221372400487\n",
      "Coeff of psi_targ:  0.44748064836739615\n",
      "INFO     oc_logger    Function evaluation number: 107, SI: 1, Sub-iteration number: 62, FoM: 2.7301058005801355\n"
     ]
    },
    {
     "name": "stderr",
     "output_type": "stream",
     "text": [
      "INFO:oc_logger:Function evaluation number: 107, SI: 1, Sub-iteration number: 62, FoM: 2.7301058005801355\n",
      "DEBUG:oc_logger:User running: True\n",
      "DEBUG:oc_logger:User running: True\n",
      "DEBUG:oc_logger:User running: True\n"
     ]
    },
    {
     "name": "stdout",
     "output_type": "stream",
     "text": [
      "Coeff of psi:  0.9674873260374709\n",
      "Coeff of psi_targ:  0.4776432939078247\n",
      "INFO     oc_logger    Function evaluation number: 108, SI: 1, Sub-iteration number: 62, FoM: 2.8204277189840723\n"
     ]
    },
    {
     "name": "stderr",
     "output_type": "stream",
     "text": [
      "INFO:oc_logger:Function evaluation number: 108, SI: 1, Sub-iteration number: 62, FoM: 2.8204277189840723\n",
      "DEBUG:oc_logger:User running: True\n",
      "DEBUG:oc_logger:User running: True\n",
      "DEBUG:oc_logger:User running: True\n",
      "DEBUG:oc_logger:User running: True\n"
     ]
    },
    {
     "name": "stdout",
     "output_type": "stream",
     "text": [
      "Coeff of psi:  0.9772699854205007\n",
      "Coeff of psi_targ:  0.471589413713243\n",
      "INFO     oc_logger    Function evaluation number: 109, SI: 1, Sub-iteration number: 63, FoM: 2.7898554138740606\n"
     ]
    },
    {
     "name": "stderr",
     "output_type": "stream",
     "text": [
      "INFO:oc_logger:Function evaluation number: 109, SI: 1, Sub-iteration number: 63, FoM: 2.7898554138740606\n",
      "DEBUG:oc_logger:User running: True\n",
      "DEBUG:oc_logger:User running: True\n",
      "DEBUG:oc_logger:User running: True\n",
      "DEBUG:oc_logger:User running: True\n"
     ]
    },
    {
     "name": "stdout",
     "output_type": "stream",
     "text": [
      "Coeff of psi:  0.978531213805861\n",
      "Coeff of psi_targ:  0.4761185278101537\n",
      "INFO     oc_logger    Function evaluation number: 110, SI: 1, Sub-iteration number: 64, FoM: 2.819928815002786\n"
     ]
    },
    {
     "name": "stderr",
     "output_type": "stream",
     "text": [
      "INFO:oc_logger:Function evaluation number: 110, SI: 1, Sub-iteration number: 64, FoM: 2.819928815002786\n",
      "DEBUG:oc_logger:User running: True\n",
      "DEBUG:oc_logger:User running: True\n",
      "DEBUG:oc_logger:User running: True\n",
      "DEBUG:oc_logger:User running: True\n"
     ]
    },
    {
     "name": "stdout",
     "output_type": "stream",
     "text": [
      "Coeff of psi:  0.9871632563596368\n",
      "Coeff of psi_targ:  0.4643301714953221\n",
      "INFO     oc_logger    Function evaluation number: 111, SI: 1, Sub-iteration number: 65, FoM: 2.7672740430714393\n"
     ]
    },
    {
     "name": "stderr",
     "output_type": "stream",
     "text": [
      "INFO:oc_logger:Function evaluation number: 111, SI: 1, Sub-iteration number: 65, FoM: 2.7672740430714393\n",
      "DEBUG:oc_logger:User running: True\n",
      "DEBUG:oc_logger:User running: True\n",
      "DEBUG:oc_logger:User running: True\n"
     ]
    },
    {
     "name": "stdout",
     "output_type": "stream",
     "text": [
      "Coeff of psi:  0.9508826460263268\n",
      "Coeff of psi_targ:  0.47544096527686514\n",
      "INFO     oc_logger    Function evaluation number: 112, SI: 1, Sub-iteration number: 65, FoM: 2.819508245072633\n"
     ]
    },
    {
     "name": "stderr",
     "output_type": "stream",
     "text": [
      "INFO:oc_logger:Function evaluation number: 112, SI: 1, Sub-iteration number: 65, FoM: 2.819508245072633\n",
      "DEBUG:oc_logger:User running: True\n",
      "DEBUG:oc_logger:User running: True\n",
      "DEBUG:oc_logger:User running: True\n",
      "DEBUG:oc_logger:User running: True\n"
     ]
    },
    {
     "name": "stdout",
     "output_type": "stream",
     "text": [
      "Coeff of psi:  0.9469857849949361\n",
      "Coeff of psi_targ:  0.47186040053047473\n",
      "INFO     oc_logger    Function evaluation number: 113, SI: 1, Sub-iteration number: 66, FoM: 2.817549367222034\n"
     ]
    },
    {
     "name": "stderr",
     "output_type": "stream",
     "text": [
      "INFO:oc_logger:Function evaluation number: 113, SI: 1, Sub-iteration number: 66, FoM: 2.817549367222034\n",
      "DEBUG:oc_logger:User running: True\n",
      "DEBUG:oc_logger:User running: True\n",
      "DEBUG:oc_logger:User running: True\n",
      "DEBUG:oc_logger:User running: True\n"
     ]
    },
    {
     "name": "stdout",
     "output_type": "stream",
     "text": [
      "Coeff of psi:  0.9854102733733308\n",
      "Coeff of psi_targ:  0.46230218396538586\n",
      "INFO     oc_logger    Function evaluation number: 114, SI: 1, Sub-iteration number: 67, FoM: 2.7503080109528564\n"
     ]
    },
    {
     "name": "stderr",
     "output_type": "stream",
     "text": [
      "INFO:oc_logger:Function evaluation number: 114, SI: 1, Sub-iteration number: 67, FoM: 2.7503080109528564\n",
      "DEBUG:oc_logger:User running: True\n",
      "DEBUG:oc_logger:User running: True\n",
      "DEBUG:oc_logger:User running: True\n"
     ]
    },
    {
     "name": "stdout",
     "output_type": "stream",
     "text": [
      "Coeff of psi:  0.9506226241577073\n",
      "Coeff of psi_targ:  0.47510549741312463\n",
      "INFO     oc_logger    Function evaluation number: 115, SI: 1, Sub-iteration number: 67, FoM: 2.8247475998579903\n"
     ]
    },
    {
     "name": "stderr",
     "output_type": "stream",
     "text": [
      "INFO:oc_logger:Function evaluation number: 115, SI: 1, Sub-iteration number: 67, FoM: 2.8247475998579903\n",
      "DEBUG:oc_logger:User running: True\n",
      "DEBUG:oc_logger:User running: True\n",
      "DEBUG:oc_logger:User running: True\n",
      "DEBUG:oc_logger:User running: True\n"
     ]
    },
    {
     "name": "stdout",
     "output_type": "stream",
     "text": [
      "Coeff of psi:  0.9800564155611371\n",
      "Coeff of psi_targ:  0.47599406632745705\n",
      "INFO     oc_logger    Function evaluation number: 116, SI: 1, Sub-iteration number: 68, FoM: 2.821641478447341\n"
     ]
    },
    {
     "name": "stderr",
     "output_type": "stream",
     "text": [
      "INFO:oc_logger:Function evaluation number: 116, SI: 1, Sub-iteration number: 68, FoM: 2.821641478447341\n",
      "DEBUG:oc_logger:User running: True\n",
      "DEBUG:oc_logger:User running: True\n",
      "DEBUG:oc_logger:User running: True\n",
      "DEBUG:oc_logger:User running: True\n"
     ]
    },
    {
     "name": "stdout",
     "output_type": "stream",
     "text": [
      "Coeff of psi:  0.9515294962223378\n",
      "Coeff of psi_targ:  0.47520512625234135\n",
      "INFO     oc_logger    Function evaluation number: 117, SI: 1, Sub-iteration number: 69, FoM: 2.830428756769205\n"
     ]
    },
    {
     "name": "stderr",
     "output_type": "stream",
     "text": [
      "INFO:oc_logger:Function evaluation number: 117, SI: 1, Sub-iteration number: 69, FoM: 2.830428756769205\n",
      "DEBUG:oc_logger:User running: True\n",
      "DEBUG:oc_logger:User running: True\n",
      "DEBUG:oc_logger:User running: True\n",
      "DEBUG:oc_logger:User running: True\n"
     ]
    },
    {
     "name": "stdout",
     "output_type": "stream",
     "text": [
      "Coeff of psi:  0.9801020777571434\n",
      "Coeff of psi_targ:  0.47586043176166537\n",
      "INFO     oc_logger    Function evaluation number: 118, SI: 1, Sub-iteration number: 70, FoM: 2.820335053706501\n"
     ]
    },
    {
     "name": "stderr",
     "output_type": "stream",
     "text": [
      "INFO:oc_logger:Function evaluation number: 118, SI: 1, Sub-iteration number: 70, FoM: 2.820335053706501\n",
      "DEBUG:oc_logger:User running: True\n",
      "DEBUG:oc_logger:User running: True\n",
      "DEBUG:oc_logger:User running: True\n",
      "DEBUG:oc_logger:User running: True\n"
     ]
    },
    {
     "name": "stdout",
     "output_type": "stream",
     "text": [
      "Coeff of psi:  0.9595581494785844\n",
      "Coeff of psi_targ:  0.4797447117200047\n",
      "INFO     oc_logger    New record achieved. Previous FoM: 2.833116014741798, new best FoM : 2.8479823752119096\n"
     ]
    },
    {
     "name": "stderr",
     "output_type": "stream",
     "text": [
      "INFO:oc_logger:New record achieved. Previous FoM: 2.833116014741798, new best FoM : 2.8479823752119096\n"
     ]
    },
    {
     "name": "stdout",
     "output_type": "stream",
     "text": [
      "INFO     oc_logger    Function evaluation number: 119, SI: 1, Sub-iteration number: 71, FoM: 2.8479823752119096\n"
     ]
    },
    {
     "name": "stderr",
     "output_type": "stream",
     "text": [
      "INFO:oc_logger:Function evaluation number: 119, SI: 1, Sub-iteration number: 71, FoM: 2.8479823752119096\n",
      "DEBUG:oc_logger:User running: True\n",
      "DEBUG:oc_logger:User running: True\n",
      "DEBUG:oc_logger:User running: True\n"
     ]
    },
    {
     "name": "stdout",
     "output_type": "stream",
     "text": [
      "Coeff of psi:  0.955846596036594\n",
      "Coeff of psi_targ:  0.4765089897159544\n",
      "INFO     oc_logger    Function evaluation number: 120, SI: 1, Sub-iteration number: 71, FoM: 2.8469983485371184\n"
     ]
    },
    {
     "name": "stderr",
     "output_type": "stream",
     "text": [
      "INFO:oc_logger:Function evaluation number: 120, SI: 1, Sub-iteration number: 71, FoM: 2.8469983485371184\n",
      "DEBUG:oc_logger:User running: True\n",
      "DEBUG:oc_logger:User running: True\n",
      "DEBUG:oc_logger:User running: True\n",
      "DEBUG:oc_logger:User running: True\n"
     ]
    },
    {
     "name": "stdout",
     "output_type": "stream",
     "text": [
      "Coeff of psi:  0.9843873320506578\n",
      "Coeff of psi_targ:  0.46905264994014767\n",
      "INFO     oc_logger    Function evaluation number: 121, SI: 1, Sub-iteration number: 72, FoM: 2.787168014351665\n"
     ]
    },
    {
     "name": "stderr",
     "output_type": "stream",
     "text": [
      "INFO:oc_logger:Function evaluation number: 121, SI: 1, Sub-iteration number: 72, FoM: 2.787168014351665\n",
      "DEBUG:oc_logger:User running: True\n",
      "DEBUG:oc_logger:User running: True\n",
      "DEBUG:oc_logger:User running: True\n"
     ]
    },
    {
     "name": "stdout",
     "output_type": "stream",
     "text": [
      "Coeff of psi:  0.9563220333219467\n",
      "Coeff of psi_targ:  0.4781128783695328\n",
      "INFO     oc_logger    Function evaluation number: 122, SI: 1, Sub-iteration number: 72, FoM: 2.8360747376286195\n"
     ]
    },
    {
     "name": "stderr",
     "output_type": "stream",
     "text": [
      "INFO:oc_logger:Function evaluation number: 122, SI: 1, Sub-iteration number: 72, FoM: 2.8360747376286195\n",
      "DEBUG:oc_logger:User running: True\n",
      "DEBUG:oc_logger:User running: True\n",
      "DEBUG:oc_logger:User running: True\n",
      "DEBUG:oc_logger:User running: True\n"
     ]
    },
    {
     "name": "stdout",
     "output_type": "stream",
     "text": [
      "Coeff of psi:  0.9800144606747783\n",
      "Coeff of psi_targ:  0.47768669983248696\n",
      "INFO     oc_logger    Function evaluation number: 123, SI: 1, Sub-iteration number: 73, FoM: 2.83169894511961\n"
     ]
    },
    {
     "name": "stderr",
     "output_type": "stream",
     "text": [
      "INFO:oc_logger:Function evaluation number: 123, SI: 1, Sub-iteration number: 73, FoM: 2.83169894511961\n",
      "DEBUG:oc_logger:User running: True\n",
      "DEBUG:oc_logger:User running: True\n",
      "DEBUG:oc_logger:User running: True\n",
      "DEBUG:oc_logger:User running: True\n"
     ]
    },
    {
     "name": "stdout",
     "output_type": "stream",
     "text": [
      "Coeff of psi:  0.9544207883101964\n",
      "Coeff of psi_targ:  0.4771978715427812\n",
      "INFO     oc_logger    Function evaluation number: 124, SI: 1, Sub-iteration number: 74, FoM: 2.833933292145627\n"
     ]
    },
    {
     "name": "stderr",
     "output_type": "stream",
     "text": [
      "INFO:oc_logger:Function evaluation number: 124, SI: 1, Sub-iteration number: 74, FoM: 2.833933292145627\n",
      "DEBUG:oc_logger:User running: True\n",
      "DEBUG:oc_logger:User running: True\n",
      "DEBUG:oc_logger:User running: True\n",
      "DEBUG:oc_logger:User running: True\n"
     ]
    },
    {
     "name": "stdout",
     "output_type": "stream",
     "text": [
      "Coeff of psi:  0.946783143940164\n",
      "Coeff of psi_targ:  0.4723684170151547\n",
      "INFO     oc_logger    Function evaluation number: 125, SI: 1, Sub-iteration number: 75, FoM: 2.815708177899405\n"
     ]
    },
    {
     "name": "stderr",
     "output_type": "stream",
     "text": [
      "INFO:oc_logger:Function evaluation number: 125, SI: 1, Sub-iteration number: 75, FoM: 2.815708177899405\n",
      "DEBUG:oc_logger:User running: True\n",
      "DEBUG:oc_logger:User running: True\n",
      "DEBUG:oc_logger:User running: True\n"
     ]
    },
    {
     "name": "stdout",
     "output_type": "stream",
     "text": [
      "Coeff of psi:  0.9723525208122401\n",
      "Coeff of psi_targ:  0.4796159520318101\n",
      "INFO     oc_logger    Function evaluation number: 126, SI: 1, Sub-iteration number: 75, FoM: 2.8366420936223244\n"
     ]
    },
    {
     "name": "stderr",
     "output_type": "stream",
     "text": [
      "INFO:oc_logger:Function evaluation number: 126, SI: 1, Sub-iteration number: 75, FoM: 2.8366420936223244\n",
      "DEBUG:oc_logger:User running: True\n",
      "DEBUG:oc_logger:User running: True\n",
      "DEBUG:oc_logger:User running: True\n",
      "DEBUG:oc_logger:User running: True\n"
     ]
    },
    {
     "name": "stdout",
     "output_type": "stream",
     "text": [
      "Coeff of psi:  0.9629292149214195\n",
      "Coeff of psi_targ:  0.48137800766248096\n",
      "INFO     oc_logger    New record achieved. Previous FoM: 2.8479823752119096, new best FoM : 2.8585723701167627\n"
     ]
    },
    {
     "name": "stderr",
     "output_type": "stream",
     "text": [
      "INFO:oc_logger:New record achieved. Previous FoM: 2.8479823752119096, new best FoM : 2.8585723701167627\n"
     ]
    },
    {
     "name": "stdout",
     "output_type": "stream",
     "text": [
      "INFO     oc_logger    Function evaluation number: 127, SI: 1, Sub-iteration number: 76, FoM: 2.8585723701167627\n"
     ]
    },
    {
     "name": "stderr",
     "output_type": "stream",
     "text": [
      "INFO:oc_logger:Function evaluation number: 127, SI: 1, Sub-iteration number: 76, FoM: 2.8585723701167627\n",
      "DEBUG:oc_logger:User running: True\n",
      "DEBUG:oc_logger:User running: True\n",
      "DEBUG:oc_logger:User running: True\n"
     ]
    },
    {
     "name": "stdout",
     "output_type": "stream",
     "text": [
      "Coeff of psi:  0.9624948752440875\n",
      "Coeff of psi_targ:  0.48067734668177553\n",
      "INFO     oc_logger    New record achieved. Previous FoM: 2.8585723701167627, new best FoM : 2.868144492385168\n"
     ]
    },
    {
     "name": "stderr",
     "output_type": "stream",
     "text": [
      "INFO:oc_logger:New record achieved. Previous FoM: 2.8585723701167627, new best FoM : 2.868144492385168\n"
     ]
    },
    {
     "name": "stdout",
     "output_type": "stream",
     "text": [
      "INFO     oc_logger    Function evaluation number: 128, SI: 1, Sub-iteration number: 76, FoM: 2.868144492385168\n"
     ]
    },
    {
     "name": "stderr",
     "output_type": "stream",
     "text": [
      "INFO:oc_logger:Function evaluation number: 128, SI: 1, Sub-iteration number: 76, FoM: 2.868144492385168\n",
      "DEBUG:oc_logger:User running: True\n",
      "DEBUG:oc_logger:User running: True\n",
      "DEBUG:oc_logger:User running: True\n",
      "DEBUG:oc_logger:User running: True\n"
     ]
    },
    {
     "name": "stdout",
     "output_type": "stream",
     "text": [
      "Coeff of psi:  0.9684783223785428\n",
      "Coeff of psi_targ:  0.4839151039430452\n",
      "INFO     oc_logger    New record achieved. Previous FoM: 2.868144492385168, new best FoM : 2.8746224559596665\n"
     ]
    },
    {
     "name": "stderr",
     "output_type": "stream",
     "text": [
      "INFO:oc_logger:New record achieved. Previous FoM: 2.868144492385168, new best FoM : 2.8746224559596665\n"
     ]
    },
    {
     "name": "stdout",
     "output_type": "stream",
     "text": [
      "INFO     oc_logger    Function evaluation number: 129, SI: 1, Sub-iteration number: 77, FoM: 2.8746224559596665\n"
     ]
    },
    {
     "name": "stderr",
     "output_type": "stream",
     "text": [
      "INFO:oc_logger:Function evaluation number: 129, SI: 1, Sub-iteration number: 77, FoM: 2.8746224559596665\n",
      "DEBUG:oc_logger:User running: True\n",
      "DEBUG:oc_logger:User running: True\n",
      "DEBUG:oc_logger:User running: True\n"
     ]
    },
    {
     "name": "stdout",
     "output_type": "stream",
     "text": [
      "Coeff of psi:  0.9728577258593244\n",
      "Coeff of psi_targ:  0.4864272328171669\n",
      "INFO     oc_logger    New record achieved. Previous FoM: 2.8746224559596665, new best FoM : 2.8983116972966445\n"
     ]
    },
    {
     "name": "stderr",
     "output_type": "stream",
     "text": [
      "INFO:oc_logger:New record achieved. Previous FoM: 2.8746224559596665, new best FoM : 2.8983116972966445\n"
     ]
    },
    {
     "name": "stdout",
     "output_type": "stream",
     "text": [
      "INFO     oc_logger    Function evaluation number: 130, SI: 1, Sub-iteration number: 77, FoM: 2.8983116972966445\n"
     ]
    },
    {
     "name": "stderr",
     "output_type": "stream",
     "text": [
      "INFO:oc_logger:Function evaluation number: 130, SI: 1, Sub-iteration number: 77, FoM: 2.8983116972966445\n",
      "DEBUG:oc_logger:User running: True\n",
      "DEBUG:oc_logger:User running: True\n",
      "DEBUG:oc_logger:User running: True\n",
      "DEBUG:oc_logger:User running: True\n"
     ]
    },
    {
     "name": "stdout",
     "output_type": "stream",
     "text": [
      "Coeff of psi:  0.9495262876857782\n",
      "Coeff of psi_targ:  0.4700597978031166\n",
      "INFO     oc_logger    Function evaluation number: 131, SI: 1, Sub-iteration number: 78, FoM: 2.824439886833412\n"
     ]
    },
    {
     "name": "stderr",
     "output_type": "stream",
     "text": [
      "INFO:oc_logger:Function evaluation number: 131, SI: 1, Sub-iteration number: 78, FoM: 2.824439886833412\n",
      "DEBUG:oc_logger:User running: True\n",
      "DEBUG:oc_logger:User running: True\n",
      "DEBUG:oc_logger:User running: True\n"
     ]
    },
    {
     "name": "stdout",
     "output_type": "stream",
     "text": [
      "Coeff of psi:  0.9561821915239608\n",
      "Coeff of psi_targ:  0.4775681646727275\n",
      "INFO     oc_logger    Function evaluation number: 132, SI: 1, Sub-iteration number: 78, FoM: 2.8460946037892603\n"
     ]
    },
    {
     "name": "stderr",
     "output_type": "stream",
     "text": [
      "INFO:oc_logger:Function evaluation number: 132, SI: 1, Sub-iteration number: 78, FoM: 2.8460946037892603\n",
      "DEBUG:oc_logger:User running: True\n",
      "DEBUG:oc_logger:User running: True\n",
      "DEBUG:oc_logger:User running: True\n",
      "DEBUG:oc_logger:User running: True\n"
     ]
    },
    {
     "name": "stdout",
     "output_type": "stream",
     "text": [
      "Coeff of psi:  0.9758835390725574\n",
      "Coeff of psi_targ:  0.4842975604027197\n",
      "INFO     oc_logger    Function evaluation number: 133, SI: 1, Sub-iteration number: 79, FoM: 2.871716694027872\n"
     ]
    },
    {
     "name": "stderr",
     "output_type": "stream",
     "text": [
      "INFO:oc_logger:Function evaluation number: 133, SI: 1, Sub-iteration number: 79, FoM: 2.871716694027872\n",
      "DEBUG:oc_logger:User running: True\n",
      "DEBUG:oc_logger:User running: True\n",
      "DEBUG:oc_logger:User running: True\n",
      "DEBUG:oc_logger:User running: True\n"
     ]
    },
    {
     "name": "stdout",
     "output_type": "stream",
     "text": [
      "Coeff of psi:  0.9797805482669684\n",
      "Coeff of psi_targ:  0.48236903976232054\n",
      "INFO     oc_logger    Function evaluation number: 134, SI: 1, Sub-iteration number: 80, FoM: 2.860609886896355\n"
     ]
    },
    {
     "name": "stderr",
     "output_type": "stream",
     "text": [
      "INFO:oc_logger:Function evaluation number: 134, SI: 1, Sub-iteration number: 80, FoM: 2.860609886896355\n",
      "DEBUG:oc_logger:User running: True\n",
      "DEBUG:oc_logger:User running: True\n",
      "DEBUG:oc_logger:User running: True\n",
      "DEBUG:oc_logger:User running: True\n"
     ]
    },
    {
     "name": "stdout",
     "output_type": "stream",
     "text": [
      "Coeff of psi:  0.9550191388099858\n",
      "Coeff of psi_targ:  0.4748648807740696\n",
      "INFO     oc_logger    Function evaluation number: 135, SI: 1, Sub-iteration number: 81, FoM: 2.8445055816257216\n"
     ]
    },
    {
     "name": "stderr",
     "output_type": "stream",
     "text": [
      "INFO:oc_logger:Function evaluation number: 135, SI: 1, Sub-iteration number: 81, FoM: 2.8445055816257216\n",
      "DEBUG:oc_logger:User running: True\n",
      "DEBUG:oc_logger:User running: True\n",
      "DEBUG:oc_logger:User running: True\n",
      "DEBUG:oc_logger:User running: True\n"
     ]
    },
    {
     "name": "stdout",
     "output_type": "stream",
     "text": [
      "Coeff of psi:  0.9543620745373645\n",
      "Coeff of psi_targ:  0.4721801822610898\n",
      "INFO     oc_logger    Function evaluation number: 136, SI: 1, Sub-iteration number: 82, FoM: 2.84005197545924\n"
     ]
    },
    {
     "name": "stderr",
     "output_type": "stream",
     "text": [
      "INFO:oc_logger:Function evaluation number: 136, SI: 1, Sub-iteration number: 82, FoM: 2.84005197545924\n",
      "DEBUG:oc_logger:User running: True\n",
      "DEBUG:oc_logger:User running: True\n",
      "DEBUG:oc_logger:User running: True\n",
      "DEBUG:oc_logger:User running: True\n"
     ]
    },
    {
     "name": "stdout",
     "output_type": "stream",
     "text": [
      "Coeff of psi:  0.9730873956877291\n",
      "Coeff of psi_targ:  0.48623278498822753\n",
      "INFO     oc_logger    Function evaluation number: 137, SI: 1, Sub-iteration number: 83, FoM: 2.8916630578386817\n"
     ]
    },
    {
     "name": "stderr",
     "output_type": "stream",
     "text": [
      "INFO:oc_logger:Function evaluation number: 137, SI: 1, Sub-iteration number: 83, FoM: 2.8916630578386817\n",
      "DEBUG:oc_logger:User running: True\n",
      "DEBUG:oc_logger:User running: True\n",
      "DEBUG:oc_logger:User running: True\n",
      "DEBUG:oc_logger:User running: True\n"
     ]
    },
    {
     "name": "stdout",
     "output_type": "stream",
     "text": [
      "Coeff of psi:  0.9747900886937535\n",
      "Coeff of psi_targ:  0.48730136973505345\n",
      "INFO     oc_logger    New record achieved. Previous FoM: 2.8983116972966445, new best FoM : 2.9016274593225333\n"
     ]
    },
    {
     "name": "stderr",
     "output_type": "stream",
     "text": [
      "INFO:oc_logger:New record achieved. Previous FoM: 2.8983116972966445, new best FoM : 2.9016274593225333\n"
     ]
    },
    {
     "name": "stdout",
     "output_type": "stream",
     "text": [
      "INFO     oc_logger    Function evaluation number: 138, SI: 1, Sub-iteration number: 84, FoM: 2.9016274593225333\n"
     ]
    },
    {
     "name": "stderr",
     "output_type": "stream",
     "text": [
      "INFO:oc_logger:Function evaluation number: 138, SI: 1, Sub-iteration number: 84, FoM: 2.9016274593225333\n",
      "DEBUG:oc_logger:User running: True\n",
      "DEBUG:oc_logger:User running: True\n",
      "DEBUG:oc_logger:User running: True\n"
     ]
    },
    {
     "name": "stdout",
     "output_type": "stream",
     "text": [
      "Coeff of psi:  0.9825364149735267\n",
      "Coeff of psi_targ:  0.4911186182933192\n",
      "INFO     oc_logger    New record achieved. Previous FoM: 2.9016274593225333, new best FoM : 2.929246164045016\n"
     ]
    },
    {
     "name": "stderr",
     "output_type": "stream",
     "text": [
      "INFO:oc_logger:New record achieved. Previous FoM: 2.9016274593225333, new best FoM : 2.929246164045016\n"
     ]
    },
    {
     "name": "stdout",
     "output_type": "stream",
     "text": [
      "INFO     oc_logger    Function evaluation number: 139, SI: 1, Sub-iteration number: 84, FoM: 2.929246164045016\n"
     ]
    },
    {
     "name": "stderr",
     "output_type": "stream",
     "text": [
      "INFO:oc_logger:Function evaluation number: 139, SI: 1, Sub-iteration number: 84, FoM: 2.929246164045016\n",
      "DEBUG:oc_logger:User running: True\n",
      "DEBUG:oc_logger:User running: True\n",
      "DEBUG:oc_logger:User running: True\n",
      "DEBUG:oc_logger:User running: True\n"
     ]
    },
    {
     "name": "stdout",
     "output_type": "stream",
     "text": [
      "Coeff of psi:  0.9680699903730565\n",
      "Coeff of psi_targ:  0.47843187594721814\n",
      "INFO     oc_logger    Function evaluation number: 140, SI: 1, Sub-iteration number: 85, FoM: 2.8831113072954624\n"
     ]
    },
    {
     "name": "stderr",
     "output_type": "stream",
     "text": [
      "INFO:oc_logger:Function evaluation number: 140, SI: 1, Sub-iteration number: 85, FoM: 2.8831113072954624\n",
      "DEBUG:oc_logger:User running: True\n",
      "DEBUG:oc_logger:User running: True\n",
      "DEBUG:oc_logger:User running: True\n",
      "DEBUG:oc_logger:User running: True\n"
     ]
    },
    {
     "name": "stdout",
     "output_type": "stream",
     "text": [
      "Coeff of psi:  0.9817044776064187\n",
      "Coeff of psi_targ:  0.4855138081098495\n",
      "INFO     oc_logger    Function evaluation number: 141, SI: 1, Sub-iteration number: 86, FoM: 2.883043148062493\n"
     ]
    },
    {
     "name": "stderr",
     "output_type": "stream",
     "text": [
      "INFO:oc_logger:Function evaluation number: 141, SI: 1, Sub-iteration number: 86, FoM: 2.883043148062493\n",
      "DEBUG:oc_logger:User running: True\n",
      "DEBUG:oc_logger:User running: True\n",
      "DEBUG:oc_logger:User running: True\n",
      "DEBUG:oc_logger:User running: True\n"
     ]
    },
    {
     "name": "stdout",
     "output_type": "stream",
     "text": [
      "Coeff of psi:  0.9847791789998042\n",
      "Coeff of psi_targ:  0.48628326378938663\n",
      "INFO     oc_logger    Function evaluation number: 142, SI: 1, Sub-iteration number: 87, FoM: 2.8916133336557444\n"
     ]
    },
    {
     "name": "stderr",
     "output_type": "stream",
     "text": [
      "INFO:oc_logger:Function evaluation number: 142, SI: 1, Sub-iteration number: 87, FoM: 2.8916133336557444\n",
      "DEBUG:oc_logger:User running: True\n",
      "DEBUG:oc_logger:User running: True\n",
      "DEBUG:oc_logger:User running: True\n",
      "DEBUG:oc_logger:User running: True\n"
     ]
    },
    {
     "name": "stdout",
     "output_type": "stream",
     "text": [
      "Coeff of psi:  0.9874446288627529\n",
      "Coeff of psi_targ:  0.48885546451682166\n",
      "INFO     oc_logger    Function evaluation number: 143, SI: 1, Sub-iteration number: 88, FoM: 2.9110266642917133\n"
     ]
    },
    {
     "name": "stderr",
     "output_type": "stream",
     "text": [
      "INFO:oc_logger:Function evaluation number: 143, SI: 1, Sub-iteration number: 88, FoM: 2.9110266642917133\n",
      "DEBUG:oc_logger:User running: True\n",
      "DEBUG:oc_logger:User running: True\n",
      "DEBUG:oc_logger:User running: True\n",
      "DEBUG:oc_logger:User running: True\n"
     ]
    },
    {
     "name": "stdout",
     "output_type": "stream",
     "text": [
      "Coeff of psi:  0.9895130891591712\n",
      "Coeff of psi_targ:  0.49177812897882156\n",
      "INFO     oc_logger    New record achieved. Previous FoM: 2.929246164045016, new best FoM : 2.9325294909281716\n"
     ]
    },
    {
     "name": "stderr",
     "output_type": "stream",
     "text": [
      "INFO:oc_logger:New record achieved. Previous FoM: 2.929246164045016, new best FoM : 2.9325294909281716\n"
     ]
    },
    {
     "name": "stdout",
     "output_type": "stream",
     "text": [
      "INFO     oc_logger    Function evaluation number: 144, SI: 1, Sub-iteration number: 89, FoM: 2.9325294909281716\n"
     ]
    },
    {
     "name": "stderr",
     "output_type": "stream",
     "text": [
      "INFO:oc_logger:Function evaluation number: 144, SI: 1, Sub-iteration number: 89, FoM: 2.9325294909281716\n",
      "DEBUG:oc_logger:User running: True\n",
      "DEBUG:oc_logger:User running: True\n",
      "DEBUG:oc_logger:User running: True\n"
     ]
    },
    {
     "name": "stdout",
     "output_type": "stream",
     "text": [
      "Coeff of psi:  0.9973520645463476\n",
      "Coeff of psi_targ:  0.49216627262806223\n",
      "INFO     oc_logger    New record achieved. Previous FoM: 2.9325294909281716, new best FoM : 2.9475555421907402\n"
     ]
    },
    {
     "name": "stderr",
     "output_type": "stream",
     "text": [
      "INFO:oc_logger:New record achieved. Previous FoM: 2.9325294909281716, new best FoM : 2.9475555421907402\n"
     ]
    },
    {
     "name": "stdout",
     "output_type": "stream",
     "text": [
      "INFO     oc_logger    Function evaluation number: 145, SI: 1, Sub-iteration number: 89, FoM: 2.9475555421907402\n"
     ]
    },
    {
     "name": "stderr",
     "output_type": "stream",
     "text": [
      "INFO:oc_logger:Function evaluation number: 145, SI: 1, Sub-iteration number: 89, FoM: 2.9475555421907402\n",
      "DEBUG:oc_logger:User running: True\n",
      "DEBUG:oc_logger:User running: True\n",
      "DEBUG:oc_logger:User running: True\n",
      "DEBUG:oc_logger:User running: True\n"
     ]
    },
    {
     "name": "stdout",
     "output_type": "stream",
     "text": [
      "Coeff of psi:  0.9821857159493159\n",
      "Coeff of psi_targ:  0.4904151629431891\n",
      "INFO     oc_logger    Function evaluation number: 146, SI: 1, Sub-iteration number: 90, FoM: 2.936755277007453\n"
     ]
    },
    {
     "name": "stderr",
     "output_type": "stream",
     "text": [
      "INFO:oc_logger:Function evaluation number: 146, SI: 1, Sub-iteration number: 90, FoM: 2.936755277007453\n",
      "DEBUG:oc_logger:User running: True\n",
      "DEBUG:oc_logger:User running: True\n",
      "DEBUG:oc_logger:User running: True\n",
      "DEBUG:oc_logger:User running: True\n"
     ]
    },
    {
     "name": "stdout",
     "output_type": "stream",
     "text": [
      "Coeff of psi:  0.9936883713893834\n",
      "Coeff of psi_targ:  0.4901664367580343\n",
      "INFO     oc_logger    Function evaluation number: 147, SI: 1, Sub-iteration number: 91, FoM: 2.9280864163170457\n"
     ]
    },
    {
     "name": "stderr",
     "output_type": "stream",
     "text": [
      "INFO:oc_logger:Function evaluation number: 147, SI: 1, Sub-iteration number: 91, FoM: 2.9280864163170457\n",
      "DEBUG:oc_logger:User running: True\n",
      "DEBUG:oc_logger:User running: True\n",
      "DEBUG:oc_logger:User running: True\n",
      "DEBUG:oc_logger:User running: True\n"
     ]
    },
    {
     "name": "stdout",
     "output_type": "stream",
     "text": [
      "Coeff of psi:  0.9906464555836932\n",
      "Coeff of psi_targ:  0.4953045525944313\n",
      "INFO     oc_logger    New record achieved. Previous FoM: 2.9475555421907402, new best FoM : 2.962420212393608\n"
     ]
    },
    {
     "name": "stderr",
     "output_type": "stream",
     "text": [
      "INFO:oc_logger:New record achieved. Previous FoM: 2.9475555421907402, new best FoM : 2.962420212393608\n"
     ]
    },
    {
     "name": "stdout",
     "output_type": "stream",
     "text": [
      "INFO     oc_logger    Function evaluation number: 148, SI: 1, Sub-iteration number: 92, FoM: 2.962420212393608\n"
     ]
    },
    {
     "name": "stderr",
     "output_type": "stream",
     "text": [
      "INFO:oc_logger:Function evaluation number: 148, SI: 1, Sub-iteration number: 92, FoM: 2.962420212393608\n",
      "DEBUG:oc_logger:User running: True\n",
      "DEBUG:oc_logger:User running: True\n",
      "DEBUG:oc_logger:User running: True\n"
     ]
    },
    {
     "name": "stdout",
     "output_type": "stream",
     "text": [
      "Coeff of psi:  0.9965700337847824\n",
      "Coeff of psi_targ:  0.4979143479818059\n",
      "INFO     oc_logger    New record achieved. Previous FoM: 2.962420212393608, new best FoM : 2.986136142399159\n"
     ]
    },
    {
     "name": "stderr",
     "output_type": "stream",
     "text": [
      "INFO:oc_logger:New record achieved. Previous FoM: 2.962420212393608, new best FoM : 2.986136142399159\n"
     ]
    },
    {
     "name": "stdout",
     "output_type": "stream",
     "text": [
      "INFO     oc_logger    Function evaluation number: 149, SI: 1, Sub-iteration number: 92, FoM: 2.986136142399159\n"
     ]
    },
    {
     "name": "stderr",
     "output_type": "stream",
     "text": [
      "INFO:oc_logger:Function evaluation number: 149, SI: 1, Sub-iteration number: 92, FoM: 2.986136142399159\n",
      "DEBUG:oc_logger:User running: True\n",
      "DEBUG:oc_logger:User running: True\n",
      "DEBUG:oc_logger:User running: True\n",
      "DEBUG:oc_logger:User running: True\n"
     ]
    },
    {
     "name": "stdout",
     "output_type": "stream",
     "text": [
      "Coeff of psi:  0.9900563098583789\n",
      "Coeff of psi_targ:  0.4942781390119006\n",
      "INFO     oc_logger    Function evaluation number: 150, SI: 1, Sub-iteration number: 93, FoM: 2.963806081089536\n"
     ]
    },
    {
     "name": "stderr",
     "output_type": "stream",
     "text": [
      "INFO:oc_logger:Function evaluation number: 150, SI: 1, Sub-iteration number: 93, FoM: 2.963806081089536\n",
      "DEBUG:oc_logger:User running: True\n",
      "DEBUG:oc_logger:User running: True\n",
      "DEBUG:oc_logger:User running: True\n",
      "DEBUG:oc_logger:User running: True\n"
     ]
    },
    {
     "name": "stdout",
     "output_type": "stream",
     "text": [
      "Coeff of psi:  0.9982764485756086\n",
      "Coeff of psi_targ:  0.4829528966547613\n",
      "INFO     oc_logger    Function evaluation number: 151, SI: 1, Sub-iteration number: 94, FoM: 2.902145737628884\n"
     ]
    },
    {
     "name": "stderr",
     "output_type": "stream",
     "text": [
      "INFO:oc_logger:Function evaluation number: 151, SI: 1, Sub-iteration number: 94, FoM: 2.902145737628884\n",
      "DEBUG:oc_logger:User running: True\n",
      "DEBUG:oc_logger:User running: True\n",
      "DEBUG:oc_logger:User running: True\n",
      "DEBUG:oc_logger:User running: True\n"
     ]
    },
    {
     "name": "stdout",
     "output_type": "stream",
     "text": [
      "Coeff of psi:  0.9936903842640576\n",
      "Coeff of psi_targ:  0.49668328450143917\n",
      "INFO     oc_logger    Function evaluation number: 152, SI: 1, Sub-iteration number: 95, FoM: 2.976146746000518\n"
     ]
    },
    {
     "name": "stderr",
     "output_type": "stream",
     "text": [
      "INFO:oc_logger:Function evaluation number: 152, SI: 1, Sub-iteration number: 95, FoM: 2.976146746000518\n",
      "DEBUG:oc_logger:User running: True\n",
      "DEBUG:oc_logger:User running: True\n",
      "DEBUG:oc_logger:User running: True\n",
      "DEBUG:oc_logger:User running: True\n"
     ]
    },
    {
     "name": "stdout",
     "output_type": "stream",
     "text": [
      "Coeff of psi:  0.9992483678315471\n",
      "Coeff of psi_targ:  0.4978530569711735\n",
      "INFO     oc_logger    Function evaluation number: 153, SI: 1, Sub-iteration number: 96, FoM: 2.984353668845714\n"
     ]
    },
    {
     "name": "stderr",
     "output_type": "stream",
     "text": [
      "INFO:oc_logger:Function evaluation number: 153, SI: 1, Sub-iteration number: 96, FoM: 2.984353668845714\n",
      "DEBUG:oc_logger:User running: True\n",
      "DEBUG:oc_logger:User running: True\n",
      "DEBUG:oc_logger:User running: True\n",
      "DEBUG:oc_logger:User running: True\n"
     ]
    },
    {
     "name": "stdout",
     "output_type": "stream",
     "text": [
      "Coeff of psi:  0.9999995527031403\n",
      "Coeff of psi_targ:  0.49555404711912726\n",
      "INFO     oc_logger    Function evaluation number: 154, SI: 1, Sub-iteration number: 97, FoM: 2.9769227345403286\n"
     ]
    },
    {
     "name": "stderr",
     "output_type": "stream",
     "text": [
      "INFO:oc_logger:Function evaluation number: 154, SI: 1, Sub-iteration number: 97, FoM: 2.9769227345403286\n",
      "DEBUG:oc_logger:User running: True\n",
      "DEBUG:oc_logger:User running: True\n",
      "DEBUG:oc_logger:User running: True\n",
      "DEBUG:oc_logger:User running: True\n"
     ]
    },
    {
     "name": "stdout",
     "output_type": "stream",
     "text": [
      "Coeff of psi:  0.9893807487879918\n",
      "Coeff of psi_targ:  0.48928645905687473\n",
      "INFO     oc_logger    Function evaluation number: 155, SI: 1, Sub-iteration number: 98, FoM: 2.9499169143982003\n"
     ]
    },
    {
     "name": "stderr",
     "output_type": "stream",
     "text": [
      "INFO:oc_logger:Function evaluation number: 155, SI: 1, Sub-iteration number: 98, FoM: 2.9499169143982003\n",
      "DEBUG:oc_logger:User running: True\n",
      "DEBUG:oc_logger:User running: True\n",
      "DEBUG:oc_logger:User running: True\n",
      "DEBUG:oc_logger:User running: True\n"
     ]
    },
    {
     "name": "stdout",
     "output_type": "stream",
     "text": [
      "Coeff of psi:  0.999056276359399\n",
      "Coeff of psi_targ:  0.49794445316310915\n",
      "INFO     oc_logger    New record achieved. Previous FoM: 2.986136142399159, new best FoM : 2.9896543319456708\n"
     ]
    },
    {
     "name": "stderr",
     "output_type": "stream",
     "text": [
      "INFO:oc_logger:New record achieved. Previous FoM: 2.986136142399159, new best FoM : 2.9896543319456708\n"
     ]
    },
    {
     "name": "stdout",
     "output_type": "stream",
     "text": [
      "INFO     oc_logger    Function evaluation number: 156, SI: 1, Sub-iteration number: 99, FoM: 2.9896543319456708\n"
     ]
    },
    {
     "name": "stderr",
     "output_type": "stream",
     "text": [
      "INFO:oc_logger:Function evaluation number: 156, SI: 1, Sub-iteration number: 99, FoM: 2.9896543319456708\n",
      "DEBUG:oc_logger:User running: True\n",
      "DEBUG:oc_logger:User running: True\n",
      "DEBUG:oc_logger:User running: True\n"
     ]
    },
    {
     "name": "stdout",
     "output_type": "stream",
     "text": [
      "Coeff of psi:  0.9994182930678231\n",
      "Coeff of psi_targ:  0.4923985621554797\n",
      "INFO     oc_logger    Function evaluation number: 157, SI: 1, Sub-iteration number: 99, FoM: 2.953985079316482\n"
     ]
    },
    {
     "name": "stderr",
     "output_type": "stream",
     "text": [
      "INFO:oc_logger:Function evaluation number: 157, SI: 1, Sub-iteration number: 99, FoM: 2.953985079316482\n",
      "DEBUG:oc_logger:User running: True\n",
      "DEBUG:oc_logger:User running: True\n",
      "DEBUG:oc_logger:User running: True\n",
      "DEBUG:oc_logger:User running: True\n"
     ]
    },
    {
     "name": "stdout",
     "output_type": "stream",
     "text": [
      "Coeff of psi:  0.9972393290840348\n",
      "Coeff of psi_targ:  0.49260327575232266\n",
      "INFO     oc_logger    Function evaluation number: 158, SI: 1, Sub-iteration number: 100, FoM: 2.968213036579512\n"
     ]
    },
    {
     "name": "stderr",
     "output_type": "stream",
     "text": [
      "INFO:oc_logger:Function evaluation number: 158, SI: 1, Sub-iteration number: 100, FoM: 2.968213036579512\n",
      "DEBUG:oc_logger:User running: True\n",
      "DEBUG:oc_logger:User running: True\n",
      "DEBUG:oc_logger:User running: True\n",
      "DEBUG:oc_logger:User running: True\n"
     ]
    },
    {
     "name": "stdout",
     "output_type": "stream",
     "text": [
      "Coeff of psi:  0.999917501343713\n",
      "Coeff of psi_targ:  0.49934649179229257\n",
      "INFO     oc_logger    New record achieved. Previous FoM: 2.9896543319456708, new best FoM : 2.993925697356634\n"
     ]
    },
    {
     "name": "stderr",
     "output_type": "stream",
     "text": [
      "INFO:oc_logger:New record achieved. Previous FoM: 2.9896543319456708, new best FoM : 2.993925697356634\n"
     ]
    },
    {
     "name": "stdout",
     "output_type": "stream",
     "text": [
      "INFO     oc_logger    Function evaluation number: 159, SI: 1, Sub-iteration number: 101, FoM: 2.993925697356634\n"
     ]
    },
    {
     "name": "stderr",
     "output_type": "stream",
     "text": [
      "INFO:oc_logger:Function evaluation number: 159, SI: 1, Sub-iteration number: 101, FoM: 2.993925697356634\n",
      "DEBUG:oc_logger:User running: True\n",
      "DEBUG:oc_logger:User running: True\n",
      "DEBUG:oc_logger:User running: True\n"
     ]
    },
    {
     "name": "stdout",
     "output_type": "stream",
     "text": [
      "Coeff of psi:  0.9924633268644727\n",
      "Coeff of psi_targ:  0.4950145720369536\n",
      "INFO     oc_logger    Function evaluation number: 160, SI: 1, Sub-iteration number: 101, FoM: 2.9533184174404408\n"
     ]
    },
    {
     "name": "stderr",
     "output_type": "stream",
     "text": [
      "INFO:oc_logger:Function evaluation number: 160, SI: 1, Sub-iteration number: 101, FoM: 2.9533184174404408\n",
      "DEBUG:oc_logger:User running: True\n",
      "DEBUG:oc_logger:User running: True\n",
      "DEBUG:oc_logger:User running: True\n",
      "DEBUG:oc_logger:User running: True\n"
     ]
    },
    {
     "name": "stdout",
     "output_type": "stream",
     "text": [
      "Coeff of psi:  0.9988397722999912\n",
      "Coeff of psi_targ:  0.49927893659961065\n",
      "INFO     oc_logger    Function evaluation number: 161, SI: 1, Sub-iteration number: 102, FoM: 2.993796191140397\n"
     ]
    },
    {
     "name": "stderr",
     "output_type": "stream",
     "text": [
      "INFO:oc_logger:Function evaluation number: 161, SI: 1, Sub-iteration number: 102, FoM: 2.993796191140397\n",
      "DEBUG:oc_logger:User running: True\n",
      "DEBUG:oc_logger:User running: True\n",
      "DEBUG:oc_logger:User running: True\n",
      "DEBUG:oc_logger:User running: True\n"
     ]
    },
    {
     "name": "stdout",
     "output_type": "stream",
     "text": [
      "Coeff of psi:  0.9997159947262623\n",
      "Coeff of psi_targ:  0.48854207327965854\n",
      "INFO     oc_logger    Function evaluation number: 162, SI: 1, Sub-iteration number: 103, FoM: 2.9460354547495373\n"
     ]
    },
    {
     "name": "stderr",
     "output_type": "stream",
     "text": [
      "INFO:oc_logger:Function evaluation number: 162, SI: 1, Sub-iteration number: 103, FoM: 2.9460354547495373\n",
      "DEBUG:oc_logger:User running: True\n",
      "DEBUG:oc_logger:User running: True\n",
      "DEBUG:oc_logger:User running: True\n"
     ]
    },
    {
     "name": "stdout",
     "output_type": "stream",
     "text": [
      "Coeff of psi:  0.9975592410456463\n",
      "Coeff of psi_targ:  0.4977852216161612\n",
      "INFO     oc_logger    Function evaluation number: 163, SI: 1, Sub-iteration number: 103, FoM: 2.980770542685973\n"
     ]
    },
    {
     "name": "stderr",
     "output_type": "stream",
     "text": [
      "INFO:oc_logger:Function evaluation number: 163, SI: 1, Sub-iteration number: 103, FoM: 2.980770542685973\n",
      "DEBUG:oc_logger:User running: True\n",
      "DEBUG:oc_logger:User running: True\n",
      "DEBUG:oc_logger:User running: True\n",
      "DEBUG:oc_logger:User running: True\n"
     ]
    },
    {
     "name": "stdout",
     "output_type": "stream",
     "text": [
      "Coeff of psi:  0.9989934055110169\n",
      "Coeff of psi_targ:  0.49556705276988433\n",
      "INFO     oc_logger    Function evaluation number: 164, SI: 1, Sub-iteration number: 104, FoM: 2.9804962355818985\n"
     ]
    },
    {
     "name": "stderr",
     "output_type": "stream",
     "text": [
      "INFO:oc_logger:Function evaluation number: 164, SI: 1, Sub-iteration number: 104, FoM: 2.9804962355818985\n",
      "DEBUG:oc_logger:User running: True\n",
      "DEBUG:oc_logger:User running: True\n",
      "DEBUG:oc_logger:User running: True\n",
      "DEBUG:oc_logger:User running: True\n"
     ]
    },
    {
     "name": "stdout",
     "output_type": "stream",
     "text": [
      "Coeff of psi:  0.997097214303941\n",
      "Coeff of psi_targ:  0.49717257325719283\n",
      "INFO     oc_logger    Function evaluation number: 165, SI: 1, Sub-iteration number: 105, FoM: 2.985186648770463\n"
     ]
    },
    {
     "name": "stderr",
     "output_type": "stream",
     "text": [
      "INFO:oc_logger:Function evaluation number: 165, SI: 1, Sub-iteration number: 105, FoM: 2.985186648770463\n",
      "DEBUG:oc_logger:User running: True\n",
      "DEBUG:oc_logger:User running: True\n",
      "DEBUG:oc_logger:User running: True\n",
      "DEBUG:oc_logger:User running: True\n"
     ]
    },
    {
     "name": "stdout",
     "output_type": "stream",
     "text": [
      "Coeff of psi:  0.9988409942811787\n",
      "Coeff of psi_targ:  0.4878367720705367\n",
      "INFO     oc_logger    Function evaluation number: 166, SI: 1, Sub-iteration number: 106, FoM: 2.9469480600641247\n"
     ]
    },
    {
     "name": "stderr",
     "output_type": "stream",
     "text": [
      "INFO:oc_logger:Function evaluation number: 166, SI: 1, Sub-iteration number: 106, FoM: 2.9469480600641247\n",
      "DEBUG:oc_logger:User running: True\n",
      "DEBUG:oc_logger:User running: True\n",
      "DEBUG:oc_logger:User running: True\n"
     ]
    },
    {
     "name": "stdout",
     "output_type": "stream",
     "text": [
      "Coeff of psi:  0.9988790882631389\n",
      "Coeff of psi_targ:  0.49845039328205293\n",
      "INFO     oc_logger    Function evaluation number: 167, SI: 1, Sub-iteration number: 106, FoM: 2.991497651120115\n"
     ]
    },
    {
     "name": "stderr",
     "output_type": "stream",
     "text": [
      "INFO:oc_logger:Function evaluation number: 167, SI: 1, Sub-iteration number: 106, FoM: 2.991497651120115\n",
      "DEBUG:oc_logger:User running: True\n",
      "DEBUG:oc_logger:User running: True\n",
      "DEBUG:oc_logger:User running: True\n",
      "DEBUG:oc_logger:User running: True\n"
     ]
    },
    {
     "name": "stdout",
     "output_type": "stream",
     "text": [
      "Coeff of psi:  0.9958578717487547\n",
      "Coeff of psi_targ:  0.4962197907130205\n",
      "INFO     oc_logger    Function evaluation number: 168, SI: 1, Sub-iteration number: 107, FoM: 2.9804399489242797\n"
     ]
    },
    {
     "name": "stderr",
     "output_type": "stream",
     "text": [
      "INFO:oc_logger:Function evaluation number: 168, SI: 1, Sub-iteration number: 107, FoM: 2.9804399489242797\n",
      "DEBUG:oc_logger:User running: True\n",
      "DEBUG:oc_logger:User running: True\n",
      "DEBUG:oc_logger:User running: True\n",
      "DEBUG:oc_logger:User running: True\n"
     ]
    },
    {
     "name": "stdout",
     "output_type": "stream",
     "text": [
      "Coeff of psi:  0.9999974917343456\n",
      "Coeff of psi_targ:  0.4980276103231859\n",
      "INFO     oc_logger    Function evaluation number: 169, SI: 1, Sub-iteration number: 108, FoM: 2.988017918424171\n"
     ]
    },
    {
     "name": "stderr",
     "output_type": "stream",
     "text": [
      "INFO:oc_logger:Function evaluation number: 169, SI: 1, Sub-iteration number: 108, FoM: 2.988017918424171\n",
      "DEBUG:oc_logger:User running: True\n",
      "DEBUG:oc_logger:User running: True\n",
      "DEBUG:oc_logger:User running: True\n",
      "DEBUG:oc_logger:User running: True\n"
     ]
    },
    {
     "name": "stdout",
     "output_type": "stream",
     "text": [
      "Coeff of psi:  0.9936871229192558\n",
      "Coeff of psi_targ:  0.49557364699278555\n",
      "INFO     oc_logger    Function evaluation number: 170, SI: 1, Sub-iteration number: 109, FoM: 2.9749346192648667\n"
     ]
    },
    {
     "name": "stderr",
     "output_type": "stream",
     "text": [
      "INFO:oc_logger:Function evaluation number: 170, SI: 1, Sub-iteration number: 109, FoM: 2.9749346192648667\n",
      "DEBUG:oc_logger:User running: True\n",
      "DEBUG:oc_logger:User running: True\n",
      "DEBUG:oc_logger:User running: True\n"
     ]
    },
    {
     "name": "stdout",
     "output_type": "stream",
     "text": [
      "Coeff of psi:  0.9992068268285719\n",
      "Coeff of psi_targ:  0.4991386194957964\n",
      "INFO     oc_logger    New record achieved. Previous FoM: 2.993925697356634, new best FoM : 2.9942769647976304\n"
     ]
    },
    {
     "name": "stderr",
     "output_type": "stream",
     "text": [
      "INFO:oc_logger:New record achieved. Previous FoM: 2.993925697356634, new best FoM : 2.9942769647976304\n"
     ]
    },
    {
     "name": "stdout",
     "output_type": "stream",
     "text": [
      "INFO     oc_logger    Function evaluation number: 171, SI: 1, Sub-iteration number: 109, FoM: 2.9942769647976304\n"
     ]
    },
    {
     "name": "stderr",
     "output_type": "stream",
     "text": [
      "INFO:oc_logger:Function evaluation number: 171, SI: 1, Sub-iteration number: 109, FoM: 2.9942769647976304\n",
      "DEBUG:oc_logger:User running: True\n",
      "DEBUG:oc_logger:User running: True\n",
      "DEBUG:oc_logger:User running: True\n",
      "DEBUG:oc_logger:User running: True\n"
     ]
    },
    {
     "name": "stdout",
     "output_type": "stream",
     "text": [
      "Coeff of psi:  0.9979539898451772\n",
      "Coeff of psi_targ:  0.49448917145776056\n",
      "INFO     oc_logger    Function evaluation number: 172, SI: 1, Sub-iteration number: 110, FoM: 2.975835436187766\n"
     ]
    },
    {
     "name": "stderr",
     "output_type": "stream",
     "text": [
      "INFO:oc_logger:Function evaluation number: 172, SI: 1, Sub-iteration number: 110, FoM: 2.975835436187766\n",
      "DEBUG:oc_logger:User running: True\n",
      "DEBUG:oc_logger:User running: True\n",
      "DEBUG:oc_logger:User running: True\n"
     ]
    },
    {
     "name": "stdout",
     "output_type": "stream",
     "text": [
      "Coeff of psi:  0.9998689857490665\n",
      "Coeff of psi_targ:  0.49901226520431935\n",
      "INFO     oc_logger    Function evaluation number: 173, SI: 1, Sub-iteration number: 110, FoM: 2.9941601937630122\n"
     ]
    },
    {
     "name": "stderr",
     "output_type": "stream",
     "text": [
      "INFO:oc_logger:Function evaluation number: 173, SI: 1, Sub-iteration number: 110, FoM: 2.9941601937630122\n",
      "DEBUG:oc_logger:User running: True\n",
      "DEBUG:oc_logger:User running: True\n",
      "DEBUG:oc_logger:User running: True\n",
      "DEBUG:oc_logger:User running: True\n"
     ]
    },
    {
     "name": "stdout",
     "output_type": "stream",
     "text": [
      "Coeff of psi:  0.9974203914077855\n",
      "Coeff of psi_targ:  0.4977292205393799\n",
      "INFO     oc_logger    Function evaluation number: 174, SI: 1, Sub-iteration number: 111, FoM: 2.978307487231532\n"
     ]
    },
    {
     "name": "stderr",
     "output_type": "stream",
     "text": [
      "INFO:oc_logger:Function evaluation number: 174, SI: 1, Sub-iteration number: 111, FoM: 2.978307487231532\n",
      "DEBUG:oc_logger:User running: True\n",
      "DEBUG:oc_logger:User running: True\n",
      "DEBUG:oc_logger:User running: True\n"
     ]
    },
    {
     "name": "stdout",
     "output_type": "stream",
     "text": [
      "Coeff of psi:  0.9992987887731523\n",
      "Coeff of psi_targ:  0.4994476555102058\n",
      "INFO     oc_logger    Function evaluation number: 175, SI: 1, Sub-iteration number: 111, FoM: 2.9937422204653954\n"
     ]
    },
    {
     "name": "stderr",
     "output_type": "stream",
     "text": [
      "INFO:oc_logger:Function evaluation number: 175, SI: 1, Sub-iteration number: 111, FoM: 2.9937422204653954\n",
      "DEBUG:oc_logger:User running: True\n",
      "DEBUG:oc_logger:User running: True\n",
      "DEBUG:oc_logger:User running: True\n",
      "DEBUG:oc_logger:User running: True\n"
     ]
    },
    {
     "name": "stdout",
     "output_type": "stream",
     "text": [
      "Coeff of psi:  0.9991415031929196\n",
      "Coeff of psi_targ:  0.497218254999061\n",
      "INFO     oc_logger    Function evaluation number: 176, SI: 1, Sub-iteration number: 112, FoM: 2.978893395424309\n"
     ]
    },
    {
     "name": "stderr",
     "output_type": "stream",
     "text": [
      "INFO:oc_logger:Function evaluation number: 176, SI: 1, Sub-iteration number: 112, FoM: 2.978893395424309\n",
      "DEBUG:oc_logger:User running: True\n",
      "DEBUG:oc_logger:User running: True\n",
      "DEBUG:oc_logger:User running: True\n"
     ]
    },
    {
     "name": "stdout",
     "output_type": "stream",
     "text": [
      "Coeff of psi:  0.9997668756647261\n",
      "Coeff of psi_targ:  0.4995483122135091\n",
      "INFO     oc_logger    New record achieved. Previous FoM: 2.9942769647976304, new best FoM : 2.995095912796663\n"
     ]
    },
    {
     "name": "stderr",
     "output_type": "stream",
     "text": [
      "INFO:oc_logger:New record achieved. Previous FoM: 2.9942769647976304, new best FoM : 2.995095912796663\n"
     ]
    },
    {
     "name": "stdout",
     "output_type": "stream",
     "text": [
      "INFO     oc_logger    Function evaluation number: 177, SI: 1, Sub-iteration number: 112, FoM: 2.995095912796663\n"
     ]
    },
    {
     "name": "stderr",
     "output_type": "stream",
     "text": [
      "INFO:oc_logger:Function evaluation number: 177, SI: 1, Sub-iteration number: 112, FoM: 2.995095912796663\n",
      "DEBUG:oc_logger:User running: True\n",
      "DEBUG:oc_logger:User running: True\n",
      "DEBUG:oc_logger:User running: True\n",
      "DEBUG:oc_logger:User running: True\n"
     ]
    },
    {
     "name": "stdout",
     "output_type": "stream",
     "text": [
      "Coeff of psi:  0.9950664755822988\n",
      "Coeff of psi_targ:  0.49509409032424856\n",
      "INFO     oc_logger    Function evaluation number: 178, SI: 1, Sub-iteration number: 113, FoM: 2.9759405962197913\n"
     ]
    },
    {
     "name": "stderr",
     "output_type": "stream",
     "text": [
      "INFO:oc_logger:Function evaluation number: 178, SI: 1, Sub-iteration number: 113, FoM: 2.9759405962197913\n",
      "DEBUG:oc_logger:User running: True\n",
      "DEBUG:oc_logger:User running: True\n",
      "DEBUG:oc_logger:User running: True\n"
     ]
    },
    {
     "name": "stdout",
     "output_type": "stream",
     "text": [
      "Coeff of psi:  0.9994864632287958\n",
      "Coeff of psi_targ:  0.4995124651673682\n",
      "INFO     oc_logger    New record achieved. Previous FoM: 2.995095912796663, new best FoM : 2.9957950495414067\n"
     ]
    },
    {
     "name": "stderr",
     "output_type": "stream",
     "text": [
      "INFO:oc_logger:New record achieved. Previous FoM: 2.995095912796663, new best FoM : 2.9957950495414067\n"
     ]
    },
    {
     "name": "stdout",
     "output_type": "stream",
     "text": [
      "INFO     oc_logger    Function evaluation number: 179, SI: 1, Sub-iteration number: 113, FoM: 2.9957950495414067\n"
     ]
    },
    {
     "name": "stderr",
     "output_type": "stream",
     "text": [
      "INFO:oc_logger:Function evaluation number: 179, SI: 1, Sub-iteration number: 113, FoM: 2.9957950495414067\n",
      "DEBUG:oc_logger:User running: True\n",
      "DEBUG:oc_logger:User running: True\n",
      "DEBUG:oc_logger:User running: True\n",
      "DEBUG:oc_logger:User running: True\n"
     ]
    },
    {
     "name": "stdout",
     "output_type": "stream",
     "text": [
      "Coeff of psi:  0.9965287534388297\n",
      "Coeff of psi_targ:  0.49804834825140487\n",
      "INFO     oc_logger    Function evaluation number: 180, SI: 1, Sub-iteration number: 114, FoM: 2.985515977275523\n"
     ]
    },
    {
     "name": "stderr",
     "output_type": "stream",
     "text": [
      "INFO:oc_logger:Function evaluation number: 180, SI: 1, Sub-iteration number: 114, FoM: 2.985515977275523\n",
      "DEBUG:oc_logger:User running: True\n",
      "DEBUG:oc_logger:User running: True\n",
      "DEBUG:oc_logger:User running: True\n"
     ]
    },
    {
     "name": "stdout",
     "output_type": "stream",
     "text": [
      "Coeff of psi:  0.9991253408663195\n",
      "Coeff of psi_targ:  0.4994329556391129\n",
      "INFO     oc_logger    Function evaluation number: 181, SI: 1, Sub-iteration number: 114, FoM: 2.9949817340529186\n"
     ]
    },
    {
     "name": "stderr",
     "output_type": "stream",
     "text": [
      "INFO:oc_logger:Function evaluation number: 181, SI: 1, Sub-iteration number: 114, FoM: 2.9949817340529186\n",
      "DEBUG:oc_logger:User running: True\n",
      "DEBUG:oc_logger:User running: True\n",
      "DEBUG:oc_logger:User running: True\n",
      "DEBUG:oc_logger:User running: True\n"
     ]
    },
    {
     "name": "stdout",
     "output_type": "stream",
     "text": [
      "Coeff of psi:  0.9999682694125094\n",
      "Coeff of psi_targ:  0.4978982730563946\n",
      "INFO     oc_logger    Function evaluation number: 182, SI: 1, Sub-iteration number: 115, FoM: 2.987596280896296\n"
     ]
    },
    {
     "name": "stderr",
     "output_type": "stream",
     "text": [
      "INFO:oc_logger:Function evaluation number: 182, SI: 1, Sub-iteration number: 115, FoM: 2.987596280896296\n",
      "DEBUG:oc_logger:User running: True\n",
      "DEBUG:oc_logger:User running: True\n",
      "DEBUG:oc_logger:User running: True\n"
     ]
    },
    {
     "name": "stdout",
     "output_type": "stream",
     "text": [
      "Coeff of psi:  0.9999987129306587\n",
      "Coeff of psi_targ:  0.4995073022574408\n",
      "INFO     oc_logger    Function evaluation number: 183, SI: 1, Sub-iteration number: 115, FoM: 2.9955516120308348\n"
     ]
    },
    {
     "name": "stderr",
     "output_type": "stream",
     "text": [
      "INFO:oc_logger:Function evaluation number: 183, SI: 1, Sub-iteration number: 115, FoM: 2.9955516120308348\n",
      "DEBUG:oc_logger:User running: True\n",
      "DEBUG:oc_logger:User running: True\n",
      "DEBUG:oc_logger:User running: True\n",
      "DEBUG:oc_logger:User running: True\n"
     ]
    },
    {
     "name": "stdout",
     "output_type": "stream",
     "text": [
      "Coeff of psi:  0.9990435645319795\n",
      "Coeff of psi_targ:  0.4976109018941732\n",
      "INFO     oc_logger    Function evaluation number: 184, SI: 1, Sub-iteration number: 116, FoM: 2.9886887078959177\n"
     ]
    },
    {
     "name": "stderr",
     "output_type": "stream",
     "text": [
      "INFO:oc_logger:Function evaluation number: 184, SI: 1, Sub-iteration number: 116, FoM: 2.9886887078959177\n",
      "DEBUG:oc_logger:User running: True\n",
      "DEBUG:oc_logger:User running: True\n",
      "DEBUG:oc_logger:User running: True\n"
     ]
    },
    {
     "name": "stdout",
     "output_type": "stream",
     "text": [
      "Coeff of psi:  0.9997552377510789\n",
      "Coeff of psi_targ:  0.49952012198552487\n",
      "INFO     oc_logger    New record achieved. Previous FoM: 2.9957950495414067, new best FoM : 2.9960392501117212\n"
     ]
    },
    {
     "name": "stderr",
     "output_type": "stream",
     "text": [
      "INFO:oc_logger:New record achieved. Previous FoM: 2.9957950495414067, new best FoM : 2.9960392501117212\n"
     ]
    },
    {
     "name": "stdout",
     "output_type": "stream",
     "text": [
      "INFO     oc_logger    Function evaluation number: 185, SI: 1, Sub-iteration number: 116, FoM: 2.9960392501117212\n"
     ]
    },
    {
     "name": "stderr",
     "output_type": "stream",
     "text": [
      "INFO:oc_logger:Function evaluation number: 185, SI: 1, Sub-iteration number: 116, FoM: 2.9960392501117212\n",
      "DEBUG:oc_logger:User running: True\n",
      "DEBUG:oc_logger:User running: True\n",
      "DEBUG:oc_logger:User running: True\n",
      "DEBUG:oc_logger:User running: True\n"
     ]
    },
    {
     "name": "stdout",
     "output_type": "stream",
     "text": [
      "Coeff of psi:  0.9986369371210694\n",
      "Coeff of psi_targ:  0.49787775494030584\n",
      "INFO     oc_logger    Function evaluation number: 186, SI: 1, Sub-iteration number: 117, FoM: 2.9894347209322465\n"
     ]
    },
    {
     "name": "stderr",
     "output_type": "stream",
     "text": [
      "INFO:oc_logger:Function evaluation number: 186, SI: 1, Sub-iteration number: 117, FoM: 2.9894347209322465\n",
      "DEBUG:oc_logger:User running: True\n",
      "DEBUG:oc_logger:User running: True\n",
      "DEBUG:oc_logger:User running: True\n"
     ]
    },
    {
     "name": "stdout",
     "output_type": "stream",
     "text": [
      "Coeff of psi:  0.9997414171975775\n",
      "Coeff of psi_targ:  0.4996715558076994\n",
      "INFO     oc_logger    New record achieved. Previous FoM: 2.9960392501117212, new best FoM : 2.996622770643571\n"
     ]
    },
    {
     "name": "stderr",
     "output_type": "stream",
     "text": [
      "INFO:oc_logger:New record achieved. Previous FoM: 2.9960392501117212, new best FoM : 2.996622770643571\n"
     ]
    },
    {
     "name": "stdout",
     "output_type": "stream",
     "text": [
      "INFO     oc_logger    Function evaluation number: 187, SI: 1, Sub-iteration number: 117, FoM: 2.996622770643571\n"
     ]
    },
    {
     "name": "stderr",
     "output_type": "stream",
     "text": [
      "INFO:oc_logger:Function evaluation number: 187, SI: 1, Sub-iteration number: 117, FoM: 2.996622770643571\n",
      "DEBUG:oc_logger:User running: True\n",
      "DEBUG:oc_logger:User running: True\n",
      "DEBUG:oc_logger:User running: True\n",
      "DEBUG:oc_logger:User running: True\n"
     ]
    },
    {
     "name": "stdout",
     "output_type": "stream",
     "text": [
      "Coeff of psi:  0.9989193220349304\n",
      "Coeff of psi_targ:  0.4993146178207455\n",
      "INFO     oc_logger    Function evaluation number: 188, SI: 1, Sub-iteration number: 118, FoM: 2.99178976747013\n"
     ]
    },
    {
     "name": "stderr",
     "output_type": "stream",
     "text": [
      "INFO:oc_logger:Function evaluation number: 188, SI: 1, Sub-iteration number: 118, FoM: 2.99178976747013\n",
      "DEBUG:oc_logger:User running: True\n",
      "DEBUG:oc_logger:User running: True\n",
      "DEBUG:oc_logger:User running: True\n"
     ]
    },
    {
     "name": "stdout",
     "output_type": "stream",
     "text": [
      "Coeff of psi:  0.999852278835761\n",
      "Coeff of psi_targ:  0.49987446165293475\n",
      "INFO     oc_logger    New record achieved. Previous FoM: 2.996622770643571, new best FoM : 2.9971443245648977\n"
     ]
    },
    {
     "name": "stderr",
     "output_type": "stream",
     "text": [
      "INFO:oc_logger:New record achieved. Previous FoM: 2.996622770643571, new best FoM : 2.9971443245648977\n"
     ]
    },
    {
     "name": "stdout",
     "output_type": "stream",
     "text": [
      "INFO     oc_logger    Function evaluation number: 189, SI: 1, Sub-iteration number: 118, FoM: 2.9971443245648977\n"
     ]
    },
    {
     "name": "stderr",
     "output_type": "stream",
     "text": [
      "INFO:oc_logger:Function evaluation number: 189, SI: 1, Sub-iteration number: 118, FoM: 2.9971443245648977\n",
      "DEBUG:oc_logger:User running: True\n",
      "DEBUG:oc_logger:User running: True\n",
      "DEBUG:oc_logger:User running: True\n",
      "DEBUG:oc_logger:User running: True\n"
     ]
    },
    {
     "name": "stdout",
     "output_type": "stream",
     "text": [
      "Coeff of psi:  0.9985657509733176\n",
      "Coeff of psi_targ:  0.49915625184306467\n",
      "INFO     oc_logger    Function evaluation number: 190, SI: 1, Sub-iteration number: 119, FoM: 2.9931478154042335\n"
     ]
    },
    {
     "name": "stderr",
     "output_type": "stream",
     "text": [
      "INFO:oc_logger:Function evaluation number: 190, SI: 1, Sub-iteration number: 119, FoM: 2.9931478154042335\n",
      "DEBUG:oc_logger:User running: True\n",
      "DEBUG:oc_logger:User running: True\n",
      "DEBUG:oc_logger:User running: True\n"
     ]
    },
    {
     "name": "stdout",
     "output_type": "stream",
     "text": [
      "Coeff of psi:  0.9997450670929481\n",
      "Coeff of psi_targ:  0.49983789105694015\n",
      "INFO     oc_logger    Function evaluation number: 191, SI: 1, Sub-iteration number: 119, FoM: 2.9970813027502894\n"
     ]
    },
    {
     "name": "stderr",
     "output_type": "stream",
     "text": [
      "INFO:oc_logger:Function evaluation number: 191, SI: 1, Sub-iteration number: 119, FoM: 2.9970813027502894\n",
      "DEBUG:oc_logger:User running: True\n",
      "DEBUG:oc_logger:User running: True\n",
      "DEBUG:oc_logger:User running: True\n",
      "DEBUG:oc_logger:User running: True\n"
     ]
    },
    {
     "name": "stdout",
     "output_type": "stream",
     "text": [
      "Coeff of psi:  0.9998942076881866\n",
      "Coeff of psi_targ:  0.498947340777841\n",
      "INFO     oc_logger    Function evaluation number: 192, SI: 1, Sub-iteration number: 120, FoM: 2.9923317340846785\n"
     ]
    },
    {
     "name": "stderr",
     "output_type": "stream",
     "text": [
      "INFO:oc_logger:Function evaluation number: 192, SI: 1, Sub-iteration number: 120, FoM: 2.9923317340846785\n",
      "DEBUG:oc_logger:User running: True\n",
      "DEBUG:oc_logger:User running: True\n",
      "DEBUG:oc_logger:User running: True\n"
     ]
    },
    {
     "name": "stdout",
     "output_type": "stream",
     "text": [
      "Coeff of psi:  0.9999861019999963\n",
      "Coeff of psi_targ:  0.49987418956539287\n",
      "INFO     oc_logger    New record achieved. Previous FoM: 2.9971443245648977, new best FoM : 2.997194581053851\n"
     ]
    },
    {
     "name": "stderr",
     "output_type": "stream",
     "text": [
      "INFO:oc_logger:New record achieved. Previous FoM: 2.9971443245648977, new best FoM : 2.997194581053851\n"
     ]
    },
    {
     "name": "stdout",
     "output_type": "stream",
     "text": [
      "INFO     oc_logger    Function evaluation number: 193, SI: 1, Sub-iteration number: 120, FoM: 2.997194581053851\n"
     ]
    },
    {
     "name": "stderr",
     "output_type": "stream",
     "text": [
      "INFO:oc_logger:Function evaluation number: 193, SI: 1, Sub-iteration number: 120, FoM: 2.997194581053851\n",
      "DEBUG:oc_logger:User running: True\n",
      "DEBUG:oc_logger:User running: True\n",
      "DEBUG:oc_logger:User running: True\n",
      "DEBUG:oc_logger:User running: True\n"
     ]
    },
    {
     "name": "stdout",
     "output_type": "stream",
     "text": [
      "Coeff of psi:  0.9997811855452853\n",
      "Coeff of psi_targ:  0.49884150007456063\n",
      "INFO     oc_logger    Function evaluation number: 194, SI: 1, Sub-iteration number: 121, FoM: 2.993145492283305\n"
     ]
    },
    {
     "name": "stderr",
     "output_type": "stream",
     "text": [
      "INFO:oc_logger:Function evaluation number: 194, SI: 1, Sub-iteration number: 121, FoM: 2.993145492283305\n",
      "DEBUG:oc_logger:User running: True\n",
      "DEBUG:oc_logger:User running: True\n",
      "DEBUG:oc_logger:User running: True\n"
     ]
    },
    {
     "name": "stdout",
     "output_type": "stream",
     "text": [
      "Coeff of psi:  0.9999789650449894\n",
      "Coeff of psi_targ:  0.4997741518314973\n",
      "INFO     oc_logger    New record achieved. Previous FoM: 2.997194581053851, new best FoM : 2.9971968110443883\n"
     ]
    },
    {
     "name": "stderr",
     "output_type": "stream",
     "text": [
      "INFO:oc_logger:New record achieved. Previous FoM: 2.997194581053851, new best FoM : 2.9971968110443883\n"
     ]
    },
    {
     "name": "stdout",
     "output_type": "stream",
     "text": [
      "INFO     oc_logger    Function evaluation number: 195, SI: 1, Sub-iteration number: 121, FoM: 2.9971968110443883\n"
     ]
    },
    {
     "name": "stderr",
     "output_type": "stream",
     "text": [
      "INFO:oc_logger:Function evaluation number: 195, SI: 1, Sub-iteration number: 121, FoM: 2.9971968110443883\n",
      "DEBUG:oc_logger:User running: True\n",
      "DEBUG:oc_logger:User running: True\n",
      "DEBUG:oc_logger:User running: True\n",
      "DEBUG:oc_logger:User running: True\n"
     ]
    },
    {
     "name": "stdout",
     "output_type": "stream",
     "text": [
      "Coeff of psi:  0.9986399450273998\n",
      "Coeff of psi_targ:  0.4987061966573999\n",
      "INFO     oc_logger    Function evaluation number: 196, SI: 1, Sub-iteration number: 122, FoM: 2.992131962878095\n"
     ]
    },
    {
     "name": "stderr",
     "output_type": "stream",
     "text": [
      "INFO:oc_logger:Function evaluation number: 196, SI: 1, Sub-iteration number: 122, FoM: 2.992131962878095\n",
      "DEBUG:oc_logger:User running: True\n",
      "DEBUG:oc_logger:User running: True\n",
      "DEBUG:oc_logger:User running: True\n"
     ]
    },
    {
     "name": "stdout",
     "output_type": "stream",
     "text": [
      "Coeff of psi:  0.9998595654584486\n",
      "Coeff of psi_targ:  0.49983156697011294\n",
      "INFO     oc_logger    New record achieved. Previous FoM: 2.9971968110443883, new best FoM : 2.9973347270414927\n"
     ]
    },
    {
     "name": "stderr",
     "output_type": "stream",
     "text": [
      "INFO:oc_logger:New record achieved. Previous FoM: 2.9971968110443883, new best FoM : 2.9973347270414927\n"
     ]
    },
    {
     "name": "stdout",
     "output_type": "stream",
     "text": [
      "INFO     oc_logger    Function evaluation number: 197, SI: 1, Sub-iteration number: 122, FoM: 2.9973347270414927\n"
     ]
    },
    {
     "name": "stderr",
     "output_type": "stream",
     "text": [
      "INFO:oc_logger:Function evaluation number: 197, SI: 1, Sub-iteration number: 122, FoM: 2.9973347270414927\n",
      "DEBUG:oc_logger:User running: True\n",
      "DEBUG:oc_logger:User running: True\n",
      "DEBUG:oc_logger:User running: True\n",
      "DEBUG:oc_logger:User running: True\n"
     ]
    },
    {
     "name": "stdout",
     "output_type": "stream",
     "text": [
      "Coeff of psi:  0.9991479167264945\n",
      "Coeff of psi_targ:  0.49941578126890945\n",
      "INFO     oc_logger    Function evaluation number: 198, SI: 1, Sub-iteration number: 123, FoM: 2.9948451118468924\n"
     ]
    },
    {
     "name": "stderr",
     "output_type": "stream",
     "text": [
      "INFO:oc_logger:Function evaluation number: 198, SI: 1, Sub-iteration number: 123, FoM: 2.9948451118468924\n",
      "DEBUG:oc_logger:User running: True\n",
      "DEBUG:oc_logger:User running: True\n",
      "DEBUG:oc_logger:User running: True\n"
     ]
    },
    {
     "name": "stdout",
     "output_type": "stream",
     "text": [
      "Coeff of psi:  0.9997764057634498\n",
      "Coeff of psi_targ:  0.49985769127842344\n",
      "INFO     oc_logger    Function evaluation number: 199, SI: 1, Sub-iteration number: 123, FoM: 2.9972855518784325\n"
     ]
    },
    {
     "name": "stderr",
     "output_type": "stream",
     "text": [
      "INFO:oc_logger:Function evaluation number: 199, SI: 1, Sub-iteration number: 123, FoM: 2.9972855518784325\n",
      "DEBUG:oc_logger:User running: True\n",
      "DEBUG:oc_logger:User running: True\n",
      "DEBUG:oc_logger:User running: True\n",
      "DEBUG:oc_logger:User running: True\n"
     ]
    },
    {
     "name": "stdout",
     "output_type": "stream",
     "text": [
      "Coeff of psi:  0.9997449952689795\n",
      "Coeff of psi_targ:  0.4994132875986798\n",
      "INFO     oc_logger    Function evaluation number: 200, SI: 1, Sub-iteration number: 124, FoM: 2.993655776656398\n"
     ]
    },
    {
     "name": "stderr",
     "output_type": "stream",
     "text": [
      "INFO:oc_logger:Function evaluation number: 200, SI: 1, Sub-iteration number: 124, FoM: 2.993655776656398\n",
      "DEBUG:oc_logger:User running: True\n",
      "DEBUG:oc_logger:User running: True\n",
      "DEBUG:oc_logger:User running: True\n"
     ]
    },
    {
     "name": "stdout",
     "output_type": "stream",
     "text": [
      "Coeff of psi:  0.999937730297466\n",
      "Coeff of psi_targ:  0.49990315607545055\n",
      "INFO     oc_logger    New record achieved. Previous FoM: 2.9973347270414927, new best FoM : 2.9974468837230934\n"
     ]
    },
    {
     "name": "stderr",
     "output_type": "stream",
     "text": [
      "INFO:oc_logger:New record achieved. Previous FoM: 2.9973347270414927, new best FoM : 2.9974468837230934\n"
     ]
    },
    {
     "name": "stdout",
     "output_type": "stream",
     "text": [
      "INFO     oc_logger    Function evaluation number: 201, SI: 1, Sub-iteration number: 124, FoM: 2.9974468837230934\n"
     ]
    },
    {
     "name": "stderr",
     "output_type": "stream",
     "text": [
      "INFO:oc_logger:Function evaluation number: 201, SI: 1, Sub-iteration number: 124, FoM: 2.9974468837230934\n",
      "DEBUG:oc_logger:User running: True\n",
      "DEBUG:oc_logger:User running: True\n",
      "DEBUG:oc_logger:User running: True\n",
      "DEBUG:oc_logger:User running: True\n"
     ]
    },
    {
     "name": "stdout",
     "output_type": "stream",
     "text": [
      "Coeff of psi:  0.999999999714811\n",
      "Coeff of psi_targ:  0.49939725444445304\n",
      "INFO     oc_logger    Function evaluation number: 202, SI: 1, Sub-iteration number: 125, FoM: 2.9953386583745494\n"
     ]
    },
    {
     "name": "stderr",
     "output_type": "stream",
     "text": [
      "INFO:oc_logger:Function evaluation number: 202, SI: 1, Sub-iteration number: 125, FoM: 2.9953386583745494\n",
      "DEBUG:oc_logger:User running: True\n",
      "DEBUG:oc_logger:User running: True\n",
      "DEBUG:oc_logger:User running: True\n"
     ]
    },
    {
     "name": "stdout",
     "output_type": "stream",
     "text": [
      "Coeff of psi:  0.9999988617706105\n",
      "Coeff of psi_targ:  0.4998879451658957\n",
      "INFO     oc_logger    Function evaluation number: 203, SI: 1, Sub-iteration number: 125, FoM: 2.9974449963604903\n"
     ]
    },
    {
     "name": "stderr",
     "output_type": "stream",
     "text": [
      "INFO:oc_logger:Function evaluation number: 203, SI: 1, Sub-iteration number: 125, FoM: 2.9974449963604903\n",
      "DEBUG:oc_logger:User running: True\n",
      "DEBUG:oc_logger:User running: True\n",
      "DEBUG:oc_logger:User running: True\n",
      "DEBUG:oc_logger:User running: True\n"
     ]
    },
    {
     "name": "stdout",
     "output_type": "stream",
     "text": [
      "Coeff of psi:  0.9991563665017423\n",
      "Coeff of psi_targ:  0.499256226099817\n",
      "INFO     oc_logger    Function evaluation number: 204, SI: 1, Sub-iteration number: 126, FoM: 2.9945722484948973\n"
     ]
    },
    {
     "name": "stderr",
     "output_type": "stream",
     "text": [
      "INFO:oc_logger:Function evaluation number: 204, SI: 1, Sub-iteration number: 126, FoM: 2.9945722484948973\n",
      "DEBUG:oc_logger:User running: True\n",
      "DEBUG:oc_logger:User running: True\n",
      "DEBUG:oc_logger:User running: True\n"
     ]
    },
    {
     "name": "stdout",
     "output_type": "stream",
     "text": [
      "Coeff of psi:  0.9999058390496649\n",
      "Coeff of psi_targ:  0.49990597748558574\n",
      "INFO     oc_logger    New record achieved. Previous FoM: 2.9974468837230934, new best FoM : 2.9976150033995417\n"
     ]
    },
    {
     "name": "stderr",
     "output_type": "stream",
     "text": [
      "INFO:oc_logger:New record achieved. Previous FoM: 2.9974468837230934, new best FoM : 2.9976150033995417\n"
     ]
    },
    {
     "name": "stdout",
     "output_type": "stream",
     "text": [
      "INFO     oc_logger    Function evaluation number: 205, SI: 1, Sub-iteration number: 126, FoM: 2.9976150033995417\n"
     ]
    },
    {
     "name": "stderr",
     "output_type": "stream",
     "text": [
      "INFO:oc_logger:Function evaluation number: 205, SI: 1, Sub-iteration number: 126, FoM: 2.9976150033995417\n",
      "DEBUG:oc_logger:User running: True\n",
      "DEBUG:oc_logger:User running: True\n",
      "DEBUG:oc_logger:User running: True\n",
      "DEBUG:oc_logger:User running: True\n"
     ]
    },
    {
     "name": "stdout",
     "output_type": "stream",
     "text": [
      "Coeff of psi:  0.9997908924833538\n",
      "Coeff of psi_targ:  0.49944948831166647\n",
      "INFO     oc_logger    Function evaluation number: 206, SI: 1, Sub-iteration number: 127, FoM: 2.99594415131079\n"
     ]
    },
    {
     "name": "stderr",
     "output_type": "stream",
     "text": [
      "INFO:oc_logger:Function evaluation number: 206, SI: 1, Sub-iteration number: 127, FoM: 2.99594415131079\n",
      "DEBUG:oc_logger:User running: True\n",
      "DEBUG:oc_logger:User running: True\n",
      "DEBUG:oc_logger:User running: True\n"
     ]
    },
    {
     "name": "stdout",
     "output_type": "stream",
     "text": [
      "Coeff of psi:  0.9999328586474666\n",
      "Coeff of psi_targ:  0.4998872253469496\n",
      "INFO     oc_logger    Function evaluation number: 207, SI: 1, Sub-iteration number: 127, FoM: 2.9975538319501496\n"
     ]
    },
    {
     "name": "stderr",
     "output_type": "stream",
     "text": [
      "INFO:oc_logger:Function evaluation number: 207, SI: 1, Sub-iteration number: 127, FoM: 2.9975538319501496\n",
      "DEBUG:oc_logger:User running: True\n",
      "DEBUG:oc_logger:User running: True\n",
      "DEBUG:oc_logger:User running: True\n",
      "DEBUG:oc_logger:User running: True\n"
     ]
    },
    {
     "name": "stdout",
     "output_type": "stream",
     "text": [
      "Coeff of psi:  0.9997314940157787\n",
      "Coeff of psi_targ:  0.4995635066869904\n",
      "INFO     oc_logger    Function evaluation number: 208, SI: 1, Sub-iteration number: 128, FoM: 2.9963129641879083\n"
     ]
    },
    {
     "name": "stderr",
     "output_type": "stream",
     "text": [
      "INFO:oc_logger:Function evaluation number: 208, SI: 1, Sub-iteration number: 128, FoM: 2.9963129641879083\n",
      "DEBUG:oc_logger:User running: True\n",
      "DEBUG:oc_logger:User running: True\n",
      "DEBUG:oc_logger:User running: True\n"
     ]
    },
    {
     "name": "stdout",
     "output_type": "stream",
     "text": [
      "Coeff of psi:  0.9999359289728433\n",
      "Coeff of psi_targ:  0.49992897878285314\n",
      "INFO     oc_logger    New record achieved. Previous FoM: 2.9976150033995417, new best FoM : 2.9977250833406925\n"
     ]
    },
    {
     "name": "stderr",
     "output_type": "stream",
     "text": [
      "INFO:oc_logger:New record achieved. Previous FoM: 2.9976150033995417, new best FoM : 2.9977250833406925\n"
     ]
    },
    {
     "name": "stdout",
     "output_type": "stream",
     "text": [
      "INFO     oc_logger    Function evaluation number: 209, SI: 1, Sub-iteration number: 128, FoM: 2.9977250833406925\n"
     ]
    },
    {
     "name": "stderr",
     "output_type": "stream",
     "text": [
      "INFO:oc_logger:Function evaluation number: 209, SI: 1, Sub-iteration number: 128, FoM: 2.9977250833406925\n",
      "DEBUG:oc_logger:User running: True\n",
      "DEBUG:oc_logger:User running: True\n",
      "DEBUG:oc_logger:User running: True\n",
      "DEBUG:oc_logger:User running: True\n"
     ]
    },
    {
     "name": "stdout",
     "output_type": "stream",
     "text": [
      "Coeff of psi:  0.9995810349934094\n",
      "Coeff of psi_targ:  0.49976680405934254\n",
      "INFO     oc_logger    Function evaluation number: 210, SI: 1, Sub-iteration number: 129, FoM: 2.9966568056490916\n"
     ]
    },
    {
     "name": "stderr",
     "output_type": "stream",
     "text": [
      "INFO:oc_logger:Function evaluation number: 210, SI: 1, Sub-iteration number: 129, FoM: 2.9966568056490916\n",
      "DEBUG:oc_logger:User running: True\n",
      "DEBUG:oc_logger:User running: True\n",
      "DEBUG:oc_logger:User running: True\n"
     ]
    },
    {
     "name": "stdout",
     "output_type": "stream",
     "text": [
      "Coeff of psi:  0.9999534103588804\n",
      "Coeff of psi_targ:  0.4999668037177867\n",
      "INFO     oc_logger    New record achieved. Previous FoM: 2.9977250833406925, new best FoM : 2.9978539039024725\n"
     ]
    },
    {
     "name": "stderr",
     "output_type": "stream",
     "text": [
      "INFO:oc_logger:New record achieved. Previous FoM: 2.9977250833406925, new best FoM : 2.9978539039024725\n"
     ]
    },
    {
     "name": "stdout",
     "output_type": "stream",
     "text": [
      "INFO     oc_logger    Function evaluation number: 211, SI: 1, Sub-iteration number: 129, FoM: 2.9978539039024725\n"
     ]
    },
    {
     "name": "stderr",
     "output_type": "stream",
     "text": [
      "INFO:oc_logger:Function evaluation number: 211, SI: 1, Sub-iteration number: 129, FoM: 2.9978539039024725\n",
      "DEBUG:oc_logger:User running: True\n",
      "DEBUG:oc_logger:User running: True\n",
      "DEBUG:oc_logger:User running: True\n",
      "DEBUG:oc_logger:User running: True\n"
     ]
    },
    {
     "name": "stdout",
     "output_type": "stream",
     "text": [
      "Coeff of psi:  0.9998642582344728\n",
      "Coeff of psi_targ:  0.4998845952750158\n",
      "INFO     oc_logger    Function evaluation number: 212, SI: 1, Sub-iteration number: 130, FoM: 2.996947818179312\n"
     ]
    },
    {
     "name": "stderr",
     "output_type": "stream",
     "text": [
      "INFO:oc_logger:Function evaluation number: 212, SI: 1, Sub-iteration number: 130, FoM: 2.996947818179312\n",
      "DEBUG:oc_logger:User running: True\n",
      "DEBUG:oc_logger:User running: True\n",
      "DEBUG:oc_logger:User running: True\n"
     ]
    },
    {
     "name": "stdout",
     "output_type": "stream",
     "text": [
      "Coeff of psi:  0.9999602325001101\n",
      "Coeff of psi_targ:  0.4999672388043437\n",
      "INFO     oc_logger    Function evaluation number: 213, SI: 1, Sub-iteration number: 130, FoM: 2.997840742348509\n"
     ]
    },
    {
     "name": "stderr",
     "output_type": "stream",
     "text": [
      "INFO:oc_logger:Function evaluation number: 213, SI: 1, Sub-iteration number: 130, FoM: 2.997840742348509\n",
      "DEBUG:oc_logger:User running: True\n",
      "DEBUG:oc_logger:User running: True\n",
      "DEBUG:oc_logger:User running: True\n",
      "DEBUG:oc_logger:User running: True\n"
     ]
    },
    {
     "name": "stdout",
     "output_type": "stream",
     "text": [
      "Coeff of psi:  0.9999616324713638\n",
      "Coeff of psi_targ:  0.4997844105028011\n",
      "INFO     oc_logger    Function evaluation number: 214, SI: 1, Sub-iteration number: 131, FoM: 2.9968885734205815\n"
     ]
    },
    {
     "name": "stderr",
     "output_type": "stream",
     "text": [
      "INFO:oc_logger:Function evaluation number: 214, SI: 1, Sub-iteration number: 131, FoM: 2.9968885734205815\n",
      "DEBUG:oc_logger:User running: True\n",
      "DEBUG:oc_logger:User running: True\n",
      "DEBUG:oc_logger:User running: True\n"
     ]
    },
    {
     "name": "stdout",
     "output_type": "stream",
     "text": [
      "Coeff of psi:  0.999998699412829\n",
      "Coeff of psi_targ:  0.49997696548272796\n",
      "INFO     oc_logger    New record achieved. Previous FoM: 2.9978539039024725, new best FoM : 2.997867776304098\n"
     ]
    },
    {
     "name": "stderr",
     "output_type": "stream",
     "text": [
      "INFO:oc_logger:New record achieved. Previous FoM: 2.9978539039024725, new best FoM : 2.997867776304098\n"
     ]
    },
    {
     "name": "stdout",
     "output_type": "stream",
     "text": [
      "INFO     oc_logger    Function evaluation number: 215, SI: 1, Sub-iteration number: 131, FoM: 2.997867776304098\n"
     ]
    },
    {
     "name": "stderr",
     "output_type": "stream",
     "text": [
      "INFO:oc_logger:Function evaluation number: 215, SI: 1, Sub-iteration number: 131, FoM: 2.997867776304098\n",
      "DEBUG:oc_logger:User running: True\n",
      "DEBUG:oc_logger:User running: True\n",
      "DEBUG:oc_logger:User running: True\n",
      "DEBUG:oc_logger:User running: True\n"
     ]
    },
    {
     "name": "stdout",
     "output_type": "stream",
     "text": [
      "Coeff of psi:  0.9999385706086673\n",
      "Coeff of psi_targ:  0.4997266365718304\n",
      "INFO     oc_logger    Function evaluation number: 216, SI: 1, Sub-iteration number: 132, FoM: 2.9968479522085723\n"
     ]
    },
    {
     "name": "stderr",
     "output_type": "stream",
     "text": [
      "INFO:oc_logger:Function evaluation number: 216, SI: 1, Sub-iteration number: 132, FoM: 2.9968479522085723\n",
      "DEBUG:oc_logger:User running: True\n",
      "DEBUG:oc_logger:User running: True\n",
      "DEBUG:oc_logger:User running: True\n"
     ]
    },
    {
     "name": "stdout",
     "output_type": "stream",
     "text": [
      "Coeff of psi:  0.9999980104563589\n",
      "Coeff of psi_targ:  0.499948421256675\n",
      "INFO     oc_logger    New record achieved. Previous FoM: 2.997867776304098, new best FoM : 2.997872114919094\n"
     ]
    },
    {
     "name": "stderr",
     "output_type": "stream",
     "text": [
      "INFO:oc_logger:New record achieved. Previous FoM: 2.997867776304098, new best FoM : 2.997872114919094\n"
     ]
    },
    {
     "name": "stdout",
     "output_type": "stream",
     "text": [
      "INFO     oc_logger    Function evaluation number: 217, SI: 1, Sub-iteration number: 132, FoM: 2.997872114919094\n"
     ]
    },
    {
     "name": "stderr",
     "output_type": "stream",
     "text": [
      "INFO:oc_logger:Function evaluation number: 217, SI: 1, Sub-iteration number: 132, FoM: 2.997872114919094\n",
      "DEBUG:oc_logger:User running: True\n",
      "DEBUG:oc_logger:User running: True\n",
      "DEBUG:oc_logger:User running: True\n",
      "DEBUG:oc_logger:User running: True\n"
     ]
    },
    {
     "name": "stdout",
     "output_type": "stream",
     "text": [
      "Coeff of psi:  0.999780011718976\n",
      "Coeff of psi_targ:  0.4998378228773869\n",
      "INFO     oc_logger    Function evaluation number: 218, SI: 1, Sub-iteration number: 133, FoM: 2.997182921814931\n"
     ]
    },
    {
     "name": "stderr",
     "output_type": "stream",
     "text": [
      "INFO:oc_logger:Function evaluation number: 218, SI: 1, Sub-iteration number: 133, FoM: 2.997182921814931\n",
      "DEBUG:oc_logger:User running: True\n",
      "DEBUG:oc_logger:User running: True\n",
      "DEBUG:oc_logger:User running: True\n"
     ]
    },
    {
     "name": "stdout",
     "output_type": "stream",
     "text": [
      "Coeff of psi:  0.9999433992809791\n",
      "Coeff of psi_targ:  0.49996605237059155\n",
      "INFO     oc_logger    Function evaluation number: 219, SI: 1, Sub-iteration number: 133, FoM: 2.9978674090227364\n"
     ]
    },
    {
     "name": "stderr",
     "output_type": "stream",
     "text": [
      "INFO:oc_logger:Function evaluation number: 219, SI: 1, Sub-iteration number: 133, FoM: 2.9978674090227364\n",
      "DEBUG:oc_logger:User running: True\n",
      "DEBUG:oc_logger:User running: True\n",
      "DEBUG:oc_logger:User running: True\n",
      "DEBUG:oc_logger:User running: True\n"
     ]
    },
    {
     "name": "stdout",
     "output_type": "stream",
     "text": [
      "Coeff of psi:  0.9997484228619556\n",
      "Coeff of psi_targ:  0.4997595092126221\n",
      "INFO     oc_logger    Function evaluation number: 220, SI: 1, Sub-iteration number: 134, FoM: 2.9969473081513653\n"
     ]
    },
    {
     "name": "stderr",
     "output_type": "stream",
     "text": [
      "INFO:oc_logger:Function evaluation number: 220, SI: 1, Sub-iteration number: 134, FoM: 2.9969473081513653\n",
      "DEBUG:oc_logger:User running: True\n",
      "DEBUG:oc_logger:User running: True\n",
      "DEBUG:oc_logger:User running: True\n"
     ]
    },
    {
     "name": "stdout",
     "output_type": "stream",
     "text": [
      "Coeff of psi:  0.9999758656907043\n",
      "Coeff of psi_targ:  0.4999653803756065\n",
      "INFO     oc_logger    New record achieved. Previous FoM: 2.997872114919094, new best FoM : 2.9979100220405623\n"
     ]
    },
    {
     "name": "stderr",
     "output_type": "stream",
     "text": [
      "INFO:oc_logger:New record achieved. Previous FoM: 2.997872114919094, new best FoM : 2.9979100220405623\n"
     ]
    },
    {
     "name": "stdout",
     "output_type": "stream",
     "text": [
      "INFO     oc_logger    Function evaluation number: 221, SI: 1, Sub-iteration number: 134, FoM: 2.9979100220405623\n"
     ]
    },
    {
     "name": "stderr",
     "output_type": "stream",
     "text": [
      "INFO:oc_logger:Function evaluation number: 221, SI: 1, Sub-iteration number: 134, FoM: 2.9979100220405623\n",
      "DEBUG:oc_logger:User running: True\n",
      "DEBUG:oc_logger:User running: True\n",
      "DEBUG:oc_logger:User running: True\n",
      "DEBUG:oc_logger:User running: True\n"
     ]
    },
    {
     "name": "stdout",
     "output_type": "stream",
     "text": [
      "Coeff of psi:  0.9999974444824666\n",
      "Coeff of psi_targ:  0.4998339671584536\n",
      "INFO     oc_logger    Function evaluation number: 222, SI: 1, Sub-iteration number: 135, FoM: 2.9973062818763854\n"
     ]
    },
    {
     "name": "stderr",
     "output_type": "stream",
     "text": [
      "INFO:oc_logger:Function evaluation number: 222, SI: 1, Sub-iteration number: 135, FoM: 2.9973062818763854\n",
      "DEBUG:oc_logger:User running: True\n",
      "DEBUG:oc_logger:User running: True\n",
      "DEBUG:oc_logger:User running: True\n"
     ]
    },
    {
     "name": "stdout",
     "output_type": "stream",
     "text": [
      "Coeff of psi:  0.9999984123890864\n",
      "Coeff of psi_targ:  0.49997681026736124\n",
      "INFO     oc_logger    New record achieved. Previous FoM: 2.9979100220405623, new best FoM : 2.9979101511347777\n"
     ]
    },
    {
     "name": "stderr",
     "output_type": "stream",
     "text": [
      "INFO:oc_logger:New record achieved. Previous FoM: 2.9979100220405623, new best FoM : 2.9979101511347777\n"
     ]
    },
    {
     "name": "stdout",
     "output_type": "stream",
     "text": [
      "INFO     oc_logger    Function evaluation number: 223, SI: 1, Sub-iteration number: 135, FoM: 2.9979101511347777\n"
     ]
    },
    {
     "name": "stderr",
     "output_type": "stream",
     "text": [
      "INFO:oc_logger:Function evaluation number: 223, SI: 1, Sub-iteration number: 135, FoM: 2.9979101511347777\n",
      "DEBUG:oc_logger:User running: True\n",
      "DEBUG:oc_logger:User running: True\n",
      "DEBUG:oc_logger:User running: True\n",
      "DEBUG:oc_logger:User running: True\n"
     ]
    },
    {
     "name": "stdout",
     "output_type": "stream",
     "text": [
      "Coeff of psi:  0.999956270141912\n",
      "Coeff of psi_targ:  0.4999094092205495\n",
      "INFO     oc_logger    Function evaluation number: 224, SI: 1, Sub-iteration number: 136, FoM: 2.9972846682797307\n"
     ]
    },
    {
     "name": "stderr",
     "output_type": "stream",
     "text": [
      "INFO:oc_logger:Function evaluation number: 224, SI: 1, Sub-iteration number: 136, FoM: 2.9972846682797307\n",
      "DEBUG:oc_logger:User running: True\n",
      "DEBUG:oc_logger:User running: True\n",
      "DEBUG:oc_logger:User running: True\n"
     ]
    },
    {
     "name": "stdout",
     "output_type": "stream",
     "text": [
      "Coeff of psi:  0.9999811235531323\n",
      "Coeff of psi_targ:  0.49997487599542817\n",
      "INFO     oc_logger    New record achieved. Previous FoM: 2.9979101511347777, new best FoM : 2.997912849737181\n"
     ]
    },
    {
     "name": "stderr",
     "output_type": "stream",
     "text": [
      "INFO:oc_logger:New record achieved. Previous FoM: 2.9979101511347777, new best FoM : 2.997912849737181\n"
     ]
    },
    {
     "name": "stdout",
     "output_type": "stream",
     "text": [
      "INFO     oc_logger    Function evaluation number: 225, SI: 1, Sub-iteration number: 136, FoM: 2.997912849737181\n"
     ]
    },
    {
     "name": "stderr",
     "output_type": "stream",
     "text": [
      "INFO:oc_logger:Function evaluation number: 225, SI: 1, Sub-iteration number: 136, FoM: 2.997912849737181\n",
      "DEBUG:oc_logger:User running: True\n",
      "DEBUG:oc_logger:User running: True\n",
      "DEBUG:oc_logger:User running: True\n",
      "DEBUG:oc_logger:User running: True\n"
     ]
    },
    {
     "name": "stdout",
     "output_type": "stream",
     "text": [
      "Coeff of psi:  0.9999433719232268\n",
      "Coeff of psi_targ:  0.4998475970013835\n",
      "INFO     oc_logger    Function evaluation number: 226, SI: 1, Sub-iteration number: 137, FoM: 2.9974868748279353\n"
     ]
    },
    {
     "name": "stderr",
     "output_type": "stream",
     "text": [
      "INFO:oc_logger:Function evaluation number: 226, SI: 1, Sub-iteration number: 137, FoM: 2.9974868748279353\n",
      "DEBUG:oc_logger:User running: True\n",
      "DEBUG:oc_logger:User running: True\n",
      "DEBUG:oc_logger:User running: True\n"
     ]
    },
    {
     "name": "stdout",
     "output_type": "stream",
     "text": [
      "Coeff of psi:  0.9999816639033412\n",
      "Coeff of psi_targ:  0.49997566318023784\n",
      "INFO     oc_logger    New record achieved. Previous FoM: 2.997912849737181, new best FoM : 2.9979312397747773\n"
     ]
    },
    {
     "name": "stderr",
     "output_type": "stream",
     "text": [
      "INFO:oc_logger:New record achieved. Previous FoM: 2.997912849737181, new best FoM : 2.9979312397747773\n"
     ]
    },
    {
     "name": "stdout",
     "output_type": "stream",
     "text": [
      "INFO     oc_logger    Function evaluation number: 227, SI: 1, Sub-iteration number: 137, FoM: 2.9979312397747773\n"
     ]
    },
    {
     "name": "stderr",
     "output_type": "stream",
     "text": [
      "INFO:oc_logger:Function evaluation number: 227, SI: 1, Sub-iteration number: 137, FoM: 2.9979312397747773\n",
      "DEBUG:oc_logger:User running: True\n",
      "DEBUG:oc_logger:User running: True\n",
      "DEBUG:oc_logger:User running: True\n",
      "DEBUG:oc_logger:User running: True\n"
     ]
    },
    {
     "name": "stdout",
     "output_type": "stream",
     "text": [
      "Coeff of psi:  0.9998257605534294\n",
      "Coeff of psi_targ:  0.4998678108467483\n",
      "INFO     oc_logger    Function evaluation number: 228, SI: 1, Sub-iteration number: 138, FoM: 2.9974024246993913\n"
     ]
    },
    {
     "name": "stderr",
     "output_type": "stream",
     "text": [
      "INFO:oc_logger:Function evaluation number: 228, SI: 1, Sub-iteration number: 138, FoM: 2.9974024246993913\n",
      "DEBUG:oc_logger:User running: True\n",
      "DEBUG:oc_logger:User running: True\n",
      "DEBUG:oc_logger:User running: True\n"
     ]
    },
    {
     "name": "stdout",
     "output_type": "stream",
     "text": [
      "Coeff of psi:  0.9999842263557979\n",
      "Coeff of psi_targ:  0.49998018757960705\n",
      "INFO     oc_logger    New record achieved. Previous FoM: 2.9979312397747773, new best FoM : 2.997961832476457\n"
     ]
    },
    {
     "name": "stderr",
     "output_type": "stream",
     "text": [
      "INFO:oc_logger:New record achieved. Previous FoM: 2.9979312397747773, new best FoM : 2.997961832476457\n"
     ]
    },
    {
     "name": "stdout",
     "output_type": "stream",
     "text": [
      "INFO     oc_logger    Function evaluation number: 229, SI: 1, Sub-iteration number: 138, FoM: 2.997961832476457\n"
     ]
    },
    {
     "name": "stderr",
     "output_type": "stream",
     "text": [
      "INFO:oc_logger:Function evaluation number: 229, SI: 1, Sub-iteration number: 138, FoM: 2.997961832476457\n",
      "DEBUG:oc_logger:User running: True\n",
      "DEBUG:oc_logger:User running: True\n",
      "DEBUG:oc_logger:User running: True\n",
      "DEBUG:oc_logger:User running: True\n"
     ]
    },
    {
     "name": "stdout",
     "output_type": "stream",
     "text": [
      "Coeff of psi:  0.9999522362476211\n",
      "Coeff of psi_targ:  0.4999075550932925\n",
      "INFO     oc_logger    Function evaluation number: 230, SI: 1, Sub-iteration number: 139, FoM: 2.9977012299911974\n"
     ]
    },
    {
     "name": "stderr",
     "output_type": "stream",
     "text": [
      "INFO:oc_logger:Function evaluation number: 230, SI: 1, Sub-iteration number: 139, FoM: 2.9977012299911974\n",
      "DEBUG:oc_logger:User running: True\n",
      "DEBUG:oc_logger:User running: True\n",
      "DEBUG:oc_logger:User running: True\n"
     ]
    },
    {
     "name": "stdout",
     "output_type": "stream",
     "text": [
      "Coeff of psi:  0.9999816461629725\n",
      "Coeff of psi_targ:  0.499983947559333\n",
      "INFO     oc_logger    New record achieved. Previous FoM: 2.997961832476457, new best FoM : 2.9979692065735533\n"
     ]
    },
    {
     "name": "stderr",
     "output_type": "stream",
     "text": [
      "INFO:oc_logger:New record achieved. Previous FoM: 2.997961832476457, new best FoM : 2.9979692065735533\n"
     ]
    },
    {
     "name": "stdout",
     "output_type": "stream",
     "text": [
      "INFO     oc_logger    Function evaluation number: 231, SI: 1, Sub-iteration number: 139, FoM: 2.9979692065735533\n"
     ]
    },
    {
     "name": "stderr",
     "output_type": "stream",
     "text": [
      "INFO:oc_logger:Function evaluation number: 231, SI: 1, Sub-iteration number: 139, FoM: 2.9979692065735533\n",
      "DEBUG:oc_logger:User running: True\n",
      "DEBUG:oc_logger:User running: True\n",
      "DEBUG:oc_logger:User running: True\n",
      "DEBUG:oc_logger:User running: True\n"
     ]
    },
    {
     "name": "stdout",
     "output_type": "stream",
     "text": [
      "Coeff of psi:  0.9999679527151946\n",
      "Coeff of psi_targ:  0.49997649379143266\n",
      "INFO     oc_logger    Function evaluation number: 232, SI: 1, Sub-iteration number: 140, FoM: 2.997784014178967\n"
     ]
    },
    {
     "name": "stderr",
     "output_type": "stream",
     "text": [
      "INFO:oc_logger:Function evaluation number: 232, SI: 1, Sub-iteration number: 140, FoM: 2.997784014178967\n",
      "DEBUG:oc_logger:User running: True\n",
      "DEBUG:oc_logger:User running: True\n",
      "DEBUG:oc_logger:User running: True\n"
     ]
    },
    {
     "name": "stdout",
     "output_type": "stream",
     "text": [
      "Coeff of psi:  0.9999888597648593\n",
      "Coeff of psi_targ:  0.499990433196783\n",
      "INFO     oc_logger    New record achieved. Previous FoM: 2.9979692065735533, new best FoM : 2.9980015019560806\n"
     ]
    },
    {
     "name": "stderr",
     "output_type": "stream",
     "text": [
      "INFO:oc_logger:New record achieved. Previous FoM: 2.9979692065735533, new best FoM : 2.9980015019560806\n"
     ]
    },
    {
     "name": "stdout",
     "output_type": "stream",
     "text": [
      "INFO     oc_logger    Function evaluation number: 233, SI: 1, Sub-iteration number: 140, FoM: 2.9980015019560806\n"
     ]
    },
    {
     "name": "stderr",
     "output_type": "stream",
     "text": [
      "INFO:oc_logger:Function evaluation number: 233, SI: 1, Sub-iteration number: 140, FoM: 2.9980015019560806\n",
      "DEBUG:oc_logger:User running: True\n",
      "DEBUG:oc_logger:User running: True\n",
      "DEBUG:oc_logger:User running: True\n",
      "DEBUG:oc_logger:User running: True\n"
     ]
    },
    {
     "name": "stdout",
     "output_type": "stream",
     "text": [
      "Coeff of psi:  0.999908804548765\n",
      "Coeff of psi_targ:  0.4999479240451821\n",
      "INFO     oc_logger    Function evaluation number: 234, SI: 1, Sub-iteration number: 141, FoM: 2.997758832549117\n"
     ]
    },
    {
     "name": "stderr",
     "output_type": "stream",
     "text": [
      "INFO:oc_logger:Function evaluation number: 234, SI: 1, Sub-iteration number: 141, FoM: 2.997758832549117\n",
      "DEBUG:oc_logger:User running: True\n",
      "DEBUG:oc_logger:User running: True\n",
      "DEBUG:oc_logger:User running: True\n"
     ]
    },
    {
     "name": "stdout",
     "output_type": "stream",
     "text": [
      "Coeff of psi:  0.9999925677927396\n",
      "Coeff of psi_targ:  0.49999330274405995\n",
      "INFO     oc_logger    New record achieved. Previous FoM: 2.9980015019560806, new best FoM : 2.9980089664510716\n"
     ]
    },
    {
     "name": "stderr",
     "output_type": "stream",
     "text": [
      "INFO:oc_logger:New record achieved. Previous FoM: 2.9980015019560806, new best FoM : 2.9980089664510716\n"
     ]
    },
    {
     "name": "stdout",
     "output_type": "stream",
     "text": [
      "INFO     oc_logger    Function evaluation number: 235, SI: 1, Sub-iteration number: 141, FoM: 2.9980089664510716\n"
     ]
    },
    {
     "name": "stderr",
     "output_type": "stream",
     "text": [
      "INFO:oc_logger:Function evaluation number: 235, SI: 1, Sub-iteration number: 141, FoM: 2.9980089664510716\n",
      "DEBUG:oc_logger:User running: True\n",
      "DEBUG:oc_logger:User running: True\n",
      "DEBUG:oc_logger:User running: True\n",
      "DEBUG:oc_logger:User running: True\n"
     ]
    },
    {
     "name": "stdout",
     "output_type": "stream",
     "text": [
      "Coeff of psi:  0.9999531483597603\n",
      "Coeff of psi_targ:  0.499962281656744\n",
      "INFO     oc_logger    Function evaluation number: 236, SI: 1, Sub-iteration number: 142, FoM: 2.9978486649948524\n"
     ]
    },
    {
     "name": "stderr",
     "output_type": "stream",
     "text": [
      "INFO:oc_logger:Function evaluation number: 236, SI: 1, Sub-iteration number: 142, FoM: 2.9978486649948524\n",
      "DEBUG:oc_logger:User running: True\n",
      "DEBUG:oc_logger:User running: True\n",
      "DEBUG:oc_logger:User running: True\n"
     ]
    },
    {
     "name": "stdout",
     "output_type": "stream",
     "text": [
      "Coeff of psi:  0.9999845146285864\n",
      "Coeff of psi_targ:  0.4999914970699546\n",
      "INFO     oc_logger    Function evaluation number: 237, SI: 1, Sub-iteration number: 142, FoM: 2.9980042276051204\n"
     ]
    },
    {
     "name": "stderr",
     "output_type": "stream",
     "text": [
      "INFO:oc_logger:Function evaluation number: 237, SI: 1, Sub-iteration number: 142, FoM: 2.9980042276051204\n",
      "DEBUG:oc_logger:User running: True\n",
      "DEBUG:oc_logger:User running: True\n",
      "DEBUG:oc_logger:User running: True\n",
      "DEBUG:oc_logger:User running: True\n"
     ]
    },
    {
     "name": "stdout",
     "output_type": "stream",
     "text": [
      "Coeff of psi:  0.9999922717764258\n",
      "Coeff of psi_targ:  0.49994817558095817\n",
      "INFO     oc_logger    Function evaluation number: 238, SI: 1, Sub-iteration number: 143, FoM: 2.997809414873409\n"
     ]
    },
    {
     "name": "stderr",
     "output_type": "stream",
     "text": [
      "INFO:oc_logger:Function evaluation number: 238, SI: 1, Sub-iteration number: 143, FoM: 2.997809414873409\n",
      "DEBUG:oc_logger:User running: True\n",
      "DEBUG:oc_logger:User running: True\n",
      "DEBUG:oc_logger:User running: True\n"
     ]
    },
    {
     "name": "stdout",
     "output_type": "stream",
     "text": [
      "Coeff of psi:  0.9999999808594365\n",
      "Coeff of psi_targ:  0.4999966034731397\n",
      "INFO     oc_logger    Function evaluation number: 239, SI: 1, Sub-iteration number: 143, FoM: 2.9980087563072515\n"
     ]
    },
    {
     "name": "stderr",
     "output_type": "stream",
     "text": [
      "INFO:oc_logger:Function evaluation number: 239, SI: 1, Sub-iteration number: 143, FoM: 2.9980087563072515\n",
      "DEBUG:oc_logger:User running: True\n",
      "DEBUG:oc_logger:User running: True\n",
      "DEBUG:oc_logger:User running: True\n",
      "DEBUG:oc_logger:User running: True\n"
     ]
    },
    {
     "name": "stdout",
     "output_type": "stream",
     "text": [
      "Coeff of psi:  0.9999889851222629\n",
      "Coeff of psi_targ:  0.4999492435251343\n",
      "INFO     oc_logger    Function evaluation number: 240, SI: 1, Sub-iteration number: 144, FoM: 2.997796332357306\n"
     ]
    },
    {
     "name": "stderr",
     "output_type": "stream",
     "text": [
      "INFO:oc_logger:Function evaluation number: 240, SI: 1, Sub-iteration number: 144, FoM: 2.997796332357306\n",
      "DEBUG:oc_logger:User running: True\n",
      "DEBUG:oc_logger:User running: True\n",
      "DEBUG:oc_logger:User running: True\n"
     ]
    },
    {
     "name": "stdout",
     "output_type": "stream",
     "text": [
      "Coeff of psi:  0.9999999549434594\n",
      "Coeff of psi_targ:  0.4999865994061675\n",
      "INFO     oc_logger    New record achieved. Previous FoM: 2.9980089664510716, new best FoM : 2.998011465243123\n"
     ]
    },
    {
     "name": "stderr",
     "output_type": "stream",
     "text": [
      "INFO:oc_logger:New record achieved. Previous FoM: 2.9980089664510716, new best FoM : 2.998011465243123\n"
     ]
    },
    {
     "name": "stdout",
     "output_type": "stream",
     "text": [
      "INFO     oc_logger    Function evaluation number: 241, SI: 1, Sub-iteration number: 144, FoM: 2.998011465243123\n"
     ]
    },
    {
     "name": "stderr",
     "output_type": "stream",
     "text": [
      "INFO:oc_logger:Function evaluation number: 241, SI: 1, Sub-iteration number: 144, FoM: 2.998011465243123\n",
      "DEBUG:oc_logger:User running: True\n",
      "DEBUG:oc_logger:User running: True\n",
      "DEBUG:oc_logger:User running: True\n",
      "DEBUG:oc_logger:User running: True\n"
     ]
    },
    {
     "name": "stdout",
     "output_type": "stream",
     "text": [
      "Coeff of psi:  0.9999391859236472\n",
      "Coeff of psi_targ:  0.4999486410554901\n",
      "INFO     oc_logger    Function evaluation number: 242, SI: 1, Sub-iteration number: 145, FoM: 2.9978037478713766\n"
     ]
    },
    {
     "name": "stderr",
     "output_type": "stream",
     "text": [
      "INFO:oc_logger:Function evaluation number: 242, SI: 1, Sub-iteration number: 145, FoM: 2.9978037478713766\n",
      "DEBUG:oc_logger:User running: True\n",
      "DEBUG:oc_logger:User running: True\n",
      "DEBUG:oc_logger:User running: True\n"
     ]
    },
    {
     "name": "stdout",
     "output_type": "stream",
     "text": [
      "Coeff of psi:  0.9999969971807594\n",
      "Coeff of psi_targ:  0.4999926212148482\n",
      "INFO     oc_logger    New record achieved. Previous FoM: 2.998011465243123, new best FoM : 2.998023230896115\n"
     ]
    },
    {
     "name": "stderr",
     "output_type": "stream",
     "text": [
      "INFO:oc_logger:New record achieved. Previous FoM: 2.998011465243123, new best FoM : 2.998023230896115\n"
     ]
    },
    {
     "name": "stdout",
     "output_type": "stream",
     "text": [
      "INFO     oc_logger    Function evaluation number: 243, SI: 1, Sub-iteration number: 145, FoM: 2.998023230896115\n"
     ]
    },
    {
     "name": "stderr",
     "output_type": "stream",
     "text": [
      "INFO:oc_logger:Function evaluation number: 243, SI: 1, Sub-iteration number: 145, FoM: 2.998023230896115\n",
      "DEBUG:oc_logger:User running: True\n",
      "DEBUG:oc_logger:User running: True\n",
      "DEBUG:oc_logger:User running: True\n",
      "DEBUG:oc_logger:User running: True\n"
     ]
    },
    {
     "name": "stdout",
     "output_type": "stream",
     "text": [
      "Coeff of psi:  0.999999008852301\n",
      "Coeff of psi_targ:  0.49995940960336593\n",
      "INFO     oc_logger    Function evaluation number: 244, SI: 1, Sub-iteration number: 146, FoM: 2.9978900522265164\n"
     ]
    },
    {
     "name": "stderr",
     "output_type": "stream",
     "text": [
      "INFO:oc_logger:Function evaluation number: 244, SI: 1, Sub-iteration number: 146, FoM: 2.9978900522265164\n",
      "DEBUG:oc_logger:User running: True\n",
      "DEBUG:oc_logger:User running: True\n",
      "DEBUG:oc_logger:User running: True\n"
     ]
    },
    {
     "name": "stdout",
     "output_type": "stream",
     "text": [
      "Coeff of psi:  0.9999985440714018\n",
      "Coeff of psi_targ:  0.4999953457175719\n",
      "INFO     oc_logger    Function evaluation number: 245, SI: 1, Sub-iteration number: 146, FoM: 2.998014130192432\n"
     ]
    },
    {
     "name": "stderr",
     "output_type": "stream",
     "text": [
      "INFO:oc_logger:Function evaluation number: 245, SI: 1, Sub-iteration number: 146, FoM: 2.998014130192432\n",
      "DEBUG:oc_logger:User running: True\n",
      "DEBUG:oc_logger:User running: True\n",
      "DEBUG:oc_logger:User running: True\n",
      "DEBUG:oc_logger:User running: True\n"
     ]
    },
    {
     "name": "stdout",
     "output_type": "stream",
     "text": [
      "Coeff of psi:  0.9999925394820974\n",
      "Coeff of psi_targ:  0.49998388100221075\n",
      "INFO     oc_logger    Function evaluation number: 246, SI: 1, Sub-iteration number: 147, FoM: 2.9978804003971207\n"
     ]
    },
    {
     "name": "stderr",
     "output_type": "stream",
     "text": [
      "INFO:oc_logger:Function evaluation number: 246, SI: 1, Sub-iteration number: 147, FoM: 2.9978804003971207\n",
      "DEBUG:oc_logger:User running: True\n",
      "DEBUG:oc_logger:User running: True\n",
      "DEBUG:oc_logger:User running: True\n"
     ]
    },
    {
     "name": "stdout",
     "output_type": "stream",
     "text": [
      "Coeff of psi:  0.9999932770860358\n",
      "Coeff of psi_targ:  0.49999227093158927\n",
      "INFO     oc_logger    Function evaluation number: 247, SI: 1, Sub-iteration number: 147, FoM: 2.9980162089959825\n"
     ]
    },
    {
     "name": "stderr",
     "output_type": "stream",
     "text": [
      "INFO:oc_logger:Function evaluation number: 247, SI: 1, Sub-iteration number: 147, FoM: 2.9980162089959825\n",
      "DEBUG:oc_logger:User running: True\n",
      "DEBUG:oc_logger:User running: True\n",
      "DEBUG:oc_logger:User running: True\n",
      "DEBUG:oc_logger:User running: True\n"
     ]
    },
    {
     "name": "stdout",
     "output_type": "stream",
     "text": [
      "Coeff of psi:  0.9999911677032474\n",
      "Coeff of psi_targ:  0.49996538943677704\n",
      "INFO     oc_logger    Function evaluation number: 248, SI: 1, Sub-iteration number: 148, FoM: 2.9979338789983516\n"
     ]
    },
    {
     "name": "stderr",
     "output_type": "stream",
     "text": [
      "INFO:oc_logger:Function evaluation number: 248, SI: 1, Sub-iteration number: 148, FoM: 2.9979338789983516\n",
      "DEBUG:oc_logger:User running: True\n",
      "DEBUG:oc_logger:User running: True\n",
      "DEBUG:oc_logger:User running: True\n"
     ]
    },
    {
     "name": "stdout",
     "output_type": "stream",
     "text": [
      "Coeff of psi:  0.9999986673124984\n",
      "Coeff of psi_targ:  0.49998937736309246\n",
      "INFO     oc_logger    Function evaluation number: 249, SI: 1, Sub-iteration number: 148, FoM: 2.9980190231066284\n"
     ]
    },
    {
     "name": "stderr",
     "output_type": "stream",
     "text": [
      "INFO:oc_logger:Function evaluation number: 249, SI: 1, Sub-iteration number: 148, FoM: 2.9980190231066284\n",
      "DEBUG:oc_logger:User running: True\n",
      "DEBUG:oc_logger:User running: True\n",
      "DEBUG:oc_logger:User running: True\n",
      "DEBUG:oc_logger:User running: True\n"
     ]
    },
    {
     "name": "stdout",
     "output_type": "stream",
     "text": [
      "Coeff of psi:  0.9999657467540279\n",
      "Coeff of psi_targ:  0.49997923411883993\n",
      "INFO     oc_logger    Function evaluation number: 250, SI: 1, Sub-iteration number: 149, FoM: 2.9979424432485158\n"
     ]
    },
    {
     "name": "stderr",
     "output_type": "stream",
     "text": [
      "INFO:oc_logger:Function evaluation number: 250, SI: 1, Sub-iteration number: 149, FoM: 2.9979424432485158\n",
      "DEBUG:oc_logger:User running: True\n",
      "DEBUG:oc_logger:User running: True\n",
      "DEBUG:oc_logger:User running: True\n"
     ]
    },
    {
     "name": "stdout",
     "output_type": "stream",
     "text": [
      "Coeff of psi:  0.9999977067375103\n",
      "Coeff of psi_targ:  0.49999435079558113\n",
      "INFO     oc_logger    New record achieved. Previous FoM: 2.998023230896115, new best FoM : 2.998027902065432\n"
     ]
    },
    {
     "name": "stderr",
     "output_type": "stream",
     "text": [
      "INFO:oc_logger:New record achieved. Previous FoM: 2.998023230896115, new best FoM : 2.998027902065432\n"
     ]
    },
    {
     "name": "stdout",
     "output_type": "stream",
     "text": [
      "INFO     oc_logger    Function evaluation number: 251, SI: 1, Sub-iteration number: 149, FoM: 2.998027902065432\n"
     ]
    },
    {
     "name": "stderr",
     "output_type": "stream",
     "text": [
      "INFO:oc_logger:Function evaluation number: 251, SI: 1, Sub-iteration number: 149, FoM: 2.998027902065432\n",
      "DEBUG:oc_logger:User running: True\n",
      "DEBUG:oc_logger:User running: True\n",
      "DEBUG:oc_logger:User running: True\n",
      "DEBUG:oc_logger:User running: True\n"
     ]
    },
    {
     "name": "stdout",
     "output_type": "stream",
     "text": [
      "Coeff of psi:  0.9999872804459546\n",
      "Coeff of psi_targ:  0.4999675837548188\n",
      "INFO     oc_logger    Function evaluation number: 252, SI: 1, Sub-iteration number: 150, FoM: 2.9979363824354026\n"
     ]
    },
    {
     "name": "stderr",
     "output_type": "stream",
     "text": [
      "INFO:oc_logger:Function evaluation number: 252, SI: 1, Sub-iteration number: 150, FoM: 2.9979363824354026\n",
      "DEBUG:oc_logger:User running: True\n",
      "DEBUG:oc_logger:User running: True\n",
      "DEBUG:oc_logger:User running: True\n"
     ]
    },
    {
     "name": "stdout",
     "output_type": "stream",
     "text": [
      "Coeff of psi:  0.999994599599737\n",
      "Coeff of psi_targ:  0.4999967720162434\n",
      "INFO     oc_logger    New record achieved. Previous FoM: 2.998027902065432, new best FoM : 2.9980310084745394\n"
     ]
    },
    {
     "name": "stderr",
     "output_type": "stream",
     "text": [
      "INFO:oc_logger:New record achieved. Previous FoM: 2.998027902065432, new best FoM : 2.9980310084745394\n"
     ]
    },
    {
     "name": "stdout",
     "output_type": "stream",
     "text": [
      "INFO     oc_logger    Function evaluation number: 253, SI: 1, Sub-iteration number: 150, FoM: 2.9980310084745394\n"
     ]
    },
    {
     "name": "stderr",
     "output_type": "stream",
     "text": [
      "INFO:oc_logger:Function evaluation number: 253, SI: 1, Sub-iteration number: 150, FoM: 2.9980310084745394\n",
      "DEBUG:oc_logger:User running: True\n",
      "DEBUG:oc_logger:User running: True\n",
      "DEBUG:oc_logger:User running: True\n",
      "DEBUG:oc_logger:User running: True\n"
     ]
    },
    {
     "name": "stdout",
     "output_type": "stream",
     "text": [
      "Coeff of psi:  0.9999919978683086\n",
      "Coeff of psi_targ:  0.49999593507777756\n",
      "INFO     oc_logger    Function evaluation number: 254, SI: 1, Sub-iteration number: 151, FoM: 2.9979934006990643\n"
     ]
    },
    {
     "name": "stderr",
     "output_type": "stream",
     "text": [
      "INFO:oc_logger:Function evaluation number: 254, SI: 1, Sub-iteration number: 151, FoM: 2.9979934006990643\n",
      "DEBUG:oc_logger:User running: True\n",
      "DEBUG:oc_logger:User running: True\n",
      "DEBUG:oc_logger:User running: True\n"
     ]
    },
    {
     "name": "stdout",
     "output_type": "stream",
     "text": [
      "Coeff of psi:  0.9999967585607166\n",
      "Coeff of psi_targ:  0.499996130078083\n",
      "INFO     oc_logger    New record achieved. Previous FoM: 2.9980310084745394, new best FoM : 2.9980364282665963\n"
     ]
    },
    {
     "name": "stderr",
     "output_type": "stream",
     "text": [
      "INFO:oc_logger:New record achieved. Previous FoM: 2.9980310084745394, new best FoM : 2.9980364282665963\n"
     ]
    },
    {
     "name": "stdout",
     "output_type": "stream",
     "text": [
      "INFO     oc_logger    Function evaluation number: 255, SI: 1, Sub-iteration number: 151, FoM: 2.9980364282665963\n"
     ]
    },
    {
     "name": "stderr",
     "output_type": "stream",
     "text": [
      "INFO:oc_logger:Function evaluation number: 255, SI: 1, Sub-iteration number: 151, FoM: 2.9980364282665963\n",
      "DEBUG:oc_logger:User running: True\n",
      "DEBUG:oc_logger:User running: True\n",
      "DEBUG:oc_logger:User running: True\n",
      "DEBUG:oc_logger:User running: True\n"
     ]
    },
    {
     "name": "stdout",
     "output_type": "stream",
     "text": [
      "Coeff of psi:  0.9999852217806707\n",
      "Coeff of psi_targ:  0.49998192204549186\n",
      "INFO     oc_logger    Function evaluation number: 256, SI: 1, Sub-iteration number: 152, FoM: 2.9979702012322367\n"
     ]
    },
    {
     "name": "stderr",
     "output_type": "stream",
     "text": [
      "INFO:oc_logger:Function evaluation number: 256, SI: 1, Sub-iteration number: 152, FoM: 2.9979702012322367\n",
      "DEBUG:oc_logger:User running: True\n",
      "DEBUG:oc_logger:User running: True\n",
      "DEBUG:oc_logger:User running: True\n"
     ]
    },
    {
     "name": "stdout",
     "output_type": "stream",
     "text": [
      "Coeff of psi:  0.999996034916587\n",
      "Coeff of psi_targ:  0.49999792242669844\n",
      "INFO     oc_logger    New record achieved. Previous FoM: 2.9980364282665963, new best FoM : 2.9980396332276116\n"
     ]
    },
    {
     "name": "stderr",
     "output_type": "stream",
     "text": [
      "INFO:oc_logger:New record achieved. Previous FoM: 2.9980364282665963, new best FoM : 2.9980396332276116\n"
     ]
    },
    {
     "name": "stdout",
     "output_type": "stream",
     "text": [
      "INFO     oc_logger    Function evaluation number: 257, SI: 1, Sub-iteration number: 152, FoM: 2.9980396332276116\n"
     ]
    },
    {
     "name": "stderr",
     "output_type": "stream",
     "text": [
      "INFO:oc_logger:Function evaluation number: 257, SI: 1, Sub-iteration number: 152, FoM: 2.9980396332276116\n",
      "DEBUG:oc_logger:User running: True\n",
      "DEBUG:oc_logger:User running: True\n",
      "DEBUG:oc_logger:User running: True\n",
      "DEBUG:oc_logger:User running: True\n"
     ]
    },
    {
     "name": "stdout",
     "output_type": "stream",
     "text": [
      "Coeff of psi:  0.9999995878142397\n",
      "Coeff of psi_targ:  0.49997811731481356\n",
      "INFO     oc_logger    Function evaluation number: 258, SI: 1, Sub-iteration number: 153, FoM: 2.9979727973771304\n"
     ]
    },
    {
     "name": "stderr",
     "output_type": "stream",
     "text": [
      "INFO:oc_logger:Function evaluation number: 258, SI: 1, Sub-iteration number: 153, FoM: 2.9979727973771304\n",
      "DEBUG:oc_logger:User running: True\n",
      "DEBUG:oc_logger:User running: True\n",
      "DEBUG:oc_logger:User running: True\n"
     ]
    },
    {
     "name": "stdout",
     "output_type": "stream",
     "text": [
      "Coeff of psi:  0.9999999961392889\n",
      "Coeff of psi_targ:  0.4999998933374224\n",
      "INFO     oc_logger    New record achieved. Previous FoM: 2.9980396332276116, new best FoM : 2.9980406237872543\n"
     ]
    },
    {
     "name": "stderr",
     "output_type": "stream",
     "text": [
      "INFO:oc_logger:New record achieved. Previous FoM: 2.9980396332276116, new best FoM : 2.9980406237872543\n"
     ]
    },
    {
     "name": "stdout",
     "output_type": "stream",
     "text": [
      "INFO     oc_logger    Function evaluation number: 259, SI: 1, Sub-iteration number: 153, FoM: 2.9980406237872543\n"
     ]
    },
    {
     "name": "stderr",
     "output_type": "stream",
     "text": [
      "INFO:oc_logger:Function evaluation number: 259, SI: 1, Sub-iteration number: 153, FoM: 2.9980406237872543\n",
      "DEBUG:oc_logger:User running: True\n",
      "DEBUG:oc_logger:User running: True\n",
      "DEBUG:oc_logger:User running: True\n",
      "DEBUG:oc_logger:User running: True\n"
     ]
    },
    {
     "name": "stdout",
     "output_type": "stream",
     "text": [
      "Coeff of psi:  0.9999855777650655\n",
      "Coeff of psi_targ:  0.49999218767586334\n",
      "INFO     oc_logger    Function evaluation number: 260, SI: 1, Sub-iteration number: 154, FoM: 2.9980075418086414\n"
     ]
    },
    {
     "name": "stderr",
     "output_type": "stream",
     "text": [
      "INFO:oc_logger:Function evaluation number: 260, SI: 1, Sub-iteration number: 154, FoM: 2.9980075418086414\n",
      "DEBUG:oc_logger:User running: True\n",
      "DEBUG:oc_logger:User running: True\n",
      "DEBUG:oc_logger:User running: True\n"
     ]
    },
    {
     "name": "stdout",
     "output_type": "stream",
     "text": [
      "Coeff of psi:  0.9999988039307467\n",
      "Coeff of psi_targ:  0.49999719991383\n",
      "INFO     oc_logger    Function evaluation number: 261, SI: 1, Sub-iteration number: 154, FoM: 2.998037097555272\n"
     ]
    },
    {
     "name": "stderr",
     "output_type": "stream",
     "text": [
      "INFO:oc_logger:Function evaluation number: 261, SI: 1, Sub-iteration number: 154, FoM: 2.998037097555272\n",
      "DEBUG:oc_logger:User running: True\n",
      "DEBUG:oc_logger:User running: True\n",
      "DEBUG:oc_logger:User running: True\n",
      "DEBUG:oc_logger:User running: True\n"
     ]
    },
    {
     "name": "stdout",
     "output_type": "stream",
     "text": [
      "Coeff of psi:  0.9999987809064609\n",
      "Coeff of psi_targ:  0.4999966137317701\n",
      "INFO     oc_logger    Function evaluation number: 262, SI: 1, Sub-iteration number: 155, FoM: 2.9980200131617236\n"
     ]
    },
    {
     "name": "stderr",
     "output_type": "stream",
     "text": [
      "INFO:oc_logger:Function evaluation number: 262, SI: 1, Sub-iteration number: 155, FoM: 2.9980200131617236\n",
      "DEBUG:oc_logger:User running: True\n",
      "DEBUG:oc_logger:User running: True\n",
      "DEBUG:oc_logger:User running: True\n",
      "DEBUG:oc_logger:User running: True\n"
     ]
    },
    {
     "name": "stdout",
     "output_type": "stream",
     "text": [
      "Coeff of psi:  0.9999998873819046\n",
      "Coeff of psi_targ:  0.4999836325891417\n",
      "INFO     oc_logger    Function evaluation number: 263, SI: 1, Sub-iteration number: 156, FoM: 2.997999257291211\n"
     ]
    },
    {
     "name": "stderr",
     "output_type": "stream",
     "text": [
      "INFO:oc_logger:Function evaluation number: 263, SI: 1, Sub-iteration number: 156, FoM: 2.997999257291211\n",
      "DEBUG:oc_logger:User running: True\n",
      "DEBUG:oc_logger:User running: True\n",
      "DEBUG:oc_logger:User running: True\n"
     ]
    },
    {
     "name": "stdout",
     "output_type": "stream",
     "text": [
      "Coeff of psi:  0.9999993213279309\n",
      "Coeff of psi_targ:  0.4999993811255947\n",
      "INFO     oc_logger    Function evaluation number: 264, SI: 1, Sub-iteration number: 156, FoM: 2.998040329646602\n"
     ]
    },
    {
     "name": "stderr",
     "output_type": "stream",
     "text": [
      "INFO:oc_logger:Function evaluation number: 264, SI: 1, Sub-iteration number: 156, FoM: 2.998040329646602\n",
      "DEBUG:oc_logger:User running: True\n",
      "DEBUG:oc_logger:User running: True\n",
      "DEBUG:oc_logger:User running: True\n",
      "DEBUG:oc_logger:User running: True\n"
     ]
    },
    {
     "name": "stdout",
     "output_type": "stream",
     "text": [
      "Coeff of psi:  0.9999956777444474\n",
      "Coeff of psi_targ:  0.49999751504574014\n",
      "INFO     oc_logger    Function evaluation number: 265, SI: 1, Sub-iteration number: 157, FoM: 2.998003521592869\n"
     ]
    },
    {
     "name": "stderr",
     "output_type": "stream",
     "text": [
      "INFO:oc_logger:Function evaluation number: 265, SI: 1, Sub-iteration number: 157, FoM: 2.998003521592869\n",
      "DEBUG:oc_logger:User running: True\n",
      "DEBUG:oc_logger:User running: True\n",
      "DEBUG:oc_logger:User running: True\n"
     ]
    },
    {
     "name": "stdout",
     "output_type": "stream",
     "text": [
      "Coeff of psi:  0.9999979589605007\n",
      "Coeff of psi_targ:  0.4999968858109313\n",
      "INFO     oc_logger    Function evaluation number: 266, SI: 1, Sub-iteration number: 157, FoM: 2.9980405507250736\n"
     ]
    },
    {
     "name": "stderr",
     "output_type": "stream",
     "text": [
      "INFO:oc_logger:Function evaluation number: 266, SI: 1, Sub-iteration number: 157, FoM: 2.9980405507250736\n",
      "DEBUG:oc_logger:User running: True\n",
      "DEBUG:oc_logger:User running: True\n",
      "DEBUG:oc_logger:User running: True\n",
      "DEBUG:oc_logger:User running: True\n"
     ]
    },
    {
     "name": "stdout",
     "output_type": "stream",
     "text": [
      "Coeff of psi:  0.9999951991286158\n",
      "Coeff of psi_targ:  0.49999380049189623\n",
      "INFO     oc_logger    Function evaluation number: 267, SI: 1, Sub-iteration number: 158, FoM: 2.998011798904151\n"
     ]
    },
    {
     "name": "stderr",
     "output_type": "stream",
     "text": [
      "INFO:oc_logger:Function evaluation number: 267, SI: 1, Sub-iteration number: 158, FoM: 2.998011798904151\n",
      "DEBUG:oc_logger:User running: True\n",
      "DEBUG:oc_logger:User running: True\n",
      "DEBUG:oc_logger:User running: True\n"
     ]
    },
    {
     "name": "stdout",
     "output_type": "stream",
     "text": [
      "Coeff of psi:  0.999999899717719\n",
      "Coeff of psi_targ:  0.4999963692028093\n",
      "INFO     oc_logger    New record achieved. Previous FoM: 2.9980406237872543, new best FoM : 2.9980407040882495\n"
     ]
    },
    {
     "name": "stderr",
     "output_type": "stream",
     "text": [
      "INFO:oc_logger:New record achieved. Previous FoM: 2.9980406237872543, new best FoM : 2.9980407040882495\n"
     ]
    },
    {
     "name": "stdout",
     "output_type": "stream",
     "text": [
      "INFO     oc_logger    Function evaluation number: 268, SI: 1, Sub-iteration number: 158, FoM: 2.9980407040882495\n"
     ]
    },
    {
     "name": "stderr",
     "output_type": "stream",
     "text": [
      "INFO:oc_logger:Function evaluation number: 268, SI: 1, Sub-iteration number: 158, FoM: 2.9980407040882495\n",
      "DEBUG:oc_logger:User running: True\n",
      "DEBUG:oc_logger:User running: True\n",
      "DEBUG:oc_logger:User running: True\n",
      "DEBUG:oc_logger:User running: True\n"
     ]
    },
    {
     "name": "stdout",
     "output_type": "stream",
     "text": [
      "Coeff of psi:  0.9999998740044151\n",
      "Coeff of psi_targ:  0.4999871624102064\n",
      "INFO     oc_logger    Function evaluation number: 269, SI: 1, Sub-iteration number: 159, FoM: 2.998013547472308\n"
     ]
    },
    {
     "name": "stderr",
     "output_type": "stream",
     "text": [
      "INFO:oc_logger:Function evaluation number: 269, SI: 1, Sub-iteration number: 159, FoM: 2.998013547472308\n",
      "DEBUG:oc_logger:User running: True\n",
      "DEBUG:oc_logger:User running: True\n",
      "DEBUG:oc_logger:User running: True\n"
     ]
    },
    {
     "name": "stdout",
     "output_type": "stream",
     "text": [
      "Coeff of psi:  0.9999994497546913\n",
      "Coeff of psi_targ:  0.4999995444826255\n",
      "INFO     oc_logger    New record achieved. Previous FoM: 2.9980407040882495, new best FoM : 2.998040888776919\n"
     ]
    },
    {
     "name": "stderr",
     "output_type": "stream",
     "text": [
      "INFO:oc_logger:New record achieved. Previous FoM: 2.9980407040882495, new best FoM : 2.998040888776919\n"
     ]
    },
    {
     "name": "stdout",
     "output_type": "stream",
     "text": [
      "INFO     oc_logger    Function evaluation number: 270, SI: 1, Sub-iteration number: 159, FoM: 2.998040888776919\n"
     ]
    },
    {
     "name": "stderr",
     "output_type": "stream",
     "text": [
      "INFO:oc_logger:Function evaluation number: 270, SI: 1, Sub-iteration number: 159, FoM: 2.998040888776919\n",
      "DEBUG:oc_logger:User running: True\n",
      "DEBUG:oc_logger:User running: True\n",
      "DEBUG:oc_logger:User running: True\n",
      "DEBUG:oc_logger:User running: True\n"
     ]
    },
    {
     "name": "stdout",
     "output_type": "stream",
     "text": [
      "Coeff of psi:  0.9999911029745067\n",
      "Coeff of psi_targ:  0.4999944002178714\n",
      "INFO     oc_logger    Function evaluation number: 271, SI: 1, Sub-iteration number: 160, FoM: 2.998019262913093\n"
     ]
    },
    {
     "name": "stderr",
     "output_type": "stream",
     "text": [
      "INFO:oc_logger:Function evaluation number: 271, SI: 1, Sub-iteration number: 160, FoM: 2.998019262913093\n",
      "DEBUG:oc_logger:User running: True\n",
      "DEBUG:oc_logger:User running: True\n",
      "DEBUG:oc_logger:User running: True\n"
     ]
    },
    {
     "name": "stdout",
     "output_type": "stream",
     "text": [
      "Coeff of psi:  0.9999996934457738\n",
      "Coeff of psi_targ:  0.49999739129915155\n",
      "INFO     oc_logger    New record achieved. Previous FoM: 2.998040888776919, new best FoM : 2.998041475315492\n"
     ]
    },
    {
     "name": "stderr",
     "output_type": "stream",
     "text": [
      "INFO:oc_logger:New record achieved. Previous FoM: 2.998040888776919, new best FoM : 2.998041475315492\n"
     ]
    },
    {
     "name": "stdout",
     "output_type": "stream",
     "text": [
      "INFO     oc_logger    Function evaluation number: 272, SI: 1, Sub-iteration number: 160, FoM: 2.998041475315492\n"
     ]
    },
    {
     "name": "stderr",
     "output_type": "stream",
     "text": [
      "INFO:oc_logger:Function evaluation number: 272, SI: 1, Sub-iteration number: 160, FoM: 2.998041475315492\n",
      "DEBUG:oc_logger:User running: True\n",
      "DEBUG:oc_logger:User running: True\n",
      "DEBUG:oc_logger:User running: True\n",
      "DEBUG:oc_logger:User running: True\n"
     ]
    },
    {
     "name": "stdout",
     "output_type": "stream",
     "text": [
      "Coeff of psi:  0.9999912589983462\n",
      "Coeff of psi_targ:  0.49999484375206876\n",
      "INFO     oc_logger    Function evaluation number: 273, SI: 1, Sub-iteration number: 161, FoM: 2.9980227433516795\n"
     ]
    },
    {
     "name": "stderr",
     "output_type": "stream",
     "text": [
      "INFO:oc_logger:Function evaluation number: 273, SI: 1, Sub-iteration number: 161, FoM: 2.9980227433516795\n",
      "DEBUG:oc_logger:User running: True\n",
      "DEBUG:oc_logger:User running: True\n",
      "DEBUG:oc_logger:User running: True\n"
     ]
    },
    {
     "name": "stdout",
     "output_type": "stream",
     "text": [
      "Coeff of psi:  0.9999998428587804\n",
      "Coeff of psi_targ:  0.4999979909445822\n",
      "INFO     oc_logger    New record achieved. Previous FoM: 2.998041475315492, new best FoM : 2.9980427770092417\n"
     ]
    },
    {
     "name": "stderr",
     "output_type": "stream",
     "text": [
      "INFO:oc_logger:New record achieved. Previous FoM: 2.998041475315492, new best FoM : 2.9980427770092417\n"
     ]
    },
    {
     "name": "stdout",
     "output_type": "stream",
     "text": [
      "INFO     oc_logger    Function evaluation number: 274, SI: 1, Sub-iteration number: 161, FoM: 2.9980427770092417\n"
     ]
    },
    {
     "name": "stderr",
     "output_type": "stream",
     "text": [
      "INFO:oc_logger:Function evaluation number: 274, SI: 1, Sub-iteration number: 161, FoM: 2.9980427770092417\n",
      "DEBUG:oc_logger:User running: True\n",
      "DEBUG:oc_logger:User running: True\n",
      "DEBUG:oc_logger:User running: True\n",
      "DEBUG:oc_logger:User running: True\n"
     ]
    },
    {
     "name": "stdout",
     "output_type": "stream",
     "text": [
      "Coeff of psi:  0.9999979661425261\n",
      "Coeff of psi_targ:  0.499993407559159\n",
      "INFO     oc_logger    Function evaluation number: 275, SI: 1, Sub-iteration number: 162, FoM: 2.998027791259447\n"
     ]
    },
    {
     "name": "stderr",
     "output_type": "stream",
     "text": [
      "INFO:oc_logger:Function evaluation number: 275, SI: 1, Sub-iteration number: 162, FoM: 2.998027791259447\n",
      "DEBUG:oc_logger:User running: True\n",
      "DEBUG:oc_logger:User running: True\n",
      "DEBUG:oc_logger:User running: True\n"
     ]
    },
    {
     "name": "stdout",
     "output_type": "stream",
     "text": [
      "Coeff of psi:  0.999998077032448\n",
      "Coeff of psi_targ:  0.49999897197766924\n",
      "INFO     oc_logger    New record achieved. Previous FoM: 2.9980427770092417, new best FoM : 2.9980433594526237\n"
     ]
    },
    {
     "name": "stderr",
     "output_type": "stream",
     "text": [
      "INFO:oc_logger:New record achieved. Previous FoM: 2.9980427770092417, new best FoM : 2.9980433594526237\n"
     ]
    },
    {
     "name": "stdout",
     "output_type": "stream",
     "text": [
      "INFO     oc_logger    Function evaluation number: 276, SI: 1, Sub-iteration number: 162, FoM: 2.9980433594526237\n"
     ]
    },
    {
     "name": "stderr",
     "output_type": "stream",
     "text": [
      "INFO:oc_logger:Function evaluation number: 276, SI: 1, Sub-iteration number: 162, FoM: 2.9980433594526237\n",
      "DEBUG:oc_logger:User running: True\n",
      "DEBUG:oc_logger:User running: True\n",
      "DEBUG:oc_logger:User running: True\n",
      "DEBUG:oc_logger:User running: True\n"
     ]
    },
    {
     "name": "stdout",
     "output_type": "stream",
     "text": [
      "Coeff of psi:  0.9999990230734163\n",
      "Coeff of psi_targ:  0.499999440370586\n",
      "INFO     oc_logger    Function evaluation number: 277, SI: 1, Sub-iteration number: 163, FoM: 2.998030764633362\n"
     ]
    },
    {
     "name": "stderr",
     "output_type": "stream",
     "text": [
      "INFO:oc_logger:Function evaluation number: 277, SI: 1, Sub-iteration number: 163, FoM: 2.998030764633362\n",
      "DEBUG:oc_logger:User running: True\n",
      "DEBUG:oc_logger:User running: True\n",
      "DEBUG:oc_logger:User running: True\n"
     ]
    },
    {
     "name": "stdout",
     "output_type": "stream",
     "text": [
      "Coeff of psi:  0.9999987799647043\n",
      "Coeff of psi_targ:  0.49999815136324105\n",
      "INFO     oc_logger    New record achieved. Previous FoM: 2.9980433594526237, new best FoM : 2.998044934920477\n"
     ]
    },
    {
     "name": "stderr",
     "output_type": "stream",
     "text": [
      "INFO:oc_logger:New record achieved. Previous FoM: 2.9980433594526237, new best FoM : 2.998044934920477\n"
     ]
    },
    {
     "name": "stdout",
     "output_type": "stream",
     "text": [
      "INFO     oc_logger    Function evaluation number: 278, SI: 1, Sub-iteration number: 163, FoM: 2.998044934920477\n"
     ]
    },
    {
     "name": "stderr",
     "output_type": "stream",
     "text": [
      "INFO:oc_logger:Function evaluation number: 278, SI: 1, Sub-iteration number: 163, FoM: 2.998044934920477\n",
      "DEBUG:oc_logger:User running: True\n",
      "DEBUG:oc_logger:User running: True\n",
      "DEBUG:oc_logger:User running: True\n",
      "DEBUG:oc_logger:User running: True\n"
     ]
    },
    {
     "name": "stdout",
     "output_type": "stream",
     "text": [
      "Coeff of psi:  0.999994484934997\n",
      "Coeff of psi_targ:  0.4999971582831652\n",
      "INFO     oc_logger    Function evaluation number: 279, SI: 1, Sub-iteration number: 164, FoM: 2.9980345895719562\n"
     ]
    },
    {
     "name": "stderr",
     "output_type": "stream",
     "text": [
      "INFO:oc_logger:Function evaluation number: 279, SI: 1, Sub-iteration number: 164, FoM: 2.9980345895719562\n",
      "DEBUG:oc_logger:User running: True\n",
      "DEBUG:oc_logger:User running: True\n",
      "DEBUG:oc_logger:User running: True\n"
     ]
    },
    {
     "name": "stdout",
     "output_type": "stream",
     "text": [
      "Coeff of psi:  0.999999945736796\n",
      "Coeff of psi_targ:  0.4999987911286712\n",
      "INFO     oc_logger    Function evaluation number: 280, SI: 1, Sub-iteration number: 164, FoM: 2.9980447730125013\n"
     ]
    },
    {
     "name": "stderr",
     "output_type": "stream",
     "text": [
      "INFO:oc_logger:Function evaluation number: 280, SI: 1, Sub-iteration number: 164, FoM: 2.9980447730125013\n",
      "DEBUG:oc_logger:User running: True\n",
      "DEBUG:oc_logger:User running: True\n",
      "DEBUG:oc_logger:User running: True\n",
      "DEBUG:oc_logger:User running: True\n"
     ]
    },
    {
     "name": "stdout",
     "output_type": "stream",
     "text": [
      "Coeff of psi:  0.9999986041843861\n",
      "Coeff of psi_targ:  0.49999755480977404\n",
      "INFO     oc_logger    Function evaluation number: 281, SI: 1, Sub-iteration number: 165, FoM: 2.998036175320143\n"
     ]
    },
    {
     "name": "stderr",
     "output_type": "stream",
     "text": [
      "INFO:oc_logger:Function evaluation number: 281, SI: 1, Sub-iteration number: 165, FoM: 2.998036175320143\n",
      "DEBUG:oc_logger:User running: True\n",
      "DEBUG:oc_logger:User running: True\n",
      "DEBUG:oc_logger:User running: True\n"
     ]
    },
    {
     "name": "stdout",
     "output_type": "stream",
     "text": [
      "Coeff of psi:  0.9999985640846768\n",
      "Coeff of psi_targ:  0.49999900636975914\n",
      "INFO     oc_logger    New record achieved. Previous FoM: 2.998044934920477, new best FoM : 2.9980454856165846\n"
     ]
    },
    {
     "name": "stderr",
     "output_type": "stream",
     "text": [
      "INFO:oc_logger:New record achieved. Previous FoM: 2.998044934920477, new best FoM : 2.9980454856165846\n"
     ]
    },
    {
     "name": "stdout",
     "output_type": "stream",
     "text": [
      "INFO     oc_logger    Function evaluation number: 282, SI: 1, Sub-iteration number: 165, FoM: 2.9980454856165846\n"
     ]
    },
    {
     "name": "stderr",
     "output_type": "stream",
     "text": [
      "INFO:oc_logger:Function evaluation number: 282, SI: 1, Sub-iteration number: 165, FoM: 2.9980454856165846\n",
      "DEBUG:oc_logger:User running: True\n",
      "DEBUG:oc_logger:User running: True\n",
      "DEBUG:oc_logger:User running: True\n",
      "DEBUG:oc_logger:User running: True\n"
     ]
    },
    {
     "name": "stdout",
     "output_type": "stream",
     "text": [
      "Coeff of psi:  0.9999999963932391\n",
      "Coeff of psi_targ:  0.4999953754873405\n",
      "INFO     oc_logger    Function evaluation number: 283, SI: 1, Sub-iteration number: 166, FoM: 2.9980384937412037\n"
     ]
    },
    {
     "name": "stderr",
     "output_type": "stream",
     "text": [
      "INFO:oc_logger:Function evaluation number: 283, SI: 1, Sub-iteration number: 166, FoM: 2.9980384937412037\n",
      "DEBUG:oc_logger:User running: True\n",
      "DEBUG:oc_logger:User running: True\n",
      "DEBUG:oc_logger:User running: True\n"
     ]
    },
    {
     "name": "stdout",
     "output_type": "stream",
     "text": [
      "Coeff of psi:  0.9999995988472874\n",
      "Coeff of psi_targ:  0.4999997042591287\n",
      "INFO     oc_logger    New record achieved. Previous FoM: 2.9980454856165846, new best FoM : 2.998045487065676\n"
     ]
    },
    {
     "name": "stderr",
     "output_type": "stream",
     "text": [
      "INFO:oc_logger:New record achieved. Previous FoM: 2.9980454856165846, new best FoM : 2.998045487065676\n"
     ]
    },
    {
     "name": "stdout",
     "output_type": "stream",
     "text": [
      "INFO     oc_logger    Function evaluation number: 284, SI: 1, Sub-iteration number: 166, FoM: 2.998045487065676\n"
     ]
    },
    {
     "name": "stderr",
     "output_type": "stream",
     "text": [
      "INFO:oc_logger:Function evaluation number: 284, SI: 1, Sub-iteration number: 166, FoM: 2.998045487065676\n",
      "DEBUG:oc_logger:User running: True\n",
      "DEBUG:oc_logger:User running: True\n",
      "DEBUG:oc_logger:User running: True\n",
      "DEBUG:oc_logger:User running: True\n"
     ]
    },
    {
     "name": "stdout",
     "output_type": "stream",
     "text": [
      "Coeff of psi:  0.9999995027043179\n",
      "Coeff of psi_targ:  0.49999968901147984\n",
      "INFO     oc_logger    Function evaluation number: 285, SI: 1, Sub-iteration number: 167, FoM: 2.9980354336395862\n"
     ]
    },
    {
     "name": "stderr",
     "output_type": "stream",
     "text": [
      "INFO:oc_logger:Function evaluation number: 285, SI: 1, Sub-iteration number: 167, FoM: 2.9980354336395862\n",
      "DEBUG:oc_logger:User running: True\n",
      "DEBUG:oc_logger:User running: True\n",
      "DEBUG:oc_logger:User running: True\n"
     ]
    },
    {
     "name": "stdout",
     "output_type": "stream",
     "text": [
      "Coeff of psi:  0.9999991969724249\n",
      "Coeff of psi_targ:  0.4999983973024217\n",
      "INFO     oc_logger    New record achieved. Previous FoM: 2.998045487065676, new best FoM : 2.9980458506509997\n"
     ]
    },
    {
     "name": "stderr",
     "output_type": "stream",
     "text": [
      "INFO:oc_logger:New record achieved. Previous FoM: 2.998045487065676, new best FoM : 2.9980458506509997\n"
     ]
    },
    {
     "name": "stdout",
     "output_type": "stream",
     "text": [
      "INFO     oc_logger    Function evaluation number: 286, SI: 1, Sub-iteration number: 167, FoM: 2.9980458506509997\n"
     ]
    },
    {
     "name": "stderr",
     "output_type": "stream",
     "text": [
      "INFO:oc_logger:Function evaluation number: 286, SI: 1, Sub-iteration number: 167, FoM: 2.9980458506509997\n",
      "DEBUG:oc_logger:User running: True\n",
      "DEBUG:oc_logger:User running: True\n",
      "DEBUG:oc_logger:User running: True\n",
      "DEBUG:oc_logger:User running: True\n"
     ]
    },
    {
     "name": "stdout",
     "output_type": "stream",
     "text": [
      "Coeff of psi:  0.9999993134650275\n",
      "Coeff of psi_targ:  0.49999604831523836\n",
      "INFO     oc_logger    Function evaluation number: 287, SI: 1, Sub-iteration number: 168, FoM: 2.9980393641794847\n"
     ]
    },
    {
     "name": "stderr",
     "output_type": "stream",
     "text": [
      "INFO:oc_logger:Function evaluation number: 287, SI: 1, Sub-iteration number: 168, FoM: 2.9980393641794847\n",
      "DEBUG:oc_logger:User running: True\n",
      "DEBUG:oc_logger:User running: True\n",
      "DEBUG:oc_logger:User running: True\n"
     ]
    },
    {
     "name": "stdout",
     "output_type": "stream",
     "text": [
      "Coeff of psi:  0.9999999352523455\n",
      "Coeff of psi_targ:  0.49999980669813626\n",
      "INFO     oc_logger    Function evaluation number: 288, SI: 1, Sub-iteration number: 168, FoM: 2.998045462360358\n"
     ]
    },
    {
     "name": "stderr",
     "output_type": "stream",
     "text": [
      "INFO:oc_logger:Function evaluation number: 288, SI: 1, Sub-iteration number: 168, FoM: 2.998045462360358\n",
      "DEBUG:oc_logger:User running: True\n",
      "DEBUG:oc_logger:User running: True\n",
      "DEBUG:oc_logger:User running: True\n",
      "DEBUG:oc_logger:User running: True\n"
     ]
    },
    {
     "name": "stdout",
     "output_type": "stream",
     "text": [
      "Coeff of psi:  0.9999982504302262\n",
      "Coeff of psi_targ:  0.49999880103916544\n",
      "INFO     oc_logger    Function evaluation number: 289, SI: 1, Sub-iteration number: 169, FoM: 2.998038948815999\n"
     ]
    },
    {
     "name": "stderr",
     "output_type": "stream",
     "text": [
      "INFO:oc_logger:Function evaluation number: 289, SI: 1, Sub-iteration number: 169, FoM: 2.998038948815999\n",
      "DEBUG:oc_logger:User running: True\n",
      "DEBUG:oc_logger:User running: True\n",
      "DEBUG:oc_logger:User running: True\n"
     ]
    },
    {
     "name": "stdout",
     "output_type": "stream",
     "text": [
      "Coeff of psi:  0.9999999912650515\n",
      "Coeff of psi_targ:  0.4999982988819793\n",
      "INFO     oc_logger    Function evaluation number: 290, SI: 1, Sub-iteration number: 169, FoM: 2.9980455393021845\n"
     ]
    },
    {
     "name": "stderr",
     "output_type": "stream",
     "text": [
      "INFO:oc_logger:Function evaluation number: 290, SI: 1, Sub-iteration number: 169, FoM: 2.9980455393021845\n",
      "DEBUG:oc_logger:User running: True\n",
      "DEBUG:oc_logger:User running: True\n",
      "DEBUG:oc_logger:User running: True\n",
      "DEBUG:oc_logger:User running: True\n"
     ]
    },
    {
     "name": "stdout",
     "output_type": "stream",
     "text": [
      "Coeff of psi:  0.9999999820860311\n",
      "Coeff of psi_targ:  0.49999579793981846\n",
      "INFO     oc_logger    Function evaluation number: 291, SI: 1, Sub-iteration number: 170, FoM: 2.998040437573703\n"
     ]
    },
    {
     "name": "stderr",
     "output_type": "stream",
     "text": [
      "INFO:oc_logger:Function evaluation number: 291, SI: 1, Sub-iteration number: 170, FoM: 2.998040437573703\n",
      "DEBUG:oc_logger:User running: True\n",
      "DEBUG:oc_logger:User running: True\n",
      "DEBUG:oc_logger:User running: True\n"
     ]
    },
    {
     "name": "stdout",
     "output_type": "stream",
     "text": [
      "Coeff of psi:  0.999999651515208\n",
      "Coeff of psi_targ:  0.49999970192425414\n",
      "INFO     oc_logger    Function evaluation number: 292, SI: 1, Sub-iteration number: 170, FoM: 2.998045464054541\n"
     ]
    },
    {
     "name": "stderr",
     "output_type": "stream",
     "text": [
      "INFO:oc_logger:Function evaluation number: 292, SI: 1, Sub-iteration number: 170, FoM: 2.998045464054541\n",
      "DEBUG:oc_logger:User running: True\n",
      "DEBUG:oc_logger:User running: True\n",
      "DEBUG:oc_logger:User running: True\n",
      "DEBUG:oc_logger:User running: True\n"
     ]
    },
    {
     "name": "stdout",
     "output_type": "stream",
     "text": [
      "Coeff of psi:  0.9999972465440183\n",
      "Coeff of psi_targ:  0.4999985483016928\n",
      "INFO     oc_logger    Function evaluation number: 293, SI: 1, Sub-iteration number: 171, FoM: 2.998040866671368\n"
     ]
    },
    {
     "name": "stderr",
     "output_type": "stream",
     "text": [
      "INFO:oc_logger:Function evaluation number: 293, SI: 1, Sub-iteration number: 171, FoM: 2.998040866671368\n",
      "DEBUG:oc_logger:User running: True\n",
      "DEBUG:oc_logger:User running: True\n",
      "DEBUG:oc_logger:User running: True\n"
     ]
    },
    {
     "name": "stdout",
     "output_type": "stream",
     "text": [
      "Coeff of psi:  0.9999999999998737\n",
      "Coeff of psi_targ:  0.49999866004203114\n",
      "INFO     oc_logger    Function evaluation number: 294, SI: 1, Sub-iteration number: 171, FoM: 2.9980456439916026\n"
     ]
    },
    {
     "name": "stderr",
     "output_type": "stream",
     "text": [
      "INFO:oc_logger:Function evaluation number: 294, SI: 1, Sub-iteration number: 171, FoM: 2.9980456439916026\n",
      "DEBUG:oc_logger:User running: True\n"
     ]
    },
    {
     "name": "stdout",
     "output_type": "stream",
     "text": [
      "INFO     oc_logger    SI 1 finished - Number of evaluations: 294, Best FoM: 2.9980458506509997, Terminate reason: Convergence of the FoM (fatol).\n",
      "\n"
     ]
    },
    {
     "name": "stderr",
     "output_type": "stream",
     "text": [
      "INFO:oc_logger:SI 1 finished - Number of evaluations: 294, Best FoM: 2.9980458506509997, Terminate reason: Convergence of the FoM (fatol).\n",
      "\n",
      "DEBUG:oc_logger:User running: True\n"
     ]
    },
    {
     "name": "stdout",
     "output_type": "stream",
     "text": [
      "INFO     oc_logger    Direct search start time has been reset.\n"
     ]
    },
    {
     "name": "stderr",
     "output_type": "stream",
     "text": [
      "INFO:oc_logger:Direct search start time has been reset.\n",
      "DEBUG:oc_logger:User running: True\n",
      "DEBUG:oc_logger:User running: True\n",
      "DEBUG:oc_logger:User running: True\n"
     ]
    },
    {
     "name": "stdout",
     "output_type": "stream",
     "text": [
      "Coeff of psi:  0.9999991969724249\n",
      "Coeff of psi_targ:  0.4999983973024217\n",
      "INFO     oc_logger    Function evaluation number: 295, SI: 2, Sub-iteration number: 0, FoM: 2.9980458506509997\n"
     ]
    },
    {
     "name": "stderr",
     "output_type": "stream",
     "text": [
      "INFO:oc_logger:Function evaluation number: 295, SI: 2, Sub-iteration number: 0, FoM: 2.9980458506509997\n",
      "DEBUG:oc_logger:User running: True\n",
      "DEBUG:oc_logger:User running: True\n",
      "DEBUG:oc_logger:User running: True\n"
     ]
    },
    {
     "name": "stdout",
     "output_type": "stream",
     "text": [
      "Coeff of psi:  0.999999932182096\n",
      "Coeff of psi_targ:  0.4999932055032904\n",
      "INFO     oc_logger    Function evaluation number: 296, SI: 2, Sub-iteration number: 0, FoM: 2.997999381907279\n"
     ]
    },
    {
     "name": "stderr",
     "output_type": "stream",
     "text": [
      "INFO:oc_logger:Function evaluation number: 296, SI: 2, Sub-iteration number: 0, FoM: 2.997999381907279\n",
      "DEBUG:oc_logger:User running: True\n",
      "DEBUG:oc_logger:User running: True\n",
      "DEBUG:oc_logger:User running: True\n"
     ]
    },
    {
     "name": "stdout",
     "output_type": "stream",
     "text": [
      "Coeff of psi:  0.9988516371305467\n",
      "Coeff of psi_targ:  0.4991914710133068\n",
      "INFO     oc_logger    Function evaluation number: 297, SI: 2, Sub-iteration number: 0, FoM: 2.9936358991141145\n"
     ]
    },
    {
     "name": "stderr",
     "output_type": "stream",
     "text": [
      "INFO:oc_logger:Function evaluation number: 297, SI: 2, Sub-iteration number: 0, FoM: 2.9936358991141145\n",
      "DEBUG:oc_logger:User running: True\n",
      "DEBUG:oc_logger:User running: True\n",
      "DEBUG:oc_logger:User running: True\n"
     ]
    },
    {
     "name": "stdout",
     "output_type": "stream",
     "text": [
      "Coeff of psi:  0.9999993053495512\n",
      "Coeff of psi_targ:  0.4999803151527322\n",
      "INFO     oc_logger    Function evaluation number: 298, SI: 2, Sub-iteration number: 0, FoM: 2.997895864618103\n"
     ]
    },
    {
     "name": "stderr",
     "output_type": "stream",
     "text": [
      "INFO:oc_logger:Function evaluation number: 298, SI: 2, Sub-iteration number: 0, FoM: 2.997895864618103\n",
      "DEBUG:oc_logger:User running: True\n",
      "DEBUG:oc_logger:User running: True\n",
      "DEBUG:oc_logger:User running: True\n"
     ]
    },
    {
     "name": "stdout",
     "output_type": "stream",
     "text": [
      "Coeff of psi:  0.9984196038756055\n",
      "Coeff of psi_targ:  0.49731820558698747\n",
      "INFO     oc_logger    Function evaluation number: 299, SI: 2, Sub-iteration number: 0, FoM: 2.9873756213017946\n"
     ]
    },
    {
     "name": "stderr",
     "output_type": "stream",
     "text": [
      "INFO:oc_logger:Function evaluation number: 299, SI: 2, Sub-iteration number: 0, FoM: 2.9873756213017946\n",
      "DEBUG:oc_logger:User running: True\n",
      "DEBUG:oc_logger:User running: True\n",
      "DEBUG:oc_logger:User running: True\n"
     ]
    },
    {
     "name": "stdout",
     "output_type": "stream",
     "text": [
      "Coeff of psi:  0.9985027364980107\n",
      "Coeff of psi_targ:  0.49879894188579993\n",
      "INFO     oc_logger    Function evaluation number: 300, SI: 2, Sub-iteration number: 0, FoM: 2.9920798814892313\n"
     ]
    },
    {
     "name": "stderr",
     "output_type": "stream",
     "text": [
      "INFO:oc_logger:Function evaluation number: 300, SI: 2, Sub-iteration number: 0, FoM: 2.9920798814892313\n",
      "DEBUG:oc_logger:User running: True\n",
      "DEBUG:oc_logger:User running: True\n",
      "DEBUG:oc_logger:User running: True\n"
     ]
    },
    {
     "name": "stdout",
     "output_type": "stream",
     "text": [
      "Coeff of psi:  0.9991882806068066\n",
      "Coeff of psi_targ:  0.4988934589621148\n",
      "INFO     oc_logger    Function evaluation number: 301, SI: 2, Sub-iteration number: 0, FoM: 2.9934539696398303\n"
     ]
    },
    {
     "name": "stderr",
     "output_type": "stream",
     "text": [
      "INFO:oc_logger:Function evaluation number: 301, SI: 2, Sub-iteration number: 0, FoM: 2.9934539696398303\n",
      "DEBUG:oc_logger:User running: True\n",
      "DEBUG:oc_logger:User running: True\n",
      "DEBUG:oc_logger:User running: True\n"
     ]
    },
    {
     "name": "stdout",
     "output_type": "stream",
     "text": [
      "Coeff of psi:  0.9998813270375485\n",
      "Coeff of psi_targ:  0.49984930256617427\n",
      "INFO     oc_logger    Function evaluation number: 302, SI: 2, Sub-iteration number: 0, FoM: 2.996645181998808\n"
     ]
    },
    {
     "name": "stderr",
     "output_type": "stream",
     "text": [
      "INFO:oc_logger:Function evaluation number: 302, SI: 2, Sub-iteration number: 0, FoM: 2.996645181998808\n",
      "DEBUG:oc_logger:User running: True\n",
      "DEBUG:oc_logger:User running: True\n",
      "DEBUG:oc_logger:User running: True\n"
     ]
    },
    {
     "name": "stdout",
     "output_type": "stream",
     "text": [
      "Coeff of psi:  0.9999590749320707\n",
      "Coeff of psi_targ:  0.4997867232761925\n",
      "INFO     oc_logger    Function evaluation number: 303, SI: 2, Sub-iteration number: 0, FoM: 2.997046040104153\n"
     ]
    },
    {
     "name": "stderr",
     "output_type": "stream",
     "text": [
      "INFO:oc_logger:Function evaluation number: 303, SI: 2, Sub-iteration number: 0, FoM: 2.997046040104153\n",
      "DEBUG:oc_logger:User running: True\n",
      "DEBUG:oc_logger:User running: True\n",
      "DEBUG:oc_logger:User running: True\n"
     ]
    },
    {
     "name": "stdout",
     "output_type": "stream",
     "text": [
      "Coeff of psi:  0.9999981175528101\n",
      "Coeff of psi_targ:  0.49956220524791906\n",
      "INFO     oc_logger    Function evaluation number: 304, SI: 2, Sub-iteration number: 0, FoM: 2.9957139851015424\n"
     ]
    },
    {
     "name": "stderr",
     "output_type": "stream",
     "text": [
      "INFO:oc_logger:Function evaluation number: 304, SI: 2, Sub-iteration number: 0, FoM: 2.9957139851015424\n",
      "DEBUG:oc_logger:User running: True\n",
      "DEBUG:oc_logger:User running: True\n",
      "DEBUG:oc_logger:User running: True\n"
     ]
    },
    {
     "name": "stdout",
     "output_type": "stream",
     "text": [
      "Coeff of psi:  0.9999664412313624\n",
      "Coeff of psi_targ:  0.49989161639195634\n",
      "INFO     oc_logger    Function evaluation number: 305, SI: 2, Sub-iteration number: 0, FoM: 2.9976407431127616\n"
     ]
    },
    {
     "name": "stderr",
     "output_type": "stream",
     "text": [
      "INFO:oc_logger:Function evaluation number: 305, SI: 2, Sub-iteration number: 0, FoM: 2.9976407431127616\n",
      "DEBUG:oc_logger:User running: True\n",
      "DEBUG:oc_logger:User running: True\n",
      "DEBUG:oc_logger:User running: True\n"
     ]
    },
    {
     "name": "stdout",
     "output_type": "stream",
     "text": [
      "Coeff of psi:  0.9997271914031196\n",
      "Coeff of psi_targ:  0.4984094545582\n",
      "INFO     oc_logger    Function evaluation number: 306, SI: 2, Sub-iteration number: 1, FoM: 2.9913673363900593\n"
     ]
    },
    {
     "name": "stderr",
     "output_type": "stream",
     "text": [
      "INFO:oc_logger:Function evaluation number: 306, SI: 2, Sub-iteration number: 1, FoM: 2.9913673363900593\n",
      "DEBUG:oc_logger:User running: True\n",
      "DEBUG:oc_logger:User running: True\n",
      "DEBUG:oc_logger:User running: True\n"
     ]
    },
    {
     "name": "stdout",
     "output_type": "stream",
     "text": [
      "Coeff of psi:  0.9999924554212434\n",
      "Coeff of psi_targ:  0.49968383956850215\n",
      "INFO     oc_logger    Function evaluation number: 307, SI: 2, Sub-iteration number: 1, FoM: 2.9964756118198017\n"
     ]
    },
    {
     "name": "stderr",
     "output_type": "stream",
     "text": [
      "INFO:oc_logger:Function evaluation number: 307, SI: 2, Sub-iteration number: 1, FoM: 2.9964756118198017\n",
      "DEBUG:oc_logger:User running: True\n",
      "DEBUG:oc_logger:User running: True\n",
      "DEBUG:oc_logger:User running: True\n",
      "DEBUG:oc_logger:User running: True\n"
     ]
    },
    {
     "name": "stdout",
     "output_type": "stream",
     "text": [
      "Coeff of psi:  0.9994120458955842\n",
      "Coeff of psi_targ:  0.4991536657665371\n",
      "INFO     oc_logger    Function evaluation number: 308, SI: 2, Sub-iteration number: 2, FoM: 2.9944555100258317\n"
     ]
    },
    {
     "name": "stderr",
     "output_type": "stream",
     "text": [
      "INFO:oc_logger:Function evaluation number: 308, SI: 2, Sub-iteration number: 2, FoM: 2.9944555100258317\n",
      "DEBUG:oc_logger:User running: True\n",
      "DEBUG:oc_logger:User running: True\n",
      "DEBUG:oc_logger:User running: True\n",
      "DEBUG:oc_logger:User running: True\n"
     ]
    },
    {
     "name": "stdout",
     "output_type": "stream",
     "text": [
      "Coeff of psi:  0.9993926142820624\n",
      "Coeff of psi_targ:  0.49818703206084664\n",
      "INFO     oc_logger    Function evaluation number: 309, SI: 2, Sub-iteration number: 3, FoM: 2.9906794961257788\n"
     ]
    },
    {
     "name": "stderr",
     "output_type": "stream",
     "text": [
      "INFO:oc_logger:Function evaluation number: 309, SI: 2, Sub-iteration number: 3, FoM: 2.9906794961257788\n",
      "DEBUG:oc_logger:User running: True\n",
      "DEBUG:oc_logger:User running: True\n",
      "DEBUG:oc_logger:User running: True\n"
     ]
    },
    {
     "name": "stdout",
     "output_type": "stream",
     "text": [
      "Coeff of psi:  0.9997712183417036\n",
      "Coeff of psi_targ:  0.4997816065255715\n",
      "INFO     oc_logger    Function evaluation number: 310, SI: 2, Sub-iteration number: 3, FoM: 2.997014835712764\n"
     ]
    },
    {
     "name": "stderr",
     "output_type": "stream",
     "text": [
      "INFO:oc_logger:Function evaluation number: 310, SI: 2, Sub-iteration number: 3, FoM: 2.997014835712764\n",
      "DEBUG:oc_logger:User running: True\n",
      "DEBUG:oc_logger:User running: True\n",
      "DEBUG:oc_logger:User running: True\n",
      "DEBUG:oc_logger:User running: True\n"
     ]
    },
    {
     "name": "stdout",
     "output_type": "stream",
     "text": [
      "Coeff of psi:  0.9988533699842265\n",
      "Coeff of psi_targ:  0.4986253920557482\n",
      "INFO     oc_logger    Function evaluation number: 311, SI: 2, Sub-iteration number: 4, FoM: 2.9921127208487865\n"
     ]
    },
    {
     "name": "stderr",
     "output_type": "stream",
     "text": [
      "INFO:oc_logger:Function evaluation number: 311, SI: 2, Sub-iteration number: 4, FoM: 2.9921127208487865\n",
      "DEBUG:oc_logger:User running: True\n",
      "DEBUG:oc_logger:User running: True\n",
      "DEBUG:oc_logger:User running: True\n"
     ]
    },
    {
     "name": "stdout",
     "output_type": "stream",
     "text": [
      "Coeff of psi:  0.9997145377695565\n",
      "Coeff of psi_targ:  0.49983858969432593\n",
      "INFO     oc_logger    Function evaluation number: 312, SI: 2, Sub-iteration number: 4, FoM: 2.9969283275998975\n"
     ]
    },
    {
     "name": "stderr",
     "output_type": "stream",
     "text": [
      "INFO:oc_logger:Function evaluation number: 312, SI: 2, Sub-iteration number: 4, FoM: 2.9969283275998975\n",
      "DEBUG:oc_logger:User running: True\n",
      "DEBUG:oc_logger:User running: True\n",
      "DEBUG:oc_logger:User running: True\n",
      "DEBUG:oc_logger:User running: True\n"
     ]
    },
    {
     "name": "stdout",
     "output_type": "stream",
     "text": [
      "Coeff of psi:  0.9989362851874602\n",
      "Coeff of psi_targ:  0.49921860813376184\n",
      "INFO     oc_logger    Function evaluation number: 313, SI: 2, Sub-iteration number: 5, FoM: 2.9939529176852746\n"
     ]
    },
    {
     "name": "stderr",
     "output_type": "stream",
     "text": [
      "INFO:oc_logger:Function evaluation number: 313, SI: 2, Sub-iteration number: 5, FoM: 2.9939529176852746\n",
      "DEBUG:oc_logger:User running: True\n",
      "DEBUG:oc_logger:User running: True\n",
      "DEBUG:oc_logger:User running: True\n"
     ]
    },
    {
     "name": "stdout",
     "output_type": "stream",
     "text": [
      "Coeff of psi:  0.9998974579062841\n",
      "Coeff of psi_targ:  0.4997615671119993\n",
      "INFO     oc_logger    Function evaluation number: 314, SI: 2, Sub-iteration number: 5, FoM: 2.9970113499330173\n"
     ]
    },
    {
     "name": "stderr",
     "output_type": "stream",
     "text": [
      "INFO:oc_logger:Function evaluation number: 314, SI: 2, Sub-iteration number: 5, FoM: 2.9970113499330173\n",
      "DEBUG:oc_logger:User running: True\n",
      "DEBUG:oc_logger:User running: True\n",
      "DEBUG:oc_logger:User running: True\n",
      "DEBUG:oc_logger:User running: True\n"
     ]
    },
    {
     "name": "stdout",
     "output_type": "stream",
     "text": [
      "Coeff of psi:  0.9999781855352474\n",
      "Coeff of psi_targ:  0.4997814759724815\n",
      "INFO     oc_logger    Function evaluation number: 315, SI: 2, Sub-iteration number: 6, FoM: 2.9971939009095165\n"
     ]
    },
    {
     "name": "stderr",
     "output_type": "stream",
     "text": [
      "INFO:oc_logger:Function evaluation number: 315, SI: 2, Sub-iteration number: 6, FoM: 2.9971939009095165\n",
      "DEBUG:oc_logger:User running: True\n",
      "DEBUG:oc_logger:User running: True\n",
      "DEBUG:oc_logger:User running: True\n",
      "DEBUG:oc_logger:User running: True\n"
     ]
    },
    {
     "name": "stdout",
     "output_type": "stream",
     "text": [
      "Coeff of psi:  0.9998948302263373\n",
      "Coeff of psi_targ:  0.4996298514868258\n",
      "INFO     oc_logger    Function evaluation number: 316, SI: 2, Sub-iteration number: 7, FoM: 2.996661256300351\n"
     ]
    },
    {
     "name": "stderr",
     "output_type": "stream",
     "text": [
      "INFO:oc_logger:Function evaluation number: 316, SI: 2, Sub-iteration number: 7, FoM: 2.996661256300351\n",
      "DEBUG:oc_logger:User running: True\n",
      "DEBUG:oc_logger:User running: True\n",
      "DEBUG:oc_logger:User running: True\n",
      "DEBUG:oc_logger:User running: True\n"
     ]
    },
    {
     "name": "stdout",
     "output_type": "stream",
     "text": [
      "Coeff of psi:  0.9999895836106176\n",
      "Coeff of psi_targ:  0.4997567948472721\n",
      "INFO     oc_logger    Function evaluation number: 317, SI: 2, Sub-iteration number: 8, FoM: 2.9968988089015545\n"
     ]
    },
    {
     "name": "stderr",
     "output_type": "stream",
     "text": [
      "INFO:oc_logger:Function evaluation number: 317, SI: 2, Sub-iteration number: 8, FoM: 2.9968988089015545\n",
      "DEBUG:oc_logger:User running: True\n",
      "DEBUG:oc_logger:User running: True\n",
      "DEBUG:oc_logger:User running: True\n",
      "DEBUG:oc_logger:User running: True\n"
     ]
    },
    {
     "name": "stdout",
     "output_type": "stream",
     "text": [
      "Coeff of psi:  0.9999677046155272\n",
      "Coeff of psi_targ:  0.4998224382624934\n",
      "INFO     oc_logger    Function evaluation number: 318, SI: 2, Sub-iteration number: 9, FoM: 2.9972408508869686\n"
     ]
    },
    {
     "name": "stderr",
     "output_type": "stream",
     "text": [
      "INFO:oc_logger:Function evaluation number: 318, SI: 2, Sub-iteration number: 9, FoM: 2.9972408508869686\n",
      "DEBUG:oc_logger:User running: True\n",
      "DEBUG:oc_logger:User running: True\n",
      "DEBUG:oc_logger:User running: True\n",
      "DEBUG:oc_logger:User running: True\n"
     ]
    },
    {
     "name": "stdout",
     "output_type": "stream",
     "text": [
      "Coeff of psi:  0.9999392475455744\n",
      "Coeff of psi_targ:  0.49972479177723167\n",
      "INFO     oc_logger    Function evaluation number: 319, SI: 2, Sub-iteration number: 10, FoM: 2.9960547806664737\n"
     ]
    },
    {
     "name": "stderr",
     "output_type": "stream",
     "text": [
      "INFO:oc_logger:Function evaluation number: 319, SI: 2, Sub-iteration number: 10, FoM: 2.9960547806664737\n",
      "DEBUG:oc_logger:User running: True\n",
      "DEBUG:oc_logger:User running: True\n",
      "DEBUG:oc_logger:User running: True\n"
     ]
    },
    {
     "name": "stdout",
     "output_type": "stream",
     "text": [
      "Coeff of psi:  0.999999539914678\n",
      "Coeff of psi_targ:  0.4999423494586404\n",
      "INFO     oc_logger    Function evaluation number: 320, SI: 2, Sub-iteration number: 10, FoM: 2.997822859590184\n"
     ]
    },
    {
     "name": "stderr",
     "output_type": "stream",
     "text": [
      "INFO:oc_logger:Function evaluation number: 320, SI: 2, Sub-iteration number: 10, FoM: 2.997822859590184\n",
      "DEBUG:oc_logger:User running: True\n",
      "DEBUG:oc_logger:User running: True\n",
      "DEBUG:oc_logger:User running: True\n",
      "DEBUG:oc_logger:User running: True\n"
     ]
    },
    {
     "name": "stdout",
     "output_type": "stream",
     "text": [
      "Coeff of psi:  0.999734304883536\n",
      "Coeff of psi_targ:  0.49985153146615224\n",
      "INFO     oc_logger    Function evaluation number: 321, SI: 2, Sub-iteration number: 11, FoM: 2.997139746330448\n"
     ]
    },
    {
     "name": "stderr",
     "output_type": "stream",
     "text": [
      "INFO:oc_logger:Function evaluation number: 321, SI: 2, Sub-iteration number: 11, FoM: 2.997139746330448\n",
      "DEBUG:oc_logger:User running: True\n",
      "DEBUG:oc_logger:User running: True\n",
      "DEBUG:oc_logger:User running: True\n",
      "DEBUG:oc_logger:User running: True\n"
     ]
    },
    {
     "name": "stdout",
     "output_type": "stream",
     "text": [
      "Coeff of psi:  0.9999089239044421\n",
      "Coeff of psi_targ:  0.49970474453970676\n",
      "INFO     oc_logger    Function evaluation number: 322, SI: 2, Sub-iteration number: 12, FoM: 2.9969551337627287\n"
     ]
    },
    {
     "name": "stderr",
     "output_type": "stream",
     "text": [
      "INFO:oc_logger:Function evaluation number: 322, SI: 2, Sub-iteration number: 12, FoM: 2.9969551337627287\n",
      "DEBUG:oc_logger:User running: True\n",
      "DEBUG:oc_logger:User running: True\n",
      "DEBUG:oc_logger:User running: True\n"
     ]
    },
    {
     "name": "stdout",
     "output_type": "stream",
     "text": [
      "Coeff of psi:  0.9999723311579823\n",
      "Coeff of psi_targ:  0.49994640797920215\n",
      "INFO     oc_logger    Function evaluation number: 323, SI: 2, Sub-iteration number: 12, FoM: 2.9977845589916114\n"
     ]
    },
    {
     "name": "stderr",
     "output_type": "stream",
     "text": [
      "INFO:oc_logger:Function evaluation number: 323, SI: 2, Sub-iteration number: 12, FoM: 2.9977845589916114\n",
      "DEBUG:oc_logger:User running: True\n",
      "DEBUG:oc_logger:User running: True\n",
      "DEBUG:oc_logger:User running: True\n",
      "DEBUG:oc_logger:User running: True\n"
     ]
    },
    {
     "name": "stdout",
     "output_type": "stream",
     "text": [
      "Coeff of psi:  0.9996039393220172\n",
      "Coeff of psi_targ:  0.4996752805811146\n",
      "INFO     oc_logger    Function evaluation number: 324, SI: 2, Sub-iteration number: 13, FoM: 2.996486396871619\n"
     ]
    },
    {
     "name": "stderr",
     "output_type": "stream",
     "text": [
      "INFO:oc_logger:Function evaluation number: 324, SI: 2, Sub-iteration number: 13, FoM: 2.996486396871619\n",
      "DEBUG:oc_logger:User running: True\n",
      "DEBUG:oc_logger:User running: True\n",
      "DEBUG:oc_logger:User running: True\n"
     ]
    },
    {
     "name": "stdout",
     "output_type": "stream",
     "text": [
      "Coeff of psi:  0.9999595372019375\n",
      "Coeff of psi_targ:  0.4999566484603343\n",
      "INFO     oc_logger    Function evaluation number: 325, SI: 2, Sub-iteration number: 13, FoM: 2.9978356258472516\n"
     ]
    },
    {
     "name": "stderr",
     "output_type": "stream",
     "text": [
      "INFO:oc_logger:Function evaluation number: 325, SI: 2, Sub-iteration number: 13, FoM: 2.9978356258472516\n",
      "DEBUG:oc_logger:User running: True\n",
      "DEBUG:oc_logger:User running: True\n",
      "DEBUG:oc_logger:User running: True\n",
      "DEBUG:oc_logger:User running: True\n"
     ]
    },
    {
     "name": "stdout",
     "output_type": "stream",
     "text": [
      "Coeff of psi:  0.9999806762969635\n",
      "Coeff of psi_targ:  0.4997221730745958\n",
      "INFO     oc_logger    Function evaluation number: 326, SI: 2, Sub-iteration number: 14, FoM: 2.9968369884037243\n"
     ]
    },
    {
     "name": "stderr",
     "output_type": "stream",
     "text": [
      "INFO:oc_logger:Function evaluation number: 326, SI: 2, Sub-iteration number: 14, FoM: 2.9968369884037243\n",
      "DEBUG:oc_logger:User running: True\n",
      "DEBUG:oc_logger:User running: True\n",
      "DEBUG:oc_logger:User running: True\n"
     ]
    },
    {
     "name": "stdout",
     "output_type": "stream",
     "text": [
      "Coeff of psi:  0.9999856851403403\n",
      "Coeff of psi_targ:  0.499953274962606\n",
      "INFO     oc_logger    Function evaluation number: 327, SI: 2, Sub-iteration number: 14, FoM: 2.9978077901078497\n"
     ]
    },
    {
     "name": "stderr",
     "output_type": "stream",
     "text": [
      "INFO:oc_logger:Function evaluation number: 327, SI: 2, Sub-iteration number: 14, FoM: 2.9978077901078497\n",
      "DEBUG:oc_logger:User running: True\n",
      "DEBUG:oc_logger:User running: True\n",
      "DEBUG:oc_logger:User running: True\n",
      "DEBUG:oc_logger:User running: True\n"
     ]
    },
    {
     "name": "stdout",
     "output_type": "stream",
     "text": [
      "Coeff of psi:  0.9997228057901307\n",
      "Coeff of psi_targ:  0.49982281050477206\n",
      "INFO     oc_logger    Function evaluation number: 328, SI: 2, Sub-iteration number: 15, FoM: 2.996970824160866\n"
     ]
    },
    {
     "name": "stderr",
     "output_type": "stream",
     "text": [
      "INFO:oc_logger:Function evaluation number: 328, SI: 2, Sub-iteration number: 15, FoM: 2.996970824160866\n",
      "DEBUG:oc_logger:User running: True\n",
      "DEBUG:oc_logger:User running: True\n",
      "DEBUG:oc_logger:User running: True\n"
     ]
    },
    {
     "name": "stdout",
     "output_type": "stream",
     "text": [
      "Coeff of psi:  0.9999345566170437\n",
      "Coeff of psi_targ:  0.49996509292573205\n",
      "INFO     oc_logger    Function evaluation number: 329, SI: 2, Sub-iteration number: 15, FoM: 2.9978274635078677\n"
     ]
    },
    {
     "name": "stderr",
     "output_type": "stream",
     "text": [
      "INFO:oc_logger:Function evaluation number: 329, SI: 2, Sub-iteration number: 15, FoM: 2.9978274635078677\n",
      "DEBUG:oc_logger:User running: True\n",
      "DEBUG:oc_logger:User running: True\n",
      "DEBUG:oc_logger:User running: True\n",
      "DEBUG:oc_logger:User running: True\n"
     ]
    },
    {
     "name": "stdout",
     "output_type": "stream",
     "text": [
      "Coeff of psi:  0.9999529615382116\n",
      "Coeff of psi_targ:  0.49972757806120266\n",
      "INFO     oc_logger    Function evaluation number: 330, SI: 2, Sub-iteration number: 16, FoM: 2.9968954699356383\n"
     ]
    },
    {
     "name": "stderr",
     "output_type": "stream",
     "text": [
      "INFO:oc_logger:Function evaluation number: 330, SI: 2, Sub-iteration number: 16, FoM: 2.9968954699356383\n",
      "DEBUG:oc_logger:User running: True\n",
      "DEBUG:oc_logger:User running: True\n",
      "DEBUG:oc_logger:User running: True\n"
     ]
    },
    {
     "name": "stdout",
     "output_type": "stream",
     "text": [
      "Coeff of psi:  0.9999969036824625\n",
      "Coeff of psi_targ:  0.49994976130369256\n",
      "INFO     oc_logger    Function evaluation number: 331, SI: 2, Sub-iteration number: 16, FoM: 2.9978549412812754\n"
     ]
    },
    {
     "name": "stderr",
     "output_type": "stream",
     "text": [
      "INFO:oc_logger:Function evaluation number: 331, SI: 2, Sub-iteration number: 16, FoM: 2.9978549412812754\n",
      "DEBUG:oc_logger:User running: True\n",
      "DEBUG:oc_logger:User running: True\n",
      "DEBUG:oc_logger:User running: True\n",
      "DEBUG:oc_logger:User running: True\n"
     ]
    },
    {
     "name": "stdout",
     "output_type": "stream",
     "text": [
      "Coeff of psi:  0.999974782132383\n",
      "Coeff of psi_targ:  0.49974559785763917\n",
      "INFO     oc_logger    Function evaluation number: 332, SI: 2, Sub-iteration number: 17, FoM: 2.9970707027702006\n"
     ]
    },
    {
     "name": "stderr",
     "output_type": "stream",
     "text": [
      "INFO:oc_logger:Function evaluation number: 332, SI: 2, Sub-iteration number: 17, FoM: 2.9970707027702006\n",
      "DEBUG:oc_logger:User running: True\n",
      "DEBUG:oc_logger:User running: True\n",
      "DEBUG:oc_logger:User running: True\n"
     ]
    },
    {
     "name": "stdout",
     "output_type": "stream",
     "text": [
      "Coeff of psi:  0.9999907098103609\n",
      "Coeff of psi_targ:  0.4999635630104346\n",
      "INFO     oc_logger    Function evaluation number: 333, SI: 2, Sub-iteration number: 17, FoM: 2.9978553670162666\n"
     ]
    },
    {
     "name": "stderr",
     "output_type": "stream",
     "text": [
      "INFO:oc_logger:Function evaluation number: 333, SI: 2, Sub-iteration number: 17, FoM: 2.9978553670162666\n",
      "DEBUG:oc_logger:User running: True\n",
      "DEBUG:oc_logger:User running: True\n",
      "DEBUG:oc_logger:User running: True\n",
      "DEBUG:oc_logger:User running: True\n"
     ]
    },
    {
     "name": "stdout",
     "output_type": "stream",
     "text": [
      "Coeff of psi:  0.9999309033916837\n",
      "Coeff of psi_targ:  0.4998665789585624\n",
      "INFO     oc_logger    Function evaluation number: 334, SI: 2, Sub-iteration number: 18, FoM: 2.99749875120577\n"
     ]
    },
    {
     "name": "stderr",
     "output_type": "stream",
     "text": [
      "INFO:oc_logger:Function evaluation number: 334, SI: 2, Sub-iteration number: 18, FoM: 2.99749875120577\n",
      "DEBUG:oc_logger:User running: True\n",
      "DEBUG:oc_logger:User running: True\n",
      "DEBUG:oc_logger:User running: True\n"
     ]
    },
    {
     "name": "stdout",
     "output_type": "stream",
     "text": [
      "Coeff of psi:  0.9999948956091749\n",
      "Coeff of psi_targ:  0.4999747306026851\n",
      "INFO     oc_logger    Function evaluation number: 335, SI: 2, Sub-iteration number: 18, FoM: 2.997950763000746\n"
     ]
    },
    {
     "name": "stderr",
     "output_type": "stream",
     "text": [
      "INFO:oc_logger:Function evaluation number: 335, SI: 2, Sub-iteration number: 18, FoM: 2.997950763000746\n",
      "DEBUG:oc_logger:User running: True\n",
      "DEBUG:oc_logger:User running: True\n",
      "DEBUG:oc_logger:User running: True\n",
      "DEBUG:oc_logger:User running: True\n"
     ]
    },
    {
     "name": "stdout",
     "output_type": "stream",
     "text": [
      "Coeff of psi:  0.9999817686946929\n",
      "Coeff of psi_targ:  0.4999216669873349\n",
      "INFO     oc_logger    Function evaluation number: 336, SI: 2, Sub-iteration number: 19, FoM: 2.997770872238298\n"
     ]
    },
    {
     "name": "stderr",
     "output_type": "stream",
     "text": [
      "INFO:oc_logger:Function evaluation number: 336, SI: 2, Sub-iteration number: 19, FoM: 2.997770872238298\n",
      "DEBUG:oc_logger:User running: True\n",
      "DEBUG:oc_logger:User running: True\n",
      "DEBUG:oc_logger:User running: True\n"
     ]
    },
    {
     "name": "stdout",
     "output_type": "stream",
     "text": [
      "Coeff of psi:  0.9999916270122028\n",
      "Coeff of psi_targ:  0.4999887640228701\n",
      "INFO     oc_logger    Function evaluation number: 337, SI: 2, Sub-iteration number: 19, FoM: 2.9979746605404474\n"
     ]
    },
    {
     "name": "stderr",
     "output_type": "stream",
     "text": [
      "INFO:oc_logger:Function evaluation number: 337, SI: 2, Sub-iteration number: 19, FoM: 2.9979746605404474\n",
      "DEBUG:oc_logger:User running: True\n",
      "DEBUG:oc_logger:User running: True\n",
      "DEBUG:oc_logger:User running: True\n",
      "DEBUG:oc_logger:User running: True\n"
     ]
    },
    {
     "name": "stdout",
     "output_type": "stream",
     "text": [
      "Coeff of psi:  0.9999910699397775\n",
      "Coeff of psi_targ:  0.4999141282534827\n",
      "INFO     oc_logger    Function evaluation number: 338, SI: 2, Sub-iteration number: 20, FoM: 2.9976977830693037\n"
     ]
    },
    {
     "name": "stderr",
     "output_type": "stream",
     "text": [
      "INFO:oc_logger:Function evaluation number: 338, SI: 2, Sub-iteration number: 20, FoM: 2.9976977830693037\n",
      "DEBUG:oc_logger:User running: True\n",
      "DEBUG:oc_logger:User running: True\n",
      "DEBUG:oc_logger:User running: True\n"
     ]
    },
    {
     "name": "stdout",
     "output_type": "stream",
     "text": [
      "Coeff of psi:  0.9999955418054756\n",
      "Coeff of psi_targ:  0.4999916929307115\n",
      "INFO     oc_logger    Function evaluation number: 339, SI: 2, Sub-iteration number: 20, FoM: 2.9979902776250063\n"
     ]
    },
    {
     "name": "stderr",
     "output_type": "stream",
     "text": [
      "INFO:oc_logger:Function evaluation number: 339, SI: 2, Sub-iteration number: 20, FoM: 2.9979902776250063\n",
      "DEBUG:oc_logger:User running: True\n",
      "DEBUG:oc_logger:User running: True\n",
      "DEBUG:oc_logger:User running: True\n",
      "DEBUG:oc_logger:User running: True\n"
     ]
    },
    {
     "name": "stdout",
     "output_type": "stream",
     "text": [
      "Coeff of psi:  0.9999998607739842\n",
      "Coeff of psi_targ:  0.49995340876610905\n",
      "INFO     oc_logger    Function evaluation number: 340, SI: 2, Sub-iteration number: 21, FoM: 2.9977512734618976\n"
     ]
    },
    {
     "name": "stderr",
     "output_type": "stream",
     "text": [
      "INFO:oc_logger:Function evaluation number: 340, SI: 2, Sub-iteration number: 21, FoM: 2.9977512734618976\n",
      "DEBUG:oc_logger:User running: True\n",
      "DEBUG:oc_logger:User running: True\n",
      "DEBUG:oc_logger:User running: True\n"
     ]
    },
    {
     "name": "stdout",
     "output_type": "stream",
     "text": [
      "Coeff of psi:  0.9999996003864935\n",
      "Coeff of psi_targ:  0.4999839579855473\n",
      "INFO     oc_logger    Function evaluation number: 341, SI: 2, Sub-iteration number: 21, FoM: 2.997989879573582\n"
     ]
    },
    {
     "name": "stderr",
     "output_type": "stream",
     "text": [
      "INFO:oc_logger:Function evaluation number: 341, SI: 2, Sub-iteration number: 21, FoM: 2.997989879573582\n",
      "DEBUG:oc_logger:User running: True\n",
      "DEBUG:oc_logger:User running: True\n",
      "DEBUG:oc_logger:User running: True\n",
      "DEBUG:oc_logger:User running: True\n"
     ]
    },
    {
     "name": "stdout",
     "output_type": "stream",
     "text": [
      "Coeff of psi:  0.9999282577565873\n",
      "Coeff of psi_targ:  0.4999530369693283\n",
      "INFO     oc_logger    Function evaluation number: 342, SI: 2, Sub-iteration number: 22, FoM: 2.9977501772602606\n"
     ]
    },
    {
     "name": "stderr",
     "output_type": "stream",
     "text": [
      "INFO:oc_logger:Function evaluation number: 342, SI: 2, Sub-iteration number: 22, FoM: 2.9977501772602606\n",
      "DEBUG:oc_logger:User running: True\n",
      "DEBUG:oc_logger:User running: True\n",
      "DEBUG:oc_logger:User running: True\n"
     ]
    },
    {
     "name": "stdout",
     "output_type": "stream",
     "text": [
      "Coeff of psi:  0.9999843390842604\n",
      "Coeff of psi_targ:  0.49999203244224694\n",
      "INFO     oc_logger    Function evaluation number: 343, SI: 2, Sub-iteration number: 22, FoM: 2.9979912941650304\n"
     ]
    },
    {
     "name": "stderr",
     "output_type": "stream",
     "text": [
      "INFO:oc_logger:Function evaluation number: 343, SI: 2, Sub-iteration number: 22, FoM: 2.9979912941650304\n",
      "DEBUG:oc_logger:User running: True\n",
      "DEBUG:oc_logger:User running: True\n",
      "DEBUG:oc_logger:User running: True\n",
      "DEBUG:oc_logger:User running: True\n"
     ]
    },
    {
     "name": "stdout",
     "output_type": "stream",
     "text": [
      "Coeff of psi:  0.9999349834193461\n",
      "Coeff of psi_targ:  0.49995166875694724\n",
      "INFO     oc_logger    Function evaluation number: 344, SI: 2, Sub-iteration number: 23, FoM: 2.9978042217695275\n"
     ]
    },
    {
     "name": "stderr",
     "output_type": "stream",
     "text": [
      "INFO:oc_logger:Function evaluation number: 344, SI: 2, Sub-iteration number: 23, FoM: 2.9978042217695275\n",
      "DEBUG:oc_logger:User running: True\n",
      "DEBUG:oc_logger:User running: True\n",
      "DEBUG:oc_logger:User running: True\n"
     ]
    },
    {
     "name": "stdout",
     "output_type": "stream",
     "text": [
      "Coeff of psi:  0.9999924131944801\n",
      "Coeff of psi_targ:  0.4999893563902313\n",
      "INFO     oc_logger    Function evaluation number: 345, SI: 2, Sub-iteration number: 23, FoM: 2.997989119178921\n"
     ]
    },
    {
     "name": "stderr",
     "output_type": "stream",
     "text": [
      "INFO:oc_logger:Function evaluation number: 345, SI: 2, Sub-iteration number: 23, FoM: 2.997989119178921\n",
      "DEBUG:oc_logger:User running: True\n",
      "DEBUG:oc_logger:User running: True\n",
      "DEBUG:oc_logger:User running: True\n",
      "DEBUG:oc_logger:User running: True\n"
     ]
    },
    {
     "name": "stdout",
     "output_type": "stream",
     "text": [
      "Coeff of psi:  0.9999894714036845\n",
      "Coeff of psi_targ:  0.49994397175621363\n",
      "INFO     oc_logger    Function evaluation number: 346, SI: 2, Sub-iteration number: 24, FoM: 2.9977906024495735\n"
     ]
    },
    {
     "name": "stderr",
     "output_type": "stream",
     "text": [
      "INFO:oc_logger:Function evaluation number: 346, SI: 2, Sub-iteration number: 24, FoM: 2.9977906024495735\n",
      "DEBUG:oc_logger:User running: True\n",
      "DEBUG:oc_logger:User running: True\n",
      "DEBUG:oc_logger:User running: True\n"
     ]
    },
    {
     "name": "stdout",
     "output_type": "stream",
     "text": [
      "Coeff of psi:  0.9999997480836728\n",
      "Coeff of psi_targ:  0.4999876820171891\n",
      "INFO     oc_logger    Function evaluation number: 347, SI: 2, Sub-iteration number: 24, FoM: 2.9979970593015826\n"
     ]
    },
    {
     "name": "stderr",
     "output_type": "stream",
     "text": [
      "INFO:oc_logger:Function evaluation number: 347, SI: 2, Sub-iteration number: 24, FoM: 2.9979970593015826\n",
      "DEBUG:oc_logger:User running: True\n",
      "DEBUG:oc_logger:User running: True\n",
      "DEBUG:oc_logger:User running: True\n",
      "DEBUG:oc_logger:User running: True\n"
     ]
    },
    {
     "name": "stdout",
     "output_type": "stream",
     "text": [
      "Coeff of psi:  0.9999947830995791\n",
      "Coeff of psi_targ:  0.49994259857539086\n",
      "INFO     oc_logger    Function evaluation number: 348, SI: 2, Sub-iteration number: 25, FoM: 2.9978378709896294\n"
     ]
    },
    {
     "name": "stderr",
     "output_type": "stream",
     "text": [
      "INFO:oc_logger:Function evaluation number: 348, SI: 2, Sub-iteration number: 25, FoM: 2.9978378709896294\n",
      "DEBUG:oc_logger:User running: True\n",
      "DEBUG:oc_logger:User running: True\n",
      "DEBUG:oc_logger:User running: True\n"
     ]
    },
    {
     "name": "stdout",
     "output_type": "stream",
     "text": [
      "Coeff of psi:  0.9999970236908043\n",
      "Coeff of psi_targ:  0.4999928054355391\n",
      "INFO     oc_logger    Function evaluation number: 349, SI: 2, Sub-iteration number: 25, FoM: 2.997992883537257\n"
     ]
    },
    {
     "name": "stderr",
     "output_type": "stream",
     "text": [
      "INFO:oc_logger:Function evaluation number: 349, SI: 2, Sub-iteration number: 25, FoM: 2.997992883537257\n",
      "DEBUG:oc_logger:User running: True\n",
      "DEBUG:oc_logger:User running: True\n",
      "DEBUG:oc_logger:User running: True\n",
      "DEBUG:oc_logger:User running: True\n"
     ]
    },
    {
     "name": "stdout",
     "output_type": "stream",
     "text": [
      "Coeff of psi:  0.9999956420211127\n",
      "Coeff of psi_targ:  0.4999553114032306\n",
      "INFO     oc_logger    Function evaluation number: 350, SI: 2, Sub-iteration number: 26, FoM: 2.997817572038046\n"
     ]
    },
    {
     "name": "stderr",
     "output_type": "stream",
     "text": [
      "INFO:oc_logger:Function evaluation number: 350, SI: 2, Sub-iteration number: 26, FoM: 2.997817572038046\n",
      "DEBUG:oc_logger:User running: True\n",
      "DEBUG:oc_logger:User running: True\n",
      "DEBUG:oc_logger:User running: True\n"
     ]
    },
    {
     "name": "stdout",
     "output_type": "stream",
     "text": [
      "Coeff of psi:  0.999999992570648\n",
      "Coeff of psi_targ:  0.4999972127119154\n",
      "INFO     oc_logger    Function evaluation number: 351, SI: 2, Sub-iteration number: 26, FoM: 2.9980091525388306\n"
     ]
    },
    {
     "name": "stderr",
     "output_type": "stream",
     "text": [
      "INFO:oc_logger:Function evaluation number: 351, SI: 2, Sub-iteration number: 26, FoM: 2.9980091525388306\n",
      "DEBUG:oc_logger:User running: True\n",
      "DEBUG:oc_logger:User running: True\n",
      "DEBUG:oc_logger:User running: True\n",
      "DEBUG:oc_logger:User running: True\n"
     ]
    },
    {
     "name": "stdout",
     "output_type": "stream",
     "text": [
      "Coeff of psi:  0.9999840956527398\n",
      "Coeff of psi_targ:  0.49997652761875255\n",
      "INFO     oc_logger    Function evaluation number: 352, SI: 2, Sub-iteration number: 27, FoM: 2.9979391897027887\n"
     ]
    },
    {
     "name": "stderr",
     "output_type": "stream",
     "text": [
      "INFO:oc_logger:Function evaluation number: 352, SI: 2, Sub-iteration number: 27, FoM: 2.9979391897027887\n",
      "DEBUG:oc_logger:User running: True\n",
      "DEBUG:oc_logger:User running: True\n",
      "DEBUG:oc_logger:User running: True\n"
     ]
    },
    {
     "name": "stdout",
     "output_type": "stream",
     "text": [
      "Coeff of psi:  0.9999995165418081\n",
      "Coeff of psi_targ:  0.4999929045209655\n",
      "INFO     oc_logger    Function evaluation number: 353, SI: 2, Sub-iteration number: 27, FoM: 2.9980155812962015\n"
     ]
    },
    {
     "name": "stderr",
     "output_type": "stream",
     "text": [
      "INFO:oc_logger:Function evaluation number: 353, SI: 2, Sub-iteration number: 27, FoM: 2.9980155812962015\n",
      "DEBUG:oc_logger:User running: True\n",
      "DEBUG:oc_logger:User running: True\n",
      "DEBUG:oc_logger:User running: True\n",
      "DEBUG:oc_logger:User running: True\n"
     ]
    },
    {
     "name": "stdout",
     "output_type": "stream",
     "text": [
      "Coeff of psi:  0.9999964283138971\n",
      "Coeff of psi_targ:  0.49997727953923665\n",
      "INFO     oc_logger    Function evaluation number: 354, SI: 2, Sub-iteration number: 28, FoM: 2.997968563150817\n"
     ]
    },
    {
     "name": "stderr",
     "output_type": "stream",
     "text": [
      "INFO:oc_logger:Function evaluation number: 354, SI: 2, Sub-iteration number: 28, FoM: 2.997968563150817\n",
      "DEBUG:oc_logger:User running: True\n",
      "DEBUG:oc_logger:User running: True\n",
      "DEBUG:oc_logger:User running: True\n"
     ]
    },
    {
     "name": "stdout",
     "output_type": "stream",
     "text": [
      "Coeff of psi:  0.999997102227815\n",
      "Coeff of psi_targ:  0.49999778378835796\n",
      "INFO     oc_logger    Function evaluation number: 355, SI: 2, Sub-iteration number: 28, FoM: 2.998021262802066\n"
     ]
    },
    {
     "name": "stderr",
     "output_type": "stream",
     "text": [
      "INFO:oc_logger:Function evaluation number: 355, SI: 2, Sub-iteration number: 28, FoM: 2.998021262802066\n",
      "DEBUG:oc_logger:User running: True\n",
      "DEBUG:oc_logger:User running: True\n",
      "DEBUG:oc_logger:User running: True\n",
      "DEBUG:oc_logger:User running: True\n"
     ]
    },
    {
     "name": "stdout",
     "output_type": "stream",
     "text": [
      "Coeff of psi:  0.9999782760285341\n",
      "Coeff of psi_targ:  0.49998722210795965\n",
      "INFO     oc_logger    Function evaluation number: 356, SI: 2, Sub-iteration number: 29, FoM: 2.99797367005969\n"
     ]
    },
    {
     "name": "stderr",
     "output_type": "stream",
     "text": [
      "INFO:oc_logger:Function evaluation number: 356, SI: 2, Sub-iteration number: 29, FoM: 2.99797367005969\n",
      "DEBUG:oc_logger:User running: True\n",
      "DEBUG:oc_logger:User running: True\n",
      "DEBUG:oc_logger:User running: True\n"
     ]
    },
    {
     "name": "stdout",
     "output_type": "stream",
     "text": [
      "Coeff of psi:  0.9999991895387536\n",
      "Coeff of psi_targ:  0.49999693132660866\n",
      "INFO     oc_logger    Function evaluation number: 357, SI: 2, Sub-iteration number: 29, FoM: 2.9980258824707287\n"
     ]
    },
    {
     "name": "stderr",
     "output_type": "stream",
     "text": [
      "INFO:oc_logger:Function evaluation number: 357, SI: 2, Sub-iteration number: 29, FoM: 2.9980258824707287\n",
      "DEBUG:oc_logger:User running: True\n",
      "DEBUG:oc_logger:User running: True\n",
      "DEBUG:oc_logger:User running: True\n",
      "DEBUG:oc_logger:User running: True\n"
     ]
    },
    {
     "name": "stdout",
     "output_type": "stream",
     "text": [
      "Coeff of psi:  0.9999990942603149\n",
      "Coeff of psi_targ:  0.4999892126115841\n",
      "INFO     oc_logger    Function evaluation number: 358, SI: 2, Sub-iteration number: 30, FoM: 2.9979638064753864\n"
     ]
    },
    {
     "name": "stderr",
     "output_type": "stream",
     "text": [
      "INFO:oc_logger:Function evaluation number: 358, SI: 2, Sub-iteration number: 30, FoM: 2.9979638064753864\n",
      "DEBUG:oc_logger:User running: True\n",
      "DEBUG:oc_logger:User running: True\n",
      "DEBUG:oc_logger:User running: True\n"
     ]
    },
    {
     "name": "stdout",
     "output_type": "stream",
     "text": [
      "Coeff of psi:  0.9999994846005826\n",
      "Coeff of psi_targ:  0.4999949345603744\n",
      "INFO     oc_logger    Function evaluation number: 359, SI: 2, Sub-iteration number: 30, FoM: 2.998027038544283\n"
     ]
    },
    {
     "name": "stderr",
     "output_type": "stream",
     "text": [
      "INFO:oc_logger:Function evaluation number: 359, SI: 2, Sub-iteration number: 30, FoM: 2.998027038544283\n",
      "DEBUG:oc_logger:User running: True\n",
      "DEBUG:oc_logger:User running: True\n",
      "DEBUG:oc_logger:User running: True\n",
      "DEBUG:oc_logger:User running: True\n"
     ]
    },
    {
     "name": "stdout",
     "output_type": "stream",
     "text": [
      "Coeff of psi:  0.9999993505982445\n",
      "Coeff of psi_targ:  0.499982472119992\n",
      "INFO     oc_logger    Function evaluation number: 360, SI: 2, Sub-iteration number: 31, FoM: 2.997972660295238\n"
     ]
    },
    {
     "name": "stderr",
     "output_type": "stream",
     "text": [
      "INFO:oc_logger:Function evaluation number: 360, SI: 2, Sub-iteration number: 31, FoM: 2.997972660295238\n",
      "DEBUG:oc_logger:User running: True\n",
      "DEBUG:oc_logger:User running: True\n",
      "DEBUG:oc_logger:User running: True\n"
     ]
    },
    {
     "name": "stdout",
     "output_type": "stream",
     "text": [
      "Coeff of psi:  0.9999980749222476\n",
      "Coeff of psi_targ:  0.49999833132316696\n",
      "INFO     oc_logger    Function evaluation number: 361, SI: 2, Sub-iteration number: 31, FoM: 2.998026158940683\n"
     ]
    },
    {
     "name": "stderr",
     "output_type": "stream",
     "text": [
      "INFO:oc_logger:Function evaluation number: 361, SI: 2, Sub-iteration number: 31, FoM: 2.998026158940683\n",
      "DEBUG:oc_logger:User running: True\n",
      "DEBUG:oc_logger:User running: True\n",
      "DEBUG:oc_logger:User running: True\n",
      "DEBUG:oc_logger:User running: True\n"
     ]
    },
    {
     "name": "stdout",
     "output_type": "stream",
     "text": [
      "Coeff of psi:  0.9999900391378189\n",
      "Coeff of psi_targ:  0.4999914868620296\n",
      "INFO     oc_logger    Function evaluation number: 362, SI: 2, Sub-iteration number: 32, FoM: 2.9979914655848248\n"
     ]
    },
    {
     "name": "stderr",
     "output_type": "stream",
     "text": [
      "INFO:oc_logger:Function evaluation number: 362, SI: 2, Sub-iteration number: 32, FoM: 2.9979914655848248\n",
      "DEBUG:oc_logger:User running: True\n",
      "DEBUG:oc_logger:User running: True\n",
      "DEBUG:oc_logger:User running: True\n"
     ]
    },
    {
     "name": "stdout",
     "output_type": "stream",
     "text": [
      "Coeff of psi:  0.9999981064970758\n",
      "Coeff of psi_targ:  0.499997225281293\n",
      "INFO     oc_logger    Function evaluation number: 363, SI: 2, Sub-iteration number: 32, FoM: 2.998024809574399\n"
     ]
    },
    {
     "name": "stderr",
     "output_type": "stream",
     "text": [
      "INFO:oc_logger:Function evaluation number: 363, SI: 2, Sub-iteration number: 32, FoM: 2.998024809574399\n",
      "DEBUG:oc_logger:User running: True\n",
      "DEBUG:oc_logger:User running: True\n",
      "DEBUG:oc_logger:User running: True\n",
      "DEBUG:oc_logger:User running: True\n"
     ]
    },
    {
     "name": "stdout",
     "output_type": "stream",
     "text": [
      "Coeff of psi:  0.9999975991460222\n",
      "Coeff of psi_targ:  0.4999765979935723\n",
      "INFO     oc_logger    Function evaluation number: 364, SI: 2, Sub-iteration number: 33, FoM: 2.997961998231742\n"
     ]
    },
    {
     "name": "stderr",
     "output_type": "stream",
     "text": [
      "INFO:oc_logger:Function evaluation number: 364, SI: 2, Sub-iteration number: 33, FoM: 2.997961998231742\n",
      "DEBUG:oc_logger:User running: True\n",
      "DEBUG:oc_logger:User running: True\n",
      "DEBUG:oc_logger:User running: True\n"
     ]
    },
    {
     "name": "stdout",
     "output_type": "stream",
     "text": [
      "Coeff of psi:  0.9999991720261467\n",
      "Coeff of psi_targ:  0.4999991557827511\n",
      "INFO     oc_logger    Function evaluation number: 365, SI: 2, Sub-iteration number: 33, FoM: 2.998028210479972\n"
     ]
    },
    {
     "name": "stderr",
     "output_type": "stream",
     "text": [
      "INFO:oc_logger:Function evaluation number: 365, SI: 2, Sub-iteration number: 33, FoM: 2.998028210479972\n",
      "DEBUG:oc_logger:User running: True\n",
      "DEBUG:oc_logger:User running: True\n",
      "DEBUG:oc_logger:User running: True\n",
      "DEBUG:oc_logger:User running: True\n"
     ]
    },
    {
     "name": "stdout",
     "output_type": "stream",
     "text": [
      "Coeff of psi:  0.9999990686258738\n",
      "Coeff of psi_targ:  0.4999954708746725\n",
      "INFO     oc_logger    Function evaluation number: 366, SI: 2, Sub-iteration number: 34, FoM: 2.998014549770425\n"
     ]
    },
    {
     "name": "stderr",
     "output_type": "stream",
     "text": [
      "INFO:oc_logger:Function evaluation number: 366, SI: 2, Sub-iteration number: 34, FoM: 2.998014549770425\n",
      "DEBUG:oc_logger:User running: True\n",
      "DEBUG:oc_logger:User running: True\n",
      "DEBUG:oc_logger:User running: True\n",
      "DEBUG:oc_logger:User running: True\n"
     ]
    },
    {
     "name": "stdout",
     "output_type": "stream",
     "text": [
      "Coeff of psi:  0.9999991675876283\n",
      "Coeff of psi_targ:  0.49999514744488843\n",
      "INFO     oc_logger    Function evaluation number: 367, SI: 2, Sub-iteration number: 35, FoM: 2.9979918214928576\n"
     ]
    },
    {
     "name": "stderr",
     "output_type": "stream",
     "text": [
      "INFO:oc_logger:Function evaluation number: 367, SI: 2, Sub-iteration number: 35, FoM: 2.9979918214928576\n",
      "DEBUG:oc_logger:User running: True\n",
      "DEBUG:oc_logger:User running: True\n",
      "DEBUG:oc_logger:User running: True\n"
     ]
    },
    {
     "name": "stdout",
     "output_type": "stream",
     "text": [
      "Coeff of psi:  0.999999997138608\n",
      "Coeff of psi_targ:  0.49999782774724383\n",
      "INFO     oc_logger    Function evaluation number: 368, SI: 2, Sub-iteration number: 35, FoM: 2.9980286080226177\n"
     ]
    },
    {
     "name": "stderr",
     "output_type": "stream",
     "text": [
      "INFO:oc_logger:Function evaluation number: 368, SI: 2, Sub-iteration number: 35, FoM: 2.9980286080226177\n",
      "DEBUG:oc_logger:User running: True\n",
      "DEBUG:oc_logger:User running: True\n",
      "DEBUG:oc_logger:User running: True\n",
      "DEBUG:oc_logger:User running: True\n"
     ]
    },
    {
     "name": "stdout",
     "output_type": "stream",
     "text": [
      "Coeff of psi:  0.999999337063133\n",
      "Coeff of psi_targ:  0.49999144998672895\n",
      "INFO     oc_logger    Function evaluation number: 369, SI: 2, Sub-iteration number: 36, FoM: 2.9980061058655787\n"
     ]
    },
    {
     "name": "stderr",
     "output_type": "stream",
     "text": [
      "INFO:oc_logger:Function evaluation number: 369, SI: 2, Sub-iteration number: 36, FoM: 2.9980061058655787\n",
      "DEBUG:oc_logger:User running: True\n",
      "DEBUG:oc_logger:User running: True\n",
      "DEBUG:oc_logger:User running: True\n"
     ]
    },
    {
     "name": "stdout",
     "output_type": "stream",
     "text": [
      "Coeff of psi:  0.9999999798674951\n",
      "Coeff of psi_targ:  0.49999965377563155\n",
      "INFO     oc_logger    Function evaluation number: 370, SI: 2, Sub-iteration number: 36, FoM: 2.998030599112654\n"
     ]
    },
    {
     "name": "stderr",
     "output_type": "stream",
     "text": [
      "INFO:oc_logger:Function evaluation number: 370, SI: 2, Sub-iteration number: 36, FoM: 2.998030599112654\n",
      "DEBUG:oc_logger:User running: True\n",
      "DEBUG:oc_logger:User running: True\n",
      "DEBUG:oc_logger:User running: True\n",
      "DEBUG:oc_logger:User running: True\n"
     ]
    },
    {
     "name": "stdout",
     "output_type": "stream",
     "text": [
      "Coeff of psi:  0.9999998417233811\n",
      "Coeff of psi_targ:  0.4999878154224094\n",
      "INFO     oc_logger    Function evaluation number: 371, SI: 2, Sub-iteration number: 37, FoM: 2.9979988630693293\n"
     ]
    },
    {
     "name": "stderr",
     "output_type": "stream",
     "text": [
      "INFO:oc_logger:Function evaluation number: 371, SI: 2, Sub-iteration number: 37, FoM: 2.9979988630693293\n",
      "DEBUG:oc_logger:User running: True\n",
      "DEBUG:oc_logger:User running: True\n",
      "DEBUG:oc_logger:User running: True\n"
     ]
    },
    {
     "name": "stdout",
     "output_type": "stream",
     "text": [
      "Coeff of psi:  0.9999996083203483\n",
      "Coeff of psi_targ:  0.4999993554466555\n",
      "INFO     oc_logger    Function evaluation number: 372, SI: 2, Sub-iteration number: 37, FoM: 2.9980332295521714\n"
     ]
    },
    {
     "name": "stderr",
     "output_type": "stream",
     "text": [
      "INFO:oc_logger:Function evaluation number: 372, SI: 2, Sub-iteration number: 37, FoM: 2.9980332295521714\n",
      "DEBUG:oc_logger:User running: True\n",
      "DEBUG:oc_logger:User running: True\n",
      "DEBUG:oc_logger:User running: True\n",
      "DEBUG:oc_logger:User running: True\n"
     ]
    },
    {
     "name": "stdout",
     "output_type": "stream",
     "text": [
      "Coeff of psi:  0.9999976672049513\n",
      "Coeff of psi_targ:  0.4999956299762308\n",
      "INFO     oc_logger    Function evaluation number: 373, SI: 2, Sub-iteration number: 38, FoM: 2.998018907251031\n"
     ]
    },
    {
     "name": "stderr",
     "output_type": "stream",
     "text": [
      "INFO:oc_logger:Function evaluation number: 373, SI: 2, Sub-iteration number: 38, FoM: 2.998018907251031\n",
      "DEBUG:oc_logger:User running: True\n",
      "DEBUG:oc_logger:User running: True\n",
      "DEBUG:oc_logger:User running: True\n"
     ]
    },
    {
     "name": "stdout",
     "output_type": "stream",
     "text": [
      "Coeff of psi:  0.9999990535090381\n",
      "Coeff of psi_targ:  0.49999901500028554\n",
      "INFO     oc_logger    Function evaluation number: 374, SI: 2, Sub-iteration number: 38, FoM: 2.9980332237534633\n"
     ]
    },
    {
     "name": "stderr",
     "output_type": "stream",
     "text": [
      "INFO:oc_logger:Function evaluation number: 374, SI: 2, Sub-iteration number: 38, FoM: 2.9980332237534633\n",
      "DEBUG:oc_logger:User running: True\n",
      "DEBUG:oc_logger:User running: True\n",
      "DEBUG:oc_logger:User running: True\n",
      "DEBUG:oc_logger:User running: True\n"
     ]
    },
    {
     "name": "stdout",
     "output_type": "stream",
     "text": [
      "Coeff of psi:  0.9999989640829279\n",
      "Coeff of psi_targ:  0.49999645939189963\n",
      "INFO     oc_logger    Function evaluation number: 375, SI: 2, Sub-iteration number: 39, FoM: 2.9980330519558565\n"
     ]
    },
    {
     "name": "stderr",
     "output_type": "stream",
     "text": [
      "INFO:oc_logger:Function evaluation number: 375, SI: 2, Sub-iteration number: 39, FoM: 2.9980330519558565\n",
      "DEBUG:oc_logger:User running: True\n",
      "DEBUG:oc_logger:User running: True\n",
      "DEBUG:oc_logger:User running: True\n",
      "DEBUG:oc_logger:User running: True\n"
     ]
    },
    {
     "name": "stdout",
     "output_type": "stream",
     "text": [
      "Coeff of psi:  0.9999954347333716\n",
      "Coeff of psi_targ:  0.4999975255141863\n",
      "INFO     oc_logger    Function evaluation number: 376, SI: 2, Sub-iteration number: 40, FoM: 2.9980294995671866\n"
     ]
    },
    {
     "name": "stderr",
     "output_type": "stream",
     "text": [
      "INFO:oc_logger:Function evaluation number: 376, SI: 2, Sub-iteration number: 40, FoM: 2.9980294995671866\n",
      "DEBUG:oc_logger:User running: True\n",
      "DEBUG:oc_logger:User running: True\n",
      "DEBUG:oc_logger:User running: True\n",
      "DEBUG:oc_logger:User running: True\n"
     ]
    },
    {
     "name": "stdout",
     "output_type": "stream",
     "text": [
      "Coeff of psi:  0.9999948580748803\n",
      "Coeff of psi_targ:  0.499996267575572\n",
      "INFO     oc_logger    Function evaluation number: 377, SI: 2, Sub-iteration number: 41, FoM: 2.9980266547867696\n"
     ]
    },
    {
     "name": "stderr",
     "output_type": "stream",
     "text": [
      "INFO:oc_logger:Function evaluation number: 377, SI: 2, Sub-iteration number: 41, FoM: 2.9980266547867696\n",
      "DEBUG:oc_logger:User running: True\n",
      "DEBUG:oc_logger:User running: True\n",
      "DEBUG:oc_logger:User running: True\n",
      "DEBUG:oc_logger:User running: True\n"
     ]
    },
    {
     "name": "stdout",
     "output_type": "stream",
     "text": [
      "Coeff of psi:  0.9999999773794505\n",
      "Coeff of psi_targ:  0.49999819688571306\n",
      "INFO     oc_logger    Function evaluation number: 378, SI: 2, Sub-iteration number: 42, FoM: 2.9980403146005896\n"
     ]
    },
    {
     "name": "stderr",
     "output_type": "stream",
     "text": [
      "INFO:oc_logger:Function evaluation number: 378, SI: 2, Sub-iteration number: 42, FoM: 2.9980403146005896\n",
      "DEBUG:oc_logger:User running: True\n",
      "DEBUG:oc_logger:User running: True\n",
      "DEBUG:oc_logger:User running: True\n",
      "DEBUG:oc_logger:User running: True\n"
     ]
    },
    {
     "name": "stdout",
     "output_type": "stream",
     "text": [
      "Coeff of psi:  0.9999986844924625\n",
      "Coeff of psi_targ:  0.49999512150054015\n",
      "INFO     oc_logger    Function evaluation number: 379, SI: 2, Sub-iteration number: 43, FoM: 2.9980218612539913\n"
     ]
    },
    {
     "name": "stderr",
     "output_type": "stream",
     "text": [
      "INFO:oc_logger:Function evaluation number: 379, SI: 2, Sub-iteration number: 43, FoM: 2.9980218612539913\n",
      "DEBUG:oc_logger:User running: True\n",
      "DEBUG:oc_logger:User running: True\n",
      "DEBUG:oc_logger:User running: True\n"
     ]
    },
    {
     "name": "stdout",
     "output_type": "stream",
     "text": [
      "Coeff of psi:  0.9999980003924231\n",
      "Coeff of psi_targ:  0.4999988626320362\n",
      "INFO     oc_logger    Function evaluation number: 380, SI: 2, Sub-iteration number: 43, FoM: 2.99803742616528\n"
     ]
    },
    {
     "name": "stderr",
     "output_type": "stream",
     "text": [
      "INFO:oc_logger:Function evaluation number: 380, SI: 2, Sub-iteration number: 43, FoM: 2.99803742616528\n",
      "DEBUG:oc_logger:User running: True\n",
      "DEBUG:oc_logger:User running: True\n",
      "DEBUG:oc_logger:User running: True\n",
      "DEBUG:oc_logger:User running: True\n"
     ]
    },
    {
     "name": "stdout",
     "output_type": "stream",
     "text": [
      "Coeff of psi:  0.9999997093395214\n",
      "Coeff of psi_targ:  0.49999694427171004\n",
      "INFO     oc_logger    Function evaluation number: 381, SI: 2, Sub-iteration number: 44, FoM: 2.9980207921248194\n"
     ]
    },
    {
     "name": "stderr",
     "output_type": "stream",
     "text": [
      "INFO:oc_logger:Function evaluation number: 381, SI: 2, Sub-iteration number: 44, FoM: 2.9980207921248194\n",
      "DEBUG:oc_logger:User running: True\n",
      "DEBUG:oc_logger:User running: True\n",
      "DEBUG:oc_logger:User running: True\n"
     ]
    },
    {
     "name": "stdout",
     "output_type": "stream",
     "text": [
      "Coeff of psi:  0.9999995453254602\n",
      "Coeff of psi_targ:  0.49999822994683574\n",
      "INFO     oc_logger    Function evaluation number: 382, SI: 2, Sub-iteration number: 44, FoM: 2.9980376316605746\n"
     ]
    },
    {
     "name": "stderr",
     "output_type": "stream",
     "text": [
      "INFO:oc_logger:Function evaluation number: 382, SI: 2, Sub-iteration number: 44, FoM: 2.9980376316605746\n",
      "DEBUG:oc_logger:User running: True\n",
      "DEBUG:oc_logger:User running: True\n",
      "DEBUG:oc_logger:User running: True\n",
      "DEBUG:oc_logger:User running: True\n"
     ]
    },
    {
     "name": "stdout",
     "output_type": "stream",
     "text": [
      "Coeff of psi:  0.9999999125608615\n",
      "Coeff of psi_targ:  0.49999774774427086\n",
      "INFO     oc_logger    Function evaluation number: 383, SI: 2, Sub-iteration number: 45, FoM: 2.998042361891463\n"
     ]
    },
    {
     "name": "stderr",
     "output_type": "stream",
     "text": [
      "INFO:oc_logger:Function evaluation number: 383, SI: 2, Sub-iteration number: 45, FoM: 2.998042361891463\n",
      "DEBUG:oc_logger:User running: True\n",
      "DEBUG:oc_logger:User running: True\n",
      "DEBUG:oc_logger:User running: True\n",
      "DEBUG:oc_logger:User running: True\n"
     ]
    },
    {
     "name": "stdout",
     "output_type": "stream",
     "text": [
      "Coeff of psi:  0.9999985675150681\n",
      "Coeff of psi_targ:  0.4999988654138954\n",
      "INFO     oc_logger    Function evaluation number: 384, SI: 2, Sub-iteration number: 46, FoM: 2.9980422530258375\n"
     ]
    },
    {
     "name": "stderr",
     "output_type": "stream",
     "text": [
      "INFO:oc_logger:Function evaluation number: 384, SI: 2, Sub-iteration number: 46, FoM: 2.9980422530258375\n",
      "DEBUG:oc_logger:User running: True\n",
      "DEBUG:oc_logger:User running: True\n",
      "DEBUG:oc_logger:User running: True\n",
      "DEBUG:oc_logger:User running: True\n"
     ]
    },
    {
     "name": "stdout",
     "output_type": "stream",
     "text": [
      "Coeff of psi:  0.9999988661802574\n",
      "Coeff of psi_targ:  0.49999797317084266\n",
      "INFO     oc_logger    Function evaluation number: 385, SI: 2, Sub-iteration number: 47, FoM: 2.998037738971718\n"
     ]
    },
    {
     "name": "stderr",
     "output_type": "stream",
     "text": [
      "INFO:oc_logger:Function evaluation number: 385, SI: 2, Sub-iteration number: 47, FoM: 2.998037738971718\n",
      "DEBUG:oc_logger:User running: True\n",
      "DEBUG:oc_logger:User running: True\n",
      "DEBUG:oc_logger:User running: True\n",
      "DEBUG:oc_logger:User running: True\n"
     ]
    },
    {
     "name": "stdout",
     "output_type": "stream",
     "text": [
      "Coeff of psi:  0.999999534017905\n",
      "Coeff of psi_targ:  0.49999687163827583\n",
      "INFO     oc_logger    Function evaluation number: 386, SI: 2, Sub-iteration number: 48, FoM: 2.998041213811514\n"
     ]
    },
    {
     "name": "stderr",
     "output_type": "stream",
     "text": [
      "INFO:oc_logger:Function evaluation number: 386, SI: 2, Sub-iteration number: 48, FoM: 2.998041213811514\n",
      "DEBUG:oc_logger:User running: True\n",
      "DEBUG:oc_logger:User running: True\n",
      "DEBUG:oc_logger:User running: True\n",
      "DEBUG:oc_logger:User running: True\n"
     ]
    },
    {
     "name": "stdout",
     "output_type": "stream",
     "text": [
      "Coeff of psi:  0.9999952054178903\n",
      "Coeff of psi_targ:  0.4999972242514463\n",
      "INFO     oc_logger    Function evaluation number: 387, SI: 2, Sub-iteration number: 49, FoM: 2.9980328220408263\n"
     ]
    },
    {
     "name": "stderr",
     "output_type": "stream",
     "text": [
      "INFO:oc_logger:Function evaluation number: 387, SI: 2, Sub-iteration number: 49, FoM: 2.9980328220408263\n",
      "DEBUG:oc_logger:User running: True\n",
      "DEBUG:oc_logger:User running: True\n",
      "DEBUG:oc_logger:User running: True\n"
     ]
    },
    {
     "name": "stdout",
     "output_type": "stream",
     "text": [
      "Coeff of psi:  0.999999953410181\n",
      "Coeff of psi_targ:  0.4999985932552794\n",
      "INFO     oc_logger    Function evaluation number: 388, SI: 2, Sub-iteration number: 49, FoM: 2.998041717732233\n"
     ]
    },
    {
     "name": "stderr",
     "output_type": "stream",
     "text": [
      "INFO:oc_logger:Function evaluation number: 388, SI: 2, Sub-iteration number: 49, FoM: 2.998041717732233\n",
      "DEBUG:oc_logger:User running: True\n",
      "DEBUG:oc_logger:User running: True\n",
      "DEBUG:oc_logger:User running: True\n",
      "DEBUG:oc_logger:User running: True\n"
     ]
    },
    {
     "name": "stdout",
     "output_type": "stream",
     "text": [
      "Coeff of psi:  0.9999999981857821\n",
      "Coeff of psi_targ:  0.4999951444200437\n",
      "INFO     oc_logger    Function evaluation number: 389, SI: 2, Sub-iteration number: 50, FoM: 2.998038577349332\n"
     ]
    },
    {
     "name": "stderr",
     "output_type": "stream",
     "text": [
      "INFO:oc_logger:Function evaluation number: 389, SI: 2, Sub-iteration number: 50, FoM: 2.998038577349332\n",
      "DEBUG:oc_logger:User running: True\n",
      "DEBUG:oc_logger:User running: True\n",
      "DEBUG:oc_logger:User running: True\n",
      "DEBUG:oc_logger:User running: True\n"
     ]
    },
    {
     "name": "stdout",
     "output_type": "stream",
     "text": [
      "Coeff of psi:  0.999999972058849\n",
      "Coeff of psi_targ:  0.49999262565844543\n",
      "INFO     oc_logger    Function evaluation number: 390, SI: 2, Sub-iteration number: 51, FoM: 2.9980317848110576\n"
     ]
    },
    {
     "name": "stderr",
     "output_type": "stream",
     "text": [
      "INFO:oc_logger:Function evaluation number: 390, SI: 2, Sub-iteration number: 51, FoM: 2.9980317848110576\n",
      "DEBUG:oc_logger:User running: True\n",
      "DEBUG:oc_logger:User running: True\n",
      "DEBUG:oc_logger:User running: True\n"
     ]
    },
    {
     "name": "stdout",
     "output_type": "stream",
     "text": [
      "Coeff of psi:  0.9999997360029514\n",
      "Coeff of psi_targ:  0.499999761552913\n",
      "INFO     oc_logger    Function evaluation number: 391, SI: 2, Sub-iteration number: 51, FoM: 2.9980422961139785\n"
     ]
    },
    {
     "name": "stderr",
     "output_type": "stream",
     "text": [
      "INFO:oc_logger:Function evaluation number: 391, SI: 2, Sub-iteration number: 51, FoM: 2.9980422961139785\n",
      "DEBUG:oc_logger:User running: True\n",
      "DEBUG:oc_logger:User running: True\n",
      "DEBUG:oc_logger:User running: True\n",
      "DEBUG:oc_logger:User running: True\n"
     ]
    },
    {
     "name": "stdout",
     "output_type": "stream",
     "text": [
      "Coeff of psi:  0.999999365932685\n",
      "Coeff of psi_targ:  0.49999360244055785\n",
      "INFO     oc_logger    Function evaluation number: 392, SI: 2, Sub-iteration number: 52, FoM: 2.998033002923621\n"
     ]
    },
    {
     "name": "stderr",
     "output_type": "stream",
     "text": [
      "INFO:oc_logger:Function evaluation number: 392, SI: 2, Sub-iteration number: 52, FoM: 2.998033002923621\n",
      "DEBUG:oc_logger:User running: True\n",
      "DEBUG:oc_logger:User running: True\n",
      "DEBUG:oc_logger:User running: True\n"
     ]
    },
    {
     "name": "stdout",
     "output_type": "stream",
     "text": [
      "Coeff of psi:  0.9999992564534897\n",
      "Coeff of psi_targ:  0.49999940034193774\n",
      "INFO     oc_logger    Function evaluation number: 393, SI: 2, Sub-iteration number: 52, FoM: 2.9980436282061977\n"
     ]
    },
    {
     "name": "stderr",
     "output_type": "stream",
     "text": [
      "INFO:oc_logger:Function evaluation number: 393, SI: 2, Sub-iteration number: 52, FoM: 2.9980436282061977\n",
      "DEBUG:oc_logger:User running: True\n",
      "DEBUG:oc_logger:User running: True\n",
      "DEBUG:oc_logger:User running: True\n",
      "DEBUG:oc_logger:User running: True\n"
     ]
    },
    {
     "name": "stdout",
     "output_type": "stream",
     "text": [
      "Coeff of psi:  0.9999999995394184\n",
      "Coeff of psi_targ:  0.4999993182516882\n",
      "INFO     oc_logger    New record achieved. Previous FoM: 2.9980458506509997, new best FoM : 2.9980526117786677\n"
     ]
    },
    {
     "name": "stderr",
     "output_type": "stream",
     "text": [
      "INFO:oc_logger:New record achieved. Previous FoM: 2.9980458506509997, new best FoM : 2.9980526117786677\n"
     ]
    },
    {
     "name": "stdout",
     "output_type": "stream",
     "text": [
      "INFO     oc_logger    Function evaluation number: 394, SI: 2, Sub-iteration number: 53, FoM: 2.9980526117786677\n"
     ]
    },
    {
     "name": "stderr",
     "output_type": "stream",
     "text": [
      "INFO:oc_logger:Function evaluation number: 394, SI: 2, Sub-iteration number: 53, FoM: 2.9980526117786677\n",
      "DEBUG:oc_logger:User running: True\n",
      "DEBUG:oc_logger:User running: True\n",
      "DEBUG:oc_logger:User running: True\n"
     ]
    },
    {
     "name": "stdout",
     "output_type": "stream",
     "text": [
      "Coeff of psi:  0.9999998587206932\n",
      "Coeff of psi_targ:  0.49999956125878947\n",
      "INFO     oc_logger    New record achieved. Previous FoM: 2.9980526117786677, new best FoM : 2.998058241558729\n"
     ]
    },
    {
     "name": "stderr",
     "output_type": "stream",
     "text": [
      "INFO:oc_logger:New record achieved. Previous FoM: 2.9980526117786677, new best FoM : 2.998058241558729\n"
     ]
    },
    {
     "name": "stdout",
     "output_type": "stream",
     "text": [
      "INFO     oc_logger    Function evaluation number: 395, SI: 2, Sub-iteration number: 53, FoM: 2.998058241558729\n"
     ]
    },
    {
     "name": "stderr",
     "output_type": "stream",
     "text": [
      "INFO:oc_logger:Function evaluation number: 395, SI: 2, Sub-iteration number: 53, FoM: 2.998058241558729\n",
      "DEBUG:oc_logger:User running: True\n",
      "DEBUG:oc_logger:User running: True\n",
      "DEBUG:oc_logger:User running: True\n",
      "DEBUG:oc_logger:User running: True\n"
     ]
    },
    {
     "name": "stdout",
     "output_type": "stream",
     "text": [
      "Coeff of psi:  0.9999965395559834\n",
      "Coeff of psi_targ:  0.499997697943103\n",
      "INFO     oc_logger    Function evaluation number: 396, SI: 2, Sub-iteration number: 54, FoM: 2.998041279395462\n"
     ]
    },
    {
     "name": "stderr",
     "output_type": "stream",
     "text": [
      "INFO:oc_logger:Function evaluation number: 396, SI: 2, Sub-iteration number: 54, FoM: 2.998041279395462\n",
      "DEBUG:oc_logger:User running: True\n",
      "DEBUG:oc_logger:User running: True\n",
      "DEBUG:oc_logger:User running: True\n",
      "DEBUG:oc_logger:User running: True\n"
     ]
    },
    {
     "name": "stdout",
     "output_type": "stream",
     "text": [
      "Coeff of psi:  0.9999985156407297\n",
      "Coeff of psi_targ:  0.49999884977886094\n",
      "INFO     oc_logger    Function evaluation number: 397, SI: 2, Sub-iteration number: 55, FoM: 2.998039595781361\n"
     ]
    },
    {
     "name": "stderr",
     "output_type": "stream",
     "text": [
      "INFO:oc_logger:Function evaluation number: 397, SI: 2, Sub-iteration number: 55, FoM: 2.998039595781361\n",
      "DEBUG:oc_logger:User running: True\n",
      "DEBUG:oc_logger:User running: True\n",
      "DEBUG:oc_logger:User running: True\n"
     ]
    },
    {
     "name": "stdout",
     "output_type": "stream",
     "text": [
      "Coeff of psi:  0.9999991835385017\n",
      "Coeff of psi_targ:  0.4999995192174727\n",
      "INFO     oc_logger    Function evaluation number: 398, SI: 2, Sub-iteration number: 55, FoM: 2.9980456550132404\n"
     ]
    },
    {
     "name": "stderr",
     "output_type": "stream",
     "text": [
      "INFO:oc_logger:Function evaluation number: 398, SI: 2, Sub-iteration number: 55, FoM: 2.9980456550132404\n",
      "DEBUG:oc_logger:User running: True\n",
      "DEBUG:oc_logger:User running: True\n",
      "DEBUG:oc_logger:User running: True\n",
      "DEBUG:oc_logger:User running: True\n"
     ]
    },
    {
     "name": "stdout",
     "output_type": "stream",
     "text": [
      "Coeff of psi:  0.9999986220079322\n",
      "Coeff of psi_targ:  0.49999924967257114\n",
      "INFO     oc_logger    Function evaluation number: 399, SI: 2, Sub-iteration number: 56, FoM: 2.998050241469346\n"
     ]
    },
    {
     "name": "stderr",
     "output_type": "stream",
     "text": [
      "INFO:oc_logger:Function evaluation number: 399, SI: 2, Sub-iteration number: 56, FoM: 2.998050241469346\n",
      "DEBUG:oc_logger:User running: True\n",
      "DEBUG:oc_logger:User running: True\n",
      "DEBUG:oc_logger:User running: True\n",
      "DEBUG:oc_logger:User running: True\n"
     ]
    },
    {
     "name": "stdout",
     "output_type": "stream",
     "text": [
      "Coeff of psi:  0.9999994532012951\n",
      "Coeff of psi_targ:  0.4999992380868424\n",
      "INFO     oc_logger    Function evaluation number: 400, SI: 2, Sub-iteration number: 57, FoM: 2.998040216113394\n"
     ]
    },
    {
     "name": "stderr",
     "output_type": "stream",
     "text": [
      "INFO:oc_logger:Function evaluation number: 400, SI: 2, Sub-iteration number: 57, FoM: 2.998040216113394\n",
      "DEBUG:oc_logger:User running: True\n",
      "DEBUG:oc_logger:User running: True\n",
      "DEBUG:oc_logger:User running: True\n"
     ]
    },
    {
     "name": "stdout",
     "output_type": "stream",
     "text": [
      "Coeff of psi:  0.9999995125768936\n",
      "Coeff of psi_targ:  0.49999848670532754\n",
      "INFO     oc_logger    Function evaluation number: 401, SI: 2, Sub-iteration number: 57, FoM: 2.9980467523791603\n"
     ]
    },
    {
     "name": "stderr",
     "output_type": "stream",
     "text": [
      "INFO:oc_logger:Function evaluation number: 401, SI: 2, Sub-iteration number: 57, FoM: 2.9980467523791603\n",
      "DEBUG:oc_logger:User running: True\n",
      "DEBUG:oc_logger:User running: True\n",
      "DEBUG:oc_logger:User running: True\n",
      "DEBUG:oc_logger:User running: True\n"
     ]
    },
    {
     "name": "stdout",
     "output_type": "stream",
     "text": [
      "Coeff of psi:  0.9999995526660849\n",
      "Coeff of psi_targ:  0.49999955946492053\n",
      "INFO     oc_logger    Function evaluation number: 402, SI: 2, Sub-iteration number: 58, FoM: 2.9980411794041713\n"
     ]
    },
    {
     "name": "stderr",
     "output_type": "stream",
     "text": [
      "INFO:oc_logger:Function evaluation number: 402, SI: 2, Sub-iteration number: 58, FoM: 2.9980411794041713\n",
      "DEBUG:oc_logger:User running: True\n",
      "DEBUG:oc_logger:User running: True\n",
      "DEBUG:oc_logger:User running: True\n"
     ]
    },
    {
     "name": "stdout",
     "output_type": "stream",
     "text": [
      "Coeff of psi:  0.9999984905187435\n",
      "Coeff of psi_targ:  0.4999987824242094\n",
      "INFO     oc_logger    Function evaluation number: 403, SI: 2, Sub-iteration number: 58, FoM: 2.998046700371208\n"
     ]
    },
    {
     "name": "stderr",
     "output_type": "stream",
     "text": [
      "INFO:oc_logger:Function evaluation number: 403, SI: 2, Sub-iteration number: 58, FoM: 2.998046700371208\n",
      "DEBUG:oc_logger:User running: True\n",
      "DEBUG:oc_logger:User running: True\n",
      "DEBUG:oc_logger:User running: True\n",
      "DEBUG:oc_logger:User running: True\n"
     ]
    },
    {
     "name": "stdout",
     "output_type": "stream",
     "text": [
      "Coeff of psi:  0.9999971235614656\n",
      "Coeff of psi_targ:  0.4999984799926878\n",
      "INFO     oc_logger    Function evaluation number: 404, SI: 2, Sub-iteration number: 59, FoM: 2.9980479123391905\n"
     ]
    },
    {
     "name": "stderr",
     "output_type": "stream",
     "text": [
      "INFO:oc_logger:Function evaluation number: 404, SI: 2, Sub-iteration number: 59, FoM: 2.9980479123391905\n",
      "DEBUG:oc_logger:User running: True\n",
      "DEBUG:oc_logger:User running: True\n",
      "DEBUG:oc_logger:User running: True\n",
      "DEBUG:oc_logger:User running: True\n"
     ]
    },
    {
     "name": "stdout",
     "output_type": "stream",
     "text": [
      "Coeff of psi:  0.9999998580616724\n",
      "Coeff of psi_targ:  0.49999704341844964\n",
      "INFO     oc_logger    Function evaluation number: 405, SI: 2, Sub-iteration number: 60, FoM: 2.9980390406580897\n"
     ]
    },
    {
     "name": "stderr",
     "output_type": "stream",
     "text": [
      "INFO:oc_logger:Function evaluation number: 405, SI: 2, Sub-iteration number: 60, FoM: 2.9980390406580897\n",
      "DEBUG:oc_logger:User running: True\n",
      "DEBUG:oc_logger:User running: True\n",
      "DEBUG:oc_logger:User running: True\n"
     ]
    },
    {
     "name": "stdout",
     "output_type": "stream",
     "text": [
      "Coeff of psi:  0.999999010608758\n",
      "Coeff of psi_targ:  0.4999994441817467\n",
      "INFO     oc_logger    Function evaluation number: 406, SI: 2, Sub-iteration number: 60, FoM: 2.998047689822416\n"
     ]
    },
    {
     "name": "stderr",
     "output_type": "stream",
     "text": [
      "INFO:oc_logger:Function evaluation number: 406, SI: 2, Sub-iteration number: 60, FoM: 2.998047689822416\n",
      "DEBUG:oc_logger:User running: True\n",
      "DEBUG:oc_logger:User running: True\n",
      "DEBUG:oc_logger:User running: True\n",
      "DEBUG:oc_logger:User running: True\n"
     ]
    },
    {
     "name": "stdout",
     "output_type": "stream",
     "text": [
      "Coeff of psi:  0.9999986583024638\n",
      "Coeff of psi_targ:  0.49999858300877126\n",
      "INFO     oc_logger    Function evaluation number: 407, SI: 2, Sub-iteration number: 61, FoM: 2.9980547479409756\n"
     ]
    },
    {
     "name": "stderr",
     "output_type": "stream",
     "text": [
      "INFO:oc_logger:Function evaluation number: 407, SI: 2, Sub-iteration number: 61, FoM: 2.9980547479409756\n",
      "DEBUG:oc_logger:User running: True\n",
      "DEBUG:oc_logger:User running: True\n",
      "DEBUG:oc_logger:User running: True\n",
      "DEBUG:oc_logger:User running: True\n"
     ]
    },
    {
     "name": "stdout",
     "output_type": "stream",
     "text": [
      "Coeff of psi:  0.9999975956322231\n",
      "Coeff of psi_targ:  0.4999984338054109\n",
      "INFO     oc_logger    Function evaluation number: 408, SI: 2, Sub-iteration number: 62, FoM: 2.998047024729805\n"
     ]
    },
    {
     "name": "stderr",
     "output_type": "stream",
     "text": [
      "INFO:oc_logger:Function evaluation number: 408, SI: 2, Sub-iteration number: 62, FoM: 2.998047024729805\n",
      "DEBUG:oc_logger:User running: True\n",
      "DEBUG:oc_logger:User running: True\n",
      "DEBUG:oc_logger:User running: True\n",
      "DEBUG:oc_logger:User running: True\n"
     ]
    },
    {
     "name": "stdout",
     "output_type": "stream",
     "text": [
      "Coeff of psi:  0.9999987466340313\n",
      "Coeff of psi_targ:  0.4999992190763878\n",
      "INFO     oc_logger    New record achieved. Previous FoM: 2.998058241558729, new best FoM : 2.9980589197178547\n"
     ]
    },
    {
     "name": "stderr",
     "output_type": "stream",
     "text": [
      "INFO:oc_logger:New record achieved. Previous FoM: 2.998058241558729, new best FoM : 2.9980589197178547\n"
     ]
    },
    {
     "name": "stdout",
     "output_type": "stream",
     "text": [
      "INFO     oc_logger    Function evaluation number: 409, SI: 2, Sub-iteration number: 63, FoM: 2.9980589197178547\n"
     ]
    },
    {
     "name": "stderr",
     "output_type": "stream",
     "text": [
      "INFO:oc_logger:Function evaluation number: 409, SI: 2, Sub-iteration number: 63, FoM: 2.9980589197178547\n",
      "DEBUG:oc_logger:User running: True\n",
      "DEBUG:oc_logger:User running: True\n",
      "DEBUG:oc_logger:User running: True\n"
     ]
    },
    {
     "name": "stdout",
     "output_type": "stream",
     "text": [
      "Coeff of psi:  0.9999984621586401\n",
      "Coeff of psi_targ:  0.49999911344072073\n",
      "INFO     oc_logger    New record achieved. Previous FoM: 2.9980589197178547, new best FoM : 2.998066571289703\n"
     ]
    },
    {
     "name": "stderr",
     "output_type": "stream",
     "text": [
      "INFO:oc_logger:New record achieved. Previous FoM: 2.9980589197178547, new best FoM : 2.998066571289703\n"
     ]
    },
    {
     "name": "stdout",
     "output_type": "stream",
     "text": [
      "INFO     oc_logger    Function evaluation number: 410, SI: 2, Sub-iteration number: 63, FoM: 2.998066571289703\n"
     ]
    },
    {
     "name": "stderr",
     "output_type": "stream",
     "text": [
      "INFO:oc_logger:Function evaluation number: 410, SI: 2, Sub-iteration number: 63, FoM: 2.998066571289703\n",
      "DEBUG:oc_logger:User running: True\n",
      "DEBUG:oc_logger:User running: True\n",
      "DEBUG:oc_logger:User running: True\n",
      "DEBUG:oc_logger:User running: True\n"
     ]
    },
    {
     "name": "stdout",
     "output_type": "stream",
     "text": [
      "Coeff of psi:  0.9999986826383862\n",
      "Coeff of psi_targ:  0.4999988679868327\n",
      "INFO     oc_logger    Function evaluation number: 411, SI: 2, Sub-iteration number: 64, FoM: 2.998060532773926\n"
     ]
    },
    {
     "name": "stderr",
     "output_type": "stream",
     "text": [
      "INFO:oc_logger:Function evaluation number: 411, SI: 2, Sub-iteration number: 64, FoM: 2.998060532773926\n",
      "DEBUG:oc_logger:User running: True\n",
      "DEBUG:oc_logger:User running: True\n",
      "DEBUG:oc_logger:User running: True\n",
      "DEBUG:oc_logger:User running: True\n"
     ]
    },
    {
     "name": "stdout",
     "output_type": "stream",
     "text": [
      "Coeff of psi:  0.9999985472220857\n",
      "Coeff of psi_targ:  0.49999904632931863\n",
      "INFO     oc_logger    Function evaluation number: 412, SI: 2, Sub-iteration number: 65, FoM: 2.998059276663089\n"
     ]
    },
    {
     "name": "stderr",
     "output_type": "stream",
     "text": [
      "INFO:oc_logger:Function evaluation number: 412, SI: 2, Sub-iteration number: 65, FoM: 2.998059276663089\n",
      "DEBUG:oc_logger:User running: True\n",
      "DEBUG:oc_logger:User running: True\n",
      "DEBUG:oc_logger:User running: True\n",
      "DEBUG:oc_logger:User running: True\n"
     ]
    },
    {
     "name": "stdout",
     "output_type": "stream",
     "text": [
      "Coeff of psi:  0.9999992473733343\n",
      "Coeff of psi_targ:  0.49999953296622324\n",
      "INFO     oc_logger    Function evaluation number: 413, SI: 2, Sub-iteration number: 66, FoM: 2.9980626205255003\n"
     ]
    },
    {
     "name": "stderr",
     "output_type": "stream",
     "text": [
      "INFO:oc_logger:Function evaluation number: 413, SI: 2, Sub-iteration number: 66, FoM: 2.9980626205255003\n",
      "DEBUG:oc_logger:User running: True\n",
      "DEBUG:oc_logger:User running: True\n",
      "DEBUG:oc_logger:User running: True\n",
      "DEBUG:oc_logger:User running: True\n"
     ]
    },
    {
     "name": "stdout",
     "output_type": "stream",
     "text": [
      "Coeff of psi:  0.9999979591200564\n",
      "Coeff of psi_targ:  0.49999809587697575\n",
      "INFO     oc_logger    Function evaluation number: 414, SI: 2, Sub-iteration number: 67, FoM: 2.998057605924088\n"
     ]
    },
    {
     "name": "stderr",
     "output_type": "stream",
     "text": [
      "INFO:oc_logger:Function evaluation number: 414, SI: 2, Sub-iteration number: 67, FoM: 2.998057605924088\n",
      "DEBUG:oc_logger:User running: True\n",
      "DEBUG:oc_logger:User running: True\n",
      "DEBUG:oc_logger:User running: True\n",
      "DEBUG:oc_logger:User running: True\n"
     ]
    },
    {
     "name": "stdout",
     "output_type": "stream",
     "text": [
      "Coeff of psi:  0.9999996897537816\n",
      "Coeff of psi_targ:  0.4999993234120537\n",
      "INFO     oc_logger    Function evaluation number: 415, SI: 2, Sub-iteration number: 68, FoM: 2.99806537459801\n"
     ]
    },
    {
     "name": "stderr",
     "output_type": "stream",
     "text": [
      "INFO:oc_logger:Function evaluation number: 415, SI: 2, Sub-iteration number: 68, FoM: 2.99806537459801\n",
      "DEBUG:oc_logger:User running: True\n",
      "DEBUG:oc_logger:User running: True\n",
      "DEBUG:oc_logger:User running: True\n",
      "DEBUG:oc_logger:User running: True\n"
     ]
    },
    {
     "name": "stdout",
     "output_type": "stream",
     "text": [
      "Coeff of psi:  0.9999989684239472\n",
      "Coeff of psi_targ:  0.49999935235605253\n",
      "INFO     oc_logger    New record achieved. Previous FoM: 2.998066571289703, new best FoM : 2.9980728844133275\n"
     ]
    },
    {
     "name": "stderr",
     "output_type": "stream",
     "text": [
      "INFO:oc_logger:New record achieved. Previous FoM: 2.998066571289703, new best FoM : 2.9980728844133275\n"
     ]
    },
    {
     "name": "stdout",
     "output_type": "stream",
     "text": [
      "INFO     oc_logger    Function evaluation number: 416, SI: 2, Sub-iteration number: 69, FoM: 2.9980728844133275\n"
     ]
    },
    {
     "name": "stderr",
     "output_type": "stream",
     "text": [
      "INFO:oc_logger:Function evaluation number: 416, SI: 2, Sub-iteration number: 69, FoM: 2.9980728844133275\n",
      "DEBUG:oc_logger:User running: True\n",
      "DEBUG:oc_logger:User running: True\n",
      "DEBUG:oc_logger:User running: True\n"
     ]
    },
    {
     "name": "stdout",
     "output_type": "stream",
     "text": [
      "Coeff of psi:  0.9999989851607699\n",
      "Coeff of psi_targ:  0.4999992876307997\n",
      "INFO     oc_logger    New record achieved. Previous FoM: 2.9980728844133275, new best FoM : 2.9980848631820693\n"
     ]
    },
    {
     "name": "stderr",
     "output_type": "stream",
     "text": [
      "INFO:oc_logger:New record achieved. Previous FoM: 2.9980728844133275, new best FoM : 2.9980848631820693\n"
     ]
    },
    {
     "name": "stdout",
     "output_type": "stream",
     "text": [
      "INFO     oc_logger    Function evaluation number: 417, SI: 2, Sub-iteration number: 69, FoM: 2.9980848631820693\n"
     ]
    },
    {
     "name": "stderr",
     "output_type": "stream",
     "text": [
      "INFO:oc_logger:Function evaluation number: 417, SI: 2, Sub-iteration number: 69, FoM: 2.9980848631820693\n",
      "DEBUG:oc_logger:User running: True\n",
      "DEBUG:oc_logger:User running: True\n",
      "DEBUG:oc_logger:User running: True\n",
      "DEBUG:oc_logger:User running: True\n"
     ]
    },
    {
     "name": "stdout",
     "output_type": "stream",
     "text": [
      "Coeff of psi:  0.9999999666647615\n",
      "Coeff of psi_targ:  0.4999996564729462\n",
      "INFO     oc_logger    Function evaluation number: 418, SI: 2, Sub-iteration number: 70, FoM: 2.9980762556111347\n"
     ]
    },
    {
     "name": "stderr",
     "output_type": "stream",
     "text": [
      "INFO:oc_logger:Function evaluation number: 418, SI: 2, Sub-iteration number: 70, FoM: 2.9980762556111347\n",
      "DEBUG:oc_logger:User running: True\n",
      "DEBUG:oc_logger:User running: True\n",
      "DEBUG:oc_logger:User running: True\n",
      "DEBUG:oc_logger:User running: True\n"
     ]
    },
    {
     "name": "stdout",
     "output_type": "stream",
     "text": [
      "Coeff of psi:  0.9999997538388705\n",
      "Coeff of psi_targ:  0.4999996581236003\n",
      "INFO     oc_logger    Function evaluation number: 419, SI: 2, Sub-iteration number: 71, FoM: 2.998082518440829\n"
     ]
    },
    {
     "name": "stderr",
     "output_type": "stream",
     "text": [
      "INFO:oc_logger:Function evaluation number: 419, SI: 2, Sub-iteration number: 71, FoM: 2.998082518440829\n",
      "DEBUG:oc_logger:User running: True\n",
      "DEBUG:oc_logger:User running: True\n",
      "DEBUG:oc_logger:User running: True\n",
      "DEBUG:oc_logger:User running: True\n"
     ]
    },
    {
     "name": "stdout",
     "output_type": "stream",
     "text": [
      "Coeff of psi:  0.999999849945023\n",
      "Coeff of psi_targ:  0.49999966343351143\n",
      "INFO     oc_logger    Function evaluation number: 420, SI: 2, Sub-iteration number: 72, FoM: 2.998078083244092\n"
     ]
    },
    {
     "name": "stderr",
     "output_type": "stream",
     "text": [
      "INFO:oc_logger:Function evaluation number: 420, SI: 2, Sub-iteration number: 72, FoM: 2.998078083244092\n",
      "DEBUG:oc_logger:User running: True\n",
      "DEBUG:oc_logger:User running: True\n",
      "DEBUG:oc_logger:User running: True\n",
      "DEBUG:oc_logger:User running: True\n"
     ]
    },
    {
     "name": "stdout",
     "output_type": "stream",
     "text": [
      "Coeff of psi:  0.9999999931604753\n",
      "Coeff of psi_targ:  0.499997988055635\n",
      "INFO     oc_logger    Function evaluation number: 421, SI: 2, Sub-iteration number: 73, FoM: 2.9980691372037063\n"
     ]
    },
    {
     "name": "stderr",
     "output_type": "stream",
     "text": [
      "INFO:oc_logger:Function evaluation number: 421, SI: 2, Sub-iteration number: 73, FoM: 2.9980691372037063\n",
      "DEBUG:oc_logger:User running: True\n",
      "DEBUG:oc_logger:User running: True\n",
      "DEBUG:oc_logger:User running: True\n",
      "DEBUG:oc_logger:User running: True\n"
     ]
    },
    {
     "name": "stdout",
     "output_type": "stream",
     "text": [
      "Coeff of psi:  0.9999968602118617\n",
      "Coeff of psi_targ:  0.4999983691669222\n",
      "INFO     oc_logger    Function evaluation number: 422, SI: 2, Sub-iteration number: 74, FoM: 2.998079614110552\n"
     ]
    },
    {
     "name": "stderr",
     "output_type": "stream",
     "text": [
      "INFO:oc_logger:Function evaluation number: 422, SI: 2, Sub-iteration number: 74, FoM: 2.998079614110552\n",
      "DEBUG:oc_logger:User running: True\n",
      "DEBUG:oc_logger:User running: True\n",
      "DEBUG:oc_logger:User running: True\n",
      "DEBUG:oc_logger:User running: True\n"
     ]
    },
    {
     "name": "stdout",
     "output_type": "stream",
     "text": [
      "Coeff of psi:  0.9999999060888296\n",
      "Coeff of psi_targ:  0.4999985578567756\n",
      "INFO     oc_logger    Function evaluation number: 423, SI: 2, Sub-iteration number: 75, FoM: 2.9980843693112003\n"
     ]
    },
    {
     "name": "stderr",
     "output_type": "stream",
     "text": [
      "INFO:oc_logger:Function evaluation number: 423, SI: 2, Sub-iteration number: 75, FoM: 2.9980843693112003\n",
      "DEBUG:oc_logger:User running: True\n",
      "DEBUG:oc_logger:User running: True\n",
      "DEBUG:oc_logger:User running: True\n",
      "DEBUG:oc_logger:User running: True\n"
     ]
    },
    {
     "name": "stdout",
     "output_type": "stream",
     "text": [
      "Coeff of psi:  0.9999999656754658\n",
      "Coeff of psi_targ:  0.4999999009182714\n",
      "INFO     oc_logger    New record achieved. Previous FoM: 2.9980848631820693, new best FoM : 2.9980922245885613\n"
     ]
    },
    {
     "name": "stderr",
     "output_type": "stream",
     "text": [
      "INFO:oc_logger:New record achieved. Previous FoM: 2.9980848631820693, new best FoM : 2.9980922245885613\n"
     ]
    },
    {
     "name": "stdout",
     "output_type": "stream",
     "text": [
      "INFO     oc_logger    Function evaluation number: 424, SI: 2, Sub-iteration number: 76, FoM: 2.9980922245885613\n"
     ]
    },
    {
     "name": "stderr",
     "output_type": "stream",
     "text": [
      "INFO:oc_logger:Function evaluation number: 424, SI: 2, Sub-iteration number: 76, FoM: 2.9980922245885613\n",
      "DEBUG:oc_logger:User running: True\n",
      "DEBUG:oc_logger:User running: True\n",
      "DEBUG:oc_logger:User running: True\n"
     ]
    },
    {
     "name": "stdout",
     "output_type": "stream",
     "text": [
      "Coeff of psi:  0.9999998941731801\n",
      "Coeff of psi_targ:  0.4999998774420215\n",
      "INFO     oc_logger    New record achieved. Previous FoM: 2.9980922245885613, new best FoM : 2.998105457498178\n"
     ]
    },
    {
     "name": "stderr",
     "output_type": "stream",
     "text": [
      "INFO:oc_logger:New record achieved. Previous FoM: 2.9980922245885613, new best FoM : 2.998105457498178\n"
     ]
    },
    {
     "name": "stdout",
     "output_type": "stream",
     "text": [
      "INFO     oc_logger    Function evaluation number: 425, SI: 2, Sub-iteration number: 76, FoM: 2.998105457498178\n"
     ]
    },
    {
     "name": "stderr",
     "output_type": "stream",
     "text": [
      "INFO:oc_logger:Function evaluation number: 425, SI: 2, Sub-iteration number: 76, FoM: 2.998105457498178\n",
      "DEBUG:oc_logger:User running: True\n",
      "DEBUG:oc_logger:User running: True\n",
      "DEBUG:oc_logger:User running: True\n",
      "DEBUG:oc_logger:User running: True\n"
     ]
    },
    {
     "name": "stdout",
     "output_type": "stream",
     "text": [
      "Coeff of psi:  0.9999999478694692\n",
      "Coeff of psi_targ:  0.4999988780625059\n",
      "INFO     oc_logger    Function evaluation number: 426, SI: 2, Sub-iteration number: 77, FoM: 2.9980955097368382\n"
     ]
    },
    {
     "name": "stderr",
     "output_type": "stream",
     "text": [
      "INFO:oc_logger:Function evaluation number: 426, SI: 2, Sub-iteration number: 77, FoM: 2.9980955097368382\n",
      "DEBUG:oc_logger:User running: True\n",
      "DEBUG:oc_logger:User running: True\n",
      "DEBUG:oc_logger:User running: True\n",
      "DEBUG:oc_logger:User running: True\n"
     ]
    },
    {
     "name": "stdout",
     "output_type": "stream",
     "text": [
      "Coeff of psi:  0.9999997810105745\n",
      "Coeff of psi_targ:  0.49999979360193675\n",
      "INFO     oc_logger    Function evaluation number: 427, SI: 2, Sub-iteration number: 78, FoM: 2.9981042954002275\n"
     ]
    },
    {
     "name": "stderr",
     "output_type": "stream",
     "text": [
      "INFO:oc_logger:Function evaluation number: 427, SI: 2, Sub-iteration number: 78, FoM: 2.9981042954002275\n",
      "DEBUG:oc_logger:User running: True\n",
      "DEBUG:oc_logger:User running: True\n",
      "DEBUG:oc_logger:User running: True\n",
      "DEBUG:oc_logger:User running: True\n"
     ]
    },
    {
     "name": "stdout",
     "output_type": "stream",
     "text": [
      "Coeff of psi:  0.9999998603355313\n",
      "Coeff of psi_targ:  0.4999994903002863\n",
      "INFO     oc_logger    New record achieved. Previous FoM: 2.998105457498178, new best FoM : 2.998106326460224\n"
     ]
    },
    {
     "name": "stderr",
     "output_type": "stream",
     "text": [
      "INFO:oc_logger:New record achieved. Previous FoM: 2.998105457498178, new best FoM : 2.998106326460224\n"
     ]
    },
    {
     "name": "stdout",
     "output_type": "stream",
     "text": [
      "INFO     oc_logger    Function evaluation number: 428, SI: 2, Sub-iteration number: 79, FoM: 2.998106326460224\n"
     ]
    },
    {
     "name": "stderr",
     "output_type": "stream",
     "text": [
      "INFO:oc_logger:Function evaluation number: 428, SI: 2, Sub-iteration number: 79, FoM: 2.998106326460224\n",
      "DEBUG:oc_logger:User running: True\n",
      "DEBUG:oc_logger:User running: True\n",
      "DEBUG:oc_logger:User running: True\n"
     ]
    },
    {
     "name": "stdout",
     "output_type": "stream",
     "text": [
      "Coeff of psi:  0.9999984925032878\n",
      "Coeff of psi_targ:  0.4999986985677947\n",
      "INFO     oc_logger    New record achieved. Previous FoM: 2.998106326460224, new best FoM : 2.9981200418453744\n"
     ]
    },
    {
     "name": "stderr",
     "output_type": "stream",
     "text": [
      "INFO:oc_logger:New record achieved. Previous FoM: 2.998106326460224, new best FoM : 2.9981200418453744\n"
     ]
    },
    {
     "name": "stdout",
     "output_type": "stream",
     "text": [
      "INFO     oc_logger    Function evaluation number: 429, SI: 2, Sub-iteration number: 79, FoM: 2.9981200418453744\n"
     ]
    },
    {
     "name": "stderr",
     "output_type": "stream",
     "text": [
      "INFO:oc_logger:Function evaluation number: 429, SI: 2, Sub-iteration number: 79, FoM: 2.9981200418453744\n",
      "DEBUG:oc_logger:User running: True\n",
      "DEBUG:oc_logger:User running: True\n",
      "DEBUG:oc_logger:User running: True\n",
      "DEBUG:oc_logger:User running: True\n"
     ]
    },
    {
     "name": "stdout",
     "output_type": "stream",
     "text": [
      "Coeff of psi:  0.9999994638675499\n",
      "Coeff of psi_targ:  0.49999928571766994\n",
      "INFO     oc_logger    Function evaluation number: 430, SI: 2, Sub-iteration number: 80, FoM: 2.998110042168644\n"
     ]
    },
    {
     "name": "stderr",
     "output_type": "stream",
     "text": [
      "INFO:oc_logger:Function evaluation number: 430, SI: 2, Sub-iteration number: 80, FoM: 2.998110042168644\n",
      "DEBUG:oc_logger:User running: True\n",
      "DEBUG:oc_logger:User running: True\n",
      "DEBUG:oc_logger:User running: True\n",
      "DEBUG:oc_logger:User running: True\n"
     ]
    },
    {
     "name": "stdout",
     "output_type": "stream",
     "text": [
      "Coeff of psi:  0.9999996742801697\n",
      "Coeff of psi_targ:  0.49999978858779087\n",
      "INFO     oc_logger    Function evaluation number: 431, SI: 2, Sub-iteration number: 81, FoM: 2.9981180756111137\n"
     ]
    },
    {
     "name": "stderr",
     "output_type": "stream",
     "text": [
      "INFO:oc_logger:Function evaluation number: 431, SI: 2, Sub-iteration number: 81, FoM: 2.9981180756111137\n",
      "DEBUG:oc_logger:User running: True\n",
      "DEBUG:oc_logger:User running: True\n",
      "DEBUG:oc_logger:User running: True\n",
      "DEBUG:oc_logger:User running: True\n"
     ]
    },
    {
     "name": "stdout",
     "output_type": "stream",
     "text": [
      "Coeff of psi:  0.9999998343217285\n",
      "Coeff of psi_targ:  0.4999986756458932\n",
      "INFO     oc_logger    Function evaluation number: 432, SI: 2, Sub-iteration number: 82, FoM: 2.9981146222487167\n"
     ]
    },
    {
     "name": "stderr",
     "output_type": "stream",
     "text": [
      "INFO:oc_logger:Function evaluation number: 432, SI: 2, Sub-iteration number: 82, FoM: 2.9981146222487167\n",
      "DEBUG:oc_logger:User running: True\n",
      "DEBUG:oc_logger:User running: True\n",
      "DEBUG:oc_logger:User running: True\n",
      "DEBUG:oc_logger:User running: True\n"
     ]
    },
    {
     "name": "stdout",
     "output_type": "stream",
     "text": [
      "Coeff of psi:  0.9999984179000267\n",
      "Coeff of psi_targ:  0.49999866083953465\n",
      "INFO     oc_logger    Function evaluation number: 433, SI: 2, Sub-iteration number: 83, FoM: 2.9981149145717048\n"
     ]
    },
    {
     "name": "stderr",
     "output_type": "stream",
     "text": [
      "INFO:oc_logger:Function evaluation number: 433, SI: 2, Sub-iteration number: 83, FoM: 2.9981149145717048\n",
      "DEBUG:oc_logger:User running: True\n",
      "DEBUG:oc_logger:User running: True\n",
      "DEBUG:oc_logger:User running: True\n",
      "DEBUG:oc_logger:User running: True\n"
     ]
    },
    {
     "name": "stdout",
     "output_type": "stream",
     "text": [
      "Coeff of psi:  0.9999998789754297\n",
      "Coeff of psi_targ:  0.49999970153382833\n",
      "INFO     oc_logger    New record achieved. Previous FoM: 2.9981200418453744, new best FoM : 2.9981333839269655\n"
     ]
    },
    {
     "name": "stderr",
     "output_type": "stream",
     "text": [
      "INFO:oc_logger:New record achieved. Previous FoM: 2.9981200418453744, new best FoM : 2.9981333839269655\n"
     ]
    },
    {
     "name": "stdout",
     "output_type": "stream",
     "text": [
      "INFO     oc_logger    Function evaluation number: 434, SI: 2, Sub-iteration number: 84, FoM: 2.9981333839269655\n"
     ]
    },
    {
     "name": "stderr",
     "output_type": "stream",
     "text": [
      "INFO:oc_logger:Function evaluation number: 434, SI: 2, Sub-iteration number: 84, FoM: 2.9981333839269655\n",
      "DEBUG:oc_logger:User running: True\n",
      "DEBUG:oc_logger:User running: True\n",
      "DEBUG:oc_logger:User running: True\n"
     ]
    },
    {
     "name": "stdout",
     "output_type": "stream",
     "text": [
      "Coeff of psi:  0.9999992867696993\n",
      "Coeff of psi_targ:  0.4999995076258007\n",
      "INFO     oc_logger    New record achieved. Previous FoM: 2.9981333839269655, new best FoM : 2.9981569134540274\n"
     ]
    },
    {
     "name": "stderr",
     "output_type": "stream",
     "text": [
      "INFO:oc_logger:New record achieved. Previous FoM: 2.9981333839269655, new best FoM : 2.9981569134540274\n"
     ]
    },
    {
     "name": "stdout",
     "output_type": "stream",
     "text": [
      "INFO     oc_logger    Function evaluation number: 435, SI: 2, Sub-iteration number: 84, FoM: 2.9981569134540274\n"
     ]
    },
    {
     "name": "stderr",
     "output_type": "stream",
     "text": [
      "INFO:oc_logger:Function evaluation number: 435, SI: 2, Sub-iteration number: 84, FoM: 2.9981569134540274\n",
      "DEBUG:oc_logger:User running: True\n",
      "DEBUG:oc_logger:User running: True\n",
      "DEBUG:oc_logger:User running: True\n",
      "DEBUG:oc_logger:User running: True\n"
     ]
    },
    {
     "name": "stdout",
     "output_type": "stream",
     "text": [
      "Coeff of psi:  0.9999998426439132\n",
      "Coeff of psi_targ:  0.499999588995899\n",
      "INFO     oc_logger    Function evaluation number: 436, SI: 2, Sub-iteration number: 85, FoM: 2.9981424137941204\n"
     ]
    },
    {
     "name": "stderr",
     "output_type": "stream",
     "text": [
      "INFO:oc_logger:Function evaluation number: 436, SI: 2, Sub-iteration number: 85, FoM: 2.9981424137941204\n",
      "DEBUG:oc_logger:User running: True\n",
      "DEBUG:oc_logger:User running: True\n",
      "DEBUG:oc_logger:User running: True\n",
      "DEBUG:oc_logger:User running: True\n"
     ]
    },
    {
     "name": "stdout",
     "output_type": "stream",
     "text": [
      "Coeff of psi:  0.9999980234194118\n",
      "Coeff of psi_targ:  0.4999989687243126\n",
      "INFO     oc_logger    Function evaluation number: 437, SI: 2, Sub-iteration number: 86, FoM: 2.998149624170718\n"
     ]
    },
    {
     "name": "stderr",
     "output_type": "stream",
     "text": [
      "INFO:oc_logger:Function evaluation number: 437, SI: 2, Sub-iteration number: 86, FoM: 2.998149624170718\n",
      "DEBUG:oc_logger:User running: True\n",
      "DEBUG:oc_logger:User running: True\n",
      "DEBUG:oc_logger:User running: True\n",
      "DEBUG:oc_logger:User running: True\n"
     ]
    },
    {
     "name": "stdout",
     "output_type": "stream",
     "text": [
      "Coeff of psi:  0.9999991494292343\n",
      "Coeff of psi_targ:  0.4999989524057166\n",
      "INFO     oc_logger    Function evaluation number: 438, SI: 2, Sub-iteration number: 87, FoM: 2.998151595557276\n"
     ]
    },
    {
     "name": "stderr",
     "output_type": "stream",
     "text": [
      "INFO:oc_logger:Function evaluation number: 438, SI: 2, Sub-iteration number: 87, FoM: 2.998151595557276\n",
      "DEBUG:oc_logger:User running: True\n",
      "DEBUG:oc_logger:User running: True\n",
      "DEBUG:oc_logger:User running: True\n",
      "DEBUG:oc_logger:User running: True\n"
     ]
    },
    {
     "name": "stdout",
     "output_type": "stream",
     "text": [
      "Coeff of psi:  0.999997922198026\n",
      "Coeff of psi_targ:  0.4999988945546904\n",
      "INFO     oc_logger    Function evaluation number: 439, SI: 2, Sub-iteration number: 88, FoM: 2.9981525995535256\n"
     ]
    },
    {
     "name": "stderr",
     "output_type": "stream",
     "text": [
      "INFO:oc_logger:Function evaluation number: 439, SI: 2, Sub-iteration number: 88, FoM: 2.9981525995535256\n",
      "DEBUG:oc_logger:User running: True\n",
      "DEBUG:oc_logger:User running: True\n",
      "DEBUG:oc_logger:User running: True\n",
      "DEBUG:oc_logger:User running: True\n"
     ]
    },
    {
     "name": "stdout",
     "output_type": "stream",
     "text": [
      "Coeff of psi:  0.9999992392564238\n",
      "Coeff of psi_targ:  0.49999953200761194\n",
      "INFO     oc_logger    New record achieved. Previous FoM: 2.9981569134540274, new best FoM : 2.9981640901751176\n"
     ]
    },
    {
     "name": "stderr",
     "output_type": "stream",
     "text": [
      "INFO:oc_logger:New record achieved. Previous FoM: 2.9981569134540274, new best FoM : 2.9981640901751176\n"
     ]
    },
    {
     "name": "stdout",
     "output_type": "stream",
     "text": [
      "INFO     oc_logger    Function evaluation number: 440, SI: 2, Sub-iteration number: 89, FoM: 2.9981640901751176\n"
     ]
    },
    {
     "name": "stderr",
     "output_type": "stream",
     "text": [
      "INFO:oc_logger:Function evaluation number: 440, SI: 2, Sub-iteration number: 89, FoM: 2.9981640901751176\n",
      "DEBUG:oc_logger:User running: True\n",
      "DEBUG:oc_logger:User running: True\n",
      "DEBUG:oc_logger:User running: True\n"
     ]
    },
    {
     "name": "stdout",
     "output_type": "stream",
     "text": [
      "Coeff of psi:  0.999998445787652\n",
      "Coeff of psi_targ:  0.4999991472763461\n",
      "INFO     oc_logger    New record achieved. Previous FoM: 2.9981640901751176, new best FoM : 2.998186757455367\n"
     ]
    },
    {
     "name": "stderr",
     "output_type": "stream",
     "text": [
      "INFO:oc_logger:New record achieved. Previous FoM: 2.9981640901751176, new best FoM : 2.998186757455367\n"
     ]
    },
    {
     "name": "stdout",
     "output_type": "stream",
     "text": [
      "INFO     oc_logger    Function evaluation number: 441, SI: 2, Sub-iteration number: 89, FoM: 2.998186757455367\n"
     ]
    },
    {
     "name": "stderr",
     "output_type": "stream",
     "text": [
      "INFO:oc_logger:Function evaluation number: 441, SI: 2, Sub-iteration number: 89, FoM: 2.998186757455367\n",
      "DEBUG:oc_logger:User running: True\n",
      "DEBUG:oc_logger:User running: True\n",
      "DEBUG:oc_logger:User running: True\n",
      "DEBUG:oc_logger:User running: True\n"
     ]
    },
    {
     "name": "stdout",
     "output_type": "stream",
     "text": [
      "Coeff of psi:  0.9999945084413719\n",
      "Coeff of psi_targ:  0.499996544071532\n",
      "INFO     oc_logger    Function evaluation number: 442, SI: 2, Sub-iteration number: 90, FoM: 2.99815001466711\n"
     ]
    },
    {
     "name": "stderr",
     "output_type": "stream",
     "text": [
      "INFO:oc_logger:Function evaluation number: 442, SI: 2, Sub-iteration number: 90, FoM: 2.99815001466711\n",
      "DEBUG:oc_logger:User running: True\n",
      "DEBUG:oc_logger:User running: True\n",
      "DEBUG:oc_logger:User running: True\n",
      "DEBUG:oc_logger:User running: True\n"
     ]
    },
    {
     "name": "stdout",
     "output_type": "stream",
     "text": [
      "Coeff of psi:  0.9999934833409608\n",
      "Coeff of psi_targ:  0.4999958038249873\n",
      "INFO     oc_logger    Function evaluation number: 443, SI: 2, Sub-iteration number: 91, FoM: 2.998160781444705\n"
     ]
    },
    {
     "name": "stderr",
     "output_type": "stream",
     "text": [
      "INFO:oc_logger:Function evaluation number: 443, SI: 2, Sub-iteration number: 91, FoM: 2.998160781444705\n",
      "DEBUG:oc_logger:User running: True\n",
      "DEBUG:oc_logger:User running: True\n",
      "DEBUG:oc_logger:User running: True\n",
      "DEBUG:oc_logger:User running: True\n"
     ]
    },
    {
     "name": "stdout",
     "output_type": "stream",
     "text": [
      "Coeff of psi:  0.999998676055137\n",
      "Coeff of psi_targ:  0.49999854724650333\n",
      "INFO     oc_logger    New record achieved. Previous FoM: 2.998186757455367, new best FoM : 2.9981871787773757\n"
     ]
    },
    {
     "name": "stderr",
     "output_type": "stream",
     "text": [
      "INFO:oc_logger:New record achieved. Previous FoM: 2.998186757455367, new best FoM : 2.9981871787773757\n"
     ]
    },
    {
     "name": "stdout",
     "output_type": "stream",
     "text": [
      "INFO     oc_logger    Function evaluation number: 444, SI: 2, Sub-iteration number: 92, FoM: 2.9981871787773757\n"
     ]
    },
    {
     "name": "stderr",
     "output_type": "stream",
     "text": [
      "INFO:oc_logger:Function evaluation number: 444, SI: 2, Sub-iteration number: 92, FoM: 2.9981871787773757\n",
      "DEBUG:oc_logger:User running: True\n",
      "DEBUG:oc_logger:User running: True\n",
      "DEBUG:oc_logger:User running: True\n"
     ]
    },
    {
     "name": "stdout",
     "output_type": "stream",
     "text": [
      "Coeff of psi:  0.9999984860546561\n",
      "Coeff of psi_targ:  0.49999549528797665\n",
      "INFO     oc_logger    New record achieved. Previous FoM: 2.9981871787773757, new best FoM : 2.998212732451147\n"
     ]
    },
    {
     "name": "stderr",
     "output_type": "stream",
     "text": [
      "INFO:oc_logger:New record achieved. Previous FoM: 2.9981871787773757, new best FoM : 2.998212732451147\n"
     ]
    },
    {
     "name": "stdout",
     "output_type": "stream",
     "text": [
      "INFO     oc_logger    Function evaluation number: 445, SI: 2, Sub-iteration number: 92, FoM: 2.998212732451147\n"
     ]
    },
    {
     "name": "stderr",
     "output_type": "stream",
     "text": [
      "INFO:oc_logger:Function evaluation number: 445, SI: 2, Sub-iteration number: 92, FoM: 2.998212732451147\n",
      "DEBUG:oc_logger:User running: True\n",
      "DEBUG:oc_logger:User running: True\n",
      "DEBUG:oc_logger:User running: True\n",
      "DEBUG:oc_logger:User running: True\n"
     ]
    },
    {
     "name": "stdout",
     "output_type": "stream",
     "text": [
      "Coeff of psi:  0.9999881415289532\n",
      "Coeff of psi_targ:  0.49999341815890963\n",
      "INFO     oc_logger    Function evaluation number: 446, SI: 2, Sub-iteration number: 93, FoM: 2.9981772060738896\n"
     ]
    },
    {
     "name": "stderr",
     "output_type": "stream",
     "text": [
      "INFO:oc_logger:Function evaluation number: 446, SI: 2, Sub-iteration number: 93, FoM: 2.9981772060738896\n",
      "DEBUG:oc_logger:User running: True\n",
      "DEBUG:oc_logger:User running: True\n",
      "DEBUG:oc_logger:User running: True\n",
      "DEBUG:oc_logger:User running: True\n"
     ]
    },
    {
     "name": "stdout",
     "output_type": "stream",
     "text": [
      "Coeff of psi:  0.9999956710681004\n",
      "Coeff of psi_targ:  0.49999470949050245\n",
      "INFO     oc_logger    Function evaluation number: 447, SI: 2, Sub-iteration number: 94, FoM: 2.998203580350258\n"
     ]
    },
    {
     "name": "stderr",
     "output_type": "stream",
     "text": [
      "INFO:oc_logger:Function evaluation number: 447, SI: 2, Sub-iteration number: 94, FoM: 2.998203580350258\n",
      "DEBUG:oc_logger:User running: True\n",
      "DEBUG:oc_logger:User running: True\n",
      "DEBUG:oc_logger:User running: True\n",
      "DEBUG:oc_logger:User running: True\n"
     ]
    },
    {
     "name": "stdout",
     "output_type": "stream",
     "text": [
      "Coeff of psi:  0.9999899014378728\n",
      "Coeff of psi_targ:  0.4999945629971075\n",
      "INFO     oc_logger    Function evaluation number: 448, SI: 2, Sub-iteration number: 95, FoM: 2.9981928777654447\n"
     ]
    },
    {
     "name": "stderr",
     "output_type": "stream",
     "text": [
      "INFO:oc_logger:Function evaluation number: 448, SI: 2, Sub-iteration number: 95, FoM: 2.9981928777654447\n",
      "DEBUG:oc_logger:User running: True\n",
      "DEBUG:oc_logger:User running: True\n",
      "DEBUG:oc_logger:User running: True\n",
      "DEBUG:oc_logger:User running: True\n"
     ]
    },
    {
     "name": "stdout",
     "output_type": "stream",
     "text": [
      "Coeff of psi:  0.9999937549102805\n",
      "Coeff of psi_targ:  0.4999952920334371\n",
      "INFO     oc_logger    Function evaluation number: 449, SI: 2, Sub-iteration number: 96, FoM: 2.9982001354360017\n"
     ]
    },
    {
     "name": "stderr",
     "output_type": "stream",
     "text": [
      "INFO:oc_logger:Function evaluation number: 449, SI: 2, Sub-iteration number: 96, FoM: 2.9982001354360017\n",
      "DEBUG:oc_logger:User running: True\n",
      "DEBUG:oc_logger:User running: True\n",
      "DEBUG:oc_logger:User running: True\n",
      "DEBUG:oc_logger:User running: True\n"
     ]
    },
    {
     "name": "stdout",
     "output_type": "stream",
     "text": [
      "Coeff of psi:  0.9999977312283673\n",
      "Coeff of psi_targ:  0.4999936722955025\n",
      "INFO     oc_logger    Function evaluation number: 450, SI: 2, Sub-iteration number: 97, FoM: 2.998202940018033\n"
     ]
    },
    {
     "name": "stderr",
     "output_type": "stream",
     "text": [
      "INFO:oc_logger:Function evaluation number: 450, SI: 2, Sub-iteration number: 97, FoM: 2.998202940018033\n",
      "DEBUG:oc_logger:User running: True\n",
      "DEBUG:oc_logger:User running: True\n",
      "DEBUG:oc_logger:User running: True\n",
      "DEBUG:oc_logger:User running: True\n"
     ]
    },
    {
     "name": "stdout",
     "output_type": "stream",
     "text": [
      "Coeff of psi:  0.9999896777286724\n",
      "Coeff of psi_targ:  0.4999930243042946\n",
      "INFO     oc_logger    Function evaluation number: 451, SI: 2, Sub-iteration number: 98, FoM: 2.998204850188105\n"
     ]
    },
    {
     "name": "stderr",
     "output_type": "stream",
     "text": [
      "INFO:oc_logger:Function evaluation number: 451, SI: 2, Sub-iteration number: 98, FoM: 2.998204850188105\n",
      "DEBUG:oc_logger:User running: True\n",
      "DEBUG:oc_logger:User running: True\n",
      "DEBUG:oc_logger:User running: True\n",
      "DEBUG:oc_logger:User running: True\n"
     ]
    },
    {
     "name": "stdout",
     "output_type": "stream",
     "text": [
      "Coeff of psi:  0.9999904994846207\n",
      "Coeff of psi_targ:  0.4999901970285707\n",
      "INFO     oc_logger    New record achieved. Previous FoM: 2.998212732451147, new best FoM : 2.9982183112712\n"
     ]
    },
    {
     "name": "stderr",
     "output_type": "stream",
     "text": [
      "INFO:oc_logger:New record achieved. Previous FoM: 2.998212732451147, new best FoM : 2.9982183112712\n"
     ]
    },
    {
     "name": "stdout",
     "output_type": "stream",
     "text": [
      "INFO     oc_logger    Function evaluation number: 452, SI: 2, Sub-iteration number: 99, FoM: 2.9982183112712\n"
     ]
    },
    {
     "name": "stderr",
     "output_type": "stream",
     "text": [
      "INFO:oc_logger:Function evaluation number: 452, SI: 2, Sub-iteration number: 99, FoM: 2.9982183112712\n",
      "DEBUG:oc_logger:User running: True\n",
      "DEBUG:oc_logger:User running: True\n",
      "DEBUG:oc_logger:User running: True\n"
     ]
    },
    {
     "name": "stdout",
     "output_type": "stream",
     "text": [
      "Coeff of psi:  0.999982168926755\n",
      "Coeff of psi_targ:  0.4999755893954759\n",
      "INFO     oc_logger    Function evaluation number: 453, SI: 2, Sub-iteration number: 99, FoM: 2.998199674354646\n"
     ]
    },
    {
     "name": "stderr",
     "output_type": "stream",
     "text": [
      "INFO:oc_logger:Function evaluation number: 453, SI: 2, Sub-iteration number: 99, FoM: 2.998199674354646\n",
      "DEBUG:oc_logger:User running: True\n",
      "DEBUG:oc_logger:User running: True\n",
      "DEBUG:oc_logger:User running: True\n",
      "DEBUG:oc_logger:User running: True\n"
     ]
    },
    {
     "name": "stdout",
     "output_type": "stream",
     "text": [
      "Coeff of psi:  0.9999818066072071\n",
      "Coeff of psi_targ:  0.49997820333937343\n",
      "INFO     oc_logger    Function evaluation number: 454, SI: 2, Sub-iteration number: 100, FoM: 2.998183899944205\n"
     ]
    },
    {
     "name": "stderr",
     "output_type": "stream",
     "text": [
      "INFO:oc_logger:Function evaluation number: 454, SI: 2, Sub-iteration number: 100, FoM: 2.998183899944205\n",
      "DEBUG:oc_logger:User running: True\n",
      "DEBUG:oc_logger:User running: True\n",
      "DEBUG:oc_logger:User running: True\n",
      "DEBUG:oc_logger:User running: True\n"
     ]
    },
    {
     "name": "stdout",
     "output_type": "stream",
     "text": [
      "Coeff of psi:  0.9999924825637336\n",
      "Coeff of psi_targ:  0.49999033615218536\n",
      "INFO     oc_logger    New record achieved. Previous FoM: 2.9982183112712, new best FoM : 2.9982260092664568\n"
     ]
    },
    {
     "name": "stderr",
     "output_type": "stream",
     "text": [
      "INFO:oc_logger:New record achieved. Previous FoM: 2.9982183112712, new best FoM : 2.9982260092664568\n"
     ]
    },
    {
     "name": "stdout",
     "output_type": "stream",
     "text": [
      "INFO     oc_logger    Function evaluation number: 455, SI: 2, Sub-iteration number: 101, FoM: 2.9982260092664568\n"
     ]
    },
    {
     "name": "stderr",
     "output_type": "stream",
     "text": [
      "INFO:oc_logger:Function evaluation number: 455, SI: 2, Sub-iteration number: 101, FoM: 2.9982260092664568\n",
      "DEBUG:oc_logger:User running: True\n",
      "DEBUG:oc_logger:User running: True\n",
      "DEBUG:oc_logger:User running: True\n"
     ]
    },
    {
     "name": "stdout",
     "output_type": "stream",
     "text": [
      "Coeff of psi:  0.999990216020267\n",
      "Coeff of psi_targ:  0.4999811469041406\n",
      "INFO     oc_logger    Function evaluation number: 456, SI: 2, Sub-iteration number: 101, FoM: 2.9982052847352394\n"
     ]
    },
    {
     "name": "stderr",
     "output_type": "stream",
     "text": [
      "INFO:oc_logger:Function evaluation number: 456, SI: 2, Sub-iteration number: 101, FoM: 2.9982052847352394\n",
      "DEBUG:oc_logger:User running: True\n",
      "DEBUG:oc_logger:User running: True\n",
      "DEBUG:oc_logger:User running: True\n",
      "DEBUG:oc_logger:User running: True\n"
     ]
    },
    {
     "name": "stdout",
     "output_type": "stream",
     "text": [
      "Coeff of psi:  0.9999976310593147\n",
      "Coeff of psi_targ:  0.499992122328893\n",
      "INFO     oc_logger    New record achieved. Previous FoM: 2.9982260092664568, new best FoM : 2.998234197166788\n"
     ]
    },
    {
     "name": "stderr",
     "output_type": "stream",
     "text": [
      "INFO:oc_logger:New record achieved. Previous FoM: 2.9982260092664568, new best FoM : 2.998234197166788\n"
     ]
    },
    {
     "name": "stdout",
     "output_type": "stream",
     "text": [
      "INFO     oc_logger    Function evaluation number: 457, SI: 2, Sub-iteration number: 102, FoM: 2.998234197166788\n"
     ]
    },
    {
     "name": "stderr",
     "output_type": "stream",
     "text": [
      "INFO:oc_logger:Function evaluation number: 457, SI: 2, Sub-iteration number: 102, FoM: 2.998234197166788\n",
      "DEBUG:oc_logger:User running: True\n",
      "DEBUG:oc_logger:User running: True\n",
      "DEBUG:oc_logger:User running: True\n"
     ]
    },
    {
     "name": "stdout",
     "output_type": "stream",
     "text": [
      "Coeff of psi:  0.9999995776626001\n",
      "Coeff of psi_targ:  0.4999868140656387\n",
      "INFO     oc_logger    New record achieved. Previous FoM: 2.998234197166788, new best FoM : 2.9982411595459277\n"
     ]
    },
    {
     "name": "stderr",
     "output_type": "stream",
     "text": [
      "INFO:oc_logger:New record achieved. Previous FoM: 2.998234197166788, new best FoM : 2.9982411595459277\n"
     ]
    },
    {
     "name": "stdout",
     "output_type": "stream",
     "text": [
      "INFO     oc_logger    Function evaluation number: 458, SI: 2, Sub-iteration number: 102, FoM: 2.9982411595459277\n"
     ]
    },
    {
     "name": "stderr",
     "output_type": "stream",
     "text": [
      "INFO:oc_logger:Function evaluation number: 458, SI: 2, Sub-iteration number: 102, FoM: 2.9982411595459277\n",
      "DEBUG:oc_logger:User running: True\n",
      "DEBUG:oc_logger:User running: True\n",
      "DEBUG:oc_logger:User running: True\n",
      "DEBUG:oc_logger:User running: True\n"
     ]
    },
    {
     "name": "stdout",
     "output_type": "stream",
     "text": [
      "Coeff of psi:  0.9999999787766186\n",
      "Coeff of psi_targ:  0.4999999180698875\n",
      "INFO     oc_logger    Function evaluation number: 459, SI: 2, Sub-iteration number: 103, FoM: 2.9981953957131005\n"
     ]
    },
    {
     "name": "stderr",
     "output_type": "stream",
     "text": [
      "INFO:oc_logger:Function evaluation number: 459, SI: 2, Sub-iteration number: 103, FoM: 2.9981953957131005\n",
      "DEBUG:oc_logger:User running: True\n",
      "DEBUG:oc_logger:User running: True\n",
      "DEBUG:oc_logger:User running: True\n",
      "DEBUG:oc_logger:User running: True\n"
     ]
    },
    {
     "name": "stdout",
     "output_type": "stream",
     "text": [
      "Coeff of psi:  0.9999915032633928\n",
      "Coeff of psi_targ:  0.4999802712575036\n",
      "INFO     oc_logger    Function evaluation number: 460, SI: 2, Sub-iteration number: 104, FoM: 2.998214194762078\n"
     ]
    },
    {
     "name": "stderr",
     "output_type": "stream",
     "text": [
      "INFO:oc_logger:Function evaluation number: 460, SI: 2, Sub-iteration number: 104, FoM: 2.998214194762078\n",
      "DEBUG:oc_logger:User running: True\n",
      "DEBUG:oc_logger:User running: True\n",
      "DEBUG:oc_logger:User running: True\n",
      "DEBUG:oc_logger:User running: True\n"
     ]
    },
    {
     "name": "stdout",
     "output_type": "stream",
     "text": [
      "Coeff of psi:  0.9999993815997735\n",
      "Coeff of psi_targ:  0.49998750098837097\n",
      "INFO     oc_logger    Function evaluation number: 461, SI: 2, Sub-iteration number: 105, FoM: 2.998229033713476\n"
     ]
    },
    {
     "name": "stderr",
     "output_type": "stream",
     "text": [
      "INFO:oc_logger:Function evaluation number: 461, SI: 2, Sub-iteration number: 105, FoM: 2.998229033713476\n",
      "DEBUG:oc_logger:User running: True\n",
      "DEBUG:oc_logger:User running: True\n",
      "DEBUG:oc_logger:User running: True\n",
      "DEBUG:oc_logger:User running: True\n"
     ]
    },
    {
     "name": "stdout",
     "output_type": "stream",
     "text": [
      "Coeff of psi:  0.9999820012074392\n",
      "Coeff of psi_targ:  0.4999636177572892\n",
      "INFO     oc_logger    Function evaluation number: 462, SI: 2, Sub-iteration number: 106, FoM: 2.9981635098674566\n"
     ]
    },
    {
     "name": "stderr",
     "output_type": "stream",
     "text": [
      "INFO:oc_logger:Function evaluation number: 462, SI: 2, Sub-iteration number: 106, FoM: 2.9981635098674566\n",
      "DEBUG:oc_logger:User running: True\n",
      "DEBUG:oc_logger:User running: True\n",
      "DEBUG:oc_logger:User running: True\n"
     ]
    },
    {
     "name": "stdout",
     "output_type": "stream",
     "text": [
      "Coeff of psi:  0.9999988858187884\n",
      "Coeff of psi_targ:  0.4999979935748296\n",
      "INFO     oc_logger    Function evaluation number: 463, SI: 2, Sub-iteration number: 106, FoM: 2.9982176608059827\n"
     ]
    },
    {
     "name": "stderr",
     "output_type": "stream",
     "text": [
      "INFO:oc_logger:Function evaluation number: 463, SI: 2, Sub-iteration number: 106, FoM: 2.9982176608059827\n",
      "DEBUG:oc_logger:User running: True\n",
      "DEBUG:oc_logger:User running: True\n",
      "DEBUG:oc_logger:User running: True\n",
      "DEBUG:oc_logger:User running: True\n"
     ]
    },
    {
     "name": "stdout",
     "output_type": "stream",
     "text": [
      "Coeff of psi:  0.9999982022499501\n",
      "Coeff of psi_targ:  0.4999864134216607\n",
      "INFO     oc_logger    Function evaluation number: 464, SI: 2, Sub-iteration number: 107, FoM: 2.998239716642164\n"
     ]
    },
    {
     "name": "stderr",
     "output_type": "stream",
     "text": [
      "INFO:oc_logger:Function evaluation number: 464, SI: 2, Sub-iteration number: 107, FoM: 2.998239716642164\n",
      "DEBUG:oc_logger:User running: True\n",
      "DEBUG:oc_logger:User running: True\n",
      "DEBUG:oc_logger:User running: True\n",
      "DEBUG:oc_logger:User running: True\n"
     ]
    },
    {
     "name": "stdout",
     "output_type": "stream",
     "text": [
      "Coeff of psi:  0.9999942111444555\n",
      "Coeff of psi_targ:  0.499988094289354\n",
      "INFO     oc_logger    Function evaluation number: 465, SI: 2, Sub-iteration number: 108, FoM: 2.9982216138287456\n"
     ]
    },
    {
     "name": "stderr",
     "output_type": "stream",
     "text": [
      "INFO:oc_logger:Function evaluation number: 465, SI: 2, Sub-iteration number: 108, FoM: 2.9982216138287456\n",
      "DEBUG:oc_logger:User running: True\n",
      "DEBUG:oc_logger:User running: True\n",
      "DEBUG:oc_logger:User running: True\n",
      "DEBUG:oc_logger:User running: True\n"
     ]
    },
    {
     "name": "stdout",
     "output_type": "stream",
     "text": [
      "Coeff of psi:  0.9999964847572383\n",
      "Coeff of psi_targ:  0.49998441534808086\n",
      "INFO     oc_logger    Function evaluation number: 466, SI: 2, Sub-iteration number: 109, FoM: 2.99824011734329\n"
     ]
    },
    {
     "name": "stderr",
     "output_type": "stream",
     "text": [
      "INFO:oc_logger:Function evaluation number: 466, SI: 2, Sub-iteration number: 109, FoM: 2.99824011734329\n",
      "DEBUG:oc_logger:User running: True\n",
      "DEBUG:oc_logger:User running: True\n",
      "DEBUG:oc_logger:User running: True\n",
      "DEBUG:oc_logger:User running: True\n"
     ]
    },
    {
     "name": "stdout",
     "output_type": "stream",
     "text": [
      "Coeff of psi:  0.9999998544994924\n",
      "Coeff of psi_targ:  0.4999802780657254\n",
      "INFO     oc_logger    Function evaluation number: 467, SI: 2, Sub-iteration number: 110, FoM: 2.998236296887651\n"
     ]
    },
    {
     "name": "stderr",
     "output_type": "stream",
     "text": [
      "INFO:oc_logger:Function evaluation number: 467, SI: 2, Sub-iteration number: 110, FoM: 2.998236296887651\n",
      "DEBUG:oc_logger:User running: True\n",
      "DEBUG:oc_logger:User running: True\n",
      "DEBUG:oc_logger:User running: True\n",
      "DEBUG:oc_logger:User running: True\n"
     ]
    },
    {
     "name": "stdout",
     "output_type": "stream",
     "text": [
      "Coeff of psi:  0.9999942167398272\n",
      "Coeff of psi_targ:  0.49997440445228597\n",
      "INFO     oc_logger    Function evaluation number: 468, SI: 2, Sub-iteration number: 111, FoM: 2.99821639072933\n"
     ]
    },
    {
     "name": "stderr",
     "output_type": "stream",
     "text": [
      "INFO:oc_logger:Function evaluation number: 468, SI: 2, Sub-iteration number: 111, FoM: 2.99821639072933\n",
      "DEBUG:oc_logger:User running: True\n",
      "DEBUG:oc_logger:User running: True\n",
      "DEBUG:oc_logger:User running: True\n",
      "DEBUG:oc_logger:User running: True\n"
     ]
    },
    {
     "name": "stdout",
     "output_type": "stream",
     "text": [
      "Coeff of psi:  0.9999998611560673\n",
      "Coeff of psi_targ:  0.4999939942959515\n",
      "INFO     oc_logger    New record achieved. Previous FoM: 2.9982411595459277, new best FoM : 2.998246777254709\n"
     ]
    },
    {
     "name": "stderr",
     "output_type": "stream",
     "text": [
      "INFO:oc_logger:New record achieved. Previous FoM: 2.9982411595459277, new best FoM : 2.998246777254709\n"
     ]
    },
    {
     "name": "stdout",
     "output_type": "stream",
     "text": [
      "INFO     oc_logger    Function evaluation number: 469, SI: 2, Sub-iteration number: 112, FoM: 2.998246777254709\n"
     ]
    },
    {
     "name": "stderr",
     "output_type": "stream",
     "text": [
      "INFO:oc_logger:Function evaluation number: 469, SI: 2, Sub-iteration number: 112, FoM: 2.998246777254709\n",
      "DEBUG:oc_logger:User running: True\n",
      "DEBUG:oc_logger:User running: True\n",
      "DEBUG:oc_logger:User running: True\n"
     ]
    },
    {
     "name": "stdout",
     "output_type": "stream",
     "text": [
      "Coeff of psi:  0.9999992025044389\n",
      "Coeff of psi_targ:  0.499996724867359\n",
      "INFO     oc_logger    Function evaluation number: 470, SI: 2, Sub-iteration number: 112, FoM: 2.9982388553138843\n"
     ]
    },
    {
     "name": "stderr",
     "output_type": "stream",
     "text": [
      "INFO:oc_logger:Function evaluation number: 470, SI: 2, Sub-iteration number: 112, FoM: 2.9982388553138843\n",
      "DEBUG:oc_logger:User running: True\n",
      "DEBUG:oc_logger:User running: True\n",
      "DEBUG:oc_logger:User running: True\n",
      "DEBUG:oc_logger:User running: True\n"
     ]
    },
    {
     "name": "stdout",
     "output_type": "stream",
     "text": [
      "Coeff of psi:  0.9999994721927946\n",
      "Coeff of psi_targ:  0.49999699920765694\n",
      "INFO     oc_logger    Function evaluation number: 471, SI: 2, Sub-iteration number: 113, FoM: 2.998216828543315\n"
     ]
    },
    {
     "name": "stderr",
     "output_type": "stream",
     "text": [
      "INFO:oc_logger:Function evaluation number: 471, SI: 2, Sub-iteration number: 113, FoM: 2.998216828543315\n",
      "DEBUG:oc_logger:User running: True\n",
      "DEBUG:oc_logger:User running: True\n",
      "DEBUG:oc_logger:User running: True\n"
     ]
    },
    {
     "name": "stdout",
     "output_type": "stream",
     "text": [
      "Coeff of psi:  0.9999988807980765\n",
      "Coeff of psi_targ:  0.49999436812367204\n",
      "INFO     oc_logger    Function evaluation number: 472, SI: 2, Sub-iteration number: 113, FoM: 2.998232704382299\n"
     ]
    },
    {
     "name": "stderr",
     "output_type": "stream",
     "text": [
      "INFO:oc_logger:Function evaluation number: 472, SI: 2, Sub-iteration number: 113, FoM: 2.998232704382299\n",
      "DEBUG:oc_logger:User running: True\n",
      "DEBUG:oc_logger:User running: True\n",
      "DEBUG:oc_logger:User running: True\n",
      "DEBUG:oc_logger:User running: True\n"
     ]
    },
    {
     "name": "stdout",
     "output_type": "stream",
     "text": [
      "Coeff of psi:  0.9999955126367607\n",
      "Coeff of psi_targ:  0.4999671480467849\n",
      "INFO     oc_logger    Function evaluation number: 473, SI: 2, Sub-iteration number: 114, FoM: 2.998201144124197\n"
     ]
    },
    {
     "name": "stderr",
     "output_type": "stream",
     "text": [
      "INFO:oc_logger:Function evaluation number: 473, SI: 2, Sub-iteration number: 114, FoM: 2.998201144124197\n",
      "DEBUG:oc_logger:User running: True\n",
      "DEBUG:oc_logger:User running: True\n",
      "DEBUG:oc_logger:User running: True\n"
     ]
    },
    {
     "name": "stdout",
     "output_type": "stream",
     "text": [
      "Coeff of psi:  0.9999985015221775\n",
      "Coeff of psi_targ:  0.49999492537617457\n",
      "INFO     oc_logger    Function evaluation number: 474, SI: 2, Sub-iteration number: 114, FoM: 2.9982342592326243\n"
     ]
    },
    {
     "name": "stderr",
     "output_type": "stream",
     "text": [
      "INFO:oc_logger:Function evaluation number: 474, SI: 2, Sub-iteration number: 114, FoM: 2.9982342592326243\n",
      "DEBUG:oc_logger:User running: True\n",
      "DEBUG:oc_logger:User running: True\n",
      "DEBUG:oc_logger:User running: True\n",
      "DEBUG:oc_logger:User running: True\n"
     ]
    },
    {
     "name": "stdout",
     "output_type": "stream",
     "text": [
      "Coeff of psi:  0.9999997273615829\n",
      "Coeff of psi_targ:  0.4999843852454155\n",
      "INFO     oc_logger    Function evaluation number: 475, SI: 2, Sub-iteration number: 115, FoM: 2.998235610574387\n"
     ]
    },
    {
     "name": "stderr",
     "output_type": "stream",
     "text": [
      "INFO:oc_logger:Function evaluation number: 475, SI: 2, Sub-iteration number: 115, FoM: 2.998235610574387\n",
      "DEBUG:oc_logger:User running: True\n",
      "DEBUG:oc_logger:User running: True\n",
      "DEBUG:oc_logger:User running: True\n",
      "DEBUG:oc_logger:User running: True\n"
     ]
    },
    {
     "name": "stdout",
     "output_type": "stream",
     "text": [
      "Coeff of psi:  0.9999998381995713\n",
      "Coeff of psi_targ:  0.49998811669413573\n",
      "INFO     oc_logger    Function evaluation number: 476, SI: 2, Sub-iteration number: 116, FoM: 2.998236019060945\n"
     ]
    },
    {
     "name": "stderr",
     "output_type": "stream",
     "text": [
      "INFO:oc_logger:Function evaluation number: 476, SI: 2, Sub-iteration number: 116, FoM: 2.998236019060945\n",
      "DEBUG:oc_logger:User running: True\n",
      "DEBUG:oc_logger:User running: True\n",
      "DEBUG:oc_logger:User running: True\n",
      "DEBUG:oc_logger:User running: True\n"
     ]
    },
    {
     "name": "stdout",
     "output_type": "stream",
     "text": [
      "Coeff of psi:  0.9999980317470225\n",
      "Coeff of psi_targ:  0.49998192235425765\n",
      "INFO     oc_logger    Function evaluation number: 477, SI: 2, Sub-iteration number: 117, FoM: 2.998225008413618\n"
     ]
    },
    {
     "name": "stderr",
     "output_type": "stream",
     "text": [
      "INFO:oc_logger:Function evaluation number: 477, SI: 2, Sub-iteration number: 117, FoM: 2.998225008413618\n",
      "DEBUG:oc_logger:User running: True\n",
      "DEBUG:oc_logger:User running: True\n",
      "DEBUG:oc_logger:User running: True\n"
     ]
    },
    {
     "name": "stdout",
     "output_type": "stream",
     "text": [
      "Coeff of psi:  0.999997107321043\n",
      "Coeff of psi_targ:  0.49999045784085394\n",
      "INFO     oc_logger    Function evaluation number: 478, SI: 2, Sub-iteration number: 117, FoM: 2.998238580771044\n"
     ]
    },
    {
     "name": "stderr",
     "output_type": "stream",
     "text": [
      "INFO:oc_logger:Function evaluation number: 478, SI: 2, Sub-iteration number: 117, FoM: 2.998238580771044\n",
      "DEBUG:oc_logger:User running: True\n",
      "DEBUG:oc_logger:User running: True\n",
      "DEBUG:oc_logger:User running: True\n",
      "DEBUG:oc_logger:User running: True\n"
     ]
    },
    {
     "name": "stdout",
     "output_type": "stream",
     "text": [
      "Coeff of psi:  0.9999994613880302\n",
      "Coeff of psi_targ:  0.49999112234708126\n",
      "INFO     oc_logger    New record achieved. Previous FoM: 2.998246777254709, new best FoM : 2.998256436797347\n"
     ]
    },
    {
     "name": "stderr",
     "output_type": "stream",
     "text": [
      "INFO:oc_logger:New record achieved. Previous FoM: 2.998246777254709, new best FoM : 2.998256436797347\n"
     ]
    },
    {
     "name": "stdout",
     "output_type": "stream",
     "text": [
      "INFO     oc_logger    Function evaluation number: 479, SI: 2, Sub-iteration number: 118, FoM: 2.998256436797347\n"
     ]
    },
    {
     "name": "stderr",
     "output_type": "stream",
     "text": [
      "INFO:oc_logger:Function evaluation number: 479, SI: 2, Sub-iteration number: 118, FoM: 2.998256436797347\n",
      "DEBUG:oc_logger:User running: True\n",
      "DEBUG:oc_logger:User running: True\n",
      "DEBUG:oc_logger:User running: True\n"
     ]
    },
    {
     "name": "stdout",
     "output_type": "stream",
     "text": [
      "Coeff of psi:  0.9999994763169981\n",
      "Coeff of psi_targ:  0.49999254248598823\n",
      "INFO     oc_logger    New record achieved. Previous FoM: 2.998256436797347, new best FoM : 2.9982669228969665\n"
     ]
    },
    {
     "name": "stderr",
     "output_type": "stream",
     "text": [
      "INFO:oc_logger:New record achieved. Previous FoM: 2.998256436797347, new best FoM : 2.9982669228969665\n"
     ]
    },
    {
     "name": "stdout",
     "output_type": "stream",
     "text": [
      "INFO     oc_logger    Function evaluation number: 480, SI: 2, Sub-iteration number: 118, FoM: 2.9982669228969665\n"
     ]
    },
    {
     "name": "stderr",
     "output_type": "stream",
     "text": [
      "INFO:oc_logger:Function evaluation number: 480, SI: 2, Sub-iteration number: 118, FoM: 2.9982669228969665\n",
      "DEBUG:oc_logger:User running: True\n",
      "DEBUG:oc_logger:User running: True\n",
      "DEBUG:oc_logger:User running: True\n",
      "DEBUG:oc_logger:User running: True\n"
     ]
    },
    {
     "name": "stdout",
     "output_type": "stream",
     "text": [
      "Coeff of psi:  0.9999997819787109\n",
      "Coeff of psi_targ:  0.49998049804994665\n",
      "INFO     oc_logger    Function evaluation number: 481, SI: 2, Sub-iteration number: 119, FoM: 2.998245855458492\n"
     ]
    },
    {
     "name": "stderr",
     "output_type": "stream",
     "text": [
      "INFO:oc_logger:Function evaluation number: 481, SI: 2, Sub-iteration number: 119, FoM: 2.998245855458492\n",
      "DEBUG:oc_logger:User running: True\n",
      "DEBUG:oc_logger:User running: True\n",
      "DEBUG:oc_logger:User running: True\n",
      "DEBUG:oc_logger:User running: True\n"
     ]
    },
    {
     "name": "stdout",
     "output_type": "stream",
     "text": [
      "Coeff of psi:  0.9999999685631138\n",
      "Coeff of psi_targ:  0.4999739700559519\n",
      "INFO     oc_logger    Function evaluation number: 482, SI: 2, Sub-iteration number: 120, FoM: 2.9982352759283866\n"
     ]
    },
    {
     "name": "stderr",
     "output_type": "stream",
     "text": [
      "INFO:oc_logger:Function evaluation number: 482, SI: 2, Sub-iteration number: 120, FoM: 2.9982352759283866\n",
      "DEBUG:oc_logger:User running: True\n",
      "DEBUG:oc_logger:User running: True\n",
      "DEBUG:oc_logger:User running: True\n"
     ]
    },
    {
     "name": "stdout",
     "output_type": "stream",
     "text": [
      "Coeff of psi:  0.9999998399402295\n",
      "Coeff of psi_targ:  0.4999817126544743\n",
      "INFO     oc_logger    Function evaluation number: 483, SI: 2, Sub-iteration number: 120, FoM: 2.998245228328051\n"
     ]
    },
    {
     "name": "stderr",
     "output_type": "stream",
     "text": [
      "INFO:oc_logger:Function evaluation number: 483, SI: 2, Sub-iteration number: 120, FoM: 2.998245228328051\n",
      "DEBUG:oc_logger:User running: True\n",
      "DEBUG:oc_logger:User running: True\n",
      "DEBUG:oc_logger:User running: True\n",
      "DEBUG:oc_logger:User running: True\n"
     ]
    },
    {
     "name": "stdout",
     "output_type": "stream",
     "text": [
      "Coeff of psi:  0.9999959866811617\n",
      "Coeff of psi_targ:  0.4999883826786373\n",
      "INFO     oc_logger    Function evaluation number: 484, SI: 2, Sub-iteration number: 121, FoM: 2.9982490508805535\n"
     ]
    },
    {
     "name": "stderr",
     "output_type": "stream",
     "text": [
      "INFO:oc_logger:Function evaluation number: 484, SI: 2, Sub-iteration number: 121, FoM: 2.9982490508805535\n",
      "DEBUG:oc_logger:User running: True\n",
      "DEBUG:oc_logger:User running: True\n",
      "DEBUG:oc_logger:User running: True\n",
      "DEBUG:oc_logger:User running: True\n"
     ]
    },
    {
     "name": "stdout",
     "output_type": "stream",
     "text": [
      "Coeff of psi:  0.9999938689673853\n",
      "Coeff of psi_targ:  0.4999828009624065\n",
      "INFO     oc_logger    Function evaluation number: 485, SI: 2, Sub-iteration number: 122, FoM: 2.9982253844039244\n"
     ]
    },
    {
     "name": "stderr",
     "output_type": "stream",
     "text": [
      "INFO:oc_logger:Function evaluation number: 485, SI: 2, Sub-iteration number: 122, FoM: 2.9982253844039244\n",
      "DEBUG:oc_logger:User running: True\n",
      "DEBUG:oc_logger:User running: True\n",
      "DEBUG:oc_logger:User running: True\n"
     ]
    },
    {
     "name": "stdout",
     "output_type": "stream",
     "text": [
      "Coeff of psi:  0.999999922638945\n",
      "Coeff of psi_targ:  0.499988145720985\n",
      "INFO     oc_logger    Function evaluation number: 486, SI: 2, Sub-iteration number: 122, FoM: 2.998246567703144\n"
     ]
    },
    {
     "name": "stderr",
     "output_type": "stream",
     "text": [
      "INFO:oc_logger:Function evaluation number: 486, SI: 2, Sub-iteration number: 122, FoM: 2.998246567703144\n",
      "DEBUG:oc_logger:User running: True\n",
      "DEBUG:oc_logger:User running: True\n",
      "DEBUG:oc_logger:User running: True\n",
      "DEBUG:oc_logger:User running: True\n"
     ]
    },
    {
     "name": "stdout",
     "output_type": "stream",
     "text": [
      "Coeff of psi:  0.9999975470768755\n",
      "Coeff of psi_targ:  0.49999325302452624\n",
      "INFO     oc_logger    Function evaluation number: 487, SI: 2, Sub-iteration number: 123, FoM: 2.9982536180692616\n"
     ]
    },
    {
     "name": "stderr",
     "output_type": "stream",
     "text": [
      "INFO:oc_logger:Function evaluation number: 487, SI: 2, Sub-iteration number: 123, FoM: 2.9982536180692616\n",
      "DEBUG:oc_logger:User running: True\n",
      "DEBUG:oc_logger:User running: True\n",
      "DEBUG:oc_logger:User running: True\n",
      "DEBUG:oc_logger:User running: True\n"
     ]
    },
    {
     "name": "stdout",
     "output_type": "stream",
     "text": [
      "Coeff of psi:  0.9999999448474609\n",
      "Coeff of psi_targ:  0.4999850264498745\n",
      "INFO     oc_logger    Function evaluation number: 488, SI: 2, Sub-iteration number: 124, FoM: 2.998258836720361\n"
     ]
    },
    {
     "name": "stderr",
     "output_type": "stream",
     "text": [
      "INFO:oc_logger:Function evaluation number: 488, SI: 2, Sub-iteration number: 124, FoM: 2.998258836720361\n",
      "DEBUG:oc_logger:User running: True\n",
      "DEBUG:oc_logger:User running: True\n",
      "DEBUG:oc_logger:User running: True\n",
      "DEBUG:oc_logger:User running: True\n"
     ]
    },
    {
     "name": "stdout",
     "output_type": "stream",
     "text": [
      "Coeff of psi:  0.999999849078738\n",
      "Coeff of psi_targ:  0.49998948462252446\n",
      "INFO     oc_logger    Function evaluation number: 489, SI: 2, Sub-iteration number: 125, FoM: 2.9982555254622336\n"
     ]
    },
    {
     "name": "stderr",
     "output_type": "stream",
     "text": [
      "INFO:oc_logger:Function evaluation number: 489, SI: 2, Sub-iteration number: 125, FoM: 2.9982555254622336\n",
      "DEBUG:oc_logger:User running: True\n",
      "DEBUG:oc_logger:User running: True\n",
      "DEBUG:oc_logger:User running: True\n",
      "DEBUG:oc_logger:User running: True\n"
     ]
    },
    {
     "name": "stdout",
     "output_type": "stream",
     "text": [
      "Coeff of psi:  0.9999997871542954\n",
      "Coeff of psi_targ:  0.49999113588238286\n",
      "INFO     oc_logger    Function evaluation number: 490, SI: 2, Sub-iteration number: 126, FoM: 2.998258707517147\n"
     ]
    },
    {
     "name": "stderr",
     "output_type": "stream",
     "text": [
      "INFO:oc_logger:Function evaluation number: 490, SI: 2, Sub-iteration number: 126, FoM: 2.998258707517147\n",
      "DEBUG:oc_logger:User running: True\n",
      "DEBUG:oc_logger:User running: True\n",
      "DEBUG:oc_logger:User running: True\n",
      "DEBUG:oc_logger:User running: True\n"
     ]
    },
    {
     "name": "stdout",
     "output_type": "stream",
     "text": [
      "Coeff of psi:  0.9999997099369119\n",
      "Coeff of psi_targ:  0.4999912636613581\n",
      "INFO     oc_logger    New record achieved. Previous FoM: 2.9982669228969665, new best FoM : 2.998270940215485\n"
     ]
    },
    {
     "name": "stderr",
     "output_type": "stream",
     "text": [
      "INFO:oc_logger:New record achieved. Previous FoM: 2.9982669228969665, new best FoM : 2.998270940215485\n"
     ]
    },
    {
     "name": "stdout",
     "output_type": "stream",
     "text": [
      "INFO     oc_logger    Function evaluation number: 491, SI: 2, Sub-iteration number: 127, FoM: 2.998270940215485\n"
     ]
    },
    {
     "name": "stderr",
     "output_type": "stream",
     "text": [
      "INFO:oc_logger:Function evaluation number: 491, SI: 2, Sub-iteration number: 127, FoM: 2.998270940215485\n",
      "DEBUG:oc_logger:User running: True\n",
      "DEBUG:oc_logger:User running: True\n",
      "DEBUG:oc_logger:User running: True\n"
     ]
    },
    {
     "name": "stdout",
     "output_type": "stream",
     "text": [
      "Coeff of psi:  0.9999997544587957\n",
      "Coeff of psi_targ:  0.49999302085293457\n",
      "INFO     oc_logger    New record achieved. Previous FoM: 2.998270940215485, new best FoM : 2.9982833139919\n"
     ]
    },
    {
     "name": "stderr",
     "output_type": "stream",
     "text": [
      "INFO:oc_logger:New record achieved. Previous FoM: 2.998270940215485, new best FoM : 2.9982833139919\n"
     ]
    },
    {
     "name": "stdout",
     "output_type": "stream",
     "text": [
      "INFO     oc_logger    Function evaluation number: 492, SI: 2, Sub-iteration number: 127, FoM: 2.9982833139919\n"
     ]
    },
    {
     "name": "stderr",
     "output_type": "stream",
     "text": [
      "INFO:oc_logger:Function evaluation number: 492, SI: 2, Sub-iteration number: 127, FoM: 2.9982833139919\n",
      "DEBUG:oc_logger:User running: True\n",
      "DEBUG:oc_logger:User running: True\n",
      "DEBUG:oc_logger:User running: True\n",
      "DEBUG:oc_logger:User running: True\n"
     ]
    },
    {
     "name": "stdout",
     "output_type": "stream",
     "text": [
      "Coeff of psi:  0.9999993507266721\n",
      "Coeff of psi_targ:  0.4999959050090894\n",
      "INFO     oc_logger    Function evaluation number: 493, SI: 2, Sub-iteration number: 128, FoM: 2.998266718856465\n"
     ]
    },
    {
     "name": "stderr",
     "output_type": "stream",
     "text": [
      "INFO:oc_logger:Function evaluation number: 493, SI: 2, Sub-iteration number: 128, FoM: 2.998266718856465\n",
      "DEBUG:oc_logger:User running: True\n",
      "DEBUG:oc_logger:User running: True\n",
      "DEBUG:oc_logger:User running: True\n",
      "DEBUG:oc_logger:User running: True\n"
     ]
    },
    {
     "name": "stdout",
     "output_type": "stream",
     "text": [
      "Coeff of psi:  0.9999993061658448\n",
      "Coeff of psi_targ:  0.4999977732324179\n",
      "INFO     oc_logger    Function evaluation number: 494, SI: 2, Sub-iteration number: 129, FoM: 2.998261740768746\n"
     ]
    },
    {
     "name": "stderr",
     "output_type": "stream",
     "text": [
      "INFO:oc_logger:Function evaluation number: 494, SI: 2, Sub-iteration number: 129, FoM: 2.998261740768746\n",
      "DEBUG:oc_logger:User running: True\n"
     ]
    },
    {
     "name": "stdout",
     "output_type": "stream",
     "text": [
      "INFO     oc_logger    SI 2 finished - Number of evaluations: 200, Best FoM: 2.9982833139919, Terminate reason: Change-based stopping criterion reached.\n",
      "\n"
     ]
    },
    {
     "name": "stderr",
     "output_type": "stream",
     "text": [
      "INFO:oc_logger:SI 2 finished - Number of evaluations: 200, Best FoM: 2.9982833139919, Terminate reason: Change-based stopping criterion reached.\n",
      "\n",
      "DEBUG:oc_logger:User running: True\n"
     ]
    },
    {
     "name": "stdout",
     "output_type": "stream",
     "text": [
      "INFO     oc_logger    Direct search start time has been reset.\n"
     ]
    },
    {
     "name": "stderr",
     "output_type": "stream",
     "text": [
      "INFO:oc_logger:Direct search start time has been reset.\n",
      "DEBUG:oc_logger:User running: True\n",
      "DEBUG:oc_logger:User running: True\n",
      "DEBUG:oc_logger:User running: True\n"
     ]
    },
    {
     "name": "stdout",
     "output_type": "stream",
     "text": [
      "Coeff of psi:  0.9999997544587957\n",
      "Coeff of psi_targ:  0.49999302085293457\n",
      "INFO     oc_logger    Function evaluation number: 495, SI: 3, Sub-iteration number: 0, FoM: 2.9982833139919\n"
     ]
    },
    {
     "name": "stderr",
     "output_type": "stream",
     "text": [
      "INFO:oc_logger:Function evaluation number: 495, SI: 3, Sub-iteration number: 0, FoM: 2.9982833139919\n",
      "DEBUG:oc_logger:User running: True\n",
      "DEBUG:oc_logger:User running: True\n",
      "DEBUG:oc_logger:User running: True\n"
     ]
    },
    {
     "name": "stdout",
     "output_type": "stream",
     "text": [
      "Coeff of psi:  0.9998299767024817\n",
      "Coeff of psi_targ:  0.4988204931314418\n",
      "INFO     oc_logger    Function evaluation number: 496, SI: 3, Sub-iteration number: 0, FoM: 2.9942091781412916\n"
     ]
    },
    {
     "name": "stderr",
     "output_type": "stream",
     "text": [
      "INFO:oc_logger:Function evaluation number: 496, SI: 3, Sub-iteration number: 0, FoM: 2.9942091781412916\n",
      "DEBUG:oc_logger:User running: True\n",
      "DEBUG:oc_logger:User running: True\n",
      "DEBUG:oc_logger:User running: True\n"
     ]
    },
    {
     "name": "stdout",
     "output_type": "stream",
     "text": [
      "Coeff of psi:  0.9990647582368926\n",
      "Coeff of psi_targ:  0.4994460536531811\n",
      "INFO     oc_logger    Function evaluation number: 497, SI: 3, Sub-iteration number: 0, FoM: 2.9952310217353104\n"
     ]
    },
    {
     "name": "stderr",
     "output_type": "stream",
     "text": [
      "INFO:oc_logger:Function evaluation number: 497, SI: 3, Sub-iteration number: 0, FoM: 2.9952310217353104\n",
      "DEBUG:oc_logger:User running: True\n",
      "DEBUG:oc_logger:User running: True\n",
      "DEBUG:oc_logger:User running: True\n"
     ]
    },
    {
     "name": "stdout",
     "output_type": "stream",
     "text": [
      "Coeff of psi:  0.9999612406936169\n",
      "Coeff of psi_targ:  0.49946249773447304\n",
      "INFO     oc_logger    Function evaluation number: 498, SI: 3, Sub-iteration number: 0, FoM: 2.9964749224453353\n"
     ]
    },
    {
     "name": "stderr",
     "output_type": "stream",
     "text": [
      "INFO:oc_logger:Function evaluation number: 498, SI: 3, Sub-iteration number: 0, FoM: 2.9964749224453353\n",
      "DEBUG:oc_logger:User running: True\n",
      "DEBUG:oc_logger:User running: True\n",
      "DEBUG:oc_logger:User running: True\n"
     ]
    },
    {
     "name": "stdout",
     "output_type": "stream",
     "text": [
      "Coeff of psi:  0.9986173880707294\n",
      "Coeff of psi_targ:  0.49925951915133915\n",
      "INFO     oc_logger    Function evaluation number: 499, SI: 3, Sub-iteration number: 0, FoM: 2.9937723614882787\n"
     ]
    },
    {
     "name": "stderr",
     "output_type": "stream",
     "text": [
      "INFO:oc_logger:Function evaluation number: 499, SI: 3, Sub-iteration number: 0, FoM: 2.9937723614882787\n",
      "DEBUG:oc_logger:User running: True\n",
      "DEBUG:oc_logger:User running: True\n",
      "DEBUG:oc_logger:User running: True\n"
     ]
    },
    {
     "name": "stdout",
     "output_type": "stream",
     "text": [
      "Coeff of psi:  0.998386512948399\n",
      "Coeff of psi_targ:  0.4988558566039957\n",
      "INFO     oc_logger    Function evaluation number: 500, SI: 3, Sub-iteration number: 0, FoM: 2.992517877318092\n"
     ]
    },
    {
     "name": "stderr",
     "output_type": "stream",
     "text": [
      "INFO:oc_logger:Function evaluation number: 500, SI: 3, Sub-iteration number: 0, FoM: 2.992517877318092\n",
      "DEBUG:oc_logger:User running: True\n",
      "DEBUG:oc_logger:User running: True\n",
      "DEBUG:oc_logger:User running: True\n"
     ]
    },
    {
     "name": "stdout",
     "output_type": "stream",
     "text": [
      "Coeff of psi:  0.9991028187018908\n",
      "Coeff of psi_targ:  0.4982726583179703\n",
      "INFO     oc_logger    Function evaluation number: 501, SI: 3, Sub-iteration number: 0, FoM: 2.9910761521929583\n"
     ]
    },
    {
     "name": "stderr",
     "output_type": "stream",
     "text": [
      "INFO:oc_logger:Function evaluation number: 501, SI: 3, Sub-iteration number: 0, FoM: 2.9910761521929583\n",
      "DEBUG:oc_logger:User running: True\n",
      "DEBUG:oc_logger:User running: True\n",
      "DEBUG:oc_logger:User running: True\n"
     ]
    },
    {
     "name": "stdout",
     "output_type": "stream",
     "text": [
      "Coeff of psi:  0.9993762868638948\n",
      "Coeff of psi_targ:  0.4996124776680502\n",
      "INFO     oc_logger    Function evaluation number: 502, SI: 3, Sub-iteration number: 0, FoM: 2.99618075402686\n"
     ]
    },
    {
     "name": "stderr",
     "output_type": "stream",
     "text": [
      "INFO:oc_logger:Function evaluation number: 502, SI: 3, Sub-iteration number: 0, FoM: 2.99618075402686\n",
      "DEBUG:oc_logger:User running: True\n",
      "DEBUG:oc_logger:User running: True\n",
      "DEBUG:oc_logger:User running: True\n"
     ]
    },
    {
     "name": "stdout",
     "output_type": "stream",
     "text": [
      "Coeff of psi:  0.9998108224287129\n",
      "Coeff of psi_targ:  0.4995807141613665\n",
      "INFO     oc_logger    Function evaluation number: 503, SI: 3, Sub-iteration number: 0, FoM: 2.996716816918659\n"
     ]
    },
    {
     "name": "stderr",
     "output_type": "stream",
     "text": [
      "INFO:oc_logger:Function evaluation number: 503, SI: 3, Sub-iteration number: 0, FoM: 2.996716816918659\n",
      "DEBUG:oc_logger:User running: True\n",
      "DEBUG:oc_logger:User running: True\n",
      "DEBUG:oc_logger:User running: True\n"
     ]
    },
    {
     "name": "stdout",
     "output_type": "stream",
     "text": [
      "Coeff of psi:  0.9999820345591292\n",
      "Coeff of psi_targ:  0.4999766479121657\n",
      "INFO     oc_logger    Function evaluation number: 504, SI: 3, Sub-iteration number: 0, FoM: 2.9982381742812674\n"
     ]
    },
    {
     "name": "stderr",
     "output_type": "stream",
     "text": [
      "INFO:oc_logger:Function evaluation number: 504, SI: 3, Sub-iteration number: 0, FoM: 2.9982381742812674\n",
      "DEBUG:oc_logger:User running: True\n",
      "DEBUG:oc_logger:User running: True\n",
      "DEBUG:oc_logger:User running: True\n"
     ]
    },
    {
     "name": "stdout",
     "output_type": "stream",
     "text": [
      "Coeff of psi:  0.9998451347709016\n",
      "Coeff of psi_targ:  0.4996333016417166\n",
      "INFO     oc_logger    Function evaluation number: 505, SI: 3, Sub-iteration number: 0, FoM: 2.99664917859762\n"
     ]
    },
    {
     "name": "stderr",
     "output_type": "stream",
     "text": [
      "INFO:oc_logger:Function evaluation number: 505, SI: 3, Sub-iteration number: 0, FoM: 2.99664917859762\n",
      "DEBUG:oc_logger:User running: True\n",
      "DEBUG:oc_logger:User running: True\n",
      "DEBUG:oc_logger:User running: True\n"
     ]
    },
    {
     "name": "stdout",
     "output_type": "stream",
     "text": [
      "Coeff of psi:  0.9999654719774965\n",
      "Coeff of psi_targ:  0.49839896055411836\n",
      "INFO     oc_logger    Function evaluation number: 506, SI: 3, Sub-iteration number: 1, FoM: 2.992270593479092\n"
     ]
    },
    {
     "name": "stderr",
     "output_type": "stream",
     "text": [
      "INFO:oc_logger:Function evaluation number: 506, SI: 3, Sub-iteration number: 1, FoM: 2.992270593479092\n",
      "DEBUG:oc_logger:User running: True\n",
      "DEBUG:oc_logger:User running: True\n",
      "DEBUG:oc_logger:User running: True\n"
     ]
    },
    {
     "name": "stdout",
     "output_type": "stream",
     "text": [
      "Coeff of psi:  0.9999923362683664\n",
      "Coeff of psi_targ:  0.4995594923112675\n",
      "INFO     oc_logger    Function evaluation number: 507, SI: 3, Sub-iteration number: 1, FoM: 2.9966257294543626\n"
     ]
    },
    {
     "name": "stderr",
     "output_type": "stream",
     "text": [
      "INFO:oc_logger:Function evaluation number: 507, SI: 3, Sub-iteration number: 1, FoM: 2.9966257294543626\n",
      "DEBUG:oc_logger:User running: True\n",
      "DEBUG:oc_logger:User running: True\n",
      "DEBUG:oc_logger:User running: True\n",
      "DEBUG:oc_logger:User running: True\n"
     ]
    },
    {
     "name": "stdout",
     "output_type": "stream",
     "text": [
      "Coeff of psi:  0.9994167668060475\n",
      "Coeff of psi_targ:  0.49879436218154594\n",
      "INFO     oc_logger    Function evaluation number: 508, SI: 3, Sub-iteration number: 2, FoM: 2.9936880856627957\n"
     ]
    },
    {
     "name": "stderr",
     "output_type": "stream",
     "text": [
      "INFO:oc_logger:Function evaluation number: 508, SI: 3, Sub-iteration number: 2, FoM: 2.9936880856627957\n",
      "DEBUG:oc_logger:User running: True\n",
      "DEBUG:oc_logger:User running: True\n",
      "DEBUG:oc_logger:User running: True\n"
     ]
    },
    {
     "name": "stdout",
     "output_type": "stream",
     "text": [
      "Coeff of psi:  0.9999333003630816\n",
      "Coeff of psi_targ:  0.49963974058694444\n",
      "INFO     oc_logger    Function evaluation number: 509, SI: 3, Sub-iteration number: 2, FoM: 2.997064501888192\n"
     ]
    },
    {
     "name": "stderr",
     "output_type": "stream",
     "text": [
      "INFO:oc_logger:Function evaluation number: 509, SI: 3, Sub-iteration number: 2, FoM: 2.997064501888192\n",
      "DEBUG:oc_logger:User running: True\n",
      "DEBUG:oc_logger:User running: True\n",
      "DEBUG:oc_logger:User running: True\n",
      "DEBUG:oc_logger:User running: True\n"
     ]
    },
    {
     "name": "stdout",
     "output_type": "stream",
     "text": [
      "Coeff of psi:  0.9990801480140964\n",
      "Coeff of psi_targ:  0.4989923076612287\n",
      "INFO     oc_logger    Function evaluation number: 510, SI: 3, Sub-iteration number: 3, FoM: 2.9938933684234446\n"
     ]
    },
    {
     "name": "stderr",
     "output_type": "stream",
     "text": [
      "INFO:oc_logger:Function evaluation number: 510, SI: 3, Sub-iteration number: 3, FoM: 2.9938933684234446\n",
      "DEBUG:oc_logger:User running: True\n",
      "DEBUG:oc_logger:User running: True\n",
      "DEBUG:oc_logger:User running: True\n"
     ]
    },
    {
     "name": "stdout",
     "output_type": "stream",
     "text": [
      "Coeff of psi:  0.9998174670145662\n",
      "Coeff of psi_targ:  0.49965377915750536\n",
      "INFO     oc_logger    Function evaluation number: 511, SI: 3, Sub-iteration number: 3, FoM: 2.9970169203224484\n"
     ]
    },
    {
     "name": "stderr",
     "output_type": "stream",
     "text": [
      "INFO:oc_logger:Function evaluation number: 511, SI: 3, Sub-iteration number: 3, FoM: 2.9970169203224484\n",
      "DEBUG:oc_logger:User running: True\n",
      "DEBUG:oc_logger:User running: True\n",
      "DEBUG:oc_logger:User running: True\n",
      "DEBUG:oc_logger:User running: True\n"
     ]
    },
    {
     "name": "stdout",
     "output_type": "stream",
     "text": [
      "Coeff of psi:  0.9996038780787\n",
      "Coeff of psi_targ:  0.49942111269324285\n",
      "INFO     oc_logger    Function evaluation number: 512, SI: 3, Sub-iteration number: 4, FoM: 2.9958276204080523\n"
     ]
    },
    {
     "name": "stderr",
     "output_type": "stream",
     "text": [
      "INFO:oc_logger:Function evaluation number: 512, SI: 3, Sub-iteration number: 4, FoM: 2.9958276204080523\n",
      "DEBUG:oc_logger:User running: True\n",
      "DEBUG:oc_logger:User running: True\n",
      "DEBUG:oc_logger:User running: True\n",
      "DEBUG:oc_logger:User running: True\n"
     ]
    },
    {
     "name": "stdout",
     "output_type": "stream",
     "text": [
      "Coeff of psi:  0.9993245839551453\n",
      "Coeff of psi_targ:  0.4992449566677312\n",
      "INFO     oc_logger    Function evaluation number: 513, SI: 3, Sub-iteration number: 5, FoM: 2.995017055619381\n"
     ]
    },
    {
     "name": "stderr",
     "output_type": "stream",
     "text": [
      "INFO:oc_logger:Function evaluation number: 513, SI: 3, Sub-iteration number: 5, FoM: 2.995017055619381\n",
      "DEBUG:oc_logger:User running: True\n",
      "DEBUG:oc_logger:User running: True\n",
      "DEBUG:oc_logger:User running: True\n"
     ]
    },
    {
     "name": "stdout",
     "output_type": "stream",
     "text": [
      "Coeff of psi:  0.9997310458986236\n",
      "Coeff of psi_targ:  0.4998623070240118\n",
      "INFO     oc_logger    Function evaluation number: 514, SI: 3, Sub-iteration number: 5, FoM: 2.9975017340216183\n"
     ]
    },
    {
     "name": "stderr",
     "output_type": "stream",
     "text": [
      "INFO:oc_logger:Function evaluation number: 514, SI: 3, Sub-iteration number: 5, FoM: 2.9975017340216183\n",
      "DEBUG:oc_logger:User running: True\n",
      "DEBUG:oc_logger:User running: True\n",
      "DEBUG:oc_logger:User running: True\n",
      "DEBUG:oc_logger:User running: True\n"
     ]
    },
    {
     "name": "stdout",
     "output_type": "stream",
     "text": [
      "Coeff of psi:  0.999748001306774\n",
      "Coeff of psi_targ:  0.4986792635133577\n",
      "INFO     oc_logger    Function evaluation number: 515, SI: 3, Sub-iteration number: 6, FoM: 2.9936807680987956\n"
     ]
    },
    {
     "name": "stderr",
     "output_type": "stream",
     "text": [
      "INFO:oc_logger:Function evaluation number: 515, SI: 3, Sub-iteration number: 6, FoM: 2.9936807680987956\n",
      "DEBUG:oc_logger:User running: True\n",
      "DEBUG:oc_logger:User running: True\n",
      "DEBUG:oc_logger:User running: True\n"
     ]
    },
    {
     "name": "stdout",
     "output_type": "stream",
     "text": [
      "Coeff of psi:  0.9998817235431632\n",
      "Coeff of psi_targ:  0.49990420184200474\n",
      "INFO     oc_logger    Function evaluation number: 516, SI: 3, Sub-iteration number: 6, FoM: 2.997834237168169\n"
     ]
    },
    {
     "name": "stderr",
     "output_type": "stream",
     "text": [
      "INFO:oc_logger:Function evaluation number: 516, SI: 3, Sub-iteration number: 6, FoM: 2.997834237168169\n",
      "DEBUG:oc_logger:User running: True\n",
      "DEBUG:oc_logger:User running: True\n",
      "DEBUG:oc_logger:User running: True\n",
      "DEBUG:oc_logger:User running: True\n"
     ]
    },
    {
     "name": "stdout",
     "output_type": "stream",
     "text": [
      "Coeff of psi:  0.9994287882713264\n",
      "Coeff of psi_targ:  0.4991365012497847\n",
      "INFO     oc_logger    Function evaluation number: 517, SI: 3, Sub-iteration number: 7, FoM: 2.9949317426011404\n"
     ]
    },
    {
     "name": "stderr",
     "output_type": "stream",
     "text": [
      "INFO:oc_logger:Function evaluation number: 517, SI: 3, Sub-iteration number: 7, FoM: 2.9949317426011404\n",
      "DEBUG:oc_logger:User running: True\n",
      "DEBUG:oc_logger:User running: True\n",
      "DEBUG:oc_logger:User running: True\n"
     ]
    },
    {
     "name": "stdout",
     "output_type": "stream",
     "text": [
      "Coeff of psi:  0.9998381368235388\n",
      "Coeff of psi_targ:  0.4999188107537821\n",
      "INFO     oc_logger    Function evaluation number: 518, SI: 3, Sub-iteration number: 7, FoM: 2.9978164687416715\n"
     ]
    },
    {
     "name": "stderr",
     "output_type": "stream",
     "text": [
      "INFO:oc_logger:Function evaluation number: 518, SI: 3, Sub-iteration number: 7, FoM: 2.9978164687416715\n",
      "DEBUG:oc_logger:User running: True\n",
      "DEBUG:oc_logger:User running: True\n",
      "DEBUG:oc_logger:User running: True\n",
      "DEBUG:oc_logger:User running: True\n"
     ]
    },
    {
     "name": "stdout",
     "output_type": "stream",
     "text": [
      "Coeff of psi:  0.999875928242474\n",
      "Coeff of psi_targ:  0.4997959917361741\n",
      "INFO     oc_logger    Function evaluation number: 519, SI: 3, Sub-iteration number: 8, FoM: 2.9974065721685648\n"
     ]
    },
    {
     "name": "stderr",
     "output_type": "stream",
     "text": [
      "INFO:oc_logger:Function evaluation number: 519, SI: 3, Sub-iteration number: 8, FoM: 2.9974065721685648\n",
      "DEBUG:oc_logger:User running: True\n",
      "DEBUG:oc_logger:User running: True\n",
      "DEBUG:oc_logger:User running: True\n",
      "DEBUG:oc_logger:User running: True\n"
     ]
    },
    {
     "name": "stdout",
     "output_type": "stream",
     "text": [
      "Coeff of psi:  0.999983271178215\n",
      "Coeff of psi_targ:  0.49971238669750273\n",
      "INFO     oc_logger    Function evaluation number: 520, SI: 3, Sub-iteration number: 9, FoM: 2.9968669331176954\n"
     ]
    },
    {
     "name": "stderr",
     "output_type": "stream",
     "text": [
      "INFO:oc_logger:Function evaluation number: 520, SI: 3, Sub-iteration number: 9, FoM: 2.9968669331176954\n",
      "DEBUG:oc_logger:User running: True\n",
      "DEBUG:oc_logger:User running: True\n",
      "DEBUG:oc_logger:User running: True\n",
      "DEBUG:oc_logger:User running: True\n"
     ]
    },
    {
     "name": "stdout",
     "output_type": "stream",
     "text": [
      "Coeff of psi:  0.9999482622346162\n",
      "Coeff of psi_targ:  0.4995115323705796\n",
      "INFO     oc_logger    Function evaluation number: 521, SI: 3, Sub-iteration number: 10, FoM: 2.996484602470724\n"
     ]
    },
    {
     "name": "stderr",
     "output_type": "stream",
     "text": [
      "INFO:oc_logger:Function evaluation number: 521, SI: 3, Sub-iteration number: 10, FoM: 2.996484602470724\n",
      "DEBUG:oc_logger:User running: True\n",
      "DEBUG:oc_logger:User running: True\n",
      "DEBUG:oc_logger:User running: True\n"
     ]
    },
    {
     "name": "stdout",
     "output_type": "stream",
     "text": [
      "Coeff of psi:  0.9999456672412014\n",
      "Coeff of psi_targ:  0.4999171913616745\n",
      "INFO     oc_logger    Function evaluation number: 522, SI: 3, Sub-iteration number: 10, FoM: 2.997896658265656\n"
     ]
    },
    {
     "name": "stderr",
     "output_type": "stream",
     "text": [
      "INFO:oc_logger:Function evaluation number: 522, SI: 3, Sub-iteration number: 10, FoM: 2.997896658265656\n",
      "DEBUG:oc_logger:User running: True\n",
      "DEBUG:oc_logger:User running: True\n",
      "DEBUG:oc_logger:User running: True\n",
      "DEBUG:oc_logger:User running: True\n"
     ]
    },
    {
     "name": "stdout",
     "output_type": "stream",
     "text": [
      "Coeff of psi:  0.9994694903621694\n",
      "Coeff of psi_targ:  0.49938680470602503\n",
      "INFO     oc_logger    Function evaluation number: 523, SI: 3, Sub-iteration number: 11, FoM: 2.9955660332477985\n"
     ]
    },
    {
     "name": "stderr",
     "output_type": "stream",
     "text": [
      "INFO:oc_logger:Function evaluation number: 523, SI: 3, Sub-iteration number: 11, FoM: 2.9955660332477985\n",
      "DEBUG:oc_logger:User running: True\n",
      "DEBUG:oc_logger:User running: True\n",
      "DEBUG:oc_logger:User running: True\n"
     ]
    },
    {
     "name": "stdout",
     "output_type": "stream",
     "text": [
      "Coeff of psi:  0.9999784286287836\n",
      "Coeff of psi_targ:  0.4999118672827268\n",
      "INFO     oc_logger    Function evaluation number: 524, SI: 3, Sub-iteration number: 11, FoM: 2.9980114365348753\n"
     ]
    },
    {
     "name": "stderr",
     "output_type": "stream",
     "text": [
      "INFO:oc_logger:Function evaluation number: 524, SI: 3, Sub-iteration number: 11, FoM: 2.9980114365348753\n",
      "DEBUG:oc_logger:User running: True\n",
      "DEBUG:oc_logger:User running: True\n",
      "DEBUG:oc_logger:User running: True\n",
      "DEBUG:oc_logger:User running: True\n"
     ]
    },
    {
     "name": "stdout",
     "output_type": "stream",
     "text": [
      "Coeff of psi:  0.9999867849865823\n",
      "Coeff of psi_targ:  0.4995532465084155\n",
      "INFO     oc_logger    Function evaluation number: 525, SI: 3, Sub-iteration number: 12, FoM: 2.9965638345775676\n"
     ]
    },
    {
     "name": "stderr",
     "output_type": "stream",
     "text": [
      "INFO:oc_logger:Function evaluation number: 525, SI: 3, Sub-iteration number: 12, FoM: 2.9965638345775676\n",
      "DEBUG:oc_logger:User running: True\n",
      "DEBUG:oc_logger:User running: True\n",
      "DEBUG:oc_logger:User running: True\n"
     ]
    },
    {
     "name": "stdout",
     "output_type": "stream",
     "text": [
      "Coeff of psi:  0.9999853417397366\n",
      "Coeff of psi_targ:  0.4999396996309418\n",
      "INFO     oc_logger    Function evaluation number: 526, SI: 3, Sub-iteration number: 12, FoM: 2.997961577655799\n"
     ]
    },
    {
     "name": "stderr",
     "output_type": "stream",
     "text": [
      "INFO:oc_logger:Function evaluation number: 526, SI: 3, Sub-iteration number: 12, FoM: 2.997961577655799\n",
      "DEBUG:oc_logger:User running: True\n",
      "DEBUG:oc_logger:User running: True\n",
      "DEBUG:oc_logger:User running: True\n",
      "DEBUG:oc_logger:User running: True\n"
     ]
    },
    {
     "name": "stdout",
     "output_type": "stream",
     "text": [
      "Coeff of psi:  0.999408337763659\n",
      "Coeff of psi_targ:  0.49943722650799627\n",
      "INFO     oc_logger    Function evaluation number: 527, SI: 3, Sub-iteration number: 13, FoM: 2.9957273487801217\n"
     ]
    },
    {
     "name": "stderr",
     "output_type": "stream",
     "text": [
      "INFO:oc_logger:Function evaluation number: 527, SI: 3, Sub-iteration number: 13, FoM: 2.9957273487801217\n",
      "DEBUG:oc_logger:User running: True\n",
      "DEBUG:oc_logger:User running: True\n",
      "DEBUG:oc_logger:User running: True\n"
     ]
    },
    {
     "name": "stdout",
     "output_type": "stream",
     "text": [
      "Coeff of psi:  0.9999835198172968\n",
      "Coeff of psi_targ:  0.4999293236654912\n",
      "INFO     oc_logger    Function evaluation number: 528, SI: 3, Sub-iteration number: 13, FoM: 2.99808971926373\n"
     ]
    },
    {
     "name": "stderr",
     "output_type": "stream",
     "text": [
      "INFO:oc_logger:Function evaluation number: 528, SI: 3, Sub-iteration number: 13, FoM: 2.99808971926373\n",
      "DEBUG:oc_logger:User running: True\n",
      "DEBUG:oc_logger:User running: True\n",
      "DEBUG:oc_logger:User running: True\n",
      "DEBUG:oc_logger:User running: True\n"
     ]
    },
    {
     "name": "stdout",
     "output_type": "stream",
     "text": [
      "Coeff of psi:  0.9996014663247177\n",
      "Coeff of psi_targ:  0.49938319749633286\n",
      "INFO     oc_logger    Function evaluation number: 529, SI: 3, Sub-iteration number: 14, FoM: 2.9956419440955204\n"
     ]
    },
    {
     "name": "stderr",
     "output_type": "stream",
     "text": [
      "INFO:oc_logger:Function evaluation number: 529, SI: 3, Sub-iteration number: 14, FoM: 2.9956419440955204\n",
      "DEBUG:oc_logger:User running: True\n",
      "DEBUG:oc_logger:User running: True\n",
      "DEBUG:oc_logger:User running: True\n"
     ]
    },
    {
     "name": "stdout",
     "output_type": "stream",
     "text": [
      "Coeff of psi:  0.9999985670988801\n",
      "Coeff of psi_targ:  0.49992799070360877\n",
      "INFO     oc_logger    Function evaluation number: 530, SI: 3, Sub-iteration number: 14, FoM: 2.998099707465853\n"
     ]
    },
    {
     "name": "stderr",
     "output_type": "stream",
     "text": [
      "INFO:oc_logger:Function evaluation number: 530, SI: 3, Sub-iteration number: 14, FoM: 2.998099707465853\n",
      "DEBUG:oc_logger:User running: True\n",
      "DEBUG:oc_logger:User running: True\n",
      "DEBUG:oc_logger:User running: True\n",
      "DEBUG:oc_logger:User running: True\n"
     ]
    },
    {
     "name": "stdout",
     "output_type": "stream",
     "text": [
      "Coeff of psi:  0.9999963632883806\n",
      "Coeff of psi_targ:  0.4998116608295753\n",
      "INFO     oc_logger    Function evaluation number: 531, SI: 3, Sub-iteration number: 15, FoM: 2.997711750689333\n"
     ]
    },
    {
     "name": "stderr",
     "output_type": "stream",
     "text": [
      "INFO:oc_logger:Function evaluation number: 531, SI: 3, Sub-iteration number: 15, FoM: 2.997711750689333\n",
      "DEBUG:oc_logger:User running: True\n",
      "DEBUG:oc_logger:User running: True\n",
      "DEBUG:oc_logger:User running: True\n",
      "DEBUG:oc_logger:User running: True\n"
     ]
    },
    {
     "name": "stdout",
     "output_type": "stream",
     "text": [
      "Coeff of psi:  0.9998823544263957\n",
      "Coeff of psi_targ:  0.49989915128926554\n",
      "INFO     oc_logger    Function evaluation number: 532, SI: 3, Sub-iteration number: 16, FoM: 2.997770104666925\n"
     ]
    },
    {
     "name": "stderr",
     "output_type": "stream",
     "text": [
      "INFO:oc_logger:Function evaluation number: 532, SI: 3, Sub-iteration number: 16, FoM: 2.997770104666925\n",
      "DEBUG:oc_logger:User running: True\n",
      "DEBUG:oc_logger:User running: True\n",
      "DEBUG:oc_logger:User running: True\n",
      "DEBUG:oc_logger:User running: True\n"
     ]
    },
    {
     "name": "stdout",
     "output_type": "stream",
     "text": [
      "Coeff of psi:  0.9999674031357649\n",
      "Coeff of psi_targ:  0.4998782477311286\n",
      "INFO     oc_logger    Function evaluation number: 533, SI: 3, Sub-iteration number: 17, FoM: 2.9977227205911023\n"
     ]
    },
    {
     "name": "stderr",
     "output_type": "stream",
     "text": [
      "INFO:oc_logger:Function evaluation number: 533, SI: 3, Sub-iteration number: 17, FoM: 2.9977227205911023\n",
      "DEBUG:oc_logger:User running: True\n",
      "DEBUG:oc_logger:User running: True\n",
      "DEBUG:oc_logger:User running: True\n"
     ]
    },
    {
     "name": "stdout",
     "output_type": "stream",
     "text": [
      "Coeff of psi:  0.9999857584331584\n",
      "Coeff of psi_targ:  0.49997434354823883\n",
      "INFO     oc_logger    Function evaluation number: 534, SI: 3, Sub-iteration number: 17, FoM: 2.9981535264738355\n"
     ]
    },
    {
     "name": "stderr",
     "output_type": "stream",
     "text": [
      "INFO:oc_logger:Function evaluation number: 534, SI: 3, Sub-iteration number: 17, FoM: 2.9981535264738355\n",
      "DEBUG:oc_logger:User running: True\n",
      "DEBUG:oc_logger:User running: True\n",
      "DEBUG:oc_logger:User running: True\n",
      "DEBUG:oc_logger:User running: True\n"
     ]
    },
    {
     "name": "stdout",
     "output_type": "stream",
     "text": [
      "Coeff of psi:  0.9996927786668192\n",
      "Coeff of psi_targ:  0.49981756230441887\n",
      "INFO     oc_logger    Function evaluation number: 535, SI: 3, Sub-iteration number: 18, FoM: 2.997327413909449\n"
     ]
    },
    {
     "name": "stderr",
     "output_type": "stream",
     "text": [
      "INFO:oc_logger:Function evaluation number: 535, SI: 3, Sub-iteration number: 18, FoM: 2.997327413909449\n",
      "DEBUG:oc_logger:User running: True\n",
      "DEBUG:oc_logger:User running: True\n",
      "DEBUG:oc_logger:User running: True\n"
     ]
    },
    {
     "name": "stdout",
     "output_type": "stream",
     "text": [
      "Coeff of psi:  0.9999858070549296\n",
      "Coeff of psi_targ:  0.49998031795396886\n",
      "INFO     oc_logger    Function evaluation number: 536, SI: 3, Sub-iteration number: 18, FoM: 2.9982069409986947\n"
     ]
    },
    {
     "name": "stderr",
     "output_type": "stream",
     "text": [
      "INFO:oc_logger:Function evaluation number: 536, SI: 3, Sub-iteration number: 18, FoM: 2.9982069409986947\n",
      "DEBUG:oc_logger:User running: True\n",
      "DEBUG:oc_logger:User running: True\n",
      "DEBUG:oc_logger:User running: True\n",
      "DEBUG:oc_logger:User running: True\n"
     ]
    },
    {
     "name": "stdout",
     "output_type": "stream",
     "text": [
      "Coeff of psi:  0.9999133715623149\n",
      "Coeff of psi_targ:  0.49995088818610733\n",
      "INFO     oc_logger    Function evaluation number: 537, SI: 3, Sub-iteration number: 19, FoM: 2.9979339887984837\n"
     ]
    },
    {
     "name": "stderr",
     "output_type": "stream",
     "text": [
      "INFO:oc_logger:Function evaluation number: 537, SI: 3, Sub-iteration number: 19, FoM: 2.9979339887984837\n",
      "DEBUG:oc_logger:User running: True\n",
      "DEBUG:oc_logger:User running: True\n",
      "DEBUG:oc_logger:User running: True\n",
      "DEBUG:oc_logger:User running: True\n"
     ]
    },
    {
     "name": "stdout",
     "output_type": "stream",
     "text": [
      "Coeff of psi:  0.9998664050631448\n",
      "Coeff of psi_targ:  0.499838852306353\n",
      "INFO     oc_logger    Function evaluation number: 538, SI: 3, Sub-iteration number: 20, FoM: 2.997626533327786\n"
     ]
    },
    {
     "name": "stderr",
     "output_type": "stream",
     "text": [
      "INFO:oc_logger:Function evaluation number: 538, SI: 3, Sub-iteration number: 20, FoM: 2.997626533327786\n",
      "DEBUG:oc_logger:User running: True\n",
      "DEBUG:oc_logger:User running: True\n",
      "DEBUG:oc_logger:User running: True\n"
     ]
    },
    {
     "name": "stdout",
     "output_type": "stream",
     "text": [
      "Coeff of psi:  0.9999722915443827\n",
      "Coeff of psi_targ:  0.4999816983058301\n",
      "INFO     oc_logger    Function evaluation number: 539, SI: 3, Sub-iteration number: 20, FoM: 2.9982054100105664\n"
     ]
    },
    {
     "name": "stderr",
     "output_type": "stream",
     "text": [
      "INFO:oc_logger:Function evaluation number: 539, SI: 3, Sub-iteration number: 20, FoM: 2.9982054100105664\n",
      "DEBUG:oc_logger:User running: True\n",
      "DEBUG:oc_logger:User running: True\n",
      "DEBUG:oc_logger:User running: True\n",
      "DEBUG:oc_logger:User running: True\n"
     ]
    },
    {
     "name": "stdout",
     "output_type": "stream",
     "text": [
      "Coeff of psi:  0.9999294465720844\n",
      "Coeff of psi_targ:  0.4998144502494249\n",
      "INFO     oc_logger    Function evaluation number: 540, SI: 3, Sub-iteration number: 21, FoM: 2.9976434781554078\n"
     ]
    },
    {
     "name": "stderr",
     "output_type": "stream",
     "text": [
      "INFO:oc_logger:Function evaluation number: 540, SI: 3, Sub-iteration number: 21, FoM: 2.9976434781554078\n",
      "DEBUG:oc_logger:User running: True\n",
      "DEBUG:oc_logger:User running: True\n",
      "DEBUG:oc_logger:User running: True\n"
     ]
    },
    {
     "name": "stdout",
     "output_type": "stream",
     "text": [
      "Coeff of psi:  0.999988443897515\n",
      "Coeff of psi_targ:  0.4999877217712591\n",
      "INFO     oc_logger    Function evaluation number: 541, SI: 3, Sub-iteration number: 21, FoM: 2.9982237483190097\n"
     ]
    },
    {
     "name": "stderr",
     "output_type": "stream",
     "text": [
      "INFO:oc_logger:Function evaluation number: 541, SI: 3, Sub-iteration number: 21, FoM: 2.9982237483190097\n",
      "DEBUG:oc_logger:User running: True\n",
      "DEBUG:oc_logger:User running: True\n",
      "DEBUG:oc_logger:User running: True\n",
      "DEBUG:oc_logger:User running: True\n"
     ]
    },
    {
     "name": "stdout",
     "output_type": "stream",
     "text": [
      "Coeff of psi:  0.9998830570825743\n",
      "Coeff of psi_targ:  0.4999398224974085\n",
      "INFO     oc_logger    Function evaluation number: 542, SI: 3, Sub-iteration number: 22, FoM: 2.997942416120356\n"
     ]
    },
    {
     "name": "stderr",
     "output_type": "stream",
     "text": [
      "INFO:oc_logger:Function evaluation number: 542, SI: 3, Sub-iteration number: 22, FoM: 2.997942416120356\n",
      "DEBUG:oc_logger:User running: True\n",
      "DEBUG:oc_logger:User running: True\n",
      "DEBUG:oc_logger:User running: True\n"
     ]
    },
    {
     "name": "stdout",
     "output_type": "stream",
     "text": [
      "Coeff of psi:  0.9999668353909199\n",
      "Coeff of psi_targ:  0.4999808525037868\n",
      "INFO     oc_logger    Function evaluation number: 543, SI: 3, Sub-iteration number: 22, FoM: 2.9982115828741387\n"
     ]
    },
    {
     "name": "stderr",
     "output_type": "stream",
     "text": [
      "INFO:oc_logger:Function evaluation number: 543, SI: 3, Sub-iteration number: 22, FoM: 2.9982115828741387\n",
      "DEBUG:oc_logger:User running: True\n",
      "DEBUG:oc_logger:User running: True\n",
      "DEBUG:oc_logger:User running: True\n",
      "DEBUG:oc_logger:User running: True\n"
     ]
    },
    {
     "name": "stdout",
     "output_type": "stream",
     "text": [
      "Coeff of psi:  0.9999962980299784\n",
      "Coeff of psi_targ:  0.4998338359272298\n",
      "INFO     oc_logger    Function evaluation number: 544, SI: 3, Sub-iteration number: 23, FoM: 2.997788868435364\n"
     ]
    },
    {
     "name": "stderr",
     "output_type": "stream",
     "text": [
      "INFO:oc_logger:Function evaluation number: 544, SI: 3, Sub-iteration number: 23, FoM: 2.997788868435364\n",
      "DEBUG:oc_logger:User running: True\n",
      "DEBUG:oc_logger:User running: True\n",
      "DEBUG:oc_logger:User running: True\n"
     ]
    },
    {
     "name": "stdout",
     "output_type": "stream",
     "text": [
      "Coeff of psi:  0.9999944169464836\n",
      "Coeff of psi_targ:  0.49999210227090796\n",
      "INFO     oc_logger    Function evaluation number: 545, SI: 3, Sub-iteration number: 23, FoM: 2.998232689215513\n"
     ]
    },
    {
     "name": "stderr",
     "output_type": "stream",
     "text": [
      "INFO:oc_logger:Function evaluation number: 545, SI: 3, Sub-iteration number: 23, FoM: 2.998232689215513\n",
      "DEBUG:oc_logger:User running: True\n",
      "DEBUG:oc_logger:User running: True\n",
      "DEBUG:oc_logger:User running: True\n",
      "DEBUG:oc_logger:User running: True\n"
     ]
    },
    {
     "name": "stdout",
     "output_type": "stream",
     "text": [
      "Coeff of psi:  0.9999371546956815\n",
      "Coeff of psi_targ:  0.4999391113951223\n",
      "INFO     oc_logger    Function evaluation number: 546, SI: 3, Sub-iteration number: 24, FoM: 2.99800352678127\n"
     ]
    },
    {
     "name": "stderr",
     "output_type": "stream",
     "text": [
      "INFO:oc_logger:Function evaluation number: 546, SI: 3, Sub-iteration number: 24, FoM: 2.99800352678127\n",
      "DEBUG:oc_logger:User running: True\n",
      "DEBUG:oc_logger:User running: True\n",
      "DEBUG:oc_logger:User running: True\n"
     ]
    },
    {
     "name": "stdout",
     "output_type": "stream",
     "text": [
      "Coeff of psi:  0.9999976909946832\n",
      "Coeff of psi_targ:  0.4999715341896648\n",
      "INFO     oc_logger    Function evaluation number: 547, SI: 3, Sub-iteration number: 24, FoM: 2.9982281100669166\n"
     ]
    },
    {
     "name": "stderr",
     "output_type": "stream",
     "text": [
      "INFO:oc_logger:Function evaluation number: 547, SI: 3, Sub-iteration number: 24, FoM: 2.9982281100669166\n",
      "DEBUG:oc_logger:User running: True\n",
      "DEBUG:oc_logger:User running: True\n",
      "DEBUG:oc_logger:User running: True\n",
      "DEBUG:oc_logger:User running: True\n"
     ]
    },
    {
     "name": "stdout",
     "output_type": "stream",
     "text": [
      "Coeff of psi:  0.9999390239631426\n",
      "Coeff of psi_targ:  0.4999434449590382\n",
      "INFO     oc_logger    Function evaluation number: 548, SI: 3, Sub-iteration number: 25, FoM: 2.99802967318275\n"
     ]
    },
    {
     "name": "stderr",
     "output_type": "stream",
     "text": [
      "INFO:oc_logger:Function evaluation number: 548, SI: 3, Sub-iteration number: 25, FoM: 2.99802967318275\n",
      "DEBUG:oc_logger:User running: True\n",
      "DEBUG:oc_logger:User running: True\n",
      "DEBUG:oc_logger:User running: True\n"
     ]
    },
    {
     "name": "stdout",
     "output_type": "stream",
     "text": [
      "Coeff of psi:  0.99999880101887\n",
      "Coeff of psi_targ:  0.4999777792207675\n",
      "INFO     oc_logger    Function evaluation number: 549, SI: 3, Sub-iteration number: 25, FoM: 2.9982532782654148\n"
     ]
    },
    {
     "name": "stderr",
     "output_type": "stream",
     "text": [
      "INFO:oc_logger:Function evaluation number: 549, SI: 3, Sub-iteration number: 25, FoM: 2.9982532782654148\n",
      "DEBUG:oc_logger:User running: True\n",
      "DEBUG:oc_logger:User running: True\n",
      "DEBUG:oc_logger:User running: True\n",
      "DEBUG:oc_logger:User running: True\n"
     ]
    },
    {
     "name": "stdout",
     "output_type": "stream",
     "text": [
      "Coeff of psi:  0.9999749242385856\n",
      "Coeff of psi_targ:  0.4999463625347078\n",
      "INFO     oc_logger    Function evaluation number: 550, SI: 3, Sub-iteration number: 26, FoM: 2.9980131671993635\n"
     ]
    },
    {
     "name": "stderr",
     "output_type": "stream",
     "text": [
      "INFO:oc_logger:Function evaluation number: 550, SI: 3, Sub-iteration number: 26, FoM: 2.9980131671993635\n",
      "DEBUG:oc_logger:User running: True\n",
      "DEBUG:oc_logger:User running: True\n",
      "DEBUG:oc_logger:User running: True\n"
     ]
    },
    {
     "name": "stdout",
     "output_type": "stream",
     "text": [
      "Coeff of psi:  0.9999998859248286\n",
      "Coeff of psi_targ:  0.4999775543394478\n",
      "INFO     oc_logger    Function evaluation number: 551, SI: 3, Sub-iteration number: 26, FoM: 2.99825819090559\n"
     ]
    },
    {
     "name": "stderr",
     "output_type": "stream",
     "text": [
      "INFO:oc_logger:Function evaluation number: 551, SI: 3, Sub-iteration number: 26, FoM: 2.99825819090559\n",
      "DEBUG:oc_logger:User running: True\n",
      "DEBUG:oc_logger:User running: True\n",
      "DEBUG:oc_logger:User running: True\n",
      "DEBUG:oc_logger:User running: True\n"
     ]
    },
    {
     "name": "stdout",
     "output_type": "stream",
     "text": [
      "Coeff of psi:  0.999999547145445\n",
      "Coeff of psi_targ:  0.4999332291461456\n",
      "INFO     oc_logger    Function evaluation number: 552, SI: 3, Sub-iteration number: 27, FoM: 2.99812805929616\n"
     ]
    },
    {
     "name": "stderr",
     "output_type": "stream",
     "text": [
      "INFO:oc_logger:Function evaluation number: 552, SI: 3, Sub-iteration number: 27, FoM: 2.99812805929616\n",
      "DEBUG:oc_logger:User running: True\n",
      "DEBUG:oc_logger:User running: True\n",
      "DEBUG:oc_logger:User running: True\n"
     ]
    },
    {
     "name": "stdout",
     "output_type": "stream",
     "text": [
      "Coeff of psi:  0.9999929535605666\n",
      "Coeff of psi_targ:  0.49999503576500526\n",
      "INFO     oc_logger    Function evaluation number: 553, SI: 3, Sub-iteration number: 27, FoM: 2.998265357326668\n"
     ]
    },
    {
     "name": "stderr",
     "output_type": "stream",
     "text": [
      "INFO:oc_logger:Function evaluation number: 553, SI: 3, Sub-iteration number: 27, FoM: 2.998265357326668\n",
      "DEBUG:oc_logger:User running: True\n",
      "DEBUG:oc_logger:User running: True\n",
      "DEBUG:oc_logger:User running: True\n",
      "DEBUG:oc_logger:User running: True\n"
     ]
    },
    {
     "name": "stdout",
     "output_type": "stream",
     "text": [
      "Coeff of psi:  0.9999926899430314\n",
      "Coeff of psi_targ:  0.49995874984850147\n",
      "INFO     oc_logger    Function evaluation number: 554, SI: 3, Sub-iteration number: 28, FoM: 2.9981925286378552\n"
     ]
    },
    {
     "name": "stderr",
     "output_type": "stream",
     "text": [
      "INFO:oc_logger:Function evaluation number: 554, SI: 3, Sub-iteration number: 28, FoM: 2.9981925286378552\n",
      "DEBUG:oc_logger:User running: True\n",
      "DEBUG:oc_logger:User running: True\n",
      "DEBUG:oc_logger:User running: True\n"
     ]
    },
    {
     "name": "stdout",
     "output_type": "stream",
     "text": [
      "Coeff of psi:  0.9999892986118729\n",
      "Coeff of psi_targ:  0.49999462869797584\n",
      "INFO     oc_logger    Function evaluation number: 555, SI: 3, Sub-iteration number: 28, FoM: 2.9982771055092057\n"
     ]
    },
    {
     "name": "stderr",
     "output_type": "stream",
     "text": [
      "INFO:oc_logger:Function evaluation number: 555, SI: 3, Sub-iteration number: 28, FoM: 2.9982771055092057\n",
      "DEBUG:oc_logger:User running: True\n",
      "DEBUG:oc_logger:User running: True\n",
      "DEBUG:oc_logger:User running: True\n",
      "DEBUG:oc_logger:User running: True\n"
     ]
    },
    {
     "name": "stdout",
     "output_type": "stream",
     "text": [
      "Coeff of psi:  0.9999400386152265\n",
      "Coeff of psi_targ:  0.4999699375985753\n",
      "INFO     oc_logger    Function evaluation number: 556, SI: 3, Sub-iteration number: 29, FoM: 2.9981559001040856\n"
     ]
    },
    {
     "name": "stderr",
     "output_type": "stream",
     "text": [
      "INFO:oc_logger:Function evaluation number: 556, SI: 3, Sub-iteration number: 29, FoM: 2.9981559001040856\n",
      "DEBUG:oc_logger:User running: True\n",
      "DEBUG:oc_logger:User running: True\n",
      "DEBUG:oc_logger:User running: True\n"
     ]
    },
    {
     "name": "stdout",
     "output_type": "stream",
     "text": [
      "Coeff of psi:  0.9999992022963172\n",
      "Coeff of psi_targ:  0.4999928238988985\n",
      "INFO     oc_logger    Function evaluation number: 557, SI: 3, Sub-iteration number: 29, FoM: 2.998281228007472\n"
     ]
    },
    {
     "name": "stderr",
     "output_type": "stream",
     "text": [
      "INFO:oc_logger:Function evaluation number: 557, SI: 3, Sub-iteration number: 29, FoM: 2.998281228007472\n",
      "DEBUG:oc_logger:User running: True\n",
      "DEBUG:oc_logger:User running: True\n",
      "DEBUG:oc_logger:User running: True\n",
      "DEBUG:oc_logger:User running: True\n"
     ]
    },
    {
     "name": "stdout",
     "output_type": "stream",
     "text": [
      "Coeff of psi:  0.9999903556263952\n",
      "Coeff of psi_targ:  0.49999155707470844\n",
      "INFO     oc_logger    Function evaluation number: 558, SI: 3, Sub-iteration number: 30, FoM: 2.9982470624846553\n"
     ]
    },
    {
     "name": "stderr",
     "output_type": "stream",
     "text": [
      "INFO:oc_logger:Function evaluation number: 558, SI: 3, Sub-iteration number: 30, FoM: 2.9982470624846553\n",
      "DEBUG:oc_logger:User running: True\n",
      "DEBUG:oc_logger:User running: True\n",
      "DEBUG:oc_logger:User running: True\n",
      "DEBUG:oc_logger:User running: True\n"
     ]
    },
    {
     "name": "stdout",
     "output_type": "stream",
     "text": [
      "Coeff of psi:  0.9999958256761912\n",
      "Coeff of psi_targ:  0.49994959849084425\n",
      "INFO     oc_logger    Function evaluation number: 559, SI: 3, Sub-iteration number: 31, FoM: 2.9981657655684772\n"
     ]
    },
    {
     "name": "stderr",
     "output_type": "stream",
     "text": [
      "INFO:oc_logger:Function evaluation number: 559, SI: 3, Sub-iteration number: 31, FoM: 2.9981657655684772\n",
      "DEBUG:oc_logger:User running: True\n",
      "DEBUG:oc_logger:User running: True\n",
      "DEBUG:oc_logger:User running: True\n"
     ]
    },
    {
     "name": "stdout",
     "output_type": "stream",
     "text": [
      "Coeff of psi:  0.9999958728165892\n",
      "Coeff of psi_targ:  0.4999978884854324\n",
      "INFO     oc_logger    New record achieved. Previous FoM: 2.9982833139919, new best FoM : 2.998288133248165\n"
     ]
    },
    {
     "name": "stderr",
     "output_type": "stream",
     "text": [
      "INFO:oc_logger:New record achieved. Previous FoM: 2.9982833139919, new best FoM : 2.998288133248165\n"
     ]
    },
    {
     "name": "stdout",
     "output_type": "stream",
     "text": [
      "INFO     oc_logger    Function evaluation number: 560, SI: 3, Sub-iteration number: 31, FoM: 2.998288133248165\n"
     ]
    },
    {
     "name": "stderr",
     "output_type": "stream",
     "text": [
      "INFO:oc_logger:Function evaluation number: 560, SI: 3, Sub-iteration number: 31, FoM: 2.998288133248165\n",
      "DEBUG:oc_logger:User running: True\n",
      "DEBUG:oc_logger:User running: True\n",
      "DEBUG:oc_logger:User running: True\n",
      "DEBUG:oc_logger:User running: True\n"
     ]
    },
    {
     "name": "stdout",
     "output_type": "stream",
     "text": [
      "Coeff of psi:  0.9999871602336589\n",
      "Coeff of psi_targ:  0.49998997101652326\n",
      "INFO     oc_logger    Function evaluation number: 561, SI: 3, Sub-iteration number: 32, FoM: 2.9982454840082546\n"
     ]
    },
    {
     "name": "stderr",
     "output_type": "stream",
     "text": [
      "INFO:oc_logger:Function evaluation number: 561, SI: 3, Sub-iteration number: 32, FoM: 2.9982454840082546\n",
      "DEBUG:oc_logger:User running: True\n",
      "DEBUG:oc_logger:User running: True\n",
      "DEBUG:oc_logger:User running: True\n",
      "DEBUG:oc_logger:User running: True\n"
     ]
    },
    {
     "name": "stdout",
     "output_type": "stream",
     "text": [
      "Coeff of psi:  0.9999999963034993\n",
      "Coeff of psi_targ:  0.4999680355797718\n",
      "INFO     oc_logger    Function evaluation number: 562, SI: 3, Sub-iteration number: 33, FoM: 2.998248668762034\n"
     ]
    },
    {
     "name": "stderr",
     "output_type": "stream",
     "text": [
      "INFO:oc_logger:Function evaluation number: 562, SI: 3, Sub-iteration number: 33, FoM: 2.998248668762034\n",
      "DEBUG:oc_logger:User running: True\n",
      "DEBUG:oc_logger:User running: True\n",
      "DEBUG:oc_logger:User running: True\n",
      "DEBUG:oc_logger:User running: True\n"
     ]
    },
    {
     "name": "stdout",
     "output_type": "stream",
     "text": [
      "Coeff of psi:  0.999992450896408\n",
      "Coeff of psi_targ:  0.49999620796078365\n",
      "INFO     oc_logger    Function evaluation number: 563, SI: 3, Sub-iteration number: 34, FoM: 2.998163670345856\n"
     ]
    },
    {
     "name": "stderr",
     "output_type": "stream",
     "text": [
      "INFO:oc_logger:Function evaluation number: 563, SI: 3, Sub-iteration number: 34, FoM: 2.998163670345856\n",
      "DEBUG:oc_logger:User running: True\n",
      "DEBUG:oc_logger:User running: True\n",
      "DEBUG:oc_logger:User running: True\n"
     ]
    },
    {
     "name": "stdout",
     "output_type": "stream",
     "text": [
      "Coeff of psi:  0.999993891867773\n",
      "Coeff of psi_targ:  0.4999888911314861\n",
      "INFO     oc_logger    New record achieved. Previous FoM: 2.998288133248165, new best FoM : 2.9982951700100005\n"
     ]
    },
    {
     "name": "stderr",
     "output_type": "stream",
     "text": [
      "INFO:oc_logger:New record achieved. Previous FoM: 2.998288133248165, new best FoM : 2.9982951700100005\n"
     ]
    },
    {
     "name": "stdout",
     "output_type": "stream",
     "text": [
      "INFO     oc_logger    Function evaluation number: 564, SI: 3, Sub-iteration number: 34, FoM: 2.9982951700100005\n"
     ]
    },
    {
     "name": "stderr",
     "output_type": "stream",
     "text": [
      "INFO:oc_logger:Function evaluation number: 564, SI: 3, Sub-iteration number: 34, FoM: 2.9982951700100005\n",
      "DEBUG:oc_logger:User running: True\n",
      "DEBUG:oc_logger:User running: True\n",
      "DEBUG:oc_logger:User running: True\n",
      "DEBUG:oc_logger:User running: True\n"
     ]
    },
    {
     "name": "stdout",
     "output_type": "stream",
     "text": [
      "Coeff of psi:  0.9999944610238873\n",
      "Coeff of psi_targ:  0.49995350779169506\n",
      "INFO     oc_logger    Function evaluation number: 565, SI: 3, Sub-iteration number: 35, FoM: 2.9981741819931496\n"
     ]
    },
    {
     "name": "stderr",
     "output_type": "stream",
     "text": [
      "INFO:oc_logger:Function evaluation number: 565, SI: 3, Sub-iteration number: 35, FoM: 2.9981741819931496\n",
      "DEBUG:oc_logger:User running: True\n",
      "DEBUG:oc_logger:User running: True\n",
      "DEBUG:oc_logger:User running: True\n"
     ]
    },
    {
     "name": "stdout",
     "output_type": "stream",
     "text": [
      "Coeff of psi:  0.9999956190088647\n",
      "Coeff of psi_targ:  0.4999977411864496\n",
      "INFO     oc_logger    New record achieved. Previous FoM: 2.9982951700100005, new best FoM : 2.9982956279917015\n"
     ]
    },
    {
     "name": "stderr",
     "output_type": "stream",
     "text": [
      "INFO:oc_logger:New record achieved. Previous FoM: 2.9982951700100005, new best FoM : 2.9982956279917015\n"
     ]
    },
    {
     "name": "stdout",
     "output_type": "stream",
     "text": [
      "INFO     oc_logger    Function evaluation number: 566, SI: 3, Sub-iteration number: 35, FoM: 2.9982956279917015\n"
     ]
    },
    {
     "name": "stderr",
     "output_type": "stream",
     "text": [
      "INFO:oc_logger:Function evaluation number: 566, SI: 3, Sub-iteration number: 35, FoM: 2.9982956279917015\n",
      "DEBUG:oc_logger:User running: True\n",
      "DEBUG:oc_logger:User running: True\n",
      "DEBUG:oc_logger:User running: True\n",
      "DEBUG:oc_logger:User running: True\n"
     ]
    },
    {
     "name": "stdout",
     "output_type": "stream",
     "text": [
      "Coeff of psi:  0.9999711014242494\n",
      "Coeff of psi_targ:  0.4999794691849332\n",
      "INFO     oc_logger    Function evaluation number: 567, SI: 3, Sub-iteration number: 36, FoM: 2.9982207822652818\n"
     ]
    },
    {
     "name": "stderr",
     "output_type": "stream",
     "text": [
      "INFO:oc_logger:Function evaluation number: 567, SI: 3, Sub-iteration number: 36, FoM: 2.9982207822652818\n",
      "DEBUG:oc_logger:User running: True\n",
      "DEBUG:oc_logger:User running: True\n",
      "DEBUG:oc_logger:User running: True\n"
     ]
    },
    {
     "name": "stdout",
     "output_type": "stream",
     "text": [
      "Coeff of psi:  0.9999990176979557\n",
      "Coeff of psi_targ:  0.4999953174910602\n",
      "INFO     oc_logger    Function evaluation number: 568, SI: 3, Sub-iteration number: 36, FoM: 2.9982909375439504\n"
     ]
    },
    {
     "name": "stderr",
     "output_type": "stream",
     "text": [
      "INFO:oc_logger:Function evaluation number: 568, SI: 3, Sub-iteration number: 36, FoM: 2.9982909375439504\n",
      "DEBUG:oc_logger:User running: True\n",
      "DEBUG:oc_logger:User running: True\n",
      "DEBUG:oc_logger:User running: True\n",
      "DEBUG:oc_logger:User running: True\n"
     ]
    },
    {
     "name": "stdout",
     "output_type": "stream",
     "text": [
      "Coeff of psi:  0.9999954165083761\n",
      "Coeff of psi_targ:  0.4999937167439673\n",
      "INFO     oc_logger    Function evaluation number: 569, SI: 3, Sub-iteration number: 37, FoM: 2.9982356167132043\n"
     ]
    },
    {
     "name": "stderr",
     "output_type": "stream",
     "text": [
      "INFO:oc_logger:Function evaluation number: 569, SI: 3, Sub-iteration number: 37, FoM: 2.9982356167132043\n",
      "DEBUG:oc_logger:User running: True\n",
      "DEBUG:oc_logger:User running: True\n",
      "DEBUG:oc_logger:User running: True\n"
     ]
    },
    {
     "name": "stdout",
     "output_type": "stream",
     "text": [
      "Coeff of psi:  0.999999764283911\n",
      "Coeff of psi_targ:  0.4999858968458971\n",
      "INFO     oc_logger    Function evaluation number: 570, SI: 3, Sub-iteration number: 37, FoM: 2.9982900185542594\n"
     ]
    },
    {
     "name": "stderr",
     "output_type": "stream",
     "text": [
      "INFO:oc_logger:Function evaluation number: 570, SI: 3, Sub-iteration number: 37, FoM: 2.9982900185542594\n",
      "DEBUG:oc_logger:User running: True\n",
      "DEBUG:oc_logger:User running: True\n",
      "DEBUG:oc_logger:User running: True\n",
      "DEBUG:oc_logger:User running: True\n"
     ]
    },
    {
     "name": "stdout",
     "output_type": "stream",
     "text": [
      "Coeff of psi:  0.9999878567071204\n",
      "Coeff of psi_targ:  0.49999252454695825\n",
      "INFO     oc_logger    Function evaluation number: 571, SI: 3, Sub-iteration number: 38, FoM: 2.9982640829518443\n"
     ]
    },
    {
     "name": "stderr",
     "output_type": "stream",
     "text": [
      "INFO:oc_logger:Function evaluation number: 571, SI: 3, Sub-iteration number: 38, FoM: 2.9982640829518443\n",
      "DEBUG:oc_logger:User running: True\n",
      "DEBUG:oc_logger:User running: True\n",
      "DEBUG:oc_logger:User running: True\n",
      "DEBUG:oc_logger:User running: True\n"
     ]
    },
    {
     "name": "stdout",
     "output_type": "stream",
     "text": [
      "Coeff of psi:  0.9999927365484824\n",
      "Coeff of psi_targ:  0.4999903965322695\n",
      "INFO     oc_logger    Function evaluation number: 572, SI: 3, Sub-iteration number: 39, FoM: 2.9982304300721507\n"
     ]
    },
    {
     "name": "stderr",
     "output_type": "stream",
     "text": [
      "INFO:oc_logger:Function evaluation number: 572, SI: 3, Sub-iteration number: 39, FoM: 2.9982304300721507\n",
      "DEBUG:oc_logger:User running: True\n",
      "DEBUG:oc_logger:User running: True\n",
      "DEBUG:oc_logger:User running: True\n"
     ]
    },
    {
     "name": "stdout",
     "output_type": "stream",
     "text": [
      "Coeff of psi:  0.9999991522210383\n",
      "Coeff of psi_targ:  0.49999093755416874\n",
      "INFO     oc_logger    Function evaluation number: 573, SI: 3, Sub-iteration number: 39, FoM: 2.9982945196178687\n"
     ]
    },
    {
     "name": "stderr",
     "output_type": "stream",
     "text": [
      "INFO:oc_logger:Function evaluation number: 573, SI: 3, Sub-iteration number: 39, FoM: 2.9982945196178687\n",
      "DEBUG:oc_logger:User running: True\n",
      "DEBUG:oc_logger:User running: True\n",
      "DEBUG:oc_logger:User running: True\n",
      "DEBUG:oc_logger:User running: True\n"
     ]
    },
    {
     "name": "stdout",
     "output_type": "stream",
     "text": [
      "Coeff of psi:  0.9999990433125326\n",
      "Coeff of psi_targ:  0.4999811079599849\n",
      "INFO     oc_logger    Function evaluation number: 574, SI: 3, Sub-iteration number: 40, FoM: 2.9982623727885103\n"
     ]
    },
    {
     "name": "stderr",
     "output_type": "stream",
     "text": [
      "INFO:oc_logger:Function evaluation number: 574, SI: 3, Sub-iteration number: 40, FoM: 2.9982623727885103\n",
      "DEBUG:oc_logger:User running: True\n",
      "DEBUG:oc_logger:User running: True\n",
      "DEBUG:oc_logger:User running: True\n"
     ]
    },
    {
     "name": "stdout",
     "output_type": "stream",
     "text": [
      "Coeff of psi:  0.9999943940635039\n",
      "Coeff of psi_targ:  0.49999714470943996\n",
      "INFO     oc_logger    Function evaluation number: 575, SI: 3, Sub-iteration number: 40, FoM: 2.9982933037261006\n"
     ]
    },
    {
     "name": "stderr",
     "output_type": "stream",
     "text": [
      "INFO:oc_logger:Function evaluation number: 575, SI: 3, Sub-iteration number: 40, FoM: 2.9982933037261006\n",
      "DEBUG:oc_logger:User running: True\n",
      "DEBUG:oc_logger:User running: True\n",
      "DEBUG:oc_logger:User running: True\n",
      "DEBUG:oc_logger:User running: True\n"
     ]
    },
    {
     "name": "stdout",
     "output_type": "stream",
     "text": [
      "Coeff of psi:  0.9999999574730722\n",
      "Coeff of psi_targ:  0.499978909982123\n",
      "INFO     oc_logger    Function evaluation number: 576, SI: 3, Sub-iteration number: 41, FoM: 2.998273020820397\n"
     ]
    },
    {
     "name": "stderr",
     "output_type": "stream",
     "text": [
      "INFO:oc_logger:Function evaluation number: 576, SI: 3, Sub-iteration number: 41, FoM: 2.998273020820397\n",
      "DEBUG:oc_logger:User running: True\n",
      "DEBUG:oc_logger:User running: True\n",
      "DEBUG:oc_logger:User running: True\n"
     ]
    },
    {
     "name": "stdout",
     "output_type": "stream",
     "text": [
      "Coeff of psi:  0.999999741901519\n",
      "Coeff of psi_targ:  0.4999899972850615\n",
      "INFO     oc_logger    New record achieved. Previous FoM: 2.9982956279917015, new best FoM : 2.998296740485497\n"
     ]
    },
    {
     "name": "stderr",
     "output_type": "stream",
     "text": [
      "INFO:oc_logger:New record achieved. Previous FoM: 2.9982956279917015, new best FoM : 2.998296740485497\n"
     ]
    },
    {
     "name": "stdout",
     "output_type": "stream",
     "text": [
      "INFO     oc_logger    Function evaluation number: 577, SI: 3, Sub-iteration number: 41, FoM: 2.998296740485497\n"
     ]
    },
    {
     "name": "stderr",
     "output_type": "stream",
     "text": [
      "INFO:oc_logger:Function evaluation number: 577, SI: 3, Sub-iteration number: 41, FoM: 2.998296740485497\n",
      "DEBUG:oc_logger:User running: True\n",
      "DEBUG:oc_logger:User running: True\n",
      "DEBUG:oc_logger:User running: True\n",
      "DEBUG:oc_logger:User running: True\n"
     ]
    },
    {
     "name": "stdout",
     "output_type": "stream",
     "text": [
      "Coeff of psi:  0.9999981053002109\n",
      "Coeff of psi_targ:  0.4999824177314778\n",
      "INFO     oc_logger    Function evaluation number: 578, SI: 3, Sub-iteration number: 42, FoM: 2.9982718057966498\n"
     ]
    },
    {
     "name": "stderr",
     "output_type": "stream",
     "text": [
      "INFO:oc_logger:Function evaluation number: 578, SI: 3, Sub-iteration number: 42, FoM: 2.9982718057966498\n",
      "DEBUG:oc_logger:User running: True\n",
      "DEBUG:oc_logger:User running: True\n",
      "DEBUG:oc_logger:User running: True\n"
     ]
    },
    {
     "name": "stdout",
     "output_type": "stream",
     "text": [
      "Coeff of psi:  0.9999955530755977\n",
      "Coeff of psi_targ:  0.49999679482154613\n",
      "INFO     oc_logger    New record achieved. Previous FoM: 2.998296740485497, new best FoM : 2.9982975202989994\n"
     ]
    },
    {
     "name": "stderr",
     "output_type": "stream",
     "text": [
      "INFO:oc_logger:New record achieved. Previous FoM: 2.998296740485497, new best FoM : 2.9982975202989994\n"
     ]
    },
    {
     "name": "stdout",
     "output_type": "stream",
     "text": [
      "INFO     oc_logger    Function evaluation number: 579, SI: 3, Sub-iteration number: 42, FoM: 2.9982975202989994\n"
     ]
    },
    {
     "name": "stderr",
     "output_type": "stream",
     "text": [
      "INFO:oc_logger:Function evaluation number: 579, SI: 3, Sub-iteration number: 42, FoM: 2.9982975202989994\n",
      "DEBUG:oc_logger:User running: True\n",
      "DEBUG:oc_logger:User running: True\n",
      "DEBUG:oc_logger:User running: True\n",
      "DEBUG:oc_logger:User running: True\n"
     ]
    },
    {
     "name": "stdout",
     "output_type": "stream",
     "text": [
      "Coeff of psi:  0.9999884961593536\n",
      "Coeff of psi_targ:  0.49999300181656775\n",
      "INFO     oc_logger    Function evaluation number: 580, SI: 3, Sub-iteration number: 43, FoM: 2.998296119323764\n"
     ]
    },
    {
     "name": "stderr",
     "output_type": "stream",
     "text": [
      "INFO:oc_logger:Function evaluation number: 580, SI: 3, Sub-iteration number: 43, FoM: 2.998296119323764\n",
      "DEBUG:oc_logger:User running: True\n",
      "DEBUG:oc_logger:User running: True\n",
      "DEBUG:oc_logger:User running: True\n",
      "DEBUG:oc_logger:User running: True\n"
     ]
    },
    {
     "name": "stdout",
     "output_type": "stream",
     "text": [
      "Coeff of psi:  0.9999932505942473\n",
      "Coeff of psi_targ:  0.4999959116903905\n",
      "INFO     oc_logger    New record achieved. Previous FoM: 2.9982975202989994, new best FoM : 2.9983053975909497\n"
     ]
    },
    {
     "name": "stderr",
     "output_type": "stream",
     "text": [
      "INFO:oc_logger:New record achieved. Previous FoM: 2.9982975202989994, new best FoM : 2.9983053975909497\n"
     ]
    },
    {
     "name": "stdout",
     "output_type": "stream",
     "text": [
      "INFO     oc_logger    Function evaluation number: 581, SI: 3, Sub-iteration number: 44, FoM: 2.9983053975909497\n"
     ]
    },
    {
     "name": "stderr",
     "output_type": "stream",
     "text": [
      "INFO:oc_logger:Function evaluation number: 581, SI: 3, Sub-iteration number: 44, FoM: 2.9983053975909497\n",
      "DEBUG:oc_logger:User running: True\n",
      "DEBUG:oc_logger:User running: True\n",
      "DEBUG:oc_logger:User running: True\n"
     ]
    },
    {
     "name": "stdout",
     "output_type": "stream",
     "text": [
      "Coeff of psi:  0.9999864737393934\n",
      "Coeff of psi_targ:  0.49999321642077393\n",
      "INFO     oc_logger    Function evaluation number: 582, SI: 3, Sub-iteration number: 44, FoM: 2.9982828829857135\n"
     ]
    },
    {
     "name": "stderr",
     "output_type": "stream",
     "text": [
      "INFO:oc_logger:Function evaluation number: 582, SI: 3, Sub-iteration number: 44, FoM: 2.9982828829857135\n",
      "DEBUG:oc_logger:User running: True\n",
      "DEBUG:oc_logger:User running: True\n",
      "DEBUG:oc_logger:User running: True\n",
      "DEBUG:oc_logger:User running: True\n"
     ]
    },
    {
     "name": "stdout",
     "output_type": "stream",
     "text": [
      "Coeff of psi:  0.9999986561238426\n",
      "Coeff of psi_targ:  0.49998504859927895\n",
      "INFO     oc_logger    Function evaluation number: 583, SI: 3, Sub-iteration number: 45, FoM: 2.998291768551148\n"
     ]
    },
    {
     "name": "stderr",
     "output_type": "stream",
     "text": [
      "INFO:oc_logger:Function evaluation number: 583, SI: 3, Sub-iteration number: 45, FoM: 2.998291768551148\n",
      "DEBUG:oc_logger:User running: True\n",
      "DEBUG:oc_logger:User running: True\n",
      "DEBUG:oc_logger:User running: True\n",
      "DEBUG:oc_logger:User running: True\n"
     ]
    },
    {
     "name": "stdout",
     "output_type": "stream",
     "text": [
      "Coeff of psi:  0.999991955431923\n",
      "Coeff of psi_targ:  0.49999594445489043\n",
      "INFO     oc_logger    Function evaluation number: 584, SI: 3, Sub-iteration number: 46, FoM: 2.998292237855057\n"
     ]
    },
    {
     "name": "stderr",
     "output_type": "stream",
     "text": [
      "INFO:oc_logger:Function evaluation number: 584, SI: 3, Sub-iteration number: 46, FoM: 2.998292237855057\n",
      "DEBUG:oc_logger:User running: True\n",
      "DEBUG:oc_logger:User running: True\n",
      "DEBUG:oc_logger:User running: True\n",
      "DEBUG:oc_logger:User running: True\n"
     ]
    },
    {
     "name": "stdout",
     "output_type": "stream",
     "text": [
      "Coeff of psi:  0.9999741735524483\n",
      "Coeff of psi_targ:  0.49998580395466685\n",
      "INFO     oc_logger    Function evaluation number: 585, SI: 3, Sub-iteration number: 47, FoM: 2.9982545301272694\n"
     ]
    },
    {
     "name": "stderr",
     "output_type": "stream",
     "text": [
      "INFO:oc_logger:Function evaluation number: 585, SI: 3, Sub-iteration number: 47, FoM: 2.9982545301272694\n",
      "DEBUG:oc_logger:User running: True\n",
      "DEBUG:oc_logger:User running: True\n",
      "DEBUG:oc_logger:User running: True\n"
     ]
    },
    {
     "name": "stdout",
     "output_type": "stream",
     "text": [
      "Coeff of psi:  0.9999997237378966\n",
      "Coeff of psi_targ:  0.49999654758945977\n",
      "INFO     oc_logger    New record achieved. Previous FoM: 2.9983053975909497, new best FoM : 2.9983067605733424\n"
     ]
    },
    {
     "name": "stderr",
     "output_type": "stream",
     "text": [
      "INFO:oc_logger:New record achieved. Previous FoM: 2.9983053975909497, new best FoM : 2.9983067605733424\n"
     ]
    },
    {
     "name": "stdout",
     "output_type": "stream",
     "text": [
      "INFO     oc_logger    Function evaluation number: 586, SI: 3, Sub-iteration number: 47, FoM: 2.9983067605733424\n"
     ]
    },
    {
     "name": "stderr",
     "output_type": "stream",
     "text": [
      "INFO:oc_logger:Function evaluation number: 586, SI: 3, Sub-iteration number: 47, FoM: 2.9983067605733424\n",
      "DEBUG:oc_logger:User running: True\n",
      "DEBUG:oc_logger:User running: True\n",
      "DEBUG:oc_logger:User running: True\n",
      "DEBUG:oc_logger:User running: True\n"
     ]
    },
    {
     "name": "stdout",
     "output_type": "stream",
     "text": [
      "Coeff of psi:  0.9999921293711389\n",
      "Coeff of psi_targ:  0.499995060386174\n",
      "INFO     oc_logger    Function evaluation number: 587, SI: 3, Sub-iteration number: 48, FoM: 2.998271560775829\n"
     ]
    },
    {
     "name": "stderr",
     "output_type": "stream",
     "text": [
      "INFO:oc_logger:Function evaluation number: 587, SI: 3, Sub-iteration number: 48, FoM: 2.998271560775829\n",
      "DEBUG:oc_logger:User running: True\n",
      "DEBUG:oc_logger:User running: True\n",
      "DEBUG:oc_logger:User running: True\n"
     ]
    },
    {
     "name": "stdout",
     "output_type": "stream",
     "text": [
      "Coeff of psi:  0.9999975377493107\n",
      "Coeff of psi_targ:  0.4999920763747041\n",
      "INFO     oc_logger    Function evaluation number: 588, SI: 3, Sub-iteration number: 48, FoM: 2.9983049917559077\n"
     ]
    },
    {
     "name": "stderr",
     "output_type": "stream",
     "text": [
      "INFO:oc_logger:Function evaluation number: 588, SI: 3, Sub-iteration number: 48, FoM: 2.9983049917559077\n",
      "DEBUG:oc_logger:User running: True\n",
      "DEBUG:oc_logger:User running: True\n",
      "DEBUG:oc_logger:User running: True\n",
      "DEBUG:oc_logger:User running: True\n"
     ]
    },
    {
     "name": "stdout",
     "output_type": "stream",
     "text": [
      "Coeff of psi:  0.9999992405526387\n",
      "Coeff of psi_targ:  0.49998768074721617\n",
      "INFO     oc_logger    Function evaluation number: 589, SI: 3, Sub-iteration number: 49, FoM: 2.9982941818143893\n"
     ]
    },
    {
     "name": "stderr",
     "output_type": "stream",
     "text": [
      "INFO:oc_logger:Function evaluation number: 589, SI: 3, Sub-iteration number: 49, FoM: 2.9982941818143893\n",
      "DEBUG:oc_logger:User running: True\n",
      "DEBUG:oc_logger:User running: True\n",
      "DEBUG:oc_logger:User running: True\n",
      "DEBUG:oc_logger:User running: True\n"
     ]
    },
    {
     "name": "stdout",
     "output_type": "stream",
     "text": [
      "Coeff of psi:  0.9999989096817027\n",
      "Coeff of psi_targ:  0.4999850843648715\n",
      "INFO     oc_logger    Function evaluation number: 590, SI: 3, Sub-iteration number: 50, FoM: 2.99829001082977\n"
     ]
    },
    {
     "name": "stderr",
     "output_type": "stream",
     "text": [
      "INFO:oc_logger:Function evaluation number: 590, SI: 3, Sub-iteration number: 50, FoM: 2.99829001082977\n",
      "DEBUG:oc_logger:User running: True\n",
      "DEBUG:oc_logger:User running: True\n",
      "DEBUG:oc_logger:User running: True\n"
     ]
    },
    {
     "name": "stdout",
     "output_type": "stream",
     "text": [
      "Coeff of psi:  0.9999958574629759\n",
      "Coeff of psi_targ:  0.4999967271645544\n",
      "INFO     oc_logger    Function evaluation number: 591, SI: 3, Sub-iteration number: 50, FoM: 2.9983036863090278\n"
     ]
    },
    {
     "name": "stderr",
     "output_type": "stream",
     "text": [
      "INFO:oc_logger:Function evaluation number: 591, SI: 3, Sub-iteration number: 50, FoM: 2.9983036863090278\n",
      "DEBUG:oc_logger:User running: True\n",
      "DEBUG:oc_logger:User running: True\n",
      "DEBUG:oc_logger:User running: True\n",
      "DEBUG:oc_logger:User running: True\n"
     ]
    },
    {
     "name": "stdout",
     "output_type": "stream",
     "text": [
      "Coeff of psi:  0.9999923272562345\n",
      "Coeff of psi_targ:  0.4999961433902877\n",
      "INFO     oc_logger    Function evaluation number: 592, SI: 3, Sub-iteration number: 51, FoM: 2.998295135977661\n"
     ]
    },
    {
     "name": "stderr",
     "output_type": "stream",
     "text": [
      "INFO:oc_logger:Function evaluation number: 592, SI: 3, Sub-iteration number: 51, FoM: 2.998295135977661\n",
      "DEBUG:oc_logger:User running: True\n",
      "DEBUG:oc_logger:User running: True\n",
      "DEBUG:oc_logger:User running: True\n",
      "DEBUG:oc_logger:User running: True\n"
     ]
    },
    {
     "name": "stdout",
     "output_type": "stream",
     "text": [
      "Coeff of psi:  0.999990439221586\n",
      "Coeff of psi_targ:  0.4999952032162947\n",
      "INFO     oc_logger    Function evaluation number: 593, SI: 3, Sub-iteration number: 52, FoM: 2.998298431135408\n"
     ]
    },
    {
     "name": "stderr",
     "output_type": "stream",
     "text": [
      "INFO:oc_logger:Function evaluation number: 593, SI: 3, Sub-iteration number: 52, FoM: 2.998298431135408\n",
      "DEBUG:oc_logger:User running: True\n",
      "DEBUG:oc_logger:User running: True\n",
      "DEBUG:oc_logger:User running: True\n",
      "DEBUG:oc_logger:User running: True\n"
     ]
    },
    {
     "name": "stdout",
     "output_type": "stream",
     "text": [
      "Coeff of psi:  0.9999982957259852\n",
      "Coeff of psi_targ:  0.4999909258741091\n",
      "INFO     oc_logger    Function evaluation number: 594, SI: 3, Sub-iteration number: 53, FoM: 2.998303817795148\n"
     ]
    },
    {
     "name": "stderr",
     "output_type": "stream",
     "text": [
      "INFO:oc_logger:Function evaluation number: 594, SI: 3, Sub-iteration number: 53, FoM: 2.998303817795148\n",
      "DEBUG:oc_logger:User running: True\n",
      "DEBUG:oc_logger:User running: True\n",
      "DEBUG:oc_logger:User running: True\n",
      "DEBUG:oc_logger:User running: True\n"
     ]
    },
    {
     "name": "stdout",
     "output_type": "stream",
     "text": [
      "Coeff of psi:  0.9999980996981508\n",
      "Coeff of psi_targ:  0.499999026302987\n",
      "INFO     oc_logger    Function evaluation number: 595, SI: 3, Sub-iteration number: 54, FoM: 2.9982920134590407\n"
     ]
    },
    {
     "name": "stderr",
     "output_type": "stream",
     "text": [
      "INFO:oc_logger:Function evaluation number: 595, SI: 3, Sub-iteration number: 54, FoM: 2.9982920134590407\n",
      "DEBUG:oc_logger:User running: True\n",
      "DEBUG:oc_logger:User running: True\n",
      "DEBUG:oc_logger:User running: True\n"
     ]
    },
    {
     "name": "stdout",
     "output_type": "stream",
     "text": [
      "Coeff of psi:  0.9999951803607409\n",
      "Coeff of psi_targ:  0.49999295888102924\n",
      "INFO     oc_logger    Function evaluation number: 596, SI: 3, Sub-iteration number: 54, FoM: 2.998305075254338\n"
     ]
    },
    {
     "name": "stderr",
     "output_type": "stream",
     "text": [
      "INFO:oc_logger:Function evaluation number: 596, SI: 3, Sub-iteration number: 54, FoM: 2.998305075254338\n",
      "DEBUG:oc_logger:User running: True\n",
      "DEBUG:oc_logger:User running: True\n",
      "DEBUG:oc_logger:User running: True\n",
      "DEBUG:oc_logger:User running: True\n"
     ]
    },
    {
     "name": "stdout",
     "output_type": "stream",
     "text": [
      "Coeff of psi:  0.9999968490859574\n",
      "Coeff of psi_targ:  0.4999889308589159\n",
      "INFO     oc_logger    Function evaluation number: 597, SI: 3, Sub-iteration number: 55, FoM: 2.9982989479794884\n"
     ]
    },
    {
     "name": "stderr",
     "output_type": "stream",
     "text": [
      "INFO:oc_logger:Function evaluation number: 597, SI: 3, Sub-iteration number: 55, FoM: 2.9982989479794884\n",
      "DEBUG:oc_logger:User running: True\n",
      "DEBUG:oc_logger:User running: True\n",
      "DEBUG:oc_logger:User running: True\n",
      "DEBUG:oc_logger:User running: True\n"
     ]
    },
    {
     "name": "stdout",
     "output_type": "stream",
     "text": [
      "Coeff of psi:  0.9999999755158772\n",
      "Coeff of psi_targ:  0.4999931629697269\n",
      "INFO     oc_logger    Function evaluation number: 598, SI: 3, Sub-iteration number: 56, FoM: 2.998300492590269\n"
     ]
    },
    {
     "name": "stderr",
     "output_type": "stream",
     "text": [
      "INFO:oc_logger:Function evaluation number: 598, SI: 3, Sub-iteration number: 56, FoM: 2.998300492590269\n",
      "DEBUG:oc_logger:User running: True\n",
      "DEBUG:oc_logger:User running: True\n",
      "DEBUG:oc_logger:User running: True\n",
      "DEBUG:oc_logger:User running: True\n"
     ]
    },
    {
     "name": "stdout",
     "output_type": "stream",
     "text": [
      "Coeff of psi:  0.9999912172242715\n",
      "Coeff of psi_targ:  0.4999953749229176\n",
      "INFO     oc_logger    Function evaluation number: 599, SI: 3, Sub-iteration number: 57, FoM: 2.998300382028541\n"
     ]
    },
    {
     "name": "stderr",
     "output_type": "stream",
     "text": [
      "INFO:oc_logger:Function evaluation number: 599, SI: 3, Sub-iteration number: 57, FoM: 2.998300382028541\n",
      "DEBUG:oc_logger:User running: True\n",
      "DEBUG:oc_logger:User running: True\n",
      "DEBUG:oc_logger:User running: True\n",
      "DEBUG:oc_logger:User running: True\n"
     ]
    },
    {
     "name": "stdout",
     "output_type": "stream",
     "text": [
      "Coeff of psi:  0.9999976399178129\n",
      "Coeff of psi_targ:  0.49999249519032907\n",
      "INFO     oc_logger    New record achieved. Previous FoM: 2.9983067605733424, new best FoM : 2.9983138560365976\n"
     ]
    },
    {
     "name": "stderr",
     "output_type": "stream",
     "text": [
      "INFO:oc_logger:New record achieved. Previous FoM: 2.9983067605733424, new best FoM : 2.9983138560365976\n"
     ]
    },
    {
     "name": "stdout",
     "output_type": "stream",
     "text": [
      "INFO     oc_logger    Function evaluation number: 600, SI: 3, Sub-iteration number: 58, FoM: 2.9983138560365976\n"
     ]
    },
    {
     "name": "stderr",
     "output_type": "stream",
     "text": [
      "INFO:oc_logger:Function evaluation number: 600, SI: 3, Sub-iteration number: 58, FoM: 2.9983138560365976\n",
      "DEBUG:oc_logger:User running: True\n",
      "DEBUG:oc_logger:User running: True\n",
      "DEBUG:oc_logger:User running: True\n"
     ]
    },
    {
     "name": "stdout",
     "output_type": "stream",
     "text": [
      "Coeff of psi:  0.9999984199066125\n",
      "Coeff of psi_targ:  0.4999884272964185\n",
      "INFO     oc_logger    Function evaluation number: 601, SI: 3, Sub-iteration number: 58, FoM: 2.9983100588836495\n"
     ]
    },
    {
     "name": "stderr",
     "output_type": "stream",
     "text": [
      "INFO:oc_logger:Function evaluation number: 601, SI: 3, Sub-iteration number: 58, FoM: 2.9983100588836495\n",
      "DEBUG:oc_logger:User running: True\n",
      "DEBUG:oc_logger:User running: True\n",
      "DEBUG:oc_logger:User running: True\n",
      "DEBUG:oc_logger:User running: True\n"
     ]
    },
    {
     "name": "stdout",
     "output_type": "stream",
     "text": [
      "Coeff of psi:  0.9999999411963891\n",
      "Coeff of psi_targ:  0.49998392253489804\n",
      "INFO     oc_logger    Function evaluation number: 602, SI: 3, Sub-iteration number: 59, FoM: 2.998279212242657\n"
     ]
    },
    {
     "name": "stderr",
     "output_type": "stream",
     "text": [
      "INFO:oc_logger:Function evaluation number: 602, SI: 3, Sub-iteration number: 59, FoM: 2.998279212242657\n",
      "DEBUG:oc_logger:User running: True\n",
      "DEBUG:oc_logger:User running: True\n",
      "DEBUG:oc_logger:User running: True\n"
     ]
    },
    {
     "name": "stdout",
     "output_type": "stream",
     "text": [
      "Coeff of psi:  0.9999943466291726\n",
      "Coeff of psi_targ:  0.49999616607294295\n",
      "INFO     oc_logger    Function evaluation number: 603, SI: 3, Sub-iteration number: 59, FoM: 2.9983092751189897\n"
     ]
    },
    {
     "name": "stderr",
     "output_type": "stream",
     "text": [
      "INFO:oc_logger:Function evaluation number: 603, SI: 3, Sub-iteration number: 59, FoM: 2.9983092751189897\n",
      "DEBUG:oc_logger:User running: True\n",
      "DEBUG:oc_logger:User running: True\n",
      "DEBUG:oc_logger:User running: True\n",
      "DEBUG:oc_logger:User running: True\n"
     ]
    },
    {
     "name": "stdout",
     "output_type": "stream",
     "text": [
      "Coeff of psi:  0.9999971886575437\n",
      "Coeff of psi_targ:  0.49999832858738325\n",
      "INFO     oc_logger    Function evaluation number: 604, SI: 3, Sub-iteration number: 60, FoM: 2.9983071825800414\n"
     ]
    },
    {
     "name": "stderr",
     "output_type": "stream",
     "text": [
      "INFO:oc_logger:Function evaluation number: 604, SI: 3, Sub-iteration number: 60, FoM: 2.9983071825800414\n",
      "DEBUG:oc_logger:User running: True\n",
      "DEBUG:oc_logger:User running: True\n",
      "DEBUG:oc_logger:User running: True\n",
      "DEBUG:oc_logger:User running: True\n"
     ]
    },
    {
     "name": "stdout",
     "output_type": "stream",
     "text": [
      "Coeff of psi:  0.9999999469685021\n",
      "Coeff of psi_targ:  0.4999901801764103\n",
      "INFO     oc_logger    Function evaluation number: 605, SI: 3, Sub-iteration number: 61, FoM: 2.9982989414387977\n"
     ]
    },
    {
     "name": "stderr",
     "output_type": "stream",
     "text": [
      "INFO:oc_logger:Function evaluation number: 605, SI: 3, Sub-iteration number: 61, FoM: 2.9982989414387977\n",
      "DEBUG:oc_logger:User running: True\n",
      "DEBUG:oc_logger:User running: True\n",
      "DEBUG:oc_logger:User running: True\n"
     ]
    },
    {
     "name": "stdout",
     "output_type": "stream",
     "text": [
      "Coeff of psi:  0.9999948029146913\n",
      "Coeff of psi_targ:  0.4999961126907426\n",
      "INFO     oc_logger    Function evaluation number: 606, SI: 3, Sub-iteration number: 61, FoM: 2.998308413525206\n"
     ]
    },
    {
     "name": "stderr",
     "output_type": "stream",
     "text": [
      "INFO:oc_logger:Function evaluation number: 606, SI: 3, Sub-iteration number: 61, FoM: 2.998308413525206\n",
      "DEBUG:oc_logger:User running: True\n",
      "DEBUG:oc_logger:User running: True\n",
      "DEBUG:oc_logger:User running: True\n",
      "DEBUG:oc_logger:User running: True\n"
     ]
    },
    {
     "name": "stdout",
     "output_type": "stream",
     "text": [
      "Coeff of psi:  0.9999879798564647\n",
      "Coeff of psi_targ:  0.4999934957598511\n",
      "INFO     oc_logger    Function evaluation number: 607, SI: 3, Sub-iteration number: 62, FoM: 2.998298574711054\n"
     ]
    },
    {
     "name": "stderr",
     "output_type": "stream",
     "text": [
      "INFO:oc_logger:Function evaluation number: 607, SI: 3, Sub-iteration number: 62, FoM: 2.998298574711054\n",
      "DEBUG:oc_logger:User running: True\n",
      "DEBUG:oc_logger:User running: True\n",
      "DEBUG:oc_logger:User running: True\n"
     ]
    },
    {
     "name": "stdout",
     "output_type": "stream",
     "text": [
      "Coeff of psi:  0.9999990358987197\n",
      "Coeff of psi_targ:  0.49999498337605963\n",
      "INFO     oc_logger    Function evaluation number: 608, SI: 3, Sub-iteration number: 62, FoM: 2.998308521645352\n"
     ]
    },
    {
     "name": "stderr",
     "output_type": "stream",
     "text": [
      "INFO:oc_logger:Function evaluation number: 608, SI: 3, Sub-iteration number: 62, FoM: 2.998308521645352\n",
      "DEBUG:oc_logger:User running: True\n",
      "DEBUG:oc_logger:User running: True\n",
      "DEBUG:oc_logger:User running: True\n",
      "DEBUG:oc_logger:User running: True\n"
     ]
    },
    {
     "name": "stdout",
     "output_type": "stream",
     "text": [
      "Coeff of psi:  0.9999981067130255\n",
      "Coeff of psi_targ:  0.4999932181503649\n",
      "INFO     oc_logger    Function evaluation number: 609, SI: 3, Sub-iteration number: 63, FoM: 2.9983119134270746\n"
     ]
    },
    {
     "name": "stderr",
     "output_type": "stream",
     "text": [
      "INFO:oc_logger:Function evaluation number: 609, SI: 3, Sub-iteration number: 63, FoM: 2.9983119134270746\n",
      "DEBUG:oc_logger:User running: True\n",
      "DEBUG:oc_logger:User running: True\n",
      "DEBUG:oc_logger:User running: True\n",
      "DEBUG:oc_logger:User running: True\n"
     ]
    },
    {
     "name": "stdout",
     "output_type": "stream",
     "text": [
      "Coeff of psi:  0.9999955091500239\n",
      "Coeff of psi_targ:  0.49999742764313937\n",
      "INFO     oc_logger    Function evaluation number: 610, SI: 3, Sub-iteration number: 64, FoM: 2.9983108027472185\n"
     ]
    },
    {
     "name": "stderr",
     "output_type": "stream",
     "text": [
      "INFO:oc_logger:Function evaluation number: 610, SI: 3, Sub-iteration number: 64, FoM: 2.9983108027472185\n",
      "DEBUG:oc_logger:User running: True\n",
      "DEBUG:oc_logger:User running: True\n",
      "DEBUG:oc_logger:User running: True\n",
      "DEBUG:oc_logger:User running: True\n"
     ]
    },
    {
     "name": "stdout",
     "output_type": "stream",
     "text": [
      "Coeff of psi:  0.9999961428821423\n",
      "Coeff of psi_targ:  0.4999978716640801\n",
      "INFO     oc_logger    Function evaluation number: 611, SI: 3, Sub-iteration number: 65, FoM: 2.9983127355409964\n"
     ]
    },
    {
     "name": "stderr",
     "output_type": "stream",
     "text": [
      "INFO:oc_logger:Function evaluation number: 611, SI: 3, Sub-iteration number: 65, FoM: 2.9983127355409964\n",
      "DEBUG:oc_logger:User running: True\n",
      "DEBUG:oc_logger:User running: True\n",
      "DEBUG:oc_logger:User running: True\n",
      "DEBUG:oc_logger:User running: True\n"
     ]
    },
    {
     "name": "stdout",
     "output_type": "stream",
     "text": [
      "Coeff of psi:  0.9999983307838045\n",
      "Coeff of psi_targ:  0.49999887948079164\n",
      "INFO     oc_logger    New record achieved. Previous FoM: 2.9983138560365976, new best FoM : 2.9983159441661136\n"
     ]
    },
    {
     "name": "stderr",
     "output_type": "stream",
     "text": [
      "INFO:oc_logger:New record achieved. Previous FoM: 2.9983138560365976, new best FoM : 2.9983159441661136\n"
     ]
    },
    {
     "name": "stdout",
     "output_type": "stream",
     "text": [
      "INFO     oc_logger    Function evaluation number: 612, SI: 3, Sub-iteration number: 66, FoM: 2.9983159441661136\n"
     ]
    },
    {
     "name": "stderr",
     "output_type": "stream",
     "text": [
      "INFO:oc_logger:Function evaluation number: 612, SI: 3, Sub-iteration number: 66, FoM: 2.9983159441661136\n",
      "DEBUG:oc_logger:User running: True\n",
      "DEBUG:oc_logger:User running: True\n",
      "DEBUG:oc_logger:User running: True\n"
     ]
    },
    {
     "name": "stdout",
     "output_type": "stream",
     "text": [
      "Coeff of psi:  0.9999992875670806\n",
      "Coeff of psi_targ:  0.49999954534225466\n",
      "INFO     oc_logger    Function evaluation number: 613, SI: 3, Sub-iteration number: 66, FoM: 2.9983125465240974\n"
     ]
    },
    {
     "name": "stderr",
     "output_type": "stream",
     "text": [
      "INFO:oc_logger:Function evaluation number: 613, SI: 3, Sub-iteration number: 66, FoM: 2.9983125465240974\n",
      "DEBUG:oc_logger:User running: True\n",
      "DEBUG:oc_logger:User running: True\n",
      "DEBUG:oc_logger:User running: True\n",
      "DEBUG:oc_logger:User running: True\n"
     ]
    },
    {
     "name": "stdout",
     "output_type": "stream",
     "text": [
      "Coeff of psi:  0.9999996050279883\n",
      "Coeff of psi_targ:  0.4999966642089936\n",
      "INFO     oc_logger    Function evaluation number: 614, SI: 3, Sub-iteration number: 67, FoM: 2.9983130987486915\n"
     ]
    },
    {
     "name": "stderr",
     "output_type": "stream",
     "text": [
      "INFO:oc_logger:Function evaluation number: 614, SI: 3, Sub-iteration number: 67, FoM: 2.9983130987486915\n",
      "DEBUG:oc_logger:User running: True\n",
      "DEBUG:oc_logger:User running: True\n",
      "DEBUG:oc_logger:User running: True\n",
      "DEBUG:oc_logger:User running: True\n"
     ]
    },
    {
     "name": "stdout",
     "output_type": "stream",
     "text": [
      "Coeff of psi:  0.9999925736190993\n",
      "Coeff of psi_targ:  0.49999566440227017\n",
      "INFO     oc_logger    Function evaluation number: 615, SI: 3, Sub-iteration number: 68, FoM: 2.99830898661066\n"
     ]
    },
    {
     "name": "stderr",
     "output_type": "stream",
     "text": [
      "INFO:oc_logger:Function evaluation number: 615, SI: 3, Sub-iteration number: 68, FoM: 2.99830898661066\n",
      "DEBUG:oc_logger:User running: True\n",
      "DEBUG:oc_logger:User running: True\n",
      "DEBUG:oc_logger:User running: True\n",
      "DEBUG:oc_logger:User running: True\n"
     ]
    },
    {
     "name": "stdout",
     "output_type": "stream",
     "text": [
      "Coeff of psi:  0.9999968262158581\n",
      "Coeff of psi_targ:  0.49999380833491797\n",
      "INFO     oc_logger    Function evaluation number: 616, SI: 3, Sub-iteration number: 69, FoM: 2.998313108055013\n"
     ]
    },
    {
     "name": "stderr",
     "output_type": "stream",
     "text": [
      "INFO:oc_logger:Function evaluation number: 616, SI: 3, Sub-iteration number: 69, FoM: 2.998313108055013\n",
      "DEBUG:oc_logger:User running: True\n",
      "DEBUG:oc_logger:User running: True\n",
      "DEBUG:oc_logger:User running: True\n",
      "DEBUG:oc_logger:User running: True\n"
     ]
    },
    {
     "name": "stdout",
     "output_type": "stream",
     "text": [
      "Coeff of psi:  0.9999988428443108\n",
      "Coeff of psi_targ:  0.49999646062731856\n",
      "INFO     oc_logger    New record achieved. Previous FoM: 2.9983159441661136, new best FoM : 2.9983205851029306\n"
     ]
    },
    {
     "name": "stderr",
     "output_type": "stream",
     "text": [
      "INFO:oc_logger:New record achieved. Previous FoM: 2.9983159441661136, new best FoM : 2.9983205851029306\n"
     ]
    },
    {
     "name": "stdout",
     "output_type": "stream",
     "text": [
      "INFO     oc_logger    Function evaluation number: 617, SI: 3, Sub-iteration number: 70, FoM: 2.9983205851029306\n"
     ]
    },
    {
     "name": "stderr",
     "output_type": "stream",
     "text": [
      "INFO:oc_logger:Function evaluation number: 617, SI: 3, Sub-iteration number: 70, FoM: 2.9983205851029306\n",
      "DEBUG:oc_logger:User running: True\n",
      "DEBUG:oc_logger:User running: True\n",
      "DEBUG:oc_logger:User running: True\n"
     ]
    },
    {
     "name": "stdout",
     "output_type": "stream",
     "text": [
      "Coeff of psi:  0.9999997737269094\n",
      "Coeff of psi_targ:  0.49999582069198933\n",
      "INFO     oc_logger    New record achieved. Previous FoM: 2.9983205851029306, new best FoM : 2.998322288832977\n"
     ]
    },
    {
     "name": "stderr",
     "output_type": "stream",
     "text": [
      "INFO:oc_logger:New record achieved. Previous FoM: 2.9983205851029306, new best FoM : 2.998322288832977\n"
     ]
    },
    {
     "name": "stdout",
     "output_type": "stream",
     "text": [
      "INFO     oc_logger    Function evaluation number: 618, SI: 3, Sub-iteration number: 70, FoM: 2.998322288832977\n"
     ]
    },
    {
     "name": "stderr",
     "output_type": "stream",
     "text": [
      "INFO:oc_logger:Function evaluation number: 618, SI: 3, Sub-iteration number: 70, FoM: 2.998322288832977\n",
      "DEBUG:oc_logger:User running: True\n",
      "DEBUG:oc_logger:User running: True\n",
      "DEBUG:oc_logger:User running: True\n",
      "DEBUG:oc_logger:User running: True\n"
     ]
    },
    {
     "name": "stdout",
     "output_type": "stream",
     "text": [
      "Coeff of psi:  0.9999948323955791\n",
      "Coeff of psi_targ:  0.49999691163492466\n",
      "INFO     oc_logger    Function evaluation number: 619, SI: 3, Sub-iteration number: 71, FoM: 2.9983207632075732\n"
     ]
    },
    {
     "name": "stderr",
     "output_type": "stream",
     "text": [
      "INFO:oc_logger:Function evaluation number: 619, SI: 3, Sub-iteration number: 71, FoM: 2.9983207632075732\n",
      "DEBUG:oc_logger:User running: True\n",
      "DEBUG:oc_logger:User running: True\n",
      "DEBUG:oc_logger:User running: True\n",
      "DEBUG:oc_logger:User running: True\n"
     ]
    },
    {
     "name": "stdout",
     "output_type": "stream",
     "text": [
      "Coeff of psi:  0.999999806812121\n",
      "Coeff of psi_targ:  0.49999576676971846\n",
      "INFO     oc_logger    Function evaluation number: 620, SI: 3, Sub-iteration number: 72, FoM: 2.998315581954956\n"
     ]
    },
    {
     "name": "stderr",
     "output_type": "stream",
     "text": [
      "INFO:oc_logger:Function evaluation number: 620, SI: 3, Sub-iteration number: 72, FoM: 2.998315581954956\n",
      "DEBUG:oc_logger:User running: True\n",
      "DEBUG:oc_logger:User running: True\n",
      "DEBUG:oc_logger:User running: True\n",
      "DEBUG:oc_logger:User running: True\n"
     ]
    },
    {
     "name": "stdout",
     "output_type": "stream",
     "text": [
      "Coeff of psi:  0.9999998368422673\n",
      "Coeff of psi_targ:  0.49999578936160544\n",
      "INFO     oc_logger    Function evaluation number: 621, SI: 3, Sub-iteration number: 73, FoM: 2.998319584663313\n"
     ]
    },
    {
     "name": "stderr",
     "output_type": "stream",
     "text": [
      "INFO:oc_logger:Function evaluation number: 621, SI: 3, Sub-iteration number: 73, FoM: 2.998319584663313\n",
      "DEBUG:oc_logger:User running: True\n",
      "DEBUG:oc_logger:User running: True\n",
      "DEBUG:oc_logger:User running: True\n",
      "DEBUG:oc_logger:User running: True\n"
     ]
    },
    {
     "name": "stdout",
     "output_type": "stream",
     "text": [
      "Coeff of psi:  0.9999999021589667\n",
      "Coeff of psi_targ:  0.49999237150517734\n",
      "INFO     oc_logger    Function evaluation number: 622, SI: 3, Sub-iteration number: 74, FoM: 2.99831680707476\n"
     ]
    },
    {
     "name": "stderr",
     "output_type": "stream",
     "text": [
      "INFO:oc_logger:Function evaluation number: 622, SI: 3, Sub-iteration number: 74, FoM: 2.99831680707476\n",
      "DEBUG:oc_logger:User running: True\n",
      "DEBUG:oc_logger:User running: True\n",
      "DEBUG:oc_logger:User running: True\n",
      "DEBUG:oc_logger:User running: True\n"
     ]
    },
    {
     "name": "stdout",
     "output_type": "stream",
     "text": [
      "Coeff of psi:  0.9999992879982613\n",
      "Coeff of psi_targ:  0.49999870463032436\n",
      "INFO     oc_logger    New record achieved. Previous FoM: 2.998322288832977, new best FoM : 2.9983247037105327\n"
     ]
    },
    {
     "name": "stderr",
     "output_type": "stream",
     "text": [
      "INFO:oc_logger:New record achieved. Previous FoM: 2.998322288832977, new best FoM : 2.9983247037105327\n"
     ]
    },
    {
     "name": "stdout",
     "output_type": "stream",
     "text": [
      "INFO     oc_logger    Function evaluation number: 623, SI: 3, Sub-iteration number: 75, FoM: 2.9983247037105327\n"
     ]
    },
    {
     "name": "stderr",
     "output_type": "stream",
     "text": [
      "INFO:oc_logger:Function evaluation number: 623, SI: 3, Sub-iteration number: 75, FoM: 2.9983247037105327\n",
      "DEBUG:oc_logger:User running: True\n",
      "DEBUG:oc_logger:User running: True\n",
      "DEBUG:oc_logger:User running: True\n"
     ]
    },
    {
     "name": "stdout",
     "output_type": "stream",
     "text": [
      "Coeff of psi:  0.9999996645453121\n",
      "Coeff of psi_targ:  0.4999997598029811\n",
      "INFO     oc_logger    Function evaluation number: 624, SI: 3, Sub-iteration number: 75, FoM: 2.9983235807301876\n"
     ]
    },
    {
     "name": "stderr",
     "output_type": "stream",
     "text": [
      "INFO:oc_logger:Function evaluation number: 624, SI: 3, Sub-iteration number: 75, FoM: 2.9983235807301876\n",
      "DEBUG:oc_logger:User running: True\n",
      "DEBUG:oc_logger:User running: True\n",
      "DEBUG:oc_logger:User running: True\n",
      "DEBUG:oc_logger:User running: True\n"
     ]
    },
    {
     "name": "stdout",
     "output_type": "stream",
     "text": [
      "Coeff of psi:  0.999999999023987\n",
      "Coeff of psi_targ:  0.49999065812128657\n",
      "INFO     oc_logger    Function evaluation number: 625, SI: 3, Sub-iteration number: 76, FoM: 2.9983135439154074\n"
     ]
    },
    {
     "name": "stderr",
     "output_type": "stream",
     "text": [
      "INFO:oc_logger:Function evaluation number: 625, SI: 3, Sub-iteration number: 76, FoM: 2.9983135439154074\n",
      "DEBUG:oc_logger:User running: True\n",
      "DEBUG:oc_logger:User running: True\n",
      "DEBUG:oc_logger:User running: True\n",
      "DEBUG:oc_logger:User running: True\n"
     ]
    },
    {
     "name": "stdout",
     "output_type": "stream",
     "text": [
      "Coeff of psi:  0.9999984138981876\n",
      "Coeff of psi_targ:  0.49999522747423963\n",
      "INFO     oc_logger    Function evaluation number: 626, SI: 3, Sub-iteration number: 77, FoM: 2.998321194154955\n"
     ]
    },
    {
     "name": "stderr",
     "output_type": "stream",
     "text": [
      "INFO:oc_logger:Function evaluation number: 626, SI: 3, Sub-iteration number: 77, FoM: 2.998321194154955\n",
      "DEBUG:oc_logger:User running: True\n",
      "DEBUG:oc_logger:User running: True\n",
      "DEBUG:oc_logger:User running: True\n",
      "DEBUG:oc_logger:User running: True\n"
     ]
    },
    {
     "name": "stdout",
     "output_type": "stream",
     "text": [
      "Coeff of psi:  0.9999999999137876\n",
      "Coeff of psi_targ:  0.4999975413723178\n",
      "INFO     oc_logger    Function evaluation number: 627, SI: 3, Sub-iteration number: 78, FoM: 2.9983244505317797\n"
     ]
    },
    {
     "name": "stderr",
     "output_type": "stream",
     "text": [
      "INFO:oc_logger:Function evaluation number: 627, SI: 3, Sub-iteration number: 78, FoM: 2.9983244505317797\n",
      "DEBUG:oc_logger:User running: True\n",
      "DEBUG:oc_logger:User running: True\n",
      "DEBUG:oc_logger:User running: True\n",
      "DEBUG:oc_logger:User running: True\n"
     ]
    },
    {
     "name": "stdout",
     "output_type": "stream",
     "text": [
      "Coeff of psi:  0.9999970011190541\n",
      "Coeff of psi_targ:  0.4999983541097022\n",
      "INFO     oc_logger    Function evaluation number: 628, SI: 3, Sub-iteration number: 79, FoM: 2.9983177046524765\n"
     ]
    },
    {
     "name": "stderr",
     "output_type": "stream",
     "text": [
      "INFO:oc_logger:Function evaluation number: 628, SI: 3, Sub-iteration number: 79, FoM: 2.9983177046524765\n",
      "DEBUG:oc_logger:User running: True\n",
      "DEBUG:oc_logger:User running: True\n",
      "DEBUG:oc_logger:User running: True\n",
      "DEBUG:oc_logger:User running: True\n"
     ]
    },
    {
     "name": "stdout",
     "output_type": "stream",
     "text": [
      "Coeff of psi:  0.9999999275410694\n",
      "Coeff of psi_targ:  0.4999997187911545\n",
      "INFO     oc_logger    Function evaluation number: 629, SI: 3, Sub-iteration number: 80, FoM: 2.9983238943228105\n"
     ]
    },
    {
     "name": "stderr",
     "output_type": "stream",
     "text": [
      "INFO:oc_logger:Function evaluation number: 629, SI: 3, Sub-iteration number: 80, FoM: 2.9983238943228105\n",
      "DEBUG:oc_logger:User running: True\n",
      "DEBUG:oc_logger:User running: True\n",
      "DEBUG:oc_logger:User running: True\n",
      "DEBUG:oc_logger:User running: True\n"
     ]
    },
    {
     "name": "stdout",
     "output_type": "stream",
     "text": [
      "Coeff of psi:  0.9999982081177139\n",
      "Coeff of psi_targ:  0.49999864899284374\n",
      "INFO     oc_logger    New record achieved. Previous FoM: 2.9983247037105327, new best FoM : 2.998327325306741\n"
     ]
    },
    {
     "name": "stderr",
     "output_type": "stream",
     "text": [
      "INFO:oc_logger:New record achieved. Previous FoM: 2.9983247037105327, new best FoM : 2.998327325306741\n"
     ]
    },
    {
     "name": "stdout",
     "output_type": "stream",
     "text": [
      "INFO     oc_logger    Function evaluation number: 630, SI: 3, Sub-iteration number: 81, FoM: 2.998327325306741\n"
     ]
    },
    {
     "name": "stderr",
     "output_type": "stream",
     "text": [
      "INFO:oc_logger:Function evaluation number: 630, SI: 3, Sub-iteration number: 81, FoM: 2.998327325306741\n",
      "DEBUG:oc_logger:User running: True\n",
      "DEBUG:oc_logger:User running: True\n",
      "DEBUG:oc_logger:User running: True\n"
     ]
    },
    {
     "name": "stdout",
     "output_type": "stream",
     "text": [
      "Coeff of psi:  0.9999967508015316\n",
      "Coeff of psi_targ:  0.4999983563137341\n",
      "INFO     oc_logger    Function evaluation number: 631, SI: 3, Sub-iteration number: 81, FoM: 2.998322839877688\n"
     ]
    },
    {
     "name": "stderr",
     "output_type": "stream",
     "text": [
      "INFO:oc_logger:Function evaluation number: 631, SI: 3, Sub-iteration number: 81, FoM: 2.998322839877688\n",
      "DEBUG:oc_logger:User running: True\n",
      "DEBUG:oc_logger:User running: True\n",
      "DEBUG:oc_logger:User running: True\n",
      "DEBUG:oc_logger:User running: True\n"
     ]
    },
    {
     "name": "stdout",
     "output_type": "stream",
     "text": [
      "Coeff of psi:  0.9999997604585663\n",
      "Coeff of psi_targ:  0.49999511338766145\n",
      "INFO     oc_logger    New record achieved. Previous FoM: 2.998327325306741, new best FoM : 2.998328158324801\n"
     ]
    },
    {
     "name": "stderr",
     "output_type": "stream",
     "text": [
      "INFO:oc_logger:New record achieved. Previous FoM: 2.998327325306741, new best FoM : 2.998328158324801\n"
     ]
    },
    {
     "name": "stdout",
     "output_type": "stream",
     "text": [
      "INFO     oc_logger    Function evaluation number: 632, SI: 3, Sub-iteration number: 82, FoM: 2.998328158324801\n"
     ]
    },
    {
     "name": "stderr",
     "output_type": "stream",
     "text": [
      "INFO:oc_logger:Function evaluation number: 632, SI: 3, Sub-iteration number: 82, FoM: 2.998328158324801\n",
      "DEBUG:oc_logger:User running: True\n",
      "DEBUG:oc_logger:User running: True\n",
      "DEBUG:oc_logger:User running: True\n"
     ]
    },
    {
     "name": "stdout",
     "output_type": "stream",
     "text": [
      "Coeff of psi:  0.9999999911299053\n",
      "Coeff of psi_targ:  0.49999089407024316\n",
      "INFO     oc_logger    Function evaluation number: 633, SI: 3, Sub-iteration number: 82, FoM: 2.998322022639642\n"
     ]
    },
    {
     "name": "stderr",
     "output_type": "stream",
     "text": [
      "INFO:oc_logger:Function evaluation number: 633, SI: 3, Sub-iteration number: 82, FoM: 2.998322022639642\n",
      "DEBUG:oc_logger:User running: True\n",
      "DEBUG:oc_logger:User running: True\n",
      "DEBUG:oc_logger:User running: True\n",
      "DEBUG:oc_logger:User running: True\n"
     ]
    },
    {
     "name": "stdout",
     "output_type": "stream",
     "text": [
      "Coeff of psi:  0.9999977379277103\n",
      "Coeff of psi_targ:  0.49999882832830234\n",
      "INFO     oc_logger    Function evaluation number: 634, SI: 3, Sub-iteration number: 83, FoM: 2.998321950146689\n"
     ]
    },
    {
     "name": "stderr",
     "output_type": "stream",
     "text": [
      "INFO:oc_logger:Function evaluation number: 634, SI: 3, Sub-iteration number: 83, FoM: 2.998321950146689\n",
      "DEBUG:oc_logger:User running: True\n",
      "DEBUG:oc_logger:User running: True\n",
      "DEBUG:oc_logger:User running: True\n",
      "DEBUG:oc_logger:User running: True\n"
     ]
    },
    {
     "name": "stdout",
     "output_type": "stream",
     "text": [
      "Coeff of psi:  0.999999998598488\n",
      "Coeff of psi_targ:  0.49999548109552405\n",
      "INFO     oc_logger    Function evaluation number: 635, SI: 3, Sub-iteration number: 84, FoM: 2.998327458521963\n"
     ]
    },
    {
     "name": "stderr",
     "output_type": "stream",
     "text": [
      "INFO:oc_logger:Function evaluation number: 635, SI: 3, Sub-iteration number: 84, FoM: 2.998327458521963\n",
      "DEBUG:oc_logger:User running: True\n",
      "DEBUG:oc_logger:User running: True\n",
      "DEBUG:oc_logger:User running: True\n",
      "DEBUG:oc_logger:User running: True\n"
     ]
    },
    {
     "name": "stdout",
     "output_type": "stream",
     "text": [
      "Coeff of psi:  0.9999983343933615\n",
      "Coeff of psi_targ:  0.4999989280826092\n",
      "INFO     oc_logger    New record achieved. Previous FoM: 2.998328158324801, new best FoM : 2.998332507264188\n"
     ]
    },
    {
     "name": "stderr",
     "output_type": "stream",
     "text": [
      "INFO:oc_logger:New record achieved. Previous FoM: 2.998328158324801, new best FoM : 2.998332507264188\n"
     ]
    },
    {
     "name": "stdout",
     "output_type": "stream",
     "text": [
      "INFO     oc_logger    Function evaluation number: 636, SI: 3, Sub-iteration number: 85, FoM: 2.998332507264188\n"
     ]
    },
    {
     "name": "stderr",
     "output_type": "stream",
     "text": [
      "INFO:oc_logger:Function evaluation number: 636, SI: 3, Sub-iteration number: 85, FoM: 2.998332507264188\n",
      "DEBUG:oc_logger:User running: True\n",
      "DEBUG:oc_logger:User running: True\n",
      "DEBUG:oc_logger:User running: True\n"
     ]
    },
    {
     "name": "stdout",
     "output_type": "stream",
     "text": [
      "Coeff of psi:  0.9999969888879651\n",
      "Coeff of psi_targ:  0.4999983851069769\n",
      "INFO     oc_logger    Function evaluation number: 637, SI: 3, Sub-iteration number: 85, FoM: 2.998331293861162\n"
     ]
    },
    {
     "name": "stderr",
     "output_type": "stream",
     "text": [
      "INFO:oc_logger:Function evaluation number: 637, SI: 3, Sub-iteration number: 85, FoM: 2.998331293861162\n",
      "DEBUG:oc_logger:User running: True\n",
      "DEBUG:oc_logger:User running: True\n",
      "DEBUG:oc_logger:User running: True\n",
      "DEBUG:oc_logger:User running: True\n"
     ]
    },
    {
     "name": "stdout",
     "output_type": "stream",
     "text": [
      "Coeff of psi:  0.9999994030360464\n",
      "Coeff of psi_targ:  0.499996583247215\n",
      "INFO     oc_logger    Function evaluation number: 638, SI: 3, Sub-iteration number: 86, FoM: 2.9983220696851385\n"
     ]
    },
    {
     "name": "stderr",
     "output_type": "stream",
     "text": [
      "INFO:oc_logger:Function evaluation number: 638, SI: 3, Sub-iteration number: 86, FoM: 2.9983220696851385\n",
      "DEBUG:oc_logger:User running: True\n",
      "DEBUG:oc_logger:User running: True\n",
      "DEBUG:oc_logger:User running: True\n",
      "DEBUG:oc_logger:User running: True\n"
     ]
    },
    {
     "name": "stdout",
     "output_type": "stream",
     "text": [
      "Coeff of psi:  0.9999999727276372\n",
      "Coeff of psi_targ:  0.4999997978766421\n",
      "INFO     oc_logger    Function evaluation number: 639, SI: 3, Sub-iteration number: 87, FoM: 2.9983234532862655\n"
     ]
    },
    {
     "name": "stderr",
     "output_type": "stream",
     "text": [
      "INFO:oc_logger:Function evaluation number: 639, SI: 3, Sub-iteration number: 87, FoM: 2.9983234532862655\n",
      "DEBUG:oc_logger:User running: True\n",
      "DEBUG:oc_logger:User running: True\n",
      "DEBUG:oc_logger:User running: True\n",
      "DEBUG:oc_logger:User running: True\n"
     ]
    },
    {
     "name": "stdout",
     "output_type": "stream",
     "text": [
      "Coeff of psi:  0.9999994454388684\n",
      "Coeff of psi_targ:  0.49999250556141883\n",
      "INFO     oc_logger    Function evaluation number: 640, SI: 3, Sub-iteration number: 88, FoM: 2.998316709886747\n"
     ]
    },
    {
     "name": "stderr",
     "output_type": "stream",
     "text": [
      "INFO:oc_logger:Function evaluation number: 640, SI: 3, Sub-iteration number: 88, FoM: 2.998316709886747\n",
      "DEBUG:oc_logger:User running: True\n",
      "DEBUG:oc_logger:User running: True\n",
      "DEBUG:oc_logger:User running: True\n"
     ]
    },
    {
     "name": "stdout",
     "output_type": "stream",
     "text": [
      "Coeff of psi:  0.9999991145973065\n",
      "Coeff of psi_targ:  0.49999923302627386\n",
      "INFO     oc_logger    Function evaluation number: 641, SI: 3, Sub-iteration number: 88, FoM: 2.9983281299381073\n"
     ]
    },
    {
     "name": "stderr",
     "output_type": "stream",
     "text": [
      "INFO:oc_logger:Function evaluation number: 641, SI: 3, Sub-iteration number: 88, FoM: 2.9983281299381073\n",
      "DEBUG:oc_logger:User running: True\n",
      "DEBUG:oc_logger:User running: True\n",
      "DEBUG:oc_logger:User running: True\n",
      "DEBUG:oc_logger:User running: True\n"
     ]
    },
    {
     "name": "stdout",
     "output_type": "stream",
     "text": [
      "Coeff of psi:  0.9999964774417641\n",
      "Coeff of psi_targ:  0.49999794434513334\n",
      "INFO     oc_logger    Function evaluation number: 642, SI: 3, Sub-iteration number: 89, FoM: 2.998323574010797\n"
     ]
    },
    {
     "name": "stderr",
     "output_type": "stream",
     "text": [
      "INFO:oc_logger:Function evaluation number: 642, SI: 3, Sub-iteration number: 89, FoM: 2.998323574010797\n",
      "DEBUG:oc_logger:User running: True\n",
      "DEBUG:oc_logger:User running: True\n",
      "DEBUG:oc_logger:User running: True\n",
      "DEBUG:oc_logger:User running: True\n"
     ]
    },
    {
     "name": "stdout",
     "output_type": "stream",
     "text": [
      "Coeff of psi:  0.9999991801299137\n",
      "Coeff of psi_targ:  0.49999957235058073\n",
      "INFO     oc_logger    Function evaluation number: 643, SI: 3, Sub-iteration number: 90, FoM: 2.998330473788102\n"
     ]
    },
    {
     "name": "stderr",
     "output_type": "stream",
     "text": [
      "INFO:oc_logger:Function evaluation number: 643, SI: 3, Sub-iteration number: 90, FoM: 2.998330473788102\n",
      "DEBUG:oc_logger:User running: True\n",
      "DEBUG:oc_logger:User running: True\n",
      "DEBUG:oc_logger:User running: True\n",
      "DEBUG:oc_logger:User running: True\n"
     ]
    },
    {
     "name": "stdout",
     "output_type": "stream",
     "text": [
      "Coeff of psi:  0.9999968960519635\n",
      "Coeff of psi_targ:  0.4999962490480779\n",
      "INFO     oc_logger    Function evaluation number: 644, SI: 3, Sub-iteration number: 91, FoM: 2.9983242555437037\n"
     ]
    },
    {
     "name": "stderr",
     "output_type": "stream",
     "text": [
      "INFO:oc_logger:Function evaluation number: 644, SI: 3, Sub-iteration number: 91, FoM: 2.9983242555437037\n",
      "DEBUG:oc_logger:User running: True\n",
      "DEBUG:oc_logger:User running: True\n",
      "DEBUG:oc_logger:User running: True\n",
      "DEBUG:oc_logger:User running: True\n"
     ]
    },
    {
     "name": "stdout",
     "output_type": "stream",
     "text": [
      "Coeff of psi:  0.999999909926995\n",
      "Coeff of psi_targ:  0.49999747668268124\n",
      "INFO     oc_logger    Function evaluation number: 645, SI: 3, Sub-iteration number: 92, FoM: 2.9983276287713725\n"
     ]
    },
    {
     "name": "stderr",
     "output_type": "stream",
     "text": [
      "INFO:oc_logger:Function evaluation number: 645, SI: 3, Sub-iteration number: 92, FoM: 2.9983276287713725\n",
      "DEBUG:oc_logger:User running: True\n",
      "DEBUG:oc_logger:User running: True\n",
      "DEBUG:oc_logger:User running: True\n",
      "DEBUG:oc_logger:User running: True\n"
     ]
    },
    {
     "name": "stdout",
     "output_type": "stream",
     "text": [
      "Coeff of psi:  0.9999985840584288\n",
      "Coeff of psi_targ:  0.49999594334275405\n",
      "INFO     oc_logger    Function evaluation number: 646, SI: 3, Sub-iteration number: 93, FoM: 2.998330891630386\n"
     ]
    },
    {
     "name": "stderr",
     "output_type": "stream",
     "text": [
      "INFO:oc_logger:Function evaluation number: 646, SI: 3, Sub-iteration number: 93, FoM: 2.998330891630386\n",
      "DEBUG:oc_logger:User running: True\n",
      "DEBUG:oc_logger:User running: True\n",
      "DEBUG:oc_logger:User running: True\n",
      "DEBUG:oc_logger:User running: True\n"
     ]
    },
    {
     "name": "stdout",
     "output_type": "stream",
     "text": [
      "Coeff of psi:  0.999999825755761\n",
      "Coeff of psi_targ:  0.49999909895789496\n",
      "INFO     oc_logger    Function evaluation number: 647, SI: 3, Sub-iteration number: 94, FoM: 2.9983279426917457\n"
     ]
    },
    {
     "name": "stderr",
     "output_type": "stream",
     "text": [
      "INFO:oc_logger:Function evaluation number: 647, SI: 3, Sub-iteration number: 94, FoM: 2.9983279426917457\n",
      "DEBUG:oc_logger:User running: True\n",
      "DEBUG:oc_logger:User running: True\n",
      "DEBUG:oc_logger:User running: True\n",
      "DEBUG:oc_logger:User running: True\n"
     ]
    },
    {
     "name": "stdout",
     "output_type": "stream",
     "text": [
      "Coeff of psi:  0.9999983657542302\n",
      "Coeff of psi_targ:  0.49999868888970167\n",
      "INFO     oc_logger    Function evaluation number: 648, SI: 3, Sub-iteration number: 95, FoM: 2.998332458072124\n"
     ]
    },
    {
     "name": "stderr",
     "output_type": "stream",
     "text": [
      "INFO:oc_logger:Function evaluation number: 648, SI: 3, Sub-iteration number: 95, FoM: 2.998332458072124\n",
      "DEBUG:oc_logger:User running: True\n",
      "DEBUG:oc_logger:User running: True\n",
      "DEBUG:oc_logger:User running: True\n",
      "DEBUG:oc_logger:User running: True\n"
     ]
    },
    {
     "name": "stdout",
     "output_type": "stream",
     "text": [
      "Coeff of psi:  0.9999997319291078\n",
      "Coeff of psi_targ:  0.499998298236746\n",
      "INFO     oc_logger    New record achieved. Previous FoM: 2.998332507264188, new best FoM : 2.9983356903877105\n"
     ]
    },
    {
     "name": "stderr",
     "output_type": "stream",
     "text": [
      "INFO:oc_logger:New record achieved. Previous FoM: 2.998332507264188, new best FoM : 2.9983356903877105\n"
     ]
    },
    {
     "name": "stdout",
     "output_type": "stream",
     "text": [
      "INFO     oc_logger    Function evaluation number: 649, SI: 3, Sub-iteration number: 96, FoM: 2.9983356903877105\n"
     ]
    },
    {
     "name": "stderr",
     "output_type": "stream",
     "text": [
      "INFO:oc_logger:Function evaluation number: 649, SI: 3, Sub-iteration number: 96, FoM: 2.9983356903877105\n",
      "DEBUG:oc_logger:User running: True\n",
      "DEBUG:oc_logger:User running: True\n",
      "DEBUG:oc_logger:User running: True\n"
     ]
    },
    {
     "name": "stdout",
     "output_type": "stream",
     "text": [
      "Coeff of psi:  0.9999998605176621\n",
      "Coeff of psi_targ:  0.4999979008202983\n",
      "INFO     oc_logger    Function evaluation number: 650, SI: 3, Sub-iteration number: 96, FoM: 2.9983331150920343\n"
     ]
    },
    {
     "name": "stderr",
     "output_type": "stream",
     "text": [
      "INFO:oc_logger:Function evaluation number: 650, SI: 3, Sub-iteration number: 96, FoM: 2.9983331150920343\n",
      "DEBUG:oc_logger:User running: True\n",
      "DEBUG:oc_logger:User running: True\n",
      "DEBUG:oc_logger:User running: True\n",
      "DEBUG:oc_logger:User running: True\n"
     ]
    },
    {
     "name": "stdout",
     "output_type": "stream",
     "text": [
      "Coeff of psi:  0.9999999762602411\n",
      "Coeff of psi_targ:  0.49999727862674204\n",
      "INFO     oc_logger    Function evaluation number: 651, SI: 3, Sub-iteration number: 97, FoM: 2.9983353242700597\n"
     ]
    },
    {
     "name": "stderr",
     "output_type": "stream",
     "text": [
      "INFO:oc_logger:Function evaluation number: 651, SI: 3, Sub-iteration number: 97, FoM: 2.9983353242700597\n",
      "DEBUG:oc_logger:User running: True\n",
      "DEBUG:oc_logger:User running: True\n",
      "DEBUG:oc_logger:User running: True\n",
      "DEBUG:oc_logger:User running: True\n"
     ]
    },
    {
     "name": "stdout",
     "output_type": "stream",
     "text": [
      "Coeff of psi:  0.9999987714944865\n",
      "Coeff of psi_targ:  0.49999936113123505\n",
      "INFO     oc_logger    Function evaluation number: 652, SI: 3, Sub-iteration number: 98, FoM: 2.9983331600665823\n"
     ]
    },
    {
     "name": "stderr",
     "output_type": "stream",
     "text": [
      "INFO:oc_logger:Function evaluation number: 652, SI: 3, Sub-iteration number: 98, FoM: 2.9983331600665823\n",
      "DEBUG:oc_logger:User running: True\n",
      "DEBUG:oc_logger:User running: True\n",
      "DEBUG:oc_logger:User running: True\n",
      "DEBUG:oc_logger:User running: True\n"
     ]
    },
    {
     "name": "stdout",
     "output_type": "stream",
     "text": [
      "Coeff of psi:  0.999997011218625\n",
      "Coeff of psi_targ:  0.49999837176570705\n",
      "INFO     oc_logger    Function evaluation number: 653, SI: 3, Sub-iteration number: 99, FoM: 2.9983337441701803\n"
     ]
    },
    {
     "name": "stderr",
     "output_type": "stream",
     "text": [
      "INFO:oc_logger:Function evaluation number: 653, SI: 3, Sub-iteration number: 99, FoM: 2.9983337441701803\n",
      "DEBUG:oc_logger:User running: True\n",
      "DEBUG:oc_logger:User running: True\n",
      "DEBUG:oc_logger:User running: True\n",
      "DEBUG:oc_logger:User running: True\n"
     ]
    },
    {
     "name": "stdout",
     "output_type": "stream",
     "text": [
      "Coeff of psi:  0.9999948151470605\n",
      "Coeff of psi_targ:  0.49999657364453653\n",
      "INFO     oc_logger    Function evaluation number: 654, SI: 3, Sub-iteration number: 100, FoM: 2.998326067602556\n"
     ]
    },
    {
     "name": "stderr",
     "output_type": "stream",
     "text": [
      "INFO:oc_logger:Function evaluation number: 654, SI: 3, Sub-iteration number: 100, FoM: 2.998326067602556\n",
      "DEBUG:oc_logger:User running: True\n",
      "DEBUG:oc_logger:User running: True\n",
      "DEBUG:oc_logger:User running: True\n"
     ]
    },
    {
     "name": "stdout",
     "output_type": "stream",
     "text": [
      "Coeff of psi:  0.9999999349140207\n",
      "Coeff of psi_targ:  0.4999991481644674\n",
      "INFO     oc_logger    Function evaluation number: 655, SI: 3, Sub-iteration number: 100, FoM: 2.998333638444488\n"
     ]
    },
    {
     "name": "stderr",
     "output_type": "stream",
     "text": [
      "INFO:oc_logger:Function evaluation number: 655, SI: 3, Sub-iteration number: 100, FoM: 2.998333638444488\n",
      "DEBUG:oc_logger:User running: True\n",
      "DEBUG:oc_logger:User running: True\n",
      "DEBUG:oc_logger:User running: True\n",
      "DEBUG:oc_logger:User running: True\n"
     ]
    },
    {
     "name": "stdout",
     "output_type": "stream",
     "text": [
      "Coeff of psi:  0.9999993908525866\n",
      "Coeff of psi_targ:  0.4999979527208683\n",
      "INFO     oc_logger    New record achieved. Previous FoM: 2.9983356903877105, new best FoM : 2.9983420799173395\n"
     ]
    },
    {
     "name": "stderr",
     "output_type": "stream",
     "text": [
      "INFO:oc_logger:New record achieved. Previous FoM: 2.9983356903877105, new best FoM : 2.9983420799173395\n"
     ]
    },
    {
     "name": "stdout",
     "output_type": "stream",
     "text": [
      "INFO     oc_logger    Function evaluation number: 656, SI: 3, Sub-iteration number: 101, FoM: 2.9983420799173395\n"
     ]
    },
    {
     "name": "stderr",
     "output_type": "stream",
     "text": [
      "INFO:oc_logger:Function evaluation number: 656, SI: 3, Sub-iteration number: 101, FoM: 2.9983420799173395\n",
      "DEBUG:oc_logger:User running: True\n",
      "DEBUG:oc_logger:User running: True\n",
      "DEBUG:oc_logger:User running: True\n"
     ]
    },
    {
     "name": "stdout",
     "output_type": "stream",
     "text": [
      "Coeff of psi:  0.9999995059764251\n",
      "Coeff of psi_targ:  0.49999685760202656\n",
      "INFO     oc_logger    New record achieved. Previous FoM: 2.9983420799173395, new best FoM : 2.998346674257207\n"
     ]
    },
    {
     "name": "stderr",
     "output_type": "stream",
     "text": [
      "INFO:oc_logger:New record achieved. Previous FoM: 2.9983420799173395, new best FoM : 2.998346674257207\n"
     ]
    },
    {
     "name": "stdout",
     "output_type": "stream",
     "text": [
      "INFO     oc_logger    Function evaluation number: 657, SI: 3, Sub-iteration number: 101, FoM: 2.998346674257207\n"
     ]
    },
    {
     "name": "stderr",
     "output_type": "stream",
     "text": [
      "INFO:oc_logger:Function evaluation number: 657, SI: 3, Sub-iteration number: 101, FoM: 2.998346674257207\n",
      "DEBUG:oc_logger:User running: True\n",
      "DEBUG:oc_logger:User running: True\n",
      "DEBUG:oc_logger:User running: True\n",
      "DEBUG:oc_logger:User running: True\n"
     ]
    },
    {
     "name": "stdout",
     "output_type": "stream",
     "text": [
      "Coeff of psi:  0.9999983770891222\n",
      "Coeff of psi_targ:  0.49999900722522017\n",
      "INFO     oc_logger    Function evaluation number: 658, SI: 3, Sub-iteration number: 102, FoM: 2.998334947011393\n"
     ]
    },
    {
     "name": "stderr",
     "output_type": "stream",
     "text": [
      "INFO:oc_logger:Function evaluation number: 658, SI: 3, Sub-iteration number: 102, FoM: 2.998334947011393\n",
      "DEBUG:oc_logger:User running: True\n",
      "DEBUG:oc_logger:User running: True\n",
      "DEBUG:oc_logger:User running: True\n",
      "DEBUG:oc_logger:User running: True\n"
     ]
    },
    {
     "name": "stdout",
     "output_type": "stream",
     "text": [
      "Coeff of psi:  0.9999991283760724\n",
      "Coeff of psi_targ:  0.4999965892745332\n",
      "INFO     oc_logger    Function evaluation number: 659, SI: 3, Sub-iteration number: 103, FoM: 2.9983363343021927\n"
     ]
    },
    {
     "name": "stderr",
     "output_type": "stream",
     "text": [
      "INFO:oc_logger:Function evaluation number: 659, SI: 3, Sub-iteration number: 103, FoM: 2.9983363343021927\n",
      "DEBUG:oc_logger:User running: True\n",
      "DEBUG:oc_logger:User running: True\n",
      "DEBUG:oc_logger:User running: True\n",
      "DEBUG:oc_logger:User running: True\n"
     ]
    },
    {
     "name": "stdout",
     "output_type": "stream",
     "text": [
      "Coeff of psi:  0.9999996437952565\n",
      "Coeff of psi_targ:  0.4999997834476713\n",
      "INFO     oc_logger    Function evaluation number: 660, SI: 3, Sub-iteration number: 104, FoM: 2.998338749157443\n"
     ]
    },
    {
     "name": "stderr",
     "output_type": "stream",
     "text": [
      "INFO:oc_logger:Function evaluation number: 660, SI: 3, Sub-iteration number: 104, FoM: 2.998338749157443\n",
      "DEBUG:oc_logger:User running: True\n",
      "DEBUG:oc_logger:User running: True\n",
      "DEBUG:oc_logger:User running: True\n",
      "DEBUG:oc_logger:User running: True\n"
     ]
    },
    {
     "name": "stdout",
     "output_type": "stream",
     "text": [
      "Coeff of psi:  0.9999998615831328\n",
      "Coeff of psi_targ:  0.49999924388865774\n",
      "INFO     oc_logger    Function evaluation number: 661, SI: 3, Sub-iteration number: 105, FoM: 2.9983436205239746\n"
     ]
    },
    {
     "name": "stderr",
     "output_type": "stream",
     "text": [
      "INFO:oc_logger:Function evaluation number: 661, SI: 3, Sub-iteration number: 105, FoM: 2.9983436205239746\n",
      "DEBUG:oc_logger:User running: True\n",
      "DEBUG:oc_logger:User running: True\n",
      "DEBUG:oc_logger:User running: True\n",
      "DEBUG:oc_logger:User running: True\n"
     ]
    },
    {
     "name": "stdout",
     "output_type": "stream",
     "text": [
      "Coeff of psi:  0.9999999679454417\n",
      "Coeff of psi_targ:  0.4999987363721297\n",
      "INFO     oc_logger    Function evaluation number: 662, SI: 3, Sub-iteration number: 106, FoM: 2.998344968711365\n"
     ]
    },
    {
     "name": "stderr",
     "output_type": "stream",
     "text": [
      "INFO:oc_logger:Function evaluation number: 662, SI: 3, Sub-iteration number: 106, FoM: 2.998344968711365\n",
      "DEBUG:oc_logger:User running: True\n",
      "DEBUG:oc_logger:User running: True\n",
      "DEBUG:oc_logger:User running: True\n",
      "DEBUG:oc_logger:User running: True\n"
     ]
    },
    {
     "name": "stdout",
     "output_type": "stream",
     "text": [
      "Coeff of psi:  0.9999999707722442\n",
      "Coeff of psi_targ:  0.49999709435256273\n",
      "INFO     oc_logger    Function evaluation number: 663, SI: 3, Sub-iteration number: 107, FoM: 2.998344295085106\n"
     ]
    },
    {
     "name": "stderr",
     "output_type": "stream",
     "text": [
      "INFO:oc_logger:Function evaluation number: 663, SI: 3, Sub-iteration number: 107, FoM: 2.998344295085106\n",
      "DEBUG:oc_logger:User running: True\n",
      "DEBUG:oc_logger:User running: True\n",
      "DEBUG:oc_logger:User running: True\n",
      "DEBUG:oc_logger:User running: True\n"
     ]
    },
    {
     "name": "stdout",
     "output_type": "stream",
     "text": [
      "Coeff of psi:  0.9999989765635128\n",
      "Coeff of psi_targ:  0.4999983733178612\n",
      "INFO     oc_logger    New record achieved. Previous FoM: 2.998346674257207, new best FoM : 2.998348651326346\n"
     ]
    },
    {
     "name": "stderr",
     "output_type": "stream",
     "text": [
      "INFO:oc_logger:New record achieved. Previous FoM: 2.998346674257207, new best FoM : 2.998348651326346\n"
     ]
    },
    {
     "name": "stdout",
     "output_type": "stream",
     "text": [
      "INFO     oc_logger    Function evaluation number: 664, SI: 3, Sub-iteration number: 108, FoM: 2.998348651326346\n"
     ]
    },
    {
     "name": "stderr",
     "output_type": "stream",
     "text": [
      "INFO:oc_logger:Function evaluation number: 664, SI: 3, Sub-iteration number: 108, FoM: 2.998348651326346\n",
      "DEBUG:oc_logger:User running: True\n",
      "DEBUG:oc_logger:User running: True\n",
      "DEBUG:oc_logger:User running: True\n"
     ]
    },
    {
     "name": "stdout",
     "output_type": "stream",
     "text": [
      "Coeff of psi:  0.9999980476869755\n",
      "Coeff of psi_targ:  0.49999772684142935\n",
      "INFO     oc_logger    New record achieved. Previous FoM: 2.998348651326346, new best FoM : 2.9983510342717365\n"
     ]
    },
    {
     "name": "stderr",
     "output_type": "stream",
     "text": [
      "INFO:oc_logger:New record achieved. Previous FoM: 2.998348651326346, new best FoM : 2.9983510342717365\n"
     ]
    },
    {
     "name": "stdout",
     "output_type": "stream",
     "text": [
      "INFO     oc_logger    Function evaluation number: 665, SI: 3, Sub-iteration number: 108, FoM: 2.9983510342717365\n"
     ]
    },
    {
     "name": "stderr",
     "output_type": "stream",
     "text": [
      "INFO:oc_logger:Function evaluation number: 665, SI: 3, Sub-iteration number: 108, FoM: 2.9983510342717365\n",
      "DEBUG:oc_logger:User running: True\n",
      "DEBUG:oc_logger:User running: True\n",
      "DEBUG:oc_logger:User running: True\n",
      "DEBUG:oc_logger:User running: True\n"
     ]
    },
    {
     "name": "stdout",
     "output_type": "stream",
     "text": [
      "Coeff of psi:  0.9999997235136375\n",
      "Coeff of psi_targ:  0.49999672764776404\n",
      "INFO     oc_logger    Function evaluation number: 666, SI: 3, Sub-iteration number: 109, FoM: 2.9983426419165324\n"
     ]
    },
    {
     "name": "stderr",
     "output_type": "stream",
     "text": [
      "INFO:oc_logger:Function evaluation number: 666, SI: 3, Sub-iteration number: 109, FoM: 2.9983426419165324\n",
      "DEBUG:oc_logger:User running: True\n",
      "DEBUG:oc_logger:User running: True\n",
      "DEBUG:oc_logger:User running: True\n",
      "DEBUG:oc_logger:User running: True\n"
     ]
    },
    {
     "name": "stdout",
     "output_type": "stream",
     "text": [
      "Coeff of psi:  0.9999998086463282\n",
      "Coeff of psi_targ:  0.49999126792142545\n",
      "INFO     oc_logger    Function evaluation number: 667, SI: 3, Sub-iteration number: 110, FoM: 2.9983295173292412\n"
     ]
    },
    {
     "name": "stderr",
     "output_type": "stream",
     "text": [
      "INFO:oc_logger:Function evaluation number: 667, SI: 3, Sub-iteration number: 110, FoM: 2.9983295173292412\n",
      "DEBUG:oc_logger:User running: True\n",
      "DEBUG:oc_logger:User running: True\n",
      "DEBUG:oc_logger:User running: True\n"
     ]
    },
    {
     "name": "stdout",
     "output_type": "stream",
     "text": [
      "Coeff of psi:  0.9999992856689689\n",
      "Coeff of psi_targ:  0.49999944169387694\n",
      "INFO     oc_logger    Function evaluation number: 668, SI: 3, Sub-iteration number: 110, FoM: 2.9983430345730873\n"
     ]
    },
    {
     "name": "stderr",
     "output_type": "stream",
     "text": [
      "INFO:oc_logger:Function evaluation number: 668, SI: 3, Sub-iteration number: 110, FoM: 2.9983430345730873\n",
      "DEBUG:oc_logger:User running: True\n",
      "DEBUG:oc_logger:User running: True\n",
      "DEBUG:oc_logger:User running: True\n",
      "DEBUG:oc_logger:User running: True\n"
     ]
    },
    {
     "name": "stdout",
     "output_type": "stream",
     "text": [
      "Coeff of psi:  0.9999985672631404\n",
      "Coeff of psi_targ:  0.4999988306659415\n",
      "INFO     oc_logger    Function evaluation number: 669, SI: 3, Sub-iteration number: 111, FoM: 2.9983486768345955\n"
     ]
    },
    {
     "name": "stderr",
     "output_type": "stream",
     "text": [
      "INFO:oc_logger:Function evaluation number: 669, SI: 3, Sub-iteration number: 111, FoM: 2.9983486768345955\n",
      "DEBUG:oc_logger:User running: True\n",
      "DEBUG:oc_logger:User running: True\n",
      "DEBUG:oc_logger:User running: True\n",
      "DEBUG:oc_logger:User running: True\n"
     ]
    },
    {
     "name": "stdout",
     "output_type": "stream",
     "text": [
      "Coeff of psi:  0.9999995709988683\n",
      "Coeff of psi_targ:  0.49999890017815213\n",
      "INFO     oc_logger    New record achieved. Previous FoM: 2.9983510342717365, new best FoM : 2.9983578594254867\n"
     ]
    },
    {
     "name": "stderr",
     "output_type": "stream",
     "text": [
      "INFO:oc_logger:New record achieved. Previous FoM: 2.9983510342717365, new best FoM : 2.9983578594254867\n"
     ]
    },
    {
     "name": "stdout",
     "output_type": "stream",
     "text": [
      "INFO     oc_logger    Function evaluation number: 670, SI: 3, Sub-iteration number: 112, FoM: 2.9983578594254867\n"
     ]
    },
    {
     "name": "stderr",
     "output_type": "stream",
     "text": [
      "INFO:oc_logger:Function evaluation number: 670, SI: 3, Sub-iteration number: 112, FoM: 2.9983578594254867\n",
      "DEBUG:oc_logger:User running: True\n",
      "DEBUG:oc_logger:User running: True\n",
      "DEBUG:oc_logger:User running: True\n"
     ]
    },
    {
     "name": "stdout",
     "output_type": "stream",
     "text": [
      "Coeff of psi:  0.9999994704030395\n",
      "Coeff of psi_targ:  0.4999991014432541\n",
      "INFO     oc_logger    New record achieved. Previous FoM: 2.9983578594254867, new best FoM : 2.998367850939618\n"
     ]
    },
    {
     "name": "stderr",
     "output_type": "stream",
     "text": [
      "INFO:oc_logger:New record achieved. Previous FoM: 2.9983578594254867, new best FoM : 2.998367850939618\n"
     ]
    },
    {
     "name": "stdout",
     "output_type": "stream",
     "text": [
      "INFO     oc_logger    Function evaluation number: 671, SI: 3, Sub-iteration number: 112, FoM: 2.998367850939618\n"
     ]
    },
    {
     "name": "stderr",
     "output_type": "stream",
     "text": [
      "INFO:oc_logger:Function evaluation number: 671, SI: 3, Sub-iteration number: 112, FoM: 2.998367850939618\n",
      "DEBUG:oc_logger:User running: True\n",
      "DEBUG:oc_logger:User running: True\n",
      "DEBUG:oc_logger:User running: True\n",
      "DEBUG:oc_logger:User running: True\n"
     ]
    },
    {
     "name": "stdout",
     "output_type": "stream",
     "text": [
      "Coeff of psi:  0.9999999610601035\n",
      "Coeff of psi_targ:  0.4999998950988596\n",
      "INFO     oc_logger    Function evaluation number: 672, SI: 3, Sub-iteration number: 113, FoM: 2.9983582751431688\n"
     ]
    },
    {
     "name": "stderr",
     "output_type": "stream",
     "text": [
      "INFO:oc_logger:Function evaluation number: 672, SI: 3, Sub-iteration number: 113, FoM: 2.9983582751431688\n",
      "DEBUG:oc_logger:User running: True\n",
      "DEBUG:oc_logger:User running: True\n",
      "DEBUG:oc_logger:User running: True\n",
      "DEBUG:oc_logger:User running: True\n"
     ]
    },
    {
     "name": "stdout",
     "output_type": "stream",
     "text": [
      "Coeff of psi:  0.9999997926480461\n",
      "Coeff of psi_targ:  0.49999496408136673\n",
      "INFO     oc_logger    Function evaluation number: 673, SI: 3, Sub-iteration number: 114, FoM: 2.998352864631622\n"
     ]
    },
    {
     "name": "stderr",
     "output_type": "stream",
     "text": [
      "INFO:oc_logger:Function evaluation number: 673, SI: 3, Sub-iteration number: 114, FoM: 2.998352864631622\n",
      "DEBUG:oc_logger:User running: True\n",
      "DEBUG:oc_logger:User running: True\n",
      "DEBUG:oc_logger:User running: True\n",
      "DEBUG:oc_logger:User running: True\n"
     ]
    },
    {
     "name": "stdout",
     "output_type": "stream",
     "text": [
      "Coeff of psi:  0.9999968484371089\n",
      "Coeff of psi_targ:  0.49999824870665555\n",
      "INFO     oc_logger    Function evaluation number: 674, SI: 3, Sub-iteration number: 115, FoM: 2.9983510096687915\n"
     ]
    },
    {
     "name": "stderr",
     "output_type": "stream",
     "text": [
      "INFO:oc_logger:Function evaluation number: 674, SI: 3, Sub-iteration number: 115, FoM: 2.9983510096687915\n",
      "DEBUG:oc_logger:User running: True\n",
      "DEBUG:oc_logger:User running: True\n",
      "DEBUG:oc_logger:User running: True\n",
      "DEBUG:oc_logger:User running: True\n"
     ]
    },
    {
     "name": "stdout",
     "output_type": "stream",
     "text": [
      "Coeff of psi:  0.9999996535715598\n",
      "Coeff of psi_targ:  0.4999968350690084\n",
      "INFO     oc_logger    Function evaluation number: 675, SI: 3, Sub-iteration number: 116, FoM: 2.998361469869764\n"
     ]
    },
    {
     "name": "stderr",
     "output_type": "stream",
     "text": [
      "INFO:oc_logger:Function evaluation number: 675, SI: 3, Sub-iteration number: 116, FoM: 2.998361469869764\n",
      "DEBUG:oc_logger:User running: True\n",
      "DEBUG:oc_logger:User running: True\n",
      "DEBUG:oc_logger:User running: True\n",
      "DEBUG:oc_logger:User running: True\n"
     ]
    },
    {
     "name": "stdout",
     "output_type": "stream",
     "text": [
      "Coeff of psi:  0.9999987535830777\n",
      "Coeff of psi_targ:  0.49999703623445646\n",
      "INFO     oc_logger    Function evaluation number: 676, SI: 3, Sub-iteration number: 117, FoM: 2.998358417679801\n"
     ]
    },
    {
     "name": "stderr",
     "output_type": "stream",
     "text": [
      "INFO:oc_logger:Function evaluation number: 676, SI: 3, Sub-iteration number: 117, FoM: 2.998358417679801\n",
      "DEBUG:oc_logger:User running: True\n",
      "DEBUG:oc_logger:User running: True\n",
      "DEBUG:oc_logger:User running: True\n",
      "DEBUG:oc_logger:User running: True\n"
     ]
    },
    {
     "name": "stdout",
     "output_type": "stream",
     "text": [
      "Coeff of psi:  0.9999977580710324\n",
      "Coeff of psi_targ:  0.49999849377368877\n",
      "INFO     oc_logger    Function evaluation number: 677, SI: 3, Sub-iteration number: 118, FoM: 2.9983650385718192\n"
     ]
    },
    {
     "name": "stderr",
     "output_type": "stream",
     "text": [
      "INFO:oc_logger:Function evaluation number: 677, SI: 3, Sub-iteration number: 118, FoM: 2.9983650385718192\n",
      "DEBUG:oc_logger:User running: True\n",
      "DEBUG:oc_logger:User running: True\n",
      "DEBUG:oc_logger:User running: True\n",
      "DEBUG:oc_logger:User running: True\n"
     ]
    },
    {
     "name": "stdout",
     "output_type": "stream",
     "text": [
      "Coeff of psi:  0.9999969252452953\n",
      "Coeff of psi_targ:  0.499997241903213\n",
      "INFO     oc_logger    New record achieved. Previous FoM: 2.998367850939618, new best FoM : 2.998369101413029\n"
     ]
    },
    {
     "name": "stderr",
     "output_type": "stream",
     "text": [
      "INFO:oc_logger:New record achieved. Previous FoM: 2.998367850939618, new best FoM : 2.998369101413029\n"
     ]
    },
    {
     "name": "stdout",
     "output_type": "stream",
     "text": [
      "INFO     oc_logger    Function evaluation number: 678, SI: 3, Sub-iteration number: 119, FoM: 2.998369101413029\n"
     ]
    },
    {
     "name": "stderr",
     "output_type": "stream",
     "text": [
      "INFO:oc_logger:Function evaluation number: 678, SI: 3, Sub-iteration number: 119, FoM: 2.998369101413029\n",
      "DEBUG:oc_logger:User running: True\n",
      "DEBUG:oc_logger:User running: True\n",
      "DEBUG:oc_logger:User running: True\n"
     ]
    },
    {
     "name": "stdout",
     "output_type": "stream",
     "text": [
      "Coeff of psi:  0.9999935006487239\n",
      "Coeff of psi_targ:  0.4999955051852516\n",
      "INFO     oc_logger    New record achieved. Previous FoM: 2.998369101413029, new best FoM : 2.998374580507889\n"
     ]
    },
    {
     "name": "stderr",
     "output_type": "stream",
     "text": [
      "INFO:oc_logger:New record achieved. Previous FoM: 2.998369101413029, new best FoM : 2.998374580507889\n"
     ]
    },
    {
     "name": "stdout",
     "output_type": "stream",
     "text": [
      "INFO     oc_logger    Function evaluation number: 679, SI: 3, Sub-iteration number: 119, FoM: 2.998374580507889\n"
     ]
    },
    {
     "name": "stderr",
     "output_type": "stream",
     "text": [
      "INFO:oc_logger:Function evaluation number: 679, SI: 3, Sub-iteration number: 119, FoM: 2.998374580507889\n",
      "DEBUG:oc_logger:User running: True\n",
      "DEBUG:oc_logger:User running: True\n",
      "DEBUG:oc_logger:User running: True\n",
      "DEBUG:oc_logger:User running: True\n"
     ]
    },
    {
     "name": "stdout",
     "output_type": "stream",
     "text": [
      "Coeff of psi:  0.9999974374529427\n",
      "Coeff of psi_targ:  0.4999985514522282\n",
      "INFO     oc_logger    Function evaluation number: 680, SI: 3, Sub-iteration number: 120, FoM: 2.998374531307946\n"
     ]
    },
    {
     "name": "stderr",
     "output_type": "stream",
     "text": [
      "INFO:oc_logger:Function evaluation number: 680, SI: 3, Sub-iteration number: 120, FoM: 2.998374531307946\n",
      "DEBUG:oc_logger:User running: True\n",
      "DEBUG:oc_logger:User running: True\n",
      "DEBUG:oc_logger:User running: True\n",
      "DEBUG:oc_logger:User running: True\n"
     ]
    },
    {
     "name": "stdout",
     "output_type": "stream",
     "text": [
      "Coeff of psi:  0.9999985950942557\n",
      "Coeff of psi_targ:  0.49999736012435364\n",
      "INFO     oc_logger    New record achieved. Previous FoM: 2.998374580507889, new best FoM : 2.9983806407374503\n"
     ]
    },
    {
     "name": "stderr",
     "output_type": "stream",
     "text": [
      "INFO:oc_logger:New record achieved. Previous FoM: 2.998374580507889, new best FoM : 2.9983806407374503\n"
     ]
    },
    {
     "name": "stdout",
     "output_type": "stream",
     "text": [
      "INFO     oc_logger    Function evaluation number: 681, SI: 3, Sub-iteration number: 121, FoM: 2.9983806407374503\n"
     ]
    },
    {
     "name": "stderr",
     "output_type": "stream",
     "text": [
      "INFO:oc_logger:Function evaluation number: 681, SI: 3, Sub-iteration number: 121, FoM: 2.9983806407374503\n",
      "DEBUG:oc_logger:User running: True\n",
      "DEBUG:oc_logger:User running: True\n",
      "DEBUG:oc_logger:User running: True\n"
     ]
    },
    {
     "name": "stdout",
     "output_type": "stream",
     "text": [
      "Coeff of psi:  0.9999985845598408\n",
      "Coeff of psi_targ:  0.4999960878581191\n",
      "INFO     oc_logger    New record achieved. Previous FoM: 2.9983806407374503, new best FoM : 2.998394408716681\n"
     ]
    },
    {
     "name": "stderr",
     "output_type": "stream",
     "text": [
      "INFO:oc_logger:New record achieved. Previous FoM: 2.9983806407374503, new best FoM : 2.998394408716681\n"
     ]
    },
    {
     "name": "stdout",
     "output_type": "stream",
     "text": [
      "INFO     oc_logger    Function evaluation number: 682, SI: 3, Sub-iteration number: 121, FoM: 2.998394408716681\n"
     ]
    },
    {
     "name": "stderr",
     "output_type": "stream",
     "text": [
      "INFO:oc_logger:Function evaluation number: 682, SI: 3, Sub-iteration number: 121, FoM: 2.998394408716681\n",
      "DEBUG:oc_logger:User running: True\n",
      "DEBUG:oc_logger:User running: True\n",
      "DEBUG:oc_logger:User running: True\n",
      "DEBUG:oc_logger:User running: True\n"
     ]
    },
    {
     "name": "stdout",
     "output_type": "stream",
     "text": [
      "Coeff of psi:  0.9999997513875837\n",
      "Coeff of psi_targ:  0.4999962103093481\n",
      "INFO     oc_logger    Function evaluation number: 683, SI: 3, Sub-iteration number: 122, FoM: 2.9983774576761593\n"
     ]
    },
    {
     "name": "stderr",
     "output_type": "stream",
     "text": [
      "INFO:oc_logger:Function evaluation number: 683, SI: 3, Sub-iteration number: 122, FoM: 2.9983774576761593\n",
      "DEBUG:oc_logger:User running: True\n",
      "DEBUG:oc_logger:User running: True\n",
      "DEBUG:oc_logger:User running: True\n",
      "DEBUG:oc_logger:User running: True\n"
     ]
    },
    {
     "name": "stdout",
     "output_type": "stream",
     "text": [
      "Coeff of psi:  0.9999995285424766\n",
      "Coeff of psi_targ:  0.49999796465951185\n",
      "INFO     oc_logger    Function evaluation number: 684, SI: 3, Sub-iteration number: 123, FoM: 2.998391432942242\n"
     ]
    },
    {
     "name": "stderr",
     "output_type": "stream",
     "text": [
      "INFO:oc_logger:Function evaluation number: 684, SI: 3, Sub-iteration number: 123, FoM: 2.998391432942242\n",
      "DEBUG:oc_logger:User running: True\n",
      "DEBUG:oc_logger:User running: True\n",
      "DEBUG:oc_logger:User running: True\n",
      "DEBUG:oc_logger:User running: True\n"
     ]
    },
    {
     "name": "stdout",
     "output_type": "stream",
     "text": [
      "Coeff of psi:  0.9999971994034604\n",
      "Coeff of psi_targ:  0.4999985836672206\n",
      "INFO     oc_logger    Function evaluation number: 685, SI: 3, Sub-iteration number: 124, FoM: 2.9983891321331146\n"
     ]
    },
    {
     "name": "stderr",
     "output_type": "stream",
     "text": [
      "INFO:oc_logger:Function evaluation number: 685, SI: 3, Sub-iteration number: 124, FoM: 2.9983891321331146\n",
      "DEBUG:oc_logger:User running: True\n",
      "DEBUG:oc_logger:User running: True\n",
      "DEBUG:oc_logger:User running: True\n",
      "DEBUG:oc_logger:User running: True\n"
     ]
    },
    {
     "name": "stdout",
     "output_type": "stream",
     "text": [
      "Coeff of psi:  0.9999950051931346\n",
      "Coeff of psi_targ:  0.49999350747761173\n",
      "INFO     oc_logger    Function evaluation number: 686, SI: 3, Sub-iteration number: 125, FoM: 2.998382531528195\n"
     ]
    },
    {
     "name": "stderr",
     "output_type": "stream",
     "text": [
      "INFO:oc_logger:Function evaluation number: 686, SI: 3, Sub-iteration number: 125, FoM: 2.998382531528195\n",
      "DEBUG:oc_logger:User running: True\n",
      "DEBUG:oc_logger:User running: True\n",
      "DEBUG:oc_logger:User running: True\n",
      "DEBUG:oc_logger:User running: True\n"
     ]
    },
    {
     "name": "stdout",
     "output_type": "stream",
     "text": [
      "Coeff of psi:  0.9999976366930735\n",
      "Coeff of psi_targ:  0.4999981155202089\n",
      "INFO     oc_logger    New record achieved. Previous FoM: 2.998394408716681, new best FoM : 2.9984001532459192\n"
     ]
    },
    {
     "name": "stderr",
     "output_type": "stream",
     "text": [
      "INFO:oc_logger:New record achieved. Previous FoM: 2.998394408716681, new best FoM : 2.9984001532459192\n"
     ]
    },
    {
     "name": "stdout",
     "output_type": "stream",
     "text": [
      "INFO     oc_logger    Function evaluation number: 687, SI: 3, Sub-iteration number: 126, FoM: 2.9984001532459192\n"
     ]
    },
    {
     "name": "stderr",
     "output_type": "stream",
     "text": [
      "INFO:oc_logger:Function evaluation number: 687, SI: 3, Sub-iteration number: 126, FoM: 2.9984001532459192\n",
      "DEBUG:oc_logger:User running: True\n",
      "DEBUG:oc_logger:User running: True\n",
      "DEBUG:oc_logger:User running: True\n"
     ]
    },
    {
     "name": "stdout",
     "output_type": "stream",
     "text": [
      "Coeff of psi:  0.999996885677761\n",
      "Coeff of psi_targ:  0.49999815547591336\n",
      "INFO     oc_logger    New record achieved. Previous FoM: 2.9984001532459192, new best FoM : 2.9984137303084935\n"
     ]
    },
    {
     "name": "stderr",
     "output_type": "stream",
     "text": [
      "INFO:oc_logger:New record achieved. Previous FoM: 2.9984001532459192, new best FoM : 2.9984137303084935\n"
     ]
    },
    {
     "name": "stdout",
     "output_type": "stream",
     "text": [
      "INFO     oc_logger    Function evaluation number: 688, SI: 3, Sub-iteration number: 126, FoM: 2.9984137303084935\n"
     ]
    },
    {
     "name": "stderr",
     "output_type": "stream",
     "text": [
      "INFO:oc_logger:Function evaluation number: 688, SI: 3, Sub-iteration number: 126, FoM: 2.9984137303084935\n",
      "DEBUG:oc_logger:User running: True\n",
      "DEBUG:oc_logger:User running: True\n",
      "DEBUG:oc_logger:User running: True\n",
      "DEBUG:oc_logger:User running: True\n"
     ]
    },
    {
     "name": "stdout",
     "output_type": "stream",
     "text": [
      "Coeff of psi:  0.9999947101475554\n",
      "Coeff of psi_targ:  0.4999971988588252\n",
      "INFO     oc_logger    Function evaluation number: 689, SI: 3, Sub-iteration number: 127, FoM: 2.9984066272510788\n"
     ]
    },
    {
     "name": "stderr",
     "output_type": "stream",
     "text": [
      "INFO:oc_logger:Function evaluation number: 689, SI: 3, Sub-iteration number: 127, FoM: 2.9984066272510788\n",
      "DEBUG:oc_logger:User running: True\n",
      "DEBUG:oc_logger:User running: True\n",
      "DEBUG:oc_logger:User running: True\n",
      "DEBUG:oc_logger:User running: True\n"
     ]
    },
    {
     "name": "stdout",
     "output_type": "stream",
     "text": [
      "Coeff of psi:  0.9999975908194496\n",
      "Coeff of psi_targ:  0.49999660574614807\n",
      "INFO     oc_logger    New record achieved. Previous FoM: 2.9984137303084935, new best FoM : 2.998417124663499\n"
     ]
    },
    {
     "name": "stderr",
     "output_type": "stream",
     "text": [
      "INFO:oc_logger:New record achieved. Previous FoM: 2.9984137303084935, new best FoM : 2.998417124663499\n"
     ]
    },
    {
     "name": "stdout",
     "output_type": "stream",
     "text": [
      "INFO     oc_logger    Function evaluation number: 690, SI: 3, Sub-iteration number: 128, FoM: 2.998417124663499\n"
     ]
    },
    {
     "name": "stderr",
     "output_type": "stream",
     "text": [
      "INFO:oc_logger:Function evaluation number: 690, SI: 3, Sub-iteration number: 128, FoM: 2.998417124663499\n",
      "DEBUG:oc_logger:User running: True\n",
      "DEBUG:oc_logger:User running: True\n",
      "DEBUG:oc_logger:User running: True\n"
     ]
    },
    {
     "name": "stdout",
     "output_type": "stream",
     "text": [
      "Coeff of psi:  0.9999974385025631\n",
      "Coeff of psi_targ:  0.49999478390384916\n",
      "INFO     oc_logger    New record achieved. Previous FoM: 2.998417124663499, new best FoM : 2.998440143518722\n"
     ]
    },
    {
     "name": "stderr",
     "output_type": "stream",
     "text": [
      "INFO:oc_logger:New record achieved. Previous FoM: 2.998417124663499, new best FoM : 2.998440143518722\n"
     ]
    },
    {
     "name": "stdout",
     "output_type": "stream",
     "text": [
      "INFO     oc_logger    Function evaluation number: 691, SI: 3, Sub-iteration number: 128, FoM: 2.998440143518722\n"
     ]
    },
    {
     "name": "stderr",
     "output_type": "stream",
     "text": [
      "INFO:oc_logger:Function evaluation number: 691, SI: 3, Sub-iteration number: 128, FoM: 2.998440143518722\n",
      "DEBUG:oc_logger:User running: True\n",
      "DEBUG:oc_logger:User running: True\n",
      "DEBUG:oc_logger:User running: True\n",
      "DEBUG:oc_logger:User running: True\n"
     ]
    },
    {
     "name": "stdout",
     "output_type": "stream",
     "text": [
      "Coeff of psi:  0.999993691846925\n",
      "Coeff of psi_targ:  0.4999945004621265\n",
      "INFO     oc_logger    Function evaluation number: 692, SI: 3, Sub-iteration number: 129, FoM: 2.9984208276797064\n"
     ]
    },
    {
     "name": "stderr",
     "output_type": "stream",
     "text": [
      "INFO:oc_logger:Function evaluation number: 692, SI: 3, Sub-iteration number: 129, FoM: 2.9984208276797064\n",
      "DEBUG:oc_logger:User running: True\n",
      "DEBUG:oc_logger:User running: True\n",
      "DEBUG:oc_logger:User running: True\n",
      "DEBUG:oc_logger:User running: True\n"
     ]
    },
    {
     "name": "stdout",
     "output_type": "stream",
     "text": [
      "Coeff of psi:  0.9999967260805065\n",
      "Coeff of psi_targ:  0.4999936082394943\n",
      "INFO     oc_logger    Function evaluation number: 693, SI: 3, Sub-iteration number: 130, FoM: 2.9984277158423005\n"
     ]
    },
    {
     "name": "stderr",
     "output_type": "stream",
     "text": [
      "INFO:oc_logger:Function evaluation number: 693, SI: 3, Sub-iteration number: 130, FoM: 2.9984277158423005\n",
      "DEBUG:oc_logger:User running: True\n",
      "DEBUG:oc_logger:User running: True\n",
      "DEBUG:oc_logger:User running: True\n",
      "DEBUG:oc_logger:User running: True\n"
     ]
    },
    {
     "name": "stdout",
     "output_type": "stream",
     "text": [
      "Coeff of psi:  0.9999995081245611\n",
      "Coeff of psi_targ:  0.4999971264464952\n",
      "INFO     oc_logger    Function evaluation number: 694, SI: 3, Sub-iteration number: 131, FoM: 2.9984342787101563\n"
     ]
    },
    {
     "name": "stderr",
     "output_type": "stream",
     "text": [
      "INFO:oc_logger:Function evaluation number: 694, SI: 3, Sub-iteration number: 131, FoM: 2.9984342787101563\n",
      "DEBUG:oc_logger:User running: True\n"
     ]
    },
    {
     "name": "stdout",
     "output_type": "stream",
     "text": [
      "INFO     oc_logger    SI 3 finished - Number of evaluations: 200, Best FoM: 2.998440143518722, Terminate reason: Change-based stopping criterion reached.\n",
      "\n"
     ]
    },
    {
     "name": "stderr",
     "output_type": "stream",
     "text": [
      "INFO:oc_logger:SI 3 finished - Number of evaluations: 200, Best FoM: 2.998440143518722, Terminate reason: Change-based stopping criterion reached.\n",
      "\n"
     ]
    },
    {
     "name": "stdout",
     "output_type": "stream",
     "text": [
      "INFO     oc_logger    Figure of merit : 2.998440143518722\n"
     ]
    },
    {
     "name": "stderr",
     "output_type": "stream",
     "text": [
      "INFO:oc_logger:Figure of merit : 2.998440143518722\n"
     ]
    },
    {
     "name": "stdout",
     "output_type": "stream",
     "text": [
      "INFO     oc_logger    Std : 0.0\n"
     ]
    },
    {
     "name": "stderr",
     "output_type": "stream",
     "text": [
      "INFO:oc_logger:Std : 0.0\n"
     ]
    },
    {
     "name": "stdout",
     "output_type": "stream",
     "text": [
      "INFO     oc_logger    total number of function evaluations : 694\n"
     ]
    },
    {
     "name": "stderr",
     "output_type": "stream",
     "text": [
      "INFO:oc_logger:total number of function evaluations : 694\n"
     ]
    },
    {
     "name": "stdout",
     "output_type": "stream",
     "text": [
      "INFO     oc_logger    dcrab_freq_list : [array([[0.14083943, 0.68422466, 0.86560716, 1.52384981, 1.96501872]]), array([[0.36725569, 0.47998034, 0.91244021, 1.56478571, 1.69828875]]), array([[0.29065387, 0.43106087, 0.92333757, 1.2440896 , 1.80554322]])]\n"
     ]
    },
    {
     "name": "stderr",
     "output_type": "stream",
     "text": [
      "INFO:oc_logger:dcrab_freq_list : [array([[0.14083943, 0.68422466, 0.86560716, 1.52384981, 1.96501872]]), array([[0.36725569, 0.47998034, 0.91244021, 1.56478571, 1.69828875]]), array([[0.29065387, 0.43106087, 0.92333757, 1.2440896 , 1.80554322]])]\n"
     ]
    },
    {
     "name": "stdout",
     "output_type": "stream",
     "text": [
      "INFO     oc_logger    dcrab_para_list : [array([ 0.15006261, -5.63346174, -1.51095639,  3.62456567,  2.11196305,\n",
      "        3.21979638, -1.56631009, -2.19299761,  0.05238453, -0.33516157]), array([ 0.91815849, -0.26669907, -1.35551281,  0.63998423,  0.31174568,\n",
      "       -0.74313671, -0.05683805, -1.21858032, -1.24269149,  2.01526373]), array([-0.0658629 , -0.1103284 , -0.04742233,  0.0521651 ,  0.10032774,\n",
      "        0.02935012, -0.43923592, -0.36450158,  1.05724049, -0.05459725])]\n"
     ]
    },
    {
     "name": "stderr",
     "output_type": "stream",
     "text": [
      "INFO:oc_logger:dcrab_para_list : [array([ 0.15006261, -5.63346174, -1.51095639,  3.62456567,  2.11196305,\n",
      "        3.21979638, -1.56631009, -2.19299761,  0.05238453, -0.33516157]), array([ 0.91815849, -0.26669907, -1.35551281,  0.63998423,  0.31174568,\n",
      "       -0.74313671, -0.05683805, -1.21858032, -1.24269149,  2.01526373]), array([-0.0658629 , -0.1103284 , -0.04742233,  0.0521651 ,  0.10032774,\n",
      "        0.02935012, -0.43923592, -0.36450158,  1.05724049, -0.05459725])]\n"
     ]
    },
    {
     "name": "stdout",
     "output_type": "stream",
     "text": [
      "INFO     oc_logger    terminate_reason : Change-based stopping criterion reached.\n"
     ]
    },
    {
     "name": "stderr",
     "output_type": "stream",
     "text": [
      "INFO:oc_logger:terminate_reason : Change-based stopping criterion reached.\n"
     ]
    },
    {
     "name": "stdout",
     "output_type": "stream",
     "text": [
      "The optimization took 212.80499267578125 seconds\n"
     ]
    }
   ],
   "source": [
    "time1 = time.time()\n",
    "optimization_obj.execute()\n",
    "time2 = time.time()\n",
    "print(\"The optimization took {seconds} seconds\".format(seconds=time2 - time1))\n"
   ]
  },
  {
   "cell_type": "code",
   "execution_count": 16,
   "metadata": {},
   "outputs": [
    {
     "data": {
      "text/plain": [
       "<matplotlib.legend.Legend at 0x15669787a60>"
      ]
     },
     "execution_count": 16,
     "metadata": {},
     "output_type": "execute_result"
    },
    {
     "data": {
      "image/png": "[encoded data removed]",
      "text/plain": [
       "<Figure size 792x504 with 1 Axes>"
      ]
     },
     "metadata": {
      "needs_background": "light"
     },
     "output_type": "display_data"
    },
    {
     "data": {
      "image/png": "[encoded data removed]",
      "text/plain": [
       "<Figure size 792x504 with 1 Axes>"
      ]
     },
     "metadata": {
      "needs_background": "light"
     },
     "output_type": "display_data"
    }
   ],
   "source": [
    "# Get the optimization algorithm object from the optimization object\n",
    "opt_alg_obj = optimization_obj.get_optimization_algorithm()\n",
    "\n",
    "# The FoM values for each function evaluation can be found under FoM_list in the optimization algorithm object\n",
    "fomlist = opt_alg_obj.FoM_list\n",
    "\n",
    "# Plot the FoM over the number of evaluations\n",
    "fig = plt.figure(figsize=(11, 7))\n",
    "ax = fig.add_subplot(111)\n",
    "iterations = range(1, len(fomlist)+1)\n",
    "ax.plot(iterations, np.asarray(fomlist), color='darkblue', linewidth=1.5, zorder=10)\n",
    "ax.scatter(iterations, np.asarray(fomlist), color='k', s=15)\n",
    "plt.grid(True, which=\"both\")\n",
    "plt.xlabel('Function Evaluation', fontsize=20)\n",
    "plt.ylabel('FoM', fontsize=20)\n",
    "\n",
    "# The optimized controls can be found via the function get_best_controls() called on \n",
    "# the optimization algorithm object\n",
    "controls = opt_alg_obj.get_best_controls()\n",
    "\n",
    "# it contains the pulses and time grids under certain keys as a dictionary\n",
    "pulse0, timegrid0 = controls[\"pulses\"][0], controls[\"timegrids\"][0]\n",
    "#pulse1, timegrid1 = controls[\"pulses\"][1], controls[\"timegrids\"][1]\n",
    "#pulse2, timegrid2 = controls[\"pulses\"][2], controls[\"timegrids\"][2]\n",
    "\n",
    "# Plot the pulse over time\n",
    "fig = plt.figure(figsize=(11, 7))\n",
    "ax = fig.add_subplot(111)\n",
    "plt.subplots_adjust(bottom=0.15, top=0.9, right=0.98, left=0.1)\n",
    "plt.step(timegrid0, pulse0, color='darkgreen', linewidth=1.5, zorder=10)\n",
    "#plt.step(timegrid1, pulse1, color='darkblue', linewidth=1.5, zorder=10)\n",
    "#plt.step(timegrid2, pulse2, color='darkred', linewidth=1.5, zorder=10)\n",
    "\n",
    "plt.grid(True, which=\"both\")\n",
    "plt.xlabel('Time', fontsize=20)\n",
    "plt.ylabel('Amplitude', fontsize=20)\n",
    "plt.legend([\"Pulse 1\", \"Pulse 2\", \"Pulse 3\"], fontsize=20)"
   ]
  },
  {
   "cell_type": "code",
   "execution_count": 17,
   "metadata": {},
   "outputs": [],
   "source": [
    "# save into a file npy pulse0 and timegrid0\n",
    "np.save(\"pulse0.npy\", pulse0)\n",
    "np.save(\"timegrid0.npy\", timegrid0)\n",
    "# save it inside the folder already existing testing\n",
    "np.save(\"testing/pulse0.npy\", pulse0)\n",
    "np.save(\"testing/timegrid0.npy\", timegrid0)"
   ]
  },
  {
   "cell_type": "code",
   "execution_count": 18,
   "metadata": {},
   "outputs": [],
   "source": [
    "def Bloch_sphere_plot(psi_t, indexes_0, indexes_1, z_labels, angles=[90, 15]):\n",
    "    # Print the evolution of the state |g GR g> in a Bloch sphere \n",
    "    b = Bloch(view=angles)\n",
    "    b.point_marker = ['o']\n",
    "    colors = ['r']\n",
    "    colors += ['b' for i in range(100)]\n",
    "    b.point_color = colors\n",
    "    b.point_size = [15]\n",
    "    b.font_size = 18\n",
    "    b.zlpos = [1.2, -1.2]\n",
    "    b.zlabel = z_labels\n",
    "    for psi_i in psi_t:\n",
    "        c_0 = np.sum(psi_i[indexes_0])/np.sqrt(len(indexes_0))\n",
    "        c_1 = np.sum(psi_i[indexes_1])/np.sqrt(len(indexes_1))\n",
    "        vec = ( c_0 * basis(2,0)  + c_1 * basis(2,1))\n",
    "        b.add_states(vec, kind='point')\n",
    "\n",
    "    b.figsize = [5, 10]\n",
    "    b.show()\n",
    "    b.render()\n",
    "    b.save('b.png')"
   ]
  },
  {
   "cell_type": "code",
   "execution_count": 19,
   "metadata": {},
   "outputs": [
    {
     "name": "stdout",
     "output_type": "stream",
     "text": [
      "Coeff of psi:  0.9999974385025631\n",
      "Coeff of psi_targ:  0.49999478390384916\n",
      "{'FoM': 2.998440143518722}\n"
     ]
    }
   ],
   "source": [
    "ryd = Ryd_chain({\"is_maximization\": True})\n",
    "H_drift = ryd.get_drift_Hamiltonian()\n",
    "H_control = ryd.get_control_Hamiltonians()\n",
    "pulses = [pulse0 ]\n",
    "FOM = ryd.get_FoM(pulses=pulses, timegrids=[timegrid0])\n",
    "\n",
    "print(FOM)"
   ]
  },
  {
   "cell_type": "code",
   "execution_count": 22,
   "metadata": {},
   "outputs": [
    {
     "data": {
      "image/png": "[encoded data removed]",
      "text/plain": [
       "<Figure size 720x360 with 2 Axes>"
      ]
     },
     "metadata": {
      "needs_background": "light"
     },
     "output_type": "display_data"
    }
   ],
   "source": [
    "# make final pulse taking pulse0 and adding pulse0 reversed\n",
    "final_pulse = np.concatenate((pulse0, np.flip(pulse0)))\n",
    "time_grid_final = np.concatenate((np.array(timegrid0), np.array(timegrid0) + timegrid0[-1]))\n",
    "\n",
    "# Create subplots\n",
    "fig, (ax1, ax2) = plt.subplots(1, 2, figsize=(10, 5))\n",
    "\n",
    "# Plot FoM on the left subplot\n",
    "iterations = range(1, len(fomlist)+1)\n",
    "ax1.plot(iterations, 3- np.asarray(fomlist), color='darkblue', linewidth=1.5, zorder=10)\n",
    "ax1.scatter(iterations, np.asarray(fomlist), color='k', s=15)\n",
    "ax1.grid(True, which=\"both\")\n",
    "ax1.set_xlabel('Function Evaluation', fontsize=14)\n",
    "ax1.set_ylabel('FoM', fontsize=14)\n",
    "ax1.set_yscale('log')  # Set y-axis scale to logarithmic\n",
    "\n",
    "# Plot the pulse on the right subplot\n",
    "ax2.step(time_grid_final, final_pulse, color='darkgreen', linewidth=1.5, zorder=10)\n",
    "# ax2.step(timegrid1, pulse1, color='darkblue', linewidth=1.5, zorder=10)\n",
    "# ax2.step(timegrid2, pulse2, color='darkred', linewidth=1.5, zorder=10)\n",
    "ax2.grid(True, which=\"both\")\n",
    "ax2.set_xlabel('Time', fontsize=14)\n",
    "ax2.set_ylabel('Detuning Amplitude', fontsize=14)\n",
    "ax2.legend([\"Symmetric Pulse\"], fontsize=12)\n",
    "\n",
    "plt.tight_layout()\n",
    "plt.show()"
   ]
  }
 ],
 "metadata": {
  "kernelspec": {
   "display_name": "base",
   "language": "python",
   "name": "python3"
  },
  "language_info": {
   "codemirror_mode": {
    "name": "ipython",
    "version": 3
   },
   "file_extension": ".py",
   "mimetype": "text/x-python",
   "name": "python",
   "nbconvert_exporter": "python",
   "pygments_lexer": "ipython3",
   "version": "3.9.12"
  }
 },
 "nbformat": 4,
 "nbformat_minor": 2
}
